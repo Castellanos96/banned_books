{
 "cells": [
  {
   "cell_type": "markdown",
   "id": "ff40abd0",
   "metadata": {},
   "source": [
    "# Getting the Data\n"
   ]
  },
  {
   "cell_type": "code",
   "execution_count": 1,
   "id": "2b771720",
   "metadata": {},
   "outputs": [
    {
     "data": {
      "text/html": [
       "<div>\n",
       "<style scoped>\n",
       "    .dataframe tbody tr th:only-of-type {\n",
       "        vertical-align: middle;\n",
       "    }\n",
       "\n",
       "    .dataframe tbody tr th {\n",
       "        vertical-align: top;\n",
       "    }\n",
       "\n",
       "    .dataframe thead th {\n",
       "        text-align: right;\n",
       "    }\n",
       "</style>\n",
       "<table border=\"1\" class=\"dataframe\">\n",
       "  <thead>\n",
       "    <tr style=\"text-align: right;\">\n",
       "      <th></th>\n",
       "      <th>goodreads_image_url</th>\n",
       "      <th>title</th>\n",
       "      <th>author</th>\n",
       "      <th>goodreads_published_date</th>\n",
       "      <th>goodreads_description</th>\n",
       "      <th>goodreads_tags</th>\n",
       "      <th>type_of_ban</th>\n",
       "      <th>state</th>\n",
       "      <th>district</th>\n",
       "      <th>ban_date</th>\n",
       "      <th>origin_of_challenge</th>\n",
       "      <th>goodreads_product_url</th>\n",
       "      <th>amazon_url</th>\n",
       "      <th>secondary_authors</th>\n",
       "      <th>illustrators</th>\n",
       "      <th>translators</th>\n",
       "    </tr>\n",
       "  </thead>\n",
       "  <tbody>\n",
       "    <tr>\n",
       "      <th>0</th>\n",
       "      <td>https://images-na.ssl-images-amazon.com/images...</td>\n",
       "      <td>Ace of Spades</td>\n",
       "      <td>Àbíké-Íyímídé, Faridah</td>\n",
       "      <td>2021-06-01</td>\n",
       "      <td>An incendiary and utterly compelling thriller ...</td>\n",
       "      <td>dark, lgbtqia+, black, young adult, gay romanc...</td>\n",
       "      <td>Banned in Libraries and Classrooms</td>\n",
       "      <td>Florida</td>\n",
       "      <td>Indian River County School District</td>\n",
       "      <td>November 2021</td>\n",
       "      <td>Administrator</td>\n",
       "      <td>https://www.goodreads.com/book/show/42603984-a...</td>\n",
       "      <td>https://www.amazon.com/Ace-Spades-Faridah-Abik...</td>\n",
       "      <td>NaN</td>\n",
       "      <td>NaN</td>\n",
       "      <td>NaN</td>\n",
       "    </tr>\n",
       "    <tr>\n",
       "      <th>1</th>\n",
       "      <td>https://images-na.ssl-images-amazon.com/images...</td>\n",
       "      <td>Clap When You Land</td>\n",
       "      <td>Acevedo, Elizabeth</td>\n",
       "      <td>2020-05-05</td>\n",
       "      <td>In a novel in verse that brims with grief and ...</td>\n",
       "      <td>young adult, poetry, contemporary, fiction, au...</td>\n",
       "      <td>Banned in Classrooms</td>\n",
       "      <td>Pennsylvania</td>\n",
       "      <td>Central York School District</td>\n",
       "      <td>September 2021</td>\n",
       "      <td>Administrator</td>\n",
       "      <td>https://www.goodreads.com/book/show/52516332-c...</td>\n",
       "      <td>https://www.amazon.com/Clap-When-Land-Elizabet...</td>\n",
       "      <td>NaN</td>\n",
       "      <td>NaN</td>\n",
       "      <td>NaN</td>\n",
       "    </tr>\n",
       "    <tr>\n",
       "      <th>2</th>\n",
       "      <td>https://images-na.ssl-images-amazon.com/images...</td>\n",
       "      <td>The Poet X</td>\n",
       "      <td>Acevedo, Elizabeth</td>\n",
       "      <td>2018-03-06</td>\n",
       "      <td>Fans of Jacqueline Woodson  Meg Medina  and Ja...</td>\n",
       "      <td>poetry, young adult, contemporary, fiction, au...</td>\n",
       "      <td>Banned in Libraries</td>\n",
       "      <td>Florida</td>\n",
       "      <td>Indian River County School District</td>\n",
       "      <td>November 2021</td>\n",
       "      <td>Administrator</td>\n",
       "      <td>https://www.goodreads.com/book/show/33294200-t...</td>\n",
       "      <td>https://www.amazon.com/Poet-X-Elizabeth-Aceved...</td>\n",
       "      <td>NaN</td>\n",
       "      <td>NaN</td>\n",
       "      <td>NaN</td>\n",
       "    </tr>\n",
       "  </tbody>\n",
       "</table>\n",
       "</div>"
      ],
      "text/plain": [
       "                                 goodreads_image_url               title  \\\n",
       "0  https://images-na.ssl-images-amazon.com/images...       Ace of Spades   \n",
       "1  https://images-na.ssl-images-amazon.com/images...  Clap When You Land   \n",
       "2  https://images-na.ssl-images-amazon.com/images...          The Poet X   \n",
       "\n",
       "                   author goodreads_published_date  \\\n",
       "0  Àbíké-Íyímídé, Faridah               2021-06-01   \n",
       "1      Acevedo, Elizabeth               2020-05-05   \n",
       "2      Acevedo, Elizabeth               2018-03-06   \n",
       "\n",
       "                               goodreads_description  \\\n",
       "0  An incendiary and utterly compelling thriller ...   \n",
       "1  In a novel in verse that brims with grief and ...   \n",
       "2  Fans of Jacqueline Woodson  Meg Medina  and Ja...   \n",
       "\n",
       "                                      goodreads_tags  \\\n",
       "0  dark, lgbtqia+, black, young adult, gay romanc...   \n",
       "1  young adult, poetry, contemporary, fiction, au...   \n",
       "2  poetry, young adult, contemporary, fiction, au...   \n",
       "\n",
       "                          type_of_ban         state  \\\n",
       "0  Banned in Libraries and Classrooms       Florida   \n",
       "1                Banned in Classrooms  Pennsylvania   \n",
       "2                 Banned in Libraries       Florida   \n",
       "\n",
       "                              district        ban_date origin_of_challenge  \\\n",
       "0  Indian River County School District   November 2021       Administrator   \n",
       "1         Central York School District  September 2021       Administrator   \n",
       "2  Indian River County School District   November 2021       Administrator   \n",
       "\n",
       "                               goodreads_product_url  \\\n",
       "0  https://www.goodreads.com/book/show/42603984-a...   \n",
       "1  https://www.goodreads.com/book/show/52516332-c...   \n",
       "2  https://www.goodreads.com/book/show/33294200-t...   \n",
       "\n",
       "                                          amazon_url secondary_authors  \\\n",
       "0  https://www.amazon.com/Ace-Spades-Faridah-Abik...               NaN   \n",
       "1  https://www.amazon.com/Clap-When-Land-Elizabet...               NaN   \n",
       "2  https://www.amazon.com/Poet-X-Elizabeth-Aceved...               NaN   \n",
       "\n",
       "  illustrators translators  \n",
       "0          NaN         NaN  \n",
       "1          NaN         NaN  \n",
       "2          NaN         NaN  "
      ]
     },
     "execution_count": 1,
     "metadata": {},
     "output_type": "execute_result"
    }
   ],
   "source": [
    "import numpy as np\n",
    "import pandas as pd\n",
    "\n",
    "df = pd.read_csv('banned_books.csv')\n",
    "df.head(3)"
   ]
  },
  {
   "cell_type": "markdown",
   "id": "a1f017b4",
   "metadata": {},
   "source": [
    "# Setting up Environment in PyCaret\n",
    "The setup() function initializes the environment in pycaret and performs several text pre-processing steps that are imperative to work with NLP problems. setup must be called before executing any other function in pycaret. It takes two parameters: pandas dataframe and name of the text column passed as target parameter. You can also pass a list containing text, in which case you don't need to pass target parameter. When setup is executed, following pre-processing steps are applied automatically:\n",
    "\n",
    "* Removing Numeric Characters: All numeric characters are removed from the text. They are replaced with blanks.\n",
    "\n",
    "\n",
    "* Removing Special Characters: All non-alphanumeric special characters are removed from the text. They are also replaced with blanks.\n",
    "\n",
    "\n",
    "* Word Tokenization: Word tokenization is the process of splitting a large sample of text into words. This is the core requirement in natural language processing tasks where each word needs to be captured separately for further analysis. Read More \n",
    "\n",
    "\n",
    "* Stopword Removal: A stop word (or stopword) is a word that is often removed from text because it is common and provides little value for information retrieval, even though it might be linguistically meaningful. Example of such words in english language are: \"the\", \"a\", \"an\", \"in\" etc. Read More \n",
    "\n",
    "\n",
    "* Bigram Extraction: A bigram is a sequence of two adjacent elements from a string of tokens, which are typically letters, syllables, or words. For example: word New York is captured as two different words \"New\" and \"York\" when tokenization is performed but if it is repeated enough times, Bigram Extraction will represent the word as one i.e. \"New_York\" Read More \n",
    "\n",
    "\n",
    "* Trigram Extraction: Similar to bigram extraction, trigram is a sequence of three adjacent elements from a string of tokens. Read More \n",
    "\n",
    "\n",
    "* Lemmatizing: Lemmatization is the process of grouping together the inflected forms of a word so they can be analysed as a single word, identified by the word's lemma, or dictionary form. In English language, word appears in several inflected forms. For example the verb 'to walk' may appear as 'walk', 'walked', 'walks', 'walking'. The base form, 'walk', that one might look up in a dictionary, is called the lemma for the word. Read More \n",
    "\n",
    "\n",
    "* Custom Stopwords: Many times text contains words that are not stopwords by the rule of language but they add no or very little information. For example, in this tutorial we are using the loan dataset. \n",
    "\n",
    "Note : Some functionalities in pycaret.nlp requires english language model. The language model is not downloaded automatically when you install pycaret. You will have to download these python command line interface such as Anaconda Prompt. To download the model, please type the following in your command line:\n",
    "python -m spacy download en_core_web_sm \n",
    "python -m textblob.download_corpora "
   ]
  },
  {
   "cell_type": "code",
   "execution_count": 2,
   "id": "b9d8ad73",
   "metadata": {},
   "outputs": [],
   "source": [
    "from pycaret.nlp import *"
   ]
  },
  {
   "cell_type": "code",
   "execution_count": 3,
   "id": "c08af5b4",
   "metadata": {},
   "outputs": [
    {
     "data": {
      "text/html": [
       "<div>\n",
       "<style scoped>\n",
       "    .dataframe tbody tr th:only-of-type {\n",
       "        vertical-align: middle;\n",
       "    }\n",
       "\n",
       "    .dataframe tbody tr th {\n",
       "        vertical-align: top;\n",
       "    }\n",
       "\n",
       "    .dataframe thead th {\n",
       "        text-align: right;\n",
       "    }\n",
       "</style>\n",
       "<table border=\"1\" class=\"dataframe\">\n",
       "  <thead>\n",
       "    <tr style=\"text-align: right;\">\n",
       "      <th></th>\n",
       "      <th>goodreads_description</th>\n",
       "    </tr>\n",
       "  </thead>\n",
       "  <tbody>\n",
       "    <tr>\n",
       "      <th>0</th>\n",
       "      <td>An incendiary and utterly compelling thriller ...</td>\n",
       "    </tr>\n",
       "    <tr>\n",
       "      <th>1</th>\n",
       "      <td>In a novel in verse that brims with grief and ...</td>\n",
       "    </tr>\n",
       "    <tr>\n",
       "      <th>2</th>\n",
       "      <td>Fans of Jacqueline Woodson  Meg Medina  and Ja...</td>\n",
       "    </tr>\n",
       "    <tr>\n",
       "      <th>3</th>\n",
       "      <td>Fans of Jacqueline Woodson  Meg Medina  and Ja...</td>\n",
       "    </tr>\n",
       "    <tr>\n",
       "      <th>4</th>\n",
       "      <td>Fans of Jacqueline Woodson  Meg Medina  and Ja...</td>\n",
       "    </tr>\n",
       "  </tbody>\n",
       "</table>\n",
       "</div>"
      ],
      "text/plain": [
       "                               goodreads_description\n",
       "0  An incendiary and utterly compelling thriller ...\n",
       "1  In a novel in verse that brims with grief and ...\n",
       "2  Fans of Jacqueline Woodson  Meg Medina  and Ja...\n",
       "3  Fans of Jacqueline Woodson  Meg Medina  and Ja...\n",
       "4  Fans of Jacqueline Woodson  Meg Medina  and Ja..."
      ]
     },
     "execution_count": 3,
     "metadata": {},
     "output_type": "execute_result"
    }
   ],
   "source": [
    "data = df[['goodreads_description']]\n",
    "data.head()"
   ]
  },
  {
   "cell_type": "code",
   "execution_count": 4,
   "id": "80c57f22",
   "metadata": {},
   "outputs": [
    {
     "data": {
      "text/html": [
       "<style type=\"text/css\">\n",
       "</style>\n",
       "<table id=\"T_488d3\">\n",
       "  <thead>\n",
       "    <tr>\n",
       "      <th id=\"T_488d3_level0_col0\" class=\"col_heading level0 col0\" >Description</th>\n",
       "      <th id=\"T_488d3_level0_col1\" class=\"col_heading level0 col1\" >Value</th>\n",
       "    </tr>\n",
       "  </thead>\n",
       "  <tbody>\n",
       "    <tr>\n",
       "      <td id=\"T_488d3_row0_col0\" class=\"data row0 col0\" >session_id</td>\n",
       "      <td id=\"T_488d3_row0_col1\" class=\"data row0 col1\" >123</td>\n",
       "    </tr>\n",
       "    <tr>\n",
       "      <td id=\"T_488d3_row1_col0\" class=\"data row1 col0\" >Documents</td>\n",
       "      <td id=\"T_488d3_row1_col1\" class=\"data row1 col1\" >2532</td>\n",
       "    </tr>\n",
       "    <tr>\n",
       "      <td id=\"T_488d3_row2_col0\" class=\"data row2 col0\" >Vocab Size</td>\n",
       "      <td id=\"T_488d3_row2_col1\" class=\"data row2 col1\" >10272</td>\n",
       "    </tr>\n",
       "    <tr>\n",
       "      <td id=\"T_488d3_row3_col0\" class=\"data row3 col0\" >Custom Stopwords</td>\n",
       "      <td id=\"T_488d3_row3_col1\" class=\"data row3 col1\" >False</td>\n",
       "    </tr>\n",
       "  </tbody>\n",
       "</table>\n"
      ],
      "text/plain": [
       "<pandas.io.formats.style.Styler at 0x7f8645c595e0>"
      ]
     },
     "metadata": {},
     "output_type": "display_data"
    },
    {
     "name": "stdout",
     "output_type": "stream",
     "text": [
      "CPU times: user 15.4 s, sys: 218 ms, total: 15.7 s\n",
      "Wall time: 16.7 s\n"
     ]
    }
   ],
   "source": [
    "%time exp_nlp101 = setup(data = data,target = 'goodreads_description',session_id = 123)"
   ]
  },
  {
   "cell_type": "markdown",
   "id": "82f03241",
   "metadata": {},
   "source": [
    "Once the setup is succesfully executed it prints the information grid with the following information:\n",
    "\n",
    "* session_id : A pseduo-random number distributed as a seed in all functions for later reproducibility. If no session_id is passed, a random number is automatically generated that is distributed to all functions. In this experiment session_id is set as 123 for later reproducibility.\n",
    "\n",
    "\n",
    "* #Documents : Number of documents (or samples in dataset if dataframe is passed). \n",
    "\n",
    "\n",
    "* Vocab Size : Size of vocabulary in the corpus after applying all text pre-processing such as removal of stopwords, bigram/trigram extraction, lemmatization etc. "
   ]
  },
  {
   "cell_type": "markdown",
   "id": "1161531e",
   "metadata": {},
   "source": [
    "# Create a Topic Model(s)\n"
   ]
  },
  {
   "cell_type": "code",
   "execution_count": 5,
   "id": "31cd2cdf",
   "metadata": {},
   "outputs": [
    {
     "data": {
      "text/html": [
       "<div>\n",
       "<style scoped>\n",
       "    .dataframe tbody tr th:only-of-type {\n",
       "        vertical-align: middle;\n",
       "    }\n",
       "\n",
       "    .dataframe tbody tr th {\n",
       "        vertical-align: top;\n",
       "    }\n",
       "\n",
       "    .dataframe thead th {\n",
       "        text-align: right;\n",
       "    }\n",
       "</style>\n",
       "<table border=\"1\" class=\"dataframe\">\n",
       "  <thead>\n",
       "    <tr style=\"text-align: right;\">\n",
       "      <th></th>\n",
       "      <th>Name</th>\n",
       "      <th>Reference</th>\n",
       "    </tr>\n",
       "    <tr>\n",
       "      <th>ID</th>\n",
       "      <th></th>\n",
       "      <th></th>\n",
       "    </tr>\n",
       "  </thead>\n",
       "  <tbody>\n",
       "    <tr>\n",
       "      <th>lda</th>\n",
       "      <td>Latent Dirichlet Allocation</td>\n",
       "      <td>gensim/models/ldamodel</td>\n",
       "    </tr>\n",
       "    <tr>\n",
       "      <th>lsi</th>\n",
       "      <td>Latent Semantic Indexing</td>\n",
       "      <td>gensim/models/lsimodel</td>\n",
       "    </tr>\n",
       "    <tr>\n",
       "      <th>hdp</th>\n",
       "      <td>Hierarchical Dirichlet Process</td>\n",
       "      <td>gensim/models/hdpmodel</td>\n",
       "    </tr>\n",
       "    <tr>\n",
       "      <th>rp</th>\n",
       "      <td>Random Projections</td>\n",
       "      <td>gensim/models/rpmodel</td>\n",
       "    </tr>\n",
       "    <tr>\n",
       "      <th>nmf</th>\n",
       "      <td>Non-Negative Matrix Factorization</td>\n",
       "      <td>sklearn.decomposition.NMF</td>\n",
       "    </tr>\n",
       "  </tbody>\n",
       "</table>\n",
       "</div>"
      ],
      "text/plain": [
       "                                  Name                  Reference\n",
       "ID                                                               \n",
       "lda        Latent Dirichlet Allocation     gensim/models/ldamodel\n",
       "lsi           Latent Semantic Indexing     gensim/models/lsimodel\n",
       "hdp     Hierarchical Dirichlet Process     gensim/models/hdpmodel\n",
       "rp                  Random Projections      gensim/models/rpmodel\n",
       "nmf  Non-Negative Matrix Factorization  sklearn.decomposition.NMF"
      ]
     },
     "execution_count": 5,
     "metadata": {},
     "output_type": "execute_result"
    }
   ],
   "source": [
    "models()"
   ]
  },
  {
   "cell_type": "code",
   "execution_count": 6,
   "id": "13284272",
   "metadata": {},
   "outputs": [
    {
     "data": {
      "application/vnd.jupyter.widget-view+json": {
       "model_id": "",
       "version_major": 2,
       "version_minor": 0
      },
      "text/plain": [
       "IntProgress(value=0, description='Processing: ', max=25)"
      ]
     },
     "metadata": {},
     "output_type": "display_data"
    },
    {
     "data": {
      "application/vnd.jupyter.widget-view+json": {
       "model_id": "f0123e255dc045eba422d9a76ddb4fa4",
       "version_major": 2,
       "version_minor": 0
      },
      "text/plain": [
       "Output()"
      ]
     },
     "metadata": {},
     "output_type": "display_data"
    },
    {
     "data": {
      "text/html": [
       "        <script type=\"text/javascript\">\n",
       "        window.PlotlyConfig = {MathJaxConfig: 'local'};\n",
       "        if (window.MathJax && window.MathJax.Hub && window.MathJax.Hub.Config) {window.MathJax.Hub.Config({SVG: {font: \"STIX-Web\"}});}\n",
       "        if (typeof require !== 'undefined') {\n",
       "        require.undef(\"plotly\");\n",
       "        requirejs.config({\n",
       "            paths: {\n",
       "                'plotly': ['https://cdn.plot.ly/plotly-2.18.2.min']\n",
       "            }\n",
       "        });\n",
       "        require(['plotly'], function(Plotly) {\n",
       "            window._Plotly = Plotly;\n",
       "        });\n",
       "        }\n",
       "        </script>\n",
       "        "
      ]
     },
     "metadata": {},
     "output_type": "display_data"
    },
    {
     "data": {
      "application/vnd.plotly.v1+json": {
       "config": {
        "plotlyServerURL": "https://plot.ly"
       },
       "data": [
        {
         "hovertemplate": "Metric=Coherence<br># Topics=%{x}<br>Score=%{y}<extra></extra>",
         "legendgroup": "Coherence",
         "line": {
          "color": "#636efa",
          "dash": "solid",
          "shape": "linear"
         },
         "marker": {
          "symbol": "circle"
         },
         "mode": "lines",
         "name": "Coherence",
         "orientation": "v",
         "showlegend": true,
         "type": "scatter",
         "x": [
          2,
          4,
          8,
          16,
          32,
          64,
          100,
          200,
          300,
          400
         ],
         "xaxis": "x",
         "y": [
          0.3755857655448942,
          0.40961814248954026,
          0.41959643491220294,
          0.40495750711274503,
          0.37348443713437207,
          0.36034114601608813,
          0.36911224824217004,
          0.384699438320239,
          0.41230826832372036,
          0.4461949983608116
         ],
         "yaxis": "y"
        }
       ],
       "layout": {
        "legend": {
         "title": {
          "text": "Metric"
         },
         "tracegroupgap": 0
        },
        "plot_bgcolor": "rgb(245,245,245)",
        "template": {
         "data": {
          "bar": [
           {
            "error_x": {
             "color": "#2a3f5f"
            },
            "error_y": {
             "color": "#2a3f5f"
            },
            "marker": {
             "line": {
              "color": "#E5ECF6",
              "width": 0.5
             },
             "pattern": {
              "fillmode": "overlay",
              "size": 10,
              "solidity": 0.2
             }
            },
            "type": "bar"
           }
          ],
          "barpolar": [
           {
            "marker": {
             "line": {
              "color": "#E5ECF6",
              "width": 0.5
             },
             "pattern": {
              "fillmode": "overlay",
              "size": 10,
              "solidity": 0.2
             }
            },
            "type": "barpolar"
           }
          ],
          "carpet": [
           {
            "aaxis": {
             "endlinecolor": "#2a3f5f",
             "gridcolor": "white",
             "linecolor": "white",
             "minorgridcolor": "white",
             "startlinecolor": "#2a3f5f"
            },
            "baxis": {
             "endlinecolor": "#2a3f5f",
             "gridcolor": "white",
             "linecolor": "white",
             "minorgridcolor": "white",
             "startlinecolor": "#2a3f5f"
            },
            "type": "carpet"
           }
          ],
          "choropleth": [
           {
            "colorbar": {
             "outlinewidth": 0,
             "ticks": ""
            },
            "type": "choropleth"
           }
          ],
          "contour": [
           {
            "colorbar": {
             "outlinewidth": 0,
             "ticks": ""
            },
            "colorscale": [
             [
              0,
              "#0d0887"
             ],
             [
              0.1111111111111111,
              "#46039f"
             ],
             [
              0.2222222222222222,
              "#7201a8"
             ],
             [
              0.3333333333333333,
              "#9c179e"
             ],
             [
              0.4444444444444444,
              "#bd3786"
             ],
             [
              0.5555555555555556,
              "#d8576b"
             ],
             [
              0.6666666666666666,
              "#ed7953"
             ],
             [
              0.7777777777777778,
              "#fb9f3a"
             ],
             [
              0.8888888888888888,
              "#fdca26"
             ],
             [
              1,
              "#f0f921"
             ]
            ],
            "type": "contour"
           }
          ],
          "contourcarpet": [
           {
            "colorbar": {
             "outlinewidth": 0,
             "ticks": ""
            },
            "type": "contourcarpet"
           }
          ],
          "heatmap": [
           {
            "colorbar": {
             "outlinewidth": 0,
             "ticks": ""
            },
            "colorscale": [
             [
              0,
              "#0d0887"
             ],
             [
              0.1111111111111111,
              "#46039f"
             ],
             [
              0.2222222222222222,
              "#7201a8"
             ],
             [
              0.3333333333333333,
              "#9c179e"
             ],
             [
              0.4444444444444444,
              "#bd3786"
             ],
             [
              0.5555555555555556,
              "#d8576b"
             ],
             [
              0.6666666666666666,
              "#ed7953"
             ],
             [
              0.7777777777777778,
              "#fb9f3a"
             ],
             [
              0.8888888888888888,
              "#fdca26"
             ],
             [
              1,
              "#f0f921"
             ]
            ],
            "type": "heatmap"
           }
          ],
          "heatmapgl": [
           {
            "colorbar": {
             "outlinewidth": 0,
             "ticks": ""
            },
            "colorscale": [
             [
              0,
              "#0d0887"
             ],
             [
              0.1111111111111111,
              "#46039f"
             ],
             [
              0.2222222222222222,
              "#7201a8"
             ],
             [
              0.3333333333333333,
              "#9c179e"
             ],
             [
              0.4444444444444444,
              "#bd3786"
             ],
             [
              0.5555555555555556,
              "#d8576b"
             ],
             [
              0.6666666666666666,
              "#ed7953"
             ],
             [
              0.7777777777777778,
              "#fb9f3a"
             ],
             [
              0.8888888888888888,
              "#fdca26"
             ],
             [
              1,
              "#f0f921"
             ]
            ],
            "type": "heatmapgl"
           }
          ],
          "histogram": [
           {
            "marker": {
             "pattern": {
              "fillmode": "overlay",
              "size": 10,
              "solidity": 0.2
             }
            },
            "type": "histogram"
           }
          ],
          "histogram2d": [
           {
            "colorbar": {
             "outlinewidth": 0,
             "ticks": ""
            },
            "colorscale": [
             [
              0,
              "#0d0887"
             ],
             [
              0.1111111111111111,
              "#46039f"
             ],
             [
              0.2222222222222222,
              "#7201a8"
             ],
             [
              0.3333333333333333,
              "#9c179e"
             ],
             [
              0.4444444444444444,
              "#bd3786"
             ],
             [
              0.5555555555555556,
              "#d8576b"
             ],
             [
              0.6666666666666666,
              "#ed7953"
             ],
             [
              0.7777777777777778,
              "#fb9f3a"
             ],
             [
              0.8888888888888888,
              "#fdca26"
             ],
             [
              1,
              "#f0f921"
             ]
            ],
            "type": "histogram2d"
           }
          ],
          "histogram2dcontour": [
           {
            "colorbar": {
             "outlinewidth": 0,
             "ticks": ""
            },
            "colorscale": [
             [
              0,
              "#0d0887"
             ],
             [
              0.1111111111111111,
              "#46039f"
             ],
             [
              0.2222222222222222,
              "#7201a8"
             ],
             [
              0.3333333333333333,
              "#9c179e"
             ],
             [
              0.4444444444444444,
              "#bd3786"
             ],
             [
              0.5555555555555556,
              "#d8576b"
             ],
             [
              0.6666666666666666,
              "#ed7953"
             ],
             [
              0.7777777777777778,
              "#fb9f3a"
             ],
             [
              0.8888888888888888,
              "#fdca26"
             ],
             [
              1,
              "#f0f921"
             ]
            ],
            "type": "histogram2dcontour"
           }
          ],
          "mesh3d": [
           {
            "colorbar": {
             "outlinewidth": 0,
             "ticks": ""
            },
            "type": "mesh3d"
           }
          ],
          "parcoords": [
           {
            "line": {
             "colorbar": {
              "outlinewidth": 0,
              "ticks": ""
             }
            },
            "type": "parcoords"
           }
          ],
          "pie": [
           {
            "automargin": true,
            "type": "pie"
           }
          ],
          "scatter": [
           {
            "fillpattern": {
             "fillmode": "overlay",
             "size": 10,
             "solidity": 0.2
            },
            "type": "scatter"
           }
          ],
          "scatter3d": [
           {
            "line": {
             "colorbar": {
              "outlinewidth": 0,
              "ticks": ""
             }
            },
            "marker": {
             "colorbar": {
              "outlinewidth": 0,
              "ticks": ""
             }
            },
            "type": "scatter3d"
           }
          ],
          "scattercarpet": [
           {
            "marker": {
             "colorbar": {
              "outlinewidth": 0,
              "ticks": ""
             }
            },
            "type": "scattercarpet"
           }
          ],
          "scattergeo": [
           {
            "marker": {
             "colorbar": {
              "outlinewidth": 0,
              "ticks": ""
             }
            },
            "type": "scattergeo"
           }
          ],
          "scattergl": [
           {
            "marker": {
             "colorbar": {
              "outlinewidth": 0,
              "ticks": ""
             }
            },
            "type": "scattergl"
           }
          ],
          "scattermapbox": [
           {
            "marker": {
             "colorbar": {
              "outlinewidth": 0,
              "ticks": ""
             }
            },
            "type": "scattermapbox"
           }
          ],
          "scatterpolar": [
           {
            "marker": {
             "colorbar": {
              "outlinewidth": 0,
              "ticks": ""
             }
            },
            "type": "scatterpolar"
           }
          ],
          "scatterpolargl": [
           {
            "marker": {
             "colorbar": {
              "outlinewidth": 0,
              "ticks": ""
             }
            },
            "type": "scatterpolargl"
           }
          ],
          "scatterternary": [
           {
            "marker": {
             "colorbar": {
              "outlinewidth": 0,
              "ticks": ""
             }
            },
            "type": "scatterternary"
           }
          ],
          "surface": [
           {
            "colorbar": {
             "outlinewidth": 0,
             "ticks": ""
            },
            "colorscale": [
             [
              0,
              "#0d0887"
             ],
             [
              0.1111111111111111,
              "#46039f"
             ],
             [
              0.2222222222222222,
              "#7201a8"
             ],
             [
              0.3333333333333333,
              "#9c179e"
             ],
             [
              0.4444444444444444,
              "#bd3786"
             ],
             [
              0.5555555555555556,
              "#d8576b"
             ],
             [
              0.6666666666666666,
              "#ed7953"
             ],
             [
              0.7777777777777778,
              "#fb9f3a"
             ],
             [
              0.8888888888888888,
              "#fdca26"
             ],
             [
              1,
              "#f0f921"
             ]
            ],
            "type": "surface"
           }
          ],
          "table": [
           {
            "cells": {
             "fill": {
              "color": "#EBF0F8"
             },
             "line": {
              "color": "white"
             }
            },
            "header": {
             "fill": {
              "color": "#C8D4E3"
             },
             "line": {
              "color": "white"
             }
            },
            "type": "table"
           }
          ]
         },
         "layout": {
          "annotationdefaults": {
           "arrowcolor": "#2a3f5f",
           "arrowhead": 0,
           "arrowwidth": 1
          },
          "autotypenumbers": "strict",
          "coloraxis": {
           "colorbar": {
            "outlinewidth": 0,
            "ticks": ""
           }
          },
          "colorscale": {
           "diverging": [
            [
             0,
             "#8e0152"
            ],
            [
             0.1,
             "#c51b7d"
            ],
            [
             0.2,
             "#de77ae"
            ],
            [
             0.3,
             "#f1b6da"
            ],
            [
             0.4,
             "#fde0ef"
            ],
            [
             0.5,
             "#f7f7f7"
            ],
            [
             0.6,
             "#e6f5d0"
            ],
            [
             0.7,
             "#b8e186"
            ],
            [
             0.8,
             "#7fbc41"
            ],
            [
             0.9,
             "#4d9221"
            ],
            [
             1,
             "#276419"
            ]
           ],
           "sequential": [
            [
             0,
             "#0d0887"
            ],
            [
             0.1111111111111111,
             "#46039f"
            ],
            [
             0.2222222222222222,
             "#7201a8"
            ],
            [
             0.3333333333333333,
             "#9c179e"
            ],
            [
             0.4444444444444444,
             "#bd3786"
            ],
            [
             0.5555555555555556,
             "#d8576b"
            ],
            [
             0.6666666666666666,
             "#ed7953"
            ],
            [
             0.7777777777777778,
             "#fb9f3a"
            ],
            [
             0.8888888888888888,
             "#fdca26"
            ],
            [
             1,
             "#f0f921"
            ]
           ],
           "sequentialminus": [
            [
             0,
             "#0d0887"
            ],
            [
             0.1111111111111111,
             "#46039f"
            ],
            [
             0.2222222222222222,
             "#7201a8"
            ],
            [
             0.3333333333333333,
             "#9c179e"
            ],
            [
             0.4444444444444444,
             "#bd3786"
            ],
            [
             0.5555555555555556,
             "#d8576b"
            ],
            [
             0.6666666666666666,
             "#ed7953"
            ],
            [
             0.7777777777777778,
             "#fb9f3a"
            ],
            [
             0.8888888888888888,
             "#fdca26"
            ],
            [
             1,
             "#f0f921"
            ]
           ]
          },
          "colorway": [
           "#636efa",
           "#EF553B",
           "#00cc96",
           "#ab63fa",
           "#FFA15A",
           "#19d3f3",
           "#FF6692",
           "#B6E880",
           "#FF97FF",
           "#FECB52"
          ],
          "font": {
           "color": "#2a3f5f"
          },
          "geo": {
           "bgcolor": "white",
           "lakecolor": "white",
           "landcolor": "#E5ECF6",
           "showlakes": true,
           "showland": true,
           "subunitcolor": "white"
          },
          "hoverlabel": {
           "align": "left"
          },
          "hovermode": "closest",
          "mapbox": {
           "style": "light"
          },
          "paper_bgcolor": "white",
          "plot_bgcolor": "#E5ECF6",
          "polar": {
           "angularaxis": {
            "gridcolor": "white",
            "linecolor": "white",
            "ticks": ""
           },
           "bgcolor": "#E5ECF6",
           "radialaxis": {
            "gridcolor": "white",
            "linecolor": "white",
            "ticks": ""
           }
          },
          "scene": {
           "xaxis": {
            "backgroundcolor": "#E5ECF6",
            "gridcolor": "white",
            "gridwidth": 2,
            "linecolor": "white",
            "showbackground": true,
            "ticks": "",
            "zerolinecolor": "white"
           },
           "yaxis": {
            "backgroundcolor": "#E5ECF6",
            "gridcolor": "white",
            "gridwidth": 2,
            "linecolor": "white",
            "showbackground": true,
            "ticks": "",
            "zerolinecolor": "white"
           },
           "zaxis": {
            "backgroundcolor": "#E5ECF6",
            "gridcolor": "white",
            "gridwidth": 2,
            "linecolor": "white",
            "showbackground": true,
            "ticks": "",
            "zerolinecolor": "white"
           }
          },
          "shapedefaults": {
           "line": {
            "color": "#2a3f5f"
           }
          },
          "ternary": {
           "aaxis": {
            "gridcolor": "white",
            "linecolor": "white",
            "ticks": ""
           },
           "baxis": {
            "gridcolor": "white",
            "linecolor": "white",
            "ticks": ""
           },
           "bgcolor": "#E5ECF6",
           "caxis": {
            "gridcolor": "white",
            "linecolor": "white",
            "ticks": ""
           }
          },
          "title": {
           "x": 0.05
          },
          "xaxis": {
           "automargin": true,
           "gridcolor": "white",
           "linecolor": "white",
           "ticks": "",
           "title": {
            "standoff": 15
           },
           "zerolinecolor": "white",
           "zerolinewidth": 2
          },
          "yaxis": {
           "automargin": true,
           "gridcolor": "white",
           "linecolor": "white",
           "ticks": "",
           "title": {
            "standoff": 15
           },
           "zerolinecolor": "white",
           "zerolinewidth": 2
          }
         }
        },
        "title": {
         "text": "Coherence Value and # of Topics"
        },
        "xaxis": {
         "anchor": "y",
         "domain": [
          0,
          1
         ],
         "title": {
          "text": "# Topics"
         }
        },
        "yaxis": {
         "anchor": "x",
         "domain": [
          0,
          1
         ],
         "title": {
          "text": "Score"
         }
        }
       }
      },
      "text/html": [
       "<div>                            <div id=\"e10292f4-1795-49e2-aea0-ee0fddd87a4b\" class=\"plotly-graph-div\" style=\"height:525px; width:100%;\"></div>            <script type=\"text/javascript\">                require([\"plotly\"], function(Plotly) {                    window.PLOTLYENV=window.PLOTLYENV || {};                                    if (document.getElementById(\"e10292f4-1795-49e2-aea0-ee0fddd87a4b\")) {                    Plotly.newPlot(                        \"e10292f4-1795-49e2-aea0-ee0fddd87a4b\",                        [{\"hovertemplate\":\"Metric=Coherence<br># Topics=%{x}<br>Score=%{y}<extra></extra>\",\"legendgroup\":\"Coherence\",\"line\":{\"color\":\"#636efa\",\"dash\":\"solid\",\"shape\":\"linear\"},\"marker\":{\"symbol\":\"circle\"},\"mode\":\"lines\",\"name\":\"Coherence\",\"orientation\":\"v\",\"showlegend\":true,\"x\":[2,4,8,16,32,64,100,200,300,400],\"xaxis\":\"x\",\"y\":[0.3755857655448942,0.40961814248954026,0.41959643491220294,0.40495750711274503,0.37348443713437207,0.36034114601608813,0.36911224824217004,0.384699438320239,0.41230826832372036,0.4461949983608116],\"yaxis\":\"y\",\"type\":\"scatter\"}],                        {\"template\":{\"data\":{\"histogram2dcontour\":[{\"type\":\"histogram2dcontour\",\"colorbar\":{\"outlinewidth\":0,\"ticks\":\"\"},\"colorscale\":[[0.0,\"#0d0887\"],[0.1111111111111111,\"#46039f\"],[0.2222222222222222,\"#7201a8\"],[0.3333333333333333,\"#9c179e\"],[0.4444444444444444,\"#bd3786\"],[0.5555555555555556,\"#d8576b\"],[0.6666666666666666,\"#ed7953\"],[0.7777777777777778,\"#fb9f3a\"],[0.8888888888888888,\"#fdca26\"],[1.0,\"#f0f921\"]]}],\"choropleth\":[{\"type\":\"choropleth\",\"colorbar\":{\"outlinewidth\":0,\"ticks\":\"\"}}],\"histogram2d\":[{\"type\":\"histogram2d\",\"colorbar\":{\"outlinewidth\":0,\"ticks\":\"\"},\"colorscale\":[[0.0,\"#0d0887\"],[0.1111111111111111,\"#46039f\"],[0.2222222222222222,\"#7201a8\"],[0.3333333333333333,\"#9c179e\"],[0.4444444444444444,\"#bd3786\"],[0.5555555555555556,\"#d8576b\"],[0.6666666666666666,\"#ed7953\"],[0.7777777777777778,\"#fb9f3a\"],[0.8888888888888888,\"#fdca26\"],[1.0,\"#f0f921\"]]}],\"heatmap\":[{\"type\":\"heatmap\",\"colorbar\":{\"outlinewidth\":0,\"ticks\":\"\"},\"colorscale\":[[0.0,\"#0d0887\"],[0.1111111111111111,\"#46039f\"],[0.2222222222222222,\"#7201a8\"],[0.3333333333333333,\"#9c179e\"],[0.4444444444444444,\"#bd3786\"],[0.5555555555555556,\"#d8576b\"],[0.6666666666666666,\"#ed7953\"],[0.7777777777777778,\"#fb9f3a\"],[0.8888888888888888,\"#fdca26\"],[1.0,\"#f0f921\"]]}],\"heatmapgl\":[{\"type\":\"heatmapgl\",\"colorbar\":{\"outlinewidth\":0,\"ticks\":\"\"},\"colorscale\":[[0.0,\"#0d0887\"],[0.1111111111111111,\"#46039f\"],[0.2222222222222222,\"#7201a8\"],[0.3333333333333333,\"#9c179e\"],[0.4444444444444444,\"#bd3786\"],[0.5555555555555556,\"#d8576b\"],[0.6666666666666666,\"#ed7953\"],[0.7777777777777778,\"#fb9f3a\"],[0.8888888888888888,\"#fdca26\"],[1.0,\"#f0f921\"]]}],\"contourcarpet\":[{\"type\":\"contourcarpet\",\"colorbar\":{\"outlinewidth\":0,\"ticks\":\"\"}}],\"contour\":[{\"type\":\"contour\",\"colorbar\":{\"outlinewidth\":0,\"ticks\":\"\"},\"colorscale\":[[0.0,\"#0d0887\"],[0.1111111111111111,\"#46039f\"],[0.2222222222222222,\"#7201a8\"],[0.3333333333333333,\"#9c179e\"],[0.4444444444444444,\"#bd3786\"],[0.5555555555555556,\"#d8576b\"],[0.6666666666666666,\"#ed7953\"],[0.7777777777777778,\"#fb9f3a\"],[0.8888888888888888,\"#fdca26\"],[1.0,\"#f0f921\"]]}],\"surface\":[{\"type\":\"surface\",\"colorbar\":{\"outlinewidth\":0,\"ticks\":\"\"},\"colorscale\":[[0.0,\"#0d0887\"],[0.1111111111111111,\"#46039f\"],[0.2222222222222222,\"#7201a8\"],[0.3333333333333333,\"#9c179e\"],[0.4444444444444444,\"#bd3786\"],[0.5555555555555556,\"#d8576b\"],[0.6666666666666666,\"#ed7953\"],[0.7777777777777778,\"#fb9f3a\"],[0.8888888888888888,\"#fdca26\"],[1.0,\"#f0f921\"]]}],\"mesh3d\":[{\"type\":\"mesh3d\",\"colorbar\":{\"outlinewidth\":0,\"ticks\":\"\"}}],\"scatter\":[{\"fillpattern\":{\"fillmode\":\"overlay\",\"size\":10,\"solidity\":0.2},\"type\":\"scatter\"}],\"parcoords\":[{\"type\":\"parcoords\",\"line\":{\"colorbar\":{\"outlinewidth\":0,\"ticks\":\"\"}}}],\"scatterpolargl\":[{\"type\":\"scatterpolargl\",\"marker\":{\"colorbar\":{\"outlinewidth\":0,\"ticks\":\"\"}}}],\"bar\":[{\"error_x\":{\"color\":\"#2a3f5f\"},\"error_y\":{\"color\":\"#2a3f5f\"},\"marker\":{\"line\":{\"color\":\"#E5ECF6\",\"width\":0.5},\"pattern\":{\"fillmode\":\"overlay\",\"size\":10,\"solidity\":0.2}},\"type\":\"bar\"}],\"scattergeo\":[{\"type\":\"scattergeo\",\"marker\":{\"colorbar\":{\"outlinewidth\":0,\"ticks\":\"\"}}}],\"scatterpolar\":[{\"type\":\"scatterpolar\",\"marker\":{\"colorbar\":{\"outlinewidth\":0,\"ticks\":\"\"}}}],\"histogram\":[{\"marker\":{\"pattern\":{\"fillmode\":\"overlay\",\"size\":10,\"solidity\":0.2}},\"type\":\"histogram\"}],\"scattergl\":[{\"type\":\"scattergl\",\"marker\":{\"colorbar\":{\"outlinewidth\":0,\"ticks\":\"\"}}}],\"scatter3d\":[{\"type\":\"scatter3d\",\"line\":{\"colorbar\":{\"outlinewidth\":0,\"ticks\":\"\"}},\"marker\":{\"colorbar\":{\"outlinewidth\":0,\"ticks\":\"\"}}}],\"scattermapbox\":[{\"type\":\"scattermapbox\",\"marker\":{\"colorbar\":{\"outlinewidth\":0,\"ticks\":\"\"}}}],\"scatterternary\":[{\"type\":\"scatterternary\",\"marker\":{\"colorbar\":{\"outlinewidth\":0,\"ticks\":\"\"}}}],\"scattercarpet\":[{\"type\":\"scattercarpet\",\"marker\":{\"colorbar\":{\"outlinewidth\":0,\"ticks\":\"\"}}}],\"carpet\":[{\"aaxis\":{\"endlinecolor\":\"#2a3f5f\",\"gridcolor\":\"white\",\"linecolor\":\"white\",\"minorgridcolor\":\"white\",\"startlinecolor\":\"#2a3f5f\"},\"baxis\":{\"endlinecolor\":\"#2a3f5f\",\"gridcolor\":\"white\",\"linecolor\":\"white\",\"minorgridcolor\":\"white\",\"startlinecolor\":\"#2a3f5f\"},\"type\":\"carpet\"}],\"table\":[{\"cells\":{\"fill\":{\"color\":\"#EBF0F8\"},\"line\":{\"color\":\"white\"}},\"header\":{\"fill\":{\"color\":\"#C8D4E3\"},\"line\":{\"color\":\"white\"}},\"type\":\"table\"}],\"barpolar\":[{\"marker\":{\"line\":{\"color\":\"#E5ECF6\",\"width\":0.5},\"pattern\":{\"fillmode\":\"overlay\",\"size\":10,\"solidity\":0.2}},\"type\":\"barpolar\"}],\"pie\":[{\"automargin\":true,\"type\":\"pie\"}]},\"layout\":{\"autotypenumbers\":\"strict\",\"colorway\":[\"#636efa\",\"#EF553B\",\"#00cc96\",\"#ab63fa\",\"#FFA15A\",\"#19d3f3\",\"#FF6692\",\"#B6E880\",\"#FF97FF\",\"#FECB52\"],\"font\":{\"color\":\"#2a3f5f\"},\"hovermode\":\"closest\",\"hoverlabel\":{\"align\":\"left\"},\"paper_bgcolor\":\"white\",\"plot_bgcolor\":\"#E5ECF6\",\"polar\":{\"bgcolor\":\"#E5ECF6\",\"angularaxis\":{\"gridcolor\":\"white\",\"linecolor\":\"white\",\"ticks\":\"\"},\"radialaxis\":{\"gridcolor\":\"white\",\"linecolor\":\"white\",\"ticks\":\"\"}},\"ternary\":{\"bgcolor\":\"#E5ECF6\",\"aaxis\":{\"gridcolor\":\"white\",\"linecolor\":\"white\",\"ticks\":\"\"},\"baxis\":{\"gridcolor\":\"white\",\"linecolor\":\"white\",\"ticks\":\"\"},\"caxis\":{\"gridcolor\":\"white\",\"linecolor\":\"white\",\"ticks\":\"\"}},\"coloraxis\":{\"colorbar\":{\"outlinewidth\":0,\"ticks\":\"\"}},\"colorscale\":{\"sequential\":[[0.0,\"#0d0887\"],[0.1111111111111111,\"#46039f\"],[0.2222222222222222,\"#7201a8\"],[0.3333333333333333,\"#9c179e\"],[0.4444444444444444,\"#bd3786\"],[0.5555555555555556,\"#d8576b\"],[0.6666666666666666,\"#ed7953\"],[0.7777777777777778,\"#fb9f3a\"],[0.8888888888888888,\"#fdca26\"],[1.0,\"#f0f921\"]],\"sequentialminus\":[[0.0,\"#0d0887\"],[0.1111111111111111,\"#46039f\"],[0.2222222222222222,\"#7201a8\"],[0.3333333333333333,\"#9c179e\"],[0.4444444444444444,\"#bd3786\"],[0.5555555555555556,\"#d8576b\"],[0.6666666666666666,\"#ed7953\"],[0.7777777777777778,\"#fb9f3a\"],[0.8888888888888888,\"#fdca26\"],[1.0,\"#f0f921\"]],\"diverging\":[[0,\"#8e0152\"],[0.1,\"#c51b7d\"],[0.2,\"#de77ae\"],[0.3,\"#f1b6da\"],[0.4,\"#fde0ef\"],[0.5,\"#f7f7f7\"],[0.6,\"#e6f5d0\"],[0.7,\"#b8e186\"],[0.8,\"#7fbc41\"],[0.9,\"#4d9221\"],[1,\"#276419\"]]},\"xaxis\":{\"gridcolor\":\"white\",\"linecolor\":\"white\",\"ticks\":\"\",\"title\":{\"standoff\":15},\"zerolinecolor\":\"white\",\"automargin\":true,\"zerolinewidth\":2},\"yaxis\":{\"gridcolor\":\"white\",\"linecolor\":\"white\",\"ticks\":\"\",\"title\":{\"standoff\":15},\"zerolinecolor\":\"white\",\"automargin\":true,\"zerolinewidth\":2},\"scene\":{\"xaxis\":{\"backgroundcolor\":\"#E5ECF6\",\"gridcolor\":\"white\",\"linecolor\":\"white\",\"showbackground\":true,\"ticks\":\"\",\"zerolinecolor\":\"white\",\"gridwidth\":2},\"yaxis\":{\"backgroundcolor\":\"#E5ECF6\",\"gridcolor\":\"white\",\"linecolor\":\"white\",\"showbackground\":true,\"ticks\":\"\",\"zerolinecolor\":\"white\",\"gridwidth\":2},\"zaxis\":{\"backgroundcolor\":\"#E5ECF6\",\"gridcolor\":\"white\",\"linecolor\":\"white\",\"showbackground\":true,\"ticks\":\"\",\"zerolinecolor\":\"white\",\"gridwidth\":2}},\"shapedefaults\":{\"line\":{\"color\":\"#2a3f5f\"}},\"annotationdefaults\":{\"arrowcolor\":\"#2a3f5f\",\"arrowhead\":0,\"arrowwidth\":1},\"geo\":{\"bgcolor\":\"white\",\"landcolor\":\"#E5ECF6\",\"subunitcolor\":\"white\",\"showland\":true,\"showlakes\":true,\"lakecolor\":\"white\"},\"title\":{\"x\":0.05},\"mapbox\":{\"style\":\"light\"}}},\"xaxis\":{\"anchor\":\"y\",\"domain\":[0.0,1.0],\"title\":{\"text\":\"# Topics\"}},\"yaxis\":{\"anchor\":\"x\",\"domain\":[0.0,1.0],\"title\":{\"text\":\"Score\"}},\"legend\":{\"title\":{\"text\":\"Metric\"},\"tracegroupgap\":0},\"title\":{\"text\":\"Coherence Value and # of Topics\"},\"plot_bgcolor\":\"rgb(245,245,245)\"},                        {\"responsive\": true}                    ).then(function(){\n",
       "                            \n",
       "var gd = document.getElementById('e10292f4-1795-49e2-aea0-ee0fddd87a4b');\n",
       "var x = new MutationObserver(function (mutations, observer) {{\n",
       "        var display = window.getComputedStyle(gd).display;\n",
       "        if (!display || display === 'none') {{\n",
       "            console.log([gd, 'removed!']);\n",
       "            Plotly.purge(gd);\n",
       "            observer.disconnect();\n",
       "        }}\n",
       "}});\n",
       "\n",
       "// Listen for the removal of the full notebook cells\n",
       "var notebookContainer = gd.closest('#notebook-container');\n",
       "if (notebookContainer) {{\n",
       "    x.observe(notebookContainer, {childList: true});\n",
       "}}\n",
       "\n",
       "// Listen for the clearing of the current output cell\n",
       "var outputEl = gd.closest('.output');\n",
       "if (outputEl) {{\n",
       "    x.observe(outputEl, {childList: true});\n",
       "}}\n",
       "\n",
       "                        })                };                });            </script>        </div>"
      ]
     },
     "metadata": {},
     "output_type": "display_data"
    },
    {
     "name": "stdout",
     "output_type": "stream",
     "text": [
      "Best Model: Latent Dirichlet Allocation | # Topics: 400 | Coherence: 0.4462\n",
      "CPU times: user 2min 51s, sys: 1min 58s, total: 4min 49s\n",
      "Wall time: 3min 58s\n"
     ]
    }
   ],
   "source": [
    "%time tuned_lda = tune_model(model = 'lda', multi_core = True)"
   ]
  },
  {
   "cell_type": "code",
   "execution_count": 7,
   "id": "3fb410c2",
   "metadata": {},
   "outputs": [
    {
     "data": {
      "application/vnd.jupyter.widget-view+json": {
       "model_id": "",
       "version_major": 2,
       "version_minor": 0
      },
      "text/plain": [
       "IntProgress(value=0, description='Processing: ', max=25)"
      ]
     },
     "metadata": {},
     "output_type": "display_data"
    },
    {
     "data": {
      "application/vnd.jupyter.widget-view+json": {
       "model_id": "e3e4a878d56746d7a8c6c657328b963d",
       "version_major": 2,
       "version_minor": 0
      },
      "text/plain": [
       "Output()"
      ]
     },
     "metadata": {},
     "output_type": "display_data"
    },
    {
     "data": {
      "text/html": [
       "        <script type=\"text/javascript\">\n",
       "        window.PlotlyConfig = {MathJaxConfig: 'local'};\n",
       "        if (window.MathJax && window.MathJax.Hub && window.MathJax.Hub.Config) {window.MathJax.Hub.Config({SVG: {font: \"STIX-Web\"}});}\n",
       "        if (typeof require !== 'undefined') {\n",
       "        require.undef(\"plotly\");\n",
       "        requirejs.config({\n",
       "            paths: {\n",
       "                'plotly': ['https://cdn.plot.ly/plotly-2.18.2.min']\n",
       "            }\n",
       "        });\n",
       "        require(['plotly'], function(Plotly) {\n",
       "            window._Plotly = Plotly;\n",
       "        });\n",
       "        }\n",
       "        </script>\n",
       "        "
      ]
     },
     "metadata": {},
     "output_type": "display_data"
    },
    {
     "name": "stderr",
     "output_type": "stream",
     "text": [
      "IOPub message rate exceeded.\n",
      "The notebook server will temporarily stop sending output\n",
      "to the client in order to avoid crashing it.\n",
      "To change this limit, set the config variable\n",
      "`--NotebookApp.iopub_msg_rate_limit`.\n",
      "\n",
      "Current values:\n",
      "NotebookApp.iopub_msg_rate_limit=1000.0 (msgs/sec)\n",
      "NotebookApp.rate_limit_window=3.0 (secs)\n",
      "\n",
      "IOPub message rate exceeded.\n",
      "The notebook server will temporarily stop sending output\n",
      "to the client in order to avoid crashing it.\n",
      "To change this limit, set the config variable\n",
      "`--NotebookApp.iopub_msg_rate_limit`.\n",
      "\n",
      "Current values:\n",
      "NotebookApp.iopub_msg_rate_limit=1000.0 (msgs/sec)\n",
      "NotebookApp.rate_limit_window=3.0 (secs)\n",
      "\n",
      "IOPub message rate exceeded.\n",
      "The notebook server will temporarily stop sending output\n",
      "to the client in order to avoid crashing it.\n",
      "To change this limit, set the config variable\n",
      "`--NotebookApp.iopub_msg_rate_limit`.\n",
      "\n",
      "Current values:\n",
      "NotebookApp.iopub_msg_rate_limit=1000.0 (msgs/sec)\n",
      "NotebookApp.rate_limit_window=3.0 (secs)\n",
      "\n"
     ]
    },
    {
     "data": {
      "application/vnd.plotly.v1+json": {
       "config": {
        "plotlyServerURL": "https://plot.ly"
       },
       "data": [
        {
         "hovertemplate": "Metric=Coherence<br># Topics=%{x}<br>Score=%{y}<extra></extra>",
         "legendgroup": "Coherence",
         "line": {
          "color": "#636efa",
          "dash": "solid",
          "shape": "linear"
         },
         "marker": {
          "symbol": "circle"
         },
         "mode": "lines",
         "name": "Coherence",
         "orientation": "v",
         "showlegend": true,
         "type": "scatter",
         "x": [
          2,
          4,
          8,
          16,
          32,
          64,
          100,
          200,
          300,
          400
         ],
         "xaxis": "x",
         "y": [
          0.47921402304792493,
          0.4496587803507496,
          0.43386606396297633,
          0.38752708110132983,
          0.3589515326182131,
          0.3308024025717292,
          0.3097360832296259,
          0.29243233515122186,
          0.31039094889977137,
          0.3431939292673127
         ],
         "yaxis": "y"
        }
       ],
       "layout": {
        "legend": {
         "title": {
          "text": "Metric"
         },
         "tracegroupgap": 0
        },
        "plot_bgcolor": "rgb(245,245,245)",
        "template": {
         "data": {
          "bar": [
           {
            "error_x": {
             "color": "#2a3f5f"
            },
            "error_y": {
             "color": "#2a3f5f"
            },
            "marker": {
             "line": {
              "color": "#E5ECF6",
              "width": 0.5
             },
             "pattern": {
              "fillmode": "overlay",
              "size": 10,
              "solidity": 0.2
             }
            },
            "type": "bar"
           }
          ],
          "barpolar": [
           {
            "marker": {
             "line": {
              "color": "#E5ECF6",
              "width": 0.5
             },
             "pattern": {
              "fillmode": "overlay",
              "size": 10,
              "solidity": 0.2
             }
            },
            "type": "barpolar"
           }
          ],
          "carpet": [
           {
            "aaxis": {
             "endlinecolor": "#2a3f5f",
             "gridcolor": "white",
             "linecolor": "white",
             "minorgridcolor": "white",
             "startlinecolor": "#2a3f5f"
            },
            "baxis": {
             "endlinecolor": "#2a3f5f",
             "gridcolor": "white",
             "linecolor": "white",
             "minorgridcolor": "white",
             "startlinecolor": "#2a3f5f"
            },
            "type": "carpet"
           }
          ],
          "choropleth": [
           {
            "colorbar": {
             "outlinewidth": 0,
             "ticks": ""
            },
            "type": "choropleth"
           }
          ],
          "contour": [
           {
            "colorbar": {
             "outlinewidth": 0,
             "ticks": ""
            },
            "colorscale": [
             [
              0,
              "#0d0887"
             ],
             [
              0.1111111111111111,
              "#46039f"
             ],
             [
              0.2222222222222222,
              "#7201a8"
             ],
             [
              0.3333333333333333,
              "#9c179e"
             ],
             [
              0.4444444444444444,
              "#bd3786"
             ],
             [
              0.5555555555555556,
              "#d8576b"
             ],
             [
              0.6666666666666666,
              "#ed7953"
             ],
             [
              0.7777777777777778,
              "#fb9f3a"
             ],
             [
              0.8888888888888888,
              "#fdca26"
             ],
             [
              1,
              "#f0f921"
             ]
            ],
            "type": "contour"
           }
          ],
          "contourcarpet": [
           {
            "colorbar": {
             "outlinewidth": 0,
             "ticks": ""
            },
            "type": "contourcarpet"
           }
          ],
          "heatmap": [
           {
            "colorbar": {
             "outlinewidth": 0,
             "ticks": ""
            },
            "colorscale": [
             [
              0,
              "#0d0887"
             ],
             [
              0.1111111111111111,
              "#46039f"
             ],
             [
              0.2222222222222222,
              "#7201a8"
             ],
             [
              0.3333333333333333,
              "#9c179e"
             ],
             [
              0.4444444444444444,
              "#bd3786"
             ],
             [
              0.5555555555555556,
              "#d8576b"
             ],
             [
              0.6666666666666666,
              "#ed7953"
             ],
             [
              0.7777777777777778,
              "#fb9f3a"
             ],
             [
              0.8888888888888888,
              "#fdca26"
             ],
             [
              1,
              "#f0f921"
             ]
            ],
            "type": "heatmap"
           }
          ],
          "heatmapgl": [
           {
            "colorbar": {
             "outlinewidth": 0,
             "ticks": ""
            },
            "colorscale": [
             [
              0,
              "#0d0887"
             ],
             [
              0.1111111111111111,
              "#46039f"
             ],
             [
              0.2222222222222222,
              "#7201a8"
             ],
             [
              0.3333333333333333,
              "#9c179e"
             ],
             [
              0.4444444444444444,
              "#bd3786"
             ],
             [
              0.5555555555555556,
              "#d8576b"
             ],
             [
              0.6666666666666666,
              "#ed7953"
             ],
             [
              0.7777777777777778,
              "#fb9f3a"
             ],
             [
              0.8888888888888888,
              "#fdca26"
             ],
             [
              1,
              "#f0f921"
             ]
            ],
            "type": "heatmapgl"
           }
          ],
          "histogram": [
           {
            "marker": {
             "pattern": {
              "fillmode": "overlay",
              "size": 10,
              "solidity": 0.2
             }
            },
            "type": "histogram"
           }
          ],
          "histogram2d": [
           {
            "colorbar": {
             "outlinewidth": 0,
             "ticks": ""
            },
            "colorscale": [
             [
              0,
              "#0d0887"
             ],
             [
              0.1111111111111111,
              "#46039f"
             ],
             [
              0.2222222222222222,
              "#7201a8"
             ],
             [
              0.3333333333333333,
              "#9c179e"
             ],
             [
              0.4444444444444444,
              "#bd3786"
             ],
             [
              0.5555555555555556,
              "#d8576b"
             ],
             [
              0.6666666666666666,
              "#ed7953"
             ],
             [
              0.7777777777777778,
              "#fb9f3a"
             ],
             [
              0.8888888888888888,
              "#fdca26"
             ],
             [
              1,
              "#f0f921"
             ]
            ],
            "type": "histogram2d"
           }
          ],
          "histogram2dcontour": [
           {
            "colorbar": {
             "outlinewidth": 0,
             "ticks": ""
            },
            "colorscale": [
             [
              0,
              "#0d0887"
             ],
             [
              0.1111111111111111,
              "#46039f"
             ],
             [
              0.2222222222222222,
              "#7201a8"
             ],
             [
              0.3333333333333333,
              "#9c179e"
             ],
             [
              0.4444444444444444,
              "#bd3786"
             ],
             [
              0.5555555555555556,
              "#d8576b"
             ],
             [
              0.6666666666666666,
              "#ed7953"
             ],
             [
              0.7777777777777778,
              "#fb9f3a"
             ],
             [
              0.8888888888888888,
              "#fdca26"
             ],
             [
              1,
              "#f0f921"
             ]
            ],
            "type": "histogram2dcontour"
           }
          ],
          "mesh3d": [
           {
            "colorbar": {
             "outlinewidth": 0,
             "ticks": ""
            },
            "type": "mesh3d"
           }
          ],
          "parcoords": [
           {
            "line": {
             "colorbar": {
              "outlinewidth": 0,
              "ticks": ""
             }
            },
            "type": "parcoords"
           }
          ],
          "pie": [
           {
            "automargin": true,
            "type": "pie"
           }
          ],
          "scatter": [
           {
            "fillpattern": {
             "fillmode": "overlay",
             "size": 10,
             "solidity": 0.2
            },
            "type": "scatter"
           }
          ],
          "scatter3d": [
           {
            "line": {
             "colorbar": {
              "outlinewidth": 0,
              "ticks": ""
             }
            },
            "marker": {
             "colorbar": {
              "outlinewidth": 0,
              "ticks": ""
             }
            },
            "type": "scatter3d"
           }
          ],
          "scattercarpet": [
           {
            "marker": {
             "colorbar": {
              "outlinewidth": 0,
              "ticks": ""
             }
            },
            "type": "scattercarpet"
           }
          ],
          "scattergeo": [
           {
            "marker": {
             "colorbar": {
              "outlinewidth": 0,
              "ticks": ""
             }
            },
            "type": "scattergeo"
           }
          ],
          "scattergl": [
           {
            "marker": {
             "colorbar": {
              "outlinewidth": 0,
              "ticks": ""
             }
            },
            "type": "scattergl"
           }
          ],
          "scattermapbox": [
           {
            "marker": {
             "colorbar": {
              "outlinewidth": 0,
              "ticks": ""
             }
            },
            "type": "scattermapbox"
           }
          ],
          "scatterpolar": [
           {
            "marker": {
             "colorbar": {
              "outlinewidth": 0,
              "ticks": ""
             }
            },
            "type": "scatterpolar"
           }
          ],
          "scatterpolargl": [
           {
            "marker": {
             "colorbar": {
              "outlinewidth": 0,
              "ticks": ""
             }
            },
            "type": "scatterpolargl"
           }
          ],
          "scatterternary": [
           {
            "marker": {
             "colorbar": {
              "outlinewidth": 0,
              "ticks": ""
             }
            },
            "type": "scatterternary"
           }
          ],
          "surface": [
           {
            "colorbar": {
             "outlinewidth": 0,
             "ticks": ""
            },
            "colorscale": [
             [
              0,
              "#0d0887"
             ],
             [
              0.1111111111111111,
              "#46039f"
             ],
             [
              0.2222222222222222,
              "#7201a8"
             ],
             [
              0.3333333333333333,
              "#9c179e"
             ],
             [
              0.4444444444444444,
              "#bd3786"
             ],
             [
              0.5555555555555556,
              "#d8576b"
             ],
             [
              0.6666666666666666,
              "#ed7953"
             ],
             [
              0.7777777777777778,
              "#fb9f3a"
             ],
             [
              0.8888888888888888,
              "#fdca26"
             ],
             [
              1,
              "#f0f921"
             ]
            ],
            "type": "surface"
           }
          ],
          "table": [
           {
            "cells": {
             "fill": {
              "color": "#EBF0F8"
             },
             "line": {
              "color": "white"
             }
            },
            "header": {
             "fill": {
              "color": "#C8D4E3"
             },
             "line": {
              "color": "white"
             }
            },
            "type": "table"
           }
          ]
         },
         "layout": {
          "annotationdefaults": {
           "arrowcolor": "#2a3f5f",
           "arrowhead": 0,
           "arrowwidth": 1
          },
          "autotypenumbers": "strict",
          "coloraxis": {
           "colorbar": {
            "outlinewidth": 0,
            "ticks": ""
           }
          },
          "colorscale": {
           "diverging": [
            [
             0,
             "#8e0152"
            ],
            [
             0.1,
             "#c51b7d"
            ],
            [
             0.2,
             "#de77ae"
            ],
            [
             0.3,
             "#f1b6da"
            ],
            [
             0.4,
             "#fde0ef"
            ],
            [
             0.5,
             "#f7f7f7"
            ],
            [
             0.6,
             "#e6f5d0"
            ],
            [
             0.7,
             "#b8e186"
            ],
            [
             0.8,
             "#7fbc41"
            ],
            [
             0.9,
             "#4d9221"
            ],
            [
             1,
             "#276419"
            ]
           ],
           "sequential": [
            [
             0,
             "#0d0887"
            ],
            [
             0.1111111111111111,
             "#46039f"
            ],
            [
             0.2222222222222222,
             "#7201a8"
            ],
            [
             0.3333333333333333,
             "#9c179e"
            ],
            [
             0.4444444444444444,
             "#bd3786"
            ],
            [
             0.5555555555555556,
             "#d8576b"
            ],
            [
             0.6666666666666666,
             "#ed7953"
            ],
            [
             0.7777777777777778,
             "#fb9f3a"
            ],
            [
             0.8888888888888888,
             "#fdca26"
            ],
            [
             1,
             "#f0f921"
            ]
           ],
           "sequentialminus": [
            [
             0,
             "#0d0887"
            ],
            [
             0.1111111111111111,
             "#46039f"
            ],
            [
             0.2222222222222222,
             "#7201a8"
            ],
            [
             0.3333333333333333,
             "#9c179e"
            ],
            [
             0.4444444444444444,
             "#bd3786"
            ],
            [
             0.5555555555555556,
             "#d8576b"
            ],
            [
             0.6666666666666666,
             "#ed7953"
            ],
            [
             0.7777777777777778,
             "#fb9f3a"
            ],
            [
             0.8888888888888888,
             "#fdca26"
            ],
            [
             1,
             "#f0f921"
            ]
           ]
          },
          "colorway": [
           "#636efa",
           "#EF553B",
           "#00cc96",
           "#ab63fa",
           "#FFA15A",
           "#19d3f3",
           "#FF6692",
           "#B6E880",
           "#FF97FF",
           "#FECB52"
          ],
          "font": {
           "color": "#2a3f5f"
          },
          "geo": {
           "bgcolor": "white",
           "lakecolor": "white",
           "landcolor": "#E5ECF6",
           "showlakes": true,
           "showland": true,
           "subunitcolor": "white"
          },
          "hoverlabel": {
           "align": "left"
          },
          "hovermode": "closest",
          "mapbox": {
           "style": "light"
          },
          "paper_bgcolor": "white",
          "plot_bgcolor": "#E5ECF6",
          "polar": {
           "angularaxis": {
            "gridcolor": "white",
            "linecolor": "white",
            "ticks": ""
           },
           "bgcolor": "#E5ECF6",
           "radialaxis": {
            "gridcolor": "white",
            "linecolor": "white",
            "ticks": ""
           }
          },
          "scene": {
           "xaxis": {
            "backgroundcolor": "#E5ECF6",
            "gridcolor": "white",
            "gridwidth": 2,
            "linecolor": "white",
            "showbackground": true,
            "ticks": "",
            "zerolinecolor": "white"
           },
           "yaxis": {
            "backgroundcolor": "#E5ECF6",
            "gridcolor": "white",
            "gridwidth": 2,
            "linecolor": "white",
            "showbackground": true,
            "ticks": "",
            "zerolinecolor": "white"
           },
           "zaxis": {
            "backgroundcolor": "#E5ECF6",
            "gridcolor": "white",
            "gridwidth": 2,
            "linecolor": "white",
            "showbackground": true,
            "ticks": "",
            "zerolinecolor": "white"
           }
          },
          "shapedefaults": {
           "line": {
            "color": "#2a3f5f"
           }
          },
          "ternary": {
           "aaxis": {
            "gridcolor": "white",
            "linecolor": "white",
            "ticks": ""
           },
           "baxis": {
            "gridcolor": "white",
            "linecolor": "white",
            "ticks": ""
           },
           "bgcolor": "#E5ECF6",
           "caxis": {
            "gridcolor": "white",
            "linecolor": "white",
            "ticks": ""
           }
          },
          "title": {
           "x": 0.05
          },
          "xaxis": {
           "automargin": true,
           "gridcolor": "white",
           "linecolor": "white",
           "ticks": "",
           "title": {
            "standoff": 15
           },
           "zerolinecolor": "white",
           "zerolinewidth": 2
          },
          "yaxis": {
           "automargin": true,
           "gridcolor": "white",
           "linecolor": "white",
           "ticks": "",
           "title": {
            "standoff": 15
           },
           "zerolinecolor": "white",
           "zerolinewidth": 2
          }
         }
        },
        "title": {
         "text": "Coherence Value and # of Topics"
        },
        "xaxis": {
         "anchor": "y",
         "domain": [
          0,
          1
         ],
         "title": {
          "text": "# Topics"
         }
        },
        "yaxis": {
         "anchor": "x",
         "domain": [
          0,
          1
         ],
         "title": {
          "text": "Score"
         }
        }
       }
      },
      "text/html": [
       "<div>                            <div id=\"646bab03-eea9-4257-a8a2-3e145e051398\" class=\"plotly-graph-div\" style=\"height:525px; width:100%;\"></div>            <script type=\"text/javascript\">                require([\"plotly\"], function(Plotly) {                    window.PLOTLYENV=window.PLOTLYENV || {};                                    if (document.getElementById(\"646bab03-eea9-4257-a8a2-3e145e051398\")) {                    Plotly.newPlot(                        \"646bab03-eea9-4257-a8a2-3e145e051398\",                        [{\"hovertemplate\":\"Metric=Coherence<br># Topics=%{x}<br>Score=%{y}<extra></extra>\",\"legendgroup\":\"Coherence\",\"line\":{\"color\":\"#636efa\",\"dash\":\"solid\",\"shape\":\"linear\"},\"marker\":{\"symbol\":\"circle\"},\"mode\":\"lines\",\"name\":\"Coherence\",\"orientation\":\"v\",\"showlegend\":true,\"x\":[2,4,8,16,32,64,100,200,300,400],\"xaxis\":\"x\",\"y\":[0.47921402304792493,0.4496587803507496,0.43386606396297633,0.38752708110132983,0.3589515326182131,0.3308024025717292,0.3097360832296259,0.29243233515122186,0.31039094889977137,0.3431939292673127],\"yaxis\":\"y\",\"type\":\"scatter\"}],                        {\"template\":{\"data\":{\"histogram2dcontour\":[{\"type\":\"histogram2dcontour\",\"colorbar\":{\"outlinewidth\":0,\"ticks\":\"\"},\"colorscale\":[[0.0,\"#0d0887\"],[0.1111111111111111,\"#46039f\"],[0.2222222222222222,\"#7201a8\"],[0.3333333333333333,\"#9c179e\"],[0.4444444444444444,\"#bd3786\"],[0.5555555555555556,\"#d8576b\"],[0.6666666666666666,\"#ed7953\"],[0.7777777777777778,\"#fb9f3a\"],[0.8888888888888888,\"#fdca26\"],[1.0,\"#f0f921\"]]}],\"choropleth\":[{\"type\":\"choropleth\",\"colorbar\":{\"outlinewidth\":0,\"ticks\":\"\"}}],\"histogram2d\":[{\"type\":\"histogram2d\",\"colorbar\":{\"outlinewidth\":0,\"ticks\":\"\"},\"colorscale\":[[0.0,\"#0d0887\"],[0.1111111111111111,\"#46039f\"],[0.2222222222222222,\"#7201a8\"],[0.3333333333333333,\"#9c179e\"],[0.4444444444444444,\"#bd3786\"],[0.5555555555555556,\"#d8576b\"],[0.6666666666666666,\"#ed7953\"],[0.7777777777777778,\"#fb9f3a\"],[0.8888888888888888,\"#fdca26\"],[1.0,\"#f0f921\"]]}],\"heatmap\":[{\"type\":\"heatmap\",\"colorbar\":{\"outlinewidth\":0,\"ticks\":\"\"},\"colorscale\":[[0.0,\"#0d0887\"],[0.1111111111111111,\"#46039f\"],[0.2222222222222222,\"#7201a8\"],[0.3333333333333333,\"#9c179e\"],[0.4444444444444444,\"#bd3786\"],[0.5555555555555556,\"#d8576b\"],[0.6666666666666666,\"#ed7953\"],[0.7777777777777778,\"#fb9f3a\"],[0.8888888888888888,\"#fdca26\"],[1.0,\"#f0f921\"]]}],\"heatmapgl\":[{\"type\":\"heatmapgl\",\"colorbar\":{\"outlinewidth\":0,\"ticks\":\"\"},\"colorscale\":[[0.0,\"#0d0887\"],[0.1111111111111111,\"#46039f\"],[0.2222222222222222,\"#7201a8\"],[0.3333333333333333,\"#9c179e\"],[0.4444444444444444,\"#bd3786\"],[0.5555555555555556,\"#d8576b\"],[0.6666666666666666,\"#ed7953\"],[0.7777777777777778,\"#fb9f3a\"],[0.8888888888888888,\"#fdca26\"],[1.0,\"#f0f921\"]]}],\"contourcarpet\":[{\"type\":\"contourcarpet\",\"colorbar\":{\"outlinewidth\":0,\"ticks\":\"\"}}],\"contour\":[{\"type\":\"contour\",\"colorbar\":{\"outlinewidth\":0,\"ticks\":\"\"},\"colorscale\":[[0.0,\"#0d0887\"],[0.1111111111111111,\"#46039f\"],[0.2222222222222222,\"#7201a8\"],[0.3333333333333333,\"#9c179e\"],[0.4444444444444444,\"#bd3786\"],[0.5555555555555556,\"#d8576b\"],[0.6666666666666666,\"#ed7953\"],[0.7777777777777778,\"#fb9f3a\"],[0.8888888888888888,\"#fdca26\"],[1.0,\"#f0f921\"]]}],\"surface\":[{\"type\":\"surface\",\"colorbar\":{\"outlinewidth\":0,\"ticks\":\"\"},\"colorscale\":[[0.0,\"#0d0887\"],[0.1111111111111111,\"#46039f\"],[0.2222222222222222,\"#7201a8\"],[0.3333333333333333,\"#9c179e\"],[0.4444444444444444,\"#bd3786\"],[0.5555555555555556,\"#d8576b\"],[0.6666666666666666,\"#ed7953\"],[0.7777777777777778,\"#fb9f3a\"],[0.8888888888888888,\"#fdca26\"],[1.0,\"#f0f921\"]]}],\"mesh3d\":[{\"type\":\"mesh3d\",\"colorbar\":{\"outlinewidth\":0,\"ticks\":\"\"}}],\"scatter\":[{\"fillpattern\":{\"fillmode\":\"overlay\",\"size\":10,\"solidity\":0.2},\"type\":\"scatter\"}],\"parcoords\":[{\"type\":\"parcoords\",\"line\":{\"colorbar\":{\"outlinewidth\":0,\"ticks\":\"\"}}}],\"scatterpolargl\":[{\"type\":\"scatterpolargl\",\"marker\":{\"colorbar\":{\"outlinewidth\":0,\"ticks\":\"\"}}}],\"bar\":[{\"error_x\":{\"color\":\"#2a3f5f\"},\"error_y\":{\"color\":\"#2a3f5f\"},\"marker\":{\"line\":{\"color\":\"#E5ECF6\",\"width\":0.5},\"pattern\":{\"fillmode\":\"overlay\",\"size\":10,\"solidity\":0.2}},\"type\":\"bar\"}],\"scattergeo\":[{\"type\":\"scattergeo\",\"marker\":{\"colorbar\":{\"outlinewidth\":0,\"ticks\":\"\"}}}],\"scatterpolar\":[{\"type\":\"scatterpolar\",\"marker\":{\"colorbar\":{\"outlinewidth\":0,\"ticks\":\"\"}}}],\"histogram\":[{\"marker\":{\"pattern\":{\"fillmode\":\"overlay\",\"size\":10,\"solidity\":0.2}},\"type\":\"histogram\"}],\"scattergl\":[{\"type\":\"scattergl\",\"marker\":{\"colorbar\":{\"outlinewidth\":0,\"ticks\":\"\"}}}],\"scatter3d\":[{\"type\":\"scatter3d\",\"line\":{\"colorbar\":{\"outlinewidth\":0,\"ticks\":\"\"}},\"marker\":{\"colorbar\":{\"outlinewidth\":0,\"ticks\":\"\"}}}],\"scattermapbox\":[{\"type\":\"scattermapbox\",\"marker\":{\"colorbar\":{\"outlinewidth\":0,\"ticks\":\"\"}}}],\"scatterternary\":[{\"type\":\"scatterternary\",\"marker\":{\"colorbar\":{\"outlinewidth\":0,\"ticks\":\"\"}}}],\"scattercarpet\":[{\"type\":\"scattercarpet\",\"marker\":{\"colorbar\":{\"outlinewidth\":0,\"ticks\":\"\"}}}],\"carpet\":[{\"aaxis\":{\"endlinecolor\":\"#2a3f5f\",\"gridcolor\":\"white\",\"linecolor\":\"white\",\"minorgridcolor\":\"white\",\"startlinecolor\":\"#2a3f5f\"},\"baxis\":{\"endlinecolor\":\"#2a3f5f\",\"gridcolor\":\"white\",\"linecolor\":\"white\",\"minorgridcolor\":\"white\",\"startlinecolor\":\"#2a3f5f\"},\"type\":\"carpet\"}],\"table\":[{\"cells\":{\"fill\":{\"color\":\"#EBF0F8\"},\"line\":{\"color\":\"white\"}},\"header\":{\"fill\":{\"color\":\"#C8D4E3\"},\"line\":{\"color\":\"white\"}},\"type\":\"table\"}],\"barpolar\":[{\"marker\":{\"line\":{\"color\":\"#E5ECF6\",\"width\":0.5},\"pattern\":{\"fillmode\":\"overlay\",\"size\":10,\"solidity\":0.2}},\"type\":\"barpolar\"}],\"pie\":[{\"automargin\":true,\"type\":\"pie\"}]},\"layout\":{\"autotypenumbers\":\"strict\",\"colorway\":[\"#636efa\",\"#EF553B\",\"#00cc96\",\"#ab63fa\",\"#FFA15A\",\"#19d3f3\",\"#FF6692\",\"#B6E880\",\"#FF97FF\",\"#FECB52\"],\"font\":{\"color\":\"#2a3f5f\"},\"hovermode\":\"closest\",\"hoverlabel\":{\"align\":\"left\"},\"paper_bgcolor\":\"white\",\"plot_bgcolor\":\"#E5ECF6\",\"polar\":{\"bgcolor\":\"#E5ECF6\",\"angularaxis\":{\"gridcolor\":\"white\",\"linecolor\":\"white\",\"ticks\":\"\"},\"radialaxis\":{\"gridcolor\":\"white\",\"linecolor\":\"white\",\"ticks\":\"\"}},\"ternary\":{\"bgcolor\":\"#E5ECF6\",\"aaxis\":{\"gridcolor\":\"white\",\"linecolor\":\"white\",\"ticks\":\"\"},\"baxis\":{\"gridcolor\":\"white\",\"linecolor\":\"white\",\"ticks\":\"\"},\"caxis\":{\"gridcolor\":\"white\",\"linecolor\":\"white\",\"ticks\":\"\"}},\"coloraxis\":{\"colorbar\":{\"outlinewidth\":0,\"ticks\":\"\"}},\"colorscale\":{\"sequential\":[[0.0,\"#0d0887\"],[0.1111111111111111,\"#46039f\"],[0.2222222222222222,\"#7201a8\"],[0.3333333333333333,\"#9c179e\"],[0.4444444444444444,\"#bd3786\"],[0.5555555555555556,\"#d8576b\"],[0.6666666666666666,\"#ed7953\"],[0.7777777777777778,\"#fb9f3a\"],[0.8888888888888888,\"#fdca26\"],[1.0,\"#f0f921\"]],\"sequentialminus\":[[0.0,\"#0d0887\"],[0.1111111111111111,\"#46039f\"],[0.2222222222222222,\"#7201a8\"],[0.3333333333333333,\"#9c179e\"],[0.4444444444444444,\"#bd3786\"],[0.5555555555555556,\"#d8576b\"],[0.6666666666666666,\"#ed7953\"],[0.7777777777777778,\"#fb9f3a\"],[0.8888888888888888,\"#fdca26\"],[1.0,\"#f0f921\"]],\"diverging\":[[0,\"#8e0152\"],[0.1,\"#c51b7d\"],[0.2,\"#de77ae\"],[0.3,\"#f1b6da\"],[0.4,\"#fde0ef\"],[0.5,\"#f7f7f7\"],[0.6,\"#e6f5d0\"],[0.7,\"#b8e186\"],[0.8,\"#7fbc41\"],[0.9,\"#4d9221\"],[1,\"#276419\"]]},\"xaxis\":{\"gridcolor\":\"white\",\"linecolor\":\"white\",\"ticks\":\"\",\"title\":{\"standoff\":15},\"zerolinecolor\":\"white\",\"automargin\":true,\"zerolinewidth\":2},\"yaxis\":{\"gridcolor\":\"white\",\"linecolor\":\"white\",\"ticks\":\"\",\"title\":{\"standoff\":15},\"zerolinecolor\":\"white\",\"automargin\":true,\"zerolinewidth\":2},\"scene\":{\"xaxis\":{\"backgroundcolor\":\"#E5ECF6\",\"gridcolor\":\"white\",\"linecolor\":\"white\",\"showbackground\":true,\"ticks\":\"\",\"zerolinecolor\":\"white\",\"gridwidth\":2},\"yaxis\":{\"backgroundcolor\":\"#E5ECF6\",\"gridcolor\":\"white\",\"linecolor\":\"white\",\"showbackground\":true,\"ticks\":\"\",\"zerolinecolor\":\"white\",\"gridwidth\":2},\"zaxis\":{\"backgroundcolor\":\"#E5ECF6\",\"gridcolor\":\"white\",\"linecolor\":\"white\",\"showbackground\":true,\"ticks\":\"\",\"zerolinecolor\":\"white\",\"gridwidth\":2}},\"shapedefaults\":{\"line\":{\"color\":\"#2a3f5f\"}},\"annotationdefaults\":{\"arrowcolor\":\"#2a3f5f\",\"arrowhead\":0,\"arrowwidth\":1},\"geo\":{\"bgcolor\":\"white\",\"landcolor\":\"#E5ECF6\",\"subunitcolor\":\"white\",\"showland\":true,\"showlakes\":true,\"lakecolor\":\"white\"},\"title\":{\"x\":0.05},\"mapbox\":{\"style\":\"light\"}}},\"xaxis\":{\"anchor\":\"y\",\"domain\":[0.0,1.0],\"title\":{\"text\":\"# Topics\"}},\"yaxis\":{\"anchor\":\"x\",\"domain\":[0.0,1.0],\"title\":{\"text\":\"Score\"}},\"legend\":{\"title\":{\"text\":\"Metric\"},\"tracegroupgap\":0},\"title\":{\"text\":\"Coherence Value and # of Topics\"},\"plot_bgcolor\":\"rgb(245,245,245)\"},                        {\"responsive\": true}                    ).then(function(){\n",
       "                            \n",
       "var gd = document.getElementById('646bab03-eea9-4257-a8a2-3e145e051398');\n",
       "var x = new MutationObserver(function (mutations, observer) {{\n",
       "        var display = window.getComputedStyle(gd).display;\n",
       "        if (!display || display === 'none') {{\n",
       "            console.log([gd, 'removed!']);\n",
       "            Plotly.purge(gd);\n",
       "            observer.disconnect();\n",
       "        }}\n",
       "}});\n",
       "\n",
       "// Listen for the removal of the full notebook cells\n",
       "var notebookContainer = gd.closest('#notebook-container');\n",
       "if (notebookContainer) {{\n",
       "    x.observe(notebookContainer, {childList: true});\n",
       "}}\n",
       "\n",
       "// Listen for the clearing of the current output cell\n",
       "var outputEl = gd.closest('.output');\n",
       "if (outputEl) {{\n",
       "    x.observe(outputEl, {childList: true});\n",
       "}}\n",
       "\n",
       "                        })                };                });            </script>        </div>"
      ]
     },
     "metadata": {},
     "output_type": "display_data"
    },
    {
     "name": "stdout",
     "output_type": "stream",
     "text": [
      "Best Model: Latent Semantic Indexing | # Topics: 2 | Coherence: 0.4792\n",
      "CPU times: user 1min 46s, sys: 58 s, total: 2min 44s\n",
      "Wall time: 1min 56s\n"
     ]
    }
   ],
   "source": [
    "%time tuned_lsi = tune_model(model = 'lsi', multi_core = True)"
   ]
  },
  {
   "cell_type": "code",
   "execution_count": 8,
   "id": "f0c36d18",
   "metadata": {},
   "outputs": [
    {
     "data": {
      "application/vnd.jupyter.widget-view+json": {
       "model_id": "",
       "version_major": 2,
       "version_minor": 0
      },
      "text/plain": [
       "IntProgress(value=0, description='Processing: ', max=25)"
      ]
     },
     "metadata": {},
     "output_type": "display_data"
    },
    {
     "data": {
      "application/vnd.jupyter.widget-view+json": {
       "model_id": "515317f1722f4cfd80e3dcf9a39860fb",
       "version_major": 2,
       "version_minor": 0
      },
      "text/plain": [
       "Output()"
      ]
     },
     "metadata": {},
     "output_type": "display_data"
    },
    {
     "data": {
      "text/html": [
       "        <script type=\"text/javascript\">\n",
       "        window.PlotlyConfig = {MathJaxConfig: 'local'};\n",
       "        if (window.MathJax && window.MathJax.Hub && window.MathJax.Hub.Config) {window.MathJax.Hub.Config({SVG: {font: \"STIX-Web\"}});}\n",
       "        if (typeof require !== 'undefined') {\n",
       "        require.undef(\"plotly\");\n",
       "        requirejs.config({\n",
       "            paths: {\n",
       "                'plotly': ['https://cdn.plot.ly/plotly-2.18.2.min']\n",
       "            }\n",
       "        });\n",
       "        require(['plotly'], function(Plotly) {\n",
       "            window._Plotly = Plotly;\n",
       "        });\n",
       "        }\n",
       "        </script>\n",
       "        "
      ]
     },
     "metadata": {},
     "output_type": "display_data"
    },
    {
     "data": {
      "application/vnd.plotly.v1+json": {
       "config": {
        "plotlyServerURL": "https://plot.ly"
       },
       "data": [
        {
         "hovertemplate": "Metric=Coherence<br># Topics=%{x}<br>Score=%{y}<extra></extra>",
         "legendgroup": "Coherence",
         "line": {
          "color": "#636efa",
          "dash": "solid",
          "shape": "linear"
         },
         "marker": {
          "symbol": "circle"
         },
         "mode": "lines",
         "name": "Coherence",
         "orientation": "v",
         "showlegend": true,
         "type": "scatter",
         "x": [
          2,
          4,
          8,
          16,
          32,
          64,
          100,
          200,
          300,
          400
         ],
         "xaxis": "x",
         "y": [
          0.4304076609520782,
          0.44782124167385146,
          0.5693410458442522,
          0.6022180132673087,
          0.6604430938624827,
          0.6444052162461217,
          0.6577756135998375,
          0.6240557306926086,
          0.6583030706480302,
          0.6476796229530869
         ],
         "yaxis": "y"
        }
       ],
       "layout": {
        "legend": {
         "title": {
          "text": "Metric"
         },
         "tracegroupgap": 0
        },
        "plot_bgcolor": "rgb(245,245,245)",
        "template": {
         "data": {
          "bar": [
           {
            "error_x": {
             "color": "#2a3f5f"
            },
            "error_y": {
             "color": "#2a3f5f"
            },
            "marker": {
             "line": {
              "color": "#E5ECF6",
              "width": 0.5
             },
             "pattern": {
              "fillmode": "overlay",
              "size": 10,
              "solidity": 0.2
             }
            },
            "type": "bar"
           }
          ],
          "barpolar": [
           {
            "marker": {
             "line": {
              "color": "#E5ECF6",
              "width": 0.5
             },
             "pattern": {
              "fillmode": "overlay",
              "size": 10,
              "solidity": 0.2
             }
            },
            "type": "barpolar"
           }
          ],
          "carpet": [
           {
            "aaxis": {
             "endlinecolor": "#2a3f5f",
             "gridcolor": "white",
             "linecolor": "white",
             "minorgridcolor": "white",
             "startlinecolor": "#2a3f5f"
            },
            "baxis": {
             "endlinecolor": "#2a3f5f",
             "gridcolor": "white",
             "linecolor": "white",
             "minorgridcolor": "white",
             "startlinecolor": "#2a3f5f"
            },
            "type": "carpet"
           }
          ],
          "choropleth": [
           {
            "colorbar": {
             "outlinewidth": 0,
             "ticks": ""
            },
            "type": "choropleth"
           }
          ],
          "contour": [
           {
            "colorbar": {
             "outlinewidth": 0,
             "ticks": ""
            },
            "colorscale": [
             [
              0,
              "#0d0887"
             ],
             [
              0.1111111111111111,
              "#46039f"
             ],
             [
              0.2222222222222222,
              "#7201a8"
             ],
             [
              0.3333333333333333,
              "#9c179e"
             ],
             [
              0.4444444444444444,
              "#bd3786"
             ],
             [
              0.5555555555555556,
              "#d8576b"
             ],
             [
              0.6666666666666666,
              "#ed7953"
             ],
             [
              0.7777777777777778,
              "#fb9f3a"
             ],
             [
              0.8888888888888888,
              "#fdca26"
             ],
             [
              1,
              "#f0f921"
             ]
            ],
            "type": "contour"
           }
          ],
          "contourcarpet": [
           {
            "colorbar": {
             "outlinewidth": 0,
             "ticks": ""
            },
            "type": "contourcarpet"
           }
          ],
          "heatmap": [
           {
            "colorbar": {
             "outlinewidth": 0,
             "ticks": ""
            },
            "colorscale": [
             [
              0,
              "#0d0887"
             ],
             [
              0.1111111111111111,
              "#46039f"
             ],
             [
              0.2222222222222222,
              "#7201a8"
             ],
             [
              0.3333333333333333,
              "#9c179e"
             ],
             [
              0.4444444444444444,
              "#bd3786"
             ],
             [
              0.5555555555555556,
              "#d8576b"
             ],
             [
              0.6666666666666666,
              "#ed7953"
             ],
             [
              0.7777777777777778,
              "#fb9f3a"
             ],
             [
              0.8888888888888888,
              "#fdca26"
             ],
             [
              1,
              "#f0f921"
             ]
            ],
            "type": "heatmap"
           }
          ],
          "heatmapgl": [
           {
            "colorbar": {
             "outlinewidth": 0,
             "ticks": ""
            },
            "colorscale": [
             [
              0,
              "#0d0887"
             ],
             [
              0.1111111111111111,
              "#46039f"
             ],
             [
              0.2222222222222222,
              "#7201a8"
             ],
             [
              0.3333333333333333,
              "#9c179e"
             ],
             [
              0.4444444444444444,
              "#bd3786"
             ],
             [
              0.5555555555555556,
              "#d8576b"
             ],
             [
              0.6666666666666666,
              "#ed7953"
             ],
             [
              0.7777777777777778,
              "#fb9f3a"
             ],
             [
              0.8888888888888888,
              "#fdca26"
             ],
             [
              1,
              "#f0f921"
             ]
            ],
            "type": "heatmapgl"
           }
          ],
          "histogram": [
           {
            "marker": {
             "pattern": {
              "fillmode": "overlay",
              "size": 10,
              "solidity": 0.2
             }
            },
            "type": "histogram"
           }
          ],
          "histogram2d": [
           {
            "colorbar": {
             "outlinewidth": 0,
             "ticks": ""
            },
            "colorscale": [
             [
              0,
              "#0d0887"
             ],
             [
              0.1111111111111111,
              "#46039f"
             ],
             [
              0.2222222222222222,
              "#7201a8"
             ],
             [
              0.3333333333333333,
              "#9c179e"
             ],
             [
              0.4444444444444444,
              "#bd3786"
             ],
             [
              0.5555555555555556,
              "#d8576b"
             ],
             [
              0.6666666666666666,
              "#ed7953"
             ],
             [
              0.7777777777777778,
              "#fb9f3a"
             ],
             [
              0.8888888888888888,
              "#fdca26"
             ],
             [
              1,
              "#f0f921"
             ]
            ],
            "type": "histogram2d"
           }
          ],
          "histogram2dcontour": [
           {
            "colorbar": {
             "outlinewidth": 0,
             "ticks": ""
            },
            "colorscale": [
             [
              0,
              "#0d0887"
             ],
             [
              0.1111111111111111,
              "#46039f"
             ],
             [
              0.2222222222222222,
              "#7201a8"
             ],
             [
              0.3333333333333333,
              "#9c179e"
             ],
             [
              0.4444444444444444,
              "#bd3786"
             ],
             [
              0.5555555555555556,
              "#d8576b"
             ],
             [
              0.6666666666666666,
              "#ed7953"
             ],
             [
              0.7777777777777778,
              "#fb9f3a"
             ],
             [
              0.8888888888888888,
              "#fdca26"
             ],
             [
              1,
              "#f0f921"
             ]
            ],
            "type": "histogram2dcontour"
           }
          ],
          "mesh3d": [
           {
            "colorbar": {
             "outlinewidth": 0,
             "ticks": ""
            },
            "type": "mesh3d"
           }
          ],
          "parcoords": [
           {
            "line": {
             "colorbar": {
              "outlinewidth": 0,
              "ticks": ""
             }
            },
            "type": "parcoords"
           }
          ],
          "pie": [
           {
            "automargin": true,
            "type": "pie"
           }
          ],
          "scatter": [
           {
            "fillpattern": {
             "fillmode": "overlay",
             "size": 10,
             "solidity": 0.2
            },
            "type": "scatter"
           }
          ],
          "scatter3d": [
           {
            "line": {
             "colorbar": {
              "outlinewidth": 0,
              "ticks": ""
             }
            },
            "marker": {
             "colorbar": {
              "outlinewidth": 0,
              "ticks": ""
             }
            },
            "type": "scatter3d"
           }
          ],
          "scattercarpet": [
           {
            "marker": {
             "colorbar": {
              "outlinewidth": 0,
              "ticks": ""
             }
            },
            "type": "scattercarpet"
           }
          ],
          "scattergeo": [
           {
            "marker": {
             "colorbar": {
              "outlinewidth": 0,
              "ticks": ""
             }
            },
            "type": "scattergeo"
           }
          ],
          "scattergl": [
           {
            "marker": {
             "colorbar": {
              "outlinewidth": 0,
              "ticks": ""
             }
            },
            "type": "scattergl"
           }
          ],
          "scattermapbox": [
           {
            "marker": {
             "colorbar": {
              "outlinewidth": 0,
              "ticks": ""
             }
            },
            "type": "scattermapbox"
           }
          ],
          "scatterpolar": [
           {
            "marker": {
             "colorbar": {
              "outlinewidth": 0,
              "ticks": ""
             }
            },
            "type": "scatterpolar"
           }
          ],
          "scatterpolargl": [
           {
            "marker": {
             "colorbar": {
              "outlinewidth": 0,
              "ticks": ""
             }
            },
            "type": "scatterpolargl"
           }
          ],
          "scatterternary": [
           {
            "marker": {
             "colorbar": {
              "outlinewidth": 0,
              "ticks": ""
             }
            },
            "type": "scatterternary"
           }
          ],
          "surface": [
           {
            "colorbar": {
             "outlinewidth": 0,
             "ticks": ""
            },
            "colorscale": [
             [
              0,
              "#0d0887"
             ],
             [
              0.1111111111111111,
              "#46039f"
             ],
             [
              0.2222222222222222,
              "#7201a8"
             ],
             [
              0.3333333333333333,
              "#9c179e"
             ],
             [
              0.4444444444444444,
              "#bd3786"
             ],
             [
              0.5555555555555556,
              "#d8576b"
             ],
             [
              0.6666666666666666,
              "#ed7953"
             ],
             [
              0.7777777777777778,
              "#fb9f3a"
             ],
             [
              0.8888888888888888,
              "#fdca26"
             ],
             [
              1,
              "#f0f921"
             ]
            ],
            "type": "surface"
           }
          ],
          "table": [
           {
            "cells": {
             "fill": {
              "color": "#EBF0F8"
             },
             "line": {
              "color": "white"
             }
            },
            "header": {
             "fill": {
              "color": "#C8D4E3"
             },
             "line": {
              "color": "white"
             }
            },
            "type": "table"
           }
          ]
         },
         "layout": {
          "annotationdefaults": {
           "arrowcolor": "#2a3f5f",
           "arrowhead": 0,
           "arrowwidth": 1
          },
          "autotypenumbers": "strict",
          "coloraxis": {
           "colorbar": {
            "outlinewidth": 0,
            "ticks": ""
           }
          },
          "colorscale": {
           "diverging": [
            [
             0,
             "#8e0152"
            ],
            [
             0.1,
             "#c51b7d"
            ],
            [
             0.2,
             "#de77ae"
            ],
            [
             0.3,
             "#f1b6da"
            ],
            [
             0.4,
             "#fde0ef"
            ],
            [
             0.5,
             "#f7f7f7"
            ],
            [
             0.6,
             "#e6f5d0"
            ],
            [
             0.7,
             "#b8e186"
            ],
            [
             0.8,
             "#7fbc41"
            ],
            [
             0.9,
             "#4d9221"
            ],
            [
             1,
             "#276419"
            ]
           ],
           "sequential": [
            [
             0,
             "#0d0887"
            ],
            [
             0.1111111111111111,
             "#46039f"
            ],
            [
             0.2222222222222222,
             "#7201a8"
            ],
            [
             0.3333333333333333,
             "#9c179e"
            ],
            [
             0.4444444444444444,
             "#bd3786"
            ],
            [
             0.5555555555555556,
             "#d8576b"
            ],
            [
             0.6666666666666666,
             "#ed7953"
            ],
            [
             0.7777777777777778,
             "#fb9f3a"
            ],
            [
             0.8888888888888888,
             "#fdca26"
            ],
            [
             1,
             "#f0f921"
            ]
           ],
           "sequentialminus": [
            [
             0,
             "#0d0887"
            ],
            [
             0.1111111111111111,
             "#46039f"
            ],
            [
             0.2222222222222222,
             "#7201a8"
            ],
            [
             0.3333333333333333,
             "#9c179e"
            ],
            [
             0.4444444444444444,
             "#bd3786"
            ],
            [
             0.5555555555555556,
             "#d8576b"
            ],
            [
             0.6666666666666666,
             "#ed7953"
            ],
            [
             0.7777777777777778,
             "#fb9f3a"
            ],
            [
             0.8888888888888888,
             "#fdca26"
            ],
            [
             1,
             "#f0f921"
            ]
           ]
          },
          "colorway": [
           "#636efa",
           "#EF553B",
           "#00cc96",
           "#ab63fa",
           "#FFA15A",
           "#19d3f3",
           "#FF6692",
           "#B6E880",
           "#FF97FF",
           "#FECB52"
          ],
          "font": {
           "color": "#2a3f5f"
          },
          "geo": {
           "bgcolor": "white",
           "lakecolor": "white",
           "landcolor": "#E5ECF6",
           "showlakes": true,
           "showland": true,
           "subunitcolor": "white"
          },
          "hoverlabel": {
           "align": "left"
          },
          "hovermode": "closest",
          "mapbox": {
           "style": "light"
          },
          "paper_bgcolor": "white",
          "plot_bgcolor": "#E5ECF6",
          "polar": {
           "angularaxis": {
            "gridcolor": "white",
            "linecolor": "white",
            "ticks": ""
           },
           "bgcolor": "#E5ECF6",
           "radialaxis": {
            "gridcolor": "white",
            "linecolor": "white",
            "ticks": ""
           }
          },
          "scene": {
           "xaxis": {
            "backgroundcolor": "#E5ECF6",
            "gridcolor": "white",
            "gridwidth": 2,
            "linecolor": "white",
            "showbackground": true,
            "ticks": "",
            "zerolinecolor": "white"
           },
           "yaxis": {
            "backgroundcolor": "#E5ECF6",
            "gridcolor": "white",
            "gridwidth": 2,
            "linecolor": "white",
            "showbackground": true,
            "ticks": "",
            "zerolinecolor": "white"
           },
           "zaxis": {
            "backgroundcolor": "#E5ECF6",
            "gridcolor": "white",
            "gridwidth": 2,
            "linecolor": "white",
            "showbackground": true,
            "ticks": "",
            "zerolinecolor": "white"
           }
          },
          "shapedefaults": {
           "line": {
            "color": "#2a3f5f"
           }
          },
          "ternary": {
           "aaxis": {
            "gridcolor": "white",
            "linecolor": "white",
            "ticks": ""
           },
           "baxis": {
            "gridcolor": "white",
            "linecolor": "white",
            "ticks": ""
           },
           "bgcolor": "#E5ECF6",
           "caxis": {
            "gridcolor": "white",
            "linecolor": "white",
            "ticks": ""
           }
          },
          "title": {
           "x": 0.05
          },
          "xaxis": {
           "automargin": true,
           "gridcolor": "white",
           "linecolor": "white",
           "ticks": "",
           "title": {
            "standoff": 15
           },
           "zerolinecolor": "white",
           "zerolinewidth": 2
          },
          "yaxis": {
           "automargin": true,
           "gridcolor": "white",
           "linecolor": "white",
           "ticks": "",
           "title": {
            "standoff": 15
           },
           "zerolinecolor": "white",
           "zerolinewidth": 2
          }
         }
        },
        "title": {
         "text": "Coherence Value and # of Topics"
        },
        "xaxis": {
         "anchor": "y",
         "domain": [
          0,
          1
         ],
         "title": {
          "text": "# Topics"
         }
        },
        "yaxis": {
         "anchor": "x",
         "domain": [
          0,
          1
         ],
         "title": {
          "text": "Score"
         }
        }
       }
      },
      "text/html": [
       "<div>                            <div id=\"cffa607c-6884-4fa6-9eed-11e7ee691192\" class=\"plotly-graph-div\" style=\"height:525px; width:100%;\"></div>            <script type=\"text/javascript\">                require([\"plotly\"], function(Plotly) {                    window.PLOTLYENV=window.PLOTLYENV || {};                                    if (document.getElementById(\"cffa607c-6884-4fa6-9eed-11e7ee691192\")) {                    Plotly.newPlot(                        \"cffa607c-6884-4fa6-9eed-11e7ee691192\",                        [{\"hovertemplate\":\"Metric=Coherence<br># Topics=%{x}<br>Score=%{y}<extra></extra>\",\"legendgroup\":\"Coherence\",\"line\":{\"color\":\"#636efa\",\"dash\":\"solid\",\"shape\":\"linear\"},\"marker\":{\"symbol\":\"circle\"},\"mode\":\"lines\",\"name\":\"Coherence\",\"orientation\":\"v\",\"showlegend\":true,\"x\":[2,4,8,16,32,64,100,200,300,400],\"xaxis\":\"x\",\"y\":[0.4304076609520782,0.44782124167385146,0.5693410458442522,0.6022180132673087,0.6604430938624827,0.6444052162461217,0.6577756135998375,0.6240557306926086,0.6583030706480302,0.6476796229530869],\"yaxis\":\"y\",\"type\":\"scatter\"}],                        {\"template\":{\"data\":{\"histogram2dcontour\":[{\"type\":\"histogram2dcontour\",\"colorbar\":{\"outlinewidth\":0,\"ticks\":\"\"},\"colorscale\":[[0.0,\"#0d0887\"],[0.1111111111111111,\"#46039f\"],[0.2222222222222222,\"#7201a8\"],[0.3333333333333333,\"#9c179e\"],[0.4444444444444444,\"#bd3786\"],[0.5555555555555556,\"#d8576b\"],[0.6666666666666666,\"#ed7953\"],[0.7777777777777778,\"#fb9f3a\"],[0.8888888888888888,\"#fdca26\"],[1.0,\"#f0f921\"]]}],\"choropleth\":[{\"type\":\"choropleth\",\"colorbar\":{\"outlinewidth\":0,\"ticks\":\"\"}}],\"histogram2d\":[{\"type\":\"histogram2d\",\"colorbar\":{\"outlinewidth\":0,\"ticks\":\"\"},\"colorscale\":[[0.0,\"#0d0887\"],[0.1111111111111111,\"#46039f\"],[0.2222222222222222,\"#7201a8\"],[0.3333333333333333,\"#9c179e\"],[0.4444444444444444,\"#bd3786\"],[0.5555555555555556,\"#d8576b\"],[0.6666666666666666,\"#ed7953\"],[0.7777777777777778,\"#fb9f3a\"],[0.8888888888888888,\"#fdca26\"],[1.0,\"#f0f921\"]]}],\"heatmap\":[{\"type\":\"heatmap\",\"colorbar\":{\"outlinewidth\":0,\"ticks\":\"\"},\"colorscale\":[[0.0,\"#0d0887\"],[0.1111111111111111,\"#46039f\"],[0.2222222222222222,\"#7201a8\"],[0.3333333333333333,\"#9c179e\"],[0.4444444444444444,\"#bd3786\"],[0.5555555555555556,\"#d8576b\"],[0.6666666666666666,\"#ed7953\"],[0.7777777777777778,\"#fb9f3a\"],[0.8888888888888888,\"#fdca26\"],[1.0,\"#f0f921\"]]}],\"heatmapgl\":[{\"type\":\"heatmapgl\",\"colorbar\":{\"outlinewidth\":0,\"ticks\":\"\"},\"colorscale\":[[0.0,\"#0d0887\"],[0.1111111111111111,\"#46039f\"],[0.2222222222222222,\"#7201a8\"],[0.3333333333333333,\"#9c179e\"],[0.4444444444444444,\"#bd3786\"],[0.5555555555555556,\"#d8576b\"],[0.6666666666666666,\"#ed7953\"],[0.7777777777777778,\"#fb9f3a\"],[0.8888888888888888,\"#fdca26\"],[1.0,\"#f0f921\"]]}],\"contourcarpet\":[{\"type\":\"contourcarpet\",\"colorbar\":{\"outlinewidth\":0,\"ticks\":\"\"}}],\"contour\":[{\"type\":\"contour\",\"colorbar\":{\"outlinewidth\":0,\"ticks\":\"\"},\"colorscale\":[[0.0,\"#0d0887\"],[0.1111111111111111,\"#46039f\"],[0.2222222222222222,\"#7201a8\"],[0.3333333333333333,\"#9c179e\"],[0.4444444444444444,\"#bd3786\"],[0.5555555555555556,\"#d8576b\"],[0.6666666666666666,\"#ed7953\"],[0.7777777777777778,\"#fb9f3a\"],[0.8888888888888888,\"#fdca26\"],[1.0,\"#f0f921\"]]}],\"surface\":[{\"type\":\"surface\",\"colorbar\":{\"outlinewidth\":0,\"ticks\":\"\"},\"colorscale\":[[0.0,\"#0d0887\"],[0.1111111111111111,\"#46039f\"],[0.2222222222222222,\"#7201a8\"],[0.3333333333333333,\"#9c179e\"],[0.4444444444444444,\"#bd3786\"],[0.5555555555555556,\"#d8576b\"],[0.6666666666666666,\"#ed7953\"],[0.7777777777777778,\"#fb9f3a\"],[0.8888888888888888,\"#fdca26\"],[1.0,\"#f0f921\"]]}],\"mesh3d\":[{\"type\":\"mesh3d\",\"colorbar\":{\"outlinewidth\":0,\"ticks\":\"\"}}],\"scatter\":[{\"fillpattern\":{\"fillmode\":\"overlay\",\"size\":10,\"solidity\":0.2},\"type\":\"scatter\"}],\"parcoords\":[{\"type\":\"parcoords\",\"line\":{\"colorbar\":{\"outlinewidth\":0,\"ticks\":\"\"}}}],\"scatterpolargl\":[{\"type\":\"scatterpolargl\",\"marker\":{\"colorbar\":{\"outlinewidth\":0,\"ticks\":\"\"}}}],\"bar\":[{\"error_x\":{\"color\":\"#2a3f5f\"},\"error_y\":{\"color\":\"#2a3f5f\"},\"marker\":{\"line\":{\"color\":\"#E5ECF6\",\"width\":0.5},\"pattern\":{\"fillmode\":\"overlay\",\"size\":10,\"solidity\":0.2}},\"type\":\"bar\"}],\"scattergeo\":[{\"type\":\"scattergeo\",\"marker\":{\"colorbar\":{\"outlinewidth\":0,\"ticks\":\"\"}}}],\"scatterpolar\":[{\"type\":\"scatterpolar\",\"marker\":{\"colorbar\":{\"outlinewidth\":0,\"ticks\":\"\"}}}],\"histogram\":[{\"marker\":{\"pattern\":{\"fillmode\":\"overlay\",\"size\":10,\"solidity\":0.2}},\"type\":\"histogram\"}],\"scattergl\":[{\"type\":\"scattergl\",\"marker\":{\"colorbar\":{\"outlinewidth\":0,\"ticks\":\"\"}}}],\"scatter3d\":[{\"type\":\"scatter3d\",\"line\":{\"colorbar\":{\"outlinewidth\":0,\"ticks\":\"\"}},\"marker\":{\"colorbar\":{\"outlinewidth\":0,\"ticks\":\"\"}}}],\"scattermapbox\":[{\"type\":\"scattermapbox\",\"marker\":{\"colorbar\":{\"outlinewidth\":0,\"ticks\":\"\"}}}],\"scatterternary\":[{\"type\":\"scatterternary\",\"marker\":{\"colorbar\":{\"outlinewidth\":0,\"ticks\":\"\"}}}],\"scattercarpet\":[{\"type\":\"scattercarpet\",\"marker\":{\"colorbar\":{\"outlinewidth\":0,\"ticks\":\"\"}}}],\"carpet\":[{\"aaxis\":{\"endlinecolor\":\"#2a3f5f\",\"gridcolor\":\"white\",\"linecolor\":\"white\",\"minorgridcolor\":\"white\",\"startlinecolor\":\"#2a3f5f\"},\"baxis\":{\"endlinecolor\":\"#2a3f5f\",\"gridcolor\":\"white\",\"linecolor\":\"white\",\"minorgridcolor\":\"white\",\"startlinecolor\":\"#2a3f5f\"},\"type\":\"carpet\"}],\"table\":[{\"cells\":{\"fill\":{\"color\":\"#EBF0F8\"},\"line\":{\"color\":\"white\"}},\"header\":{\"fill\":{\"color\":\"#C8D4E3\"},\"line\":{\"color\":\"white\"}},\"type\":\"table\"}],\"barpolar\":[{\"marker\":{\"line\":{\"color\":\"#E5ECF6\",\"width\":0.5},\"pattern\":{\"fillmode\":\"overlay\",\"size\":10,\"solidity\":0.2}},\"type\":\"barpolar\"}],\"pie\":[{\"automargin\":true,\"type\":\"pie\"}]},\"layout\":{\"autotypenumbers\":\"strict\",\"colorway\":[\"#636efa\",\"#EF553B\",\"#00cc96\",\"#ab63fa\",\"#FFA15A\",\"#19d3f3\",\"#FF6692\",\"#B6E880\",\"#FF97FF\",\"#FECB52\"],\"font\":{\"color\":\"#2a3f5f\"},\"hovermode\":\"closest\",\"hoverlabel\":{\"align\":\"left\"},\"paper_bgcolor\":\"white\",\"plot_bgcolor\":\"#E5ECF6\",\"polar\":{\"bgcolor\":\"#E5ECF6\",\"angularaxis\":{\"gridcolor\":\"white\",\"linecolor\":\"white\",\"ticks\":\"\"},\"radialaxis\":{\"gridcolor\":\"white\",\"linecolor\":\"white\",\"ticks\":\"\"}},\"ternary\":{\"bgcolor\":\"#E5ECF6\",\"aaxis\":{\"gridcolor\":\"white\",\"linecolor\":\"white\",\"ticks\":\"\"},\"baxis\":{\"gridcolor\":\"white\",\"linecolor\":\"white\",\"ticks\":\"\"},\"caxis\":{\"gridcolor\":\"white\",\"linecolor\":\"white\",\"ticks\":\"\"}},\"coloraxis\":{\"colorbar\":{\"outlinewidth\":0,\"ticks\":\"\"}},\"colorscale\":{\"sequential\":[[0.0,\"#0d0887\"],[0.1111111111111111,\"#46039f\"],[0.2222222222222222,\"#7201a8\"],[0.3333333333333333,\"#9c179e\"],[0.4444444444444444,\"#bd3786\"],[0.5555555555555556,\"#d8576b\"],[0.6666666666666666,\"#ed7953\"],[0.7777777777777778,\"#fb9f3a\"],[0.8888888888888888,\"#fdca26\"],[1.0,\"#f0f921\"]],\"sequentialminus\":[[0.0,\"#0d0887\"],[0.1111111111111111,\"#46039f\"],[0.2222222222222222,\"#7201a8\"],[0.3333333333333333,\"#9c179e\"],[0.4444444444444444,\"#bd3786\"],[0.5555555555555556,\"#d8576b\"],[0.6666666666666666,\"#ed7953\"],[0.7777777777777778,\"#fb9f3a\"],[0.8888888888888888,\"#fdca26\"],[1.0,\"#f0f921\"]],\"diverging\":[[0,\"#8e0152\"],[0.1,\"#c51b7d\"],[0.2,\"#de77ae\"],[0.3,\"#f1b6da\"],[0.4,\"#fde0ef\"],[0.5,\"#f7f7f7\"],[0.6,\"#e6f5d0\"],[0.7,\"#b8e186\"],[0.8,\"#7fbc41\"],[0.9,\"#4d9221\"],[1,\"#276419\"]]},\"xaxis\":{\"gridcolor\":\"white\",\"linecolor\":\"white\",\"ticks\":\"\",\"title\":{\"standoff\":15},\"zerolinecolor\":\"white\",\"automargin\":true,\"zerolinewidth\":2},\"yaxis\":{\"gridcolor\":\"white\",\"linecolor\":\"white\",\"ticks\":\"\",\"title\":{\"standoff\":15},\"zerolinecolor\":\"white\",\"automargin\":true,\"zerolinewidth\":2},\"scene\":{\"xaxis\":{\"backgroundcolor\":\"#E5ECF6\",\"gridcolor\":\"white\",\"linecolor\":\"white\",\"showbackground\":true,\"ticks\":\"\",\"zerolinecolor\":\"white\",\"gridwidth\":2},\"yaxis\":{\"backgroundcolor\":\"#E5ECF6\",\"gridcolor\":\"white\",\"linecolor\":\"white\",\"showbackground\":true,\"ticks\":\"\",\"zerolinecolor\":\"white\",\"gridwidth\":2},\"zaxis\":{\"backgroundcolor\":\"#E5ECF6\",\"gridcolor\":\"white\",\"linecolor\":\"white\",\"showbackground\":true,\"ticks\":\"\",\"zerolinecolor\":\"white\",\"gridwidth\":2}},\"shapedefaults\":{\"line\":{\"color\":\"#2a3f5f\"}},\"annotationdefaults\":{\"arrowcolor\":\"#2a3f5f\",\"arrowhead\":0,\"arrowwidth\":1},\"geo\":{\"bgcolor\":\"white\",\"landcolor\":\"#E5ECF6\",\"subunitcolor\":\"white\",\"showland\":true,\"showlakes\":true,\"lakecolor\":\"white\"},\"title\":{\"x\":0.05},\"mapbox\":{\"style\":\"light\"}}},\"xaxis\":{\"anchor\":\"y\",\"domain\":[0.0,1.0],\"title\":{\"text\":\"# Topics\"}},\"yaxis\":{\"anchor\":\"x\",\"domain\":[0.0,1.0],\"title\":{\"text\":\"Score\"}},\"legend\":{\"title\":{\"text\":\"Metric\"},\"tracegroupgap\":0},\"title\":{\"text\":\"Coherence Value and # of Topics\"},\"plot_bgcolor\":\"rgb(245,245,245)\"},                        {\"responsive\": true}                    ).then(function(){\n",
       "                            \n",
       "var gd = document.getElementById('cffa607c-6884-4fa6-9eed-11e7ee691192');\n",
       "var x = new MutationObserver(function (mutations, observer) {{\n",
       "        var display = window.getComputedStyle(gd).display;\n",
       "        if (!display || display === 'none') {{\n",
       "            console.log([gd, 'removed!']);\n",
       "            Plotly.purge(gd);\n",
       "            observer.disconnect();\n",
       "        }}\n",
       "}});\n",
       "\n",
       "// Listen for the removal of the full notebook cells\n",
       "var notebookContainer = gd.closest('#notebook-container');\n",
       "if (notebookContainer) {{\n",
       "    x.observe(notebookContainer, {childList: true});\n",
       "}}\n",
       "\n",
       "// Listen for the clearing of the current output cell\n",
       "var outputEl = gd.closest('.output');\n",
       "if (outputEl) {{\n",
       "    x.observe(outputEl, {childList: true});\n",
       "}}\n",
       "\n",
       "                        })                };                });            </script>        </div>"
      ]
     },
     "metadata": {},
     "output_type": "display_data"
    },
    {
     "name": "stdout",
     "output_type": "stream",
     "text": [
      "Best Model: Hierarchical Dirichlet Process | # Topics: 32 | Coherence: 0.6604\n",
      "CPU times: user 3min 43s, sys: 2min 26s, total: 6min 9s\n",
      "Wall time: 3min 58s\n"
     ]
    }
   ],
   "source": [
    "%time tuned_hdp = tune_model(model = 'hdp', multi_core = True)"
   ]
  },
  {
   "cell_type": "raw",
   "id": "a04d4b4f",
   "metadata": {},
   "source": [
    "It looks like LDA, LSI & HDP all have the 8 topic models as a decent option for coherence scores. We will build the models with this parameter. "
   ]
  },
  {
   "cell_type": "code",
   "execution_count": 9,
   "id": "16c4544d",
   "metadata": {},
   "outputs": [
    {
     "name": "stdout",
     "output_type": "stream",
     "text": [
      "CPU times: user 2.37 s, sys: 496 ms, total: 2.87 s\n",
      "Wall time: 3.45 s\n"
     ]
    }
   ],
   "source": [
    "%time lda = create_model('lda', num_topics = 8, multi_core = True)"
   ]
  },
  {
   "cell_type": "code",
   "execution_count": 10,
   "id": "1eb67f66",
   "metadata": {},
   "outputs": [
    {
     "name": "stdout",
     "output_type": "stream",
     "text": [
      "CPU times: user 1.42 s, sys: 2.08 s, total: 3.5 s\n",
      "Wall time: 658 ms\n"
     ]
    }
   ],
   "source": [
    "%time lsi = create_model('lsi', num_topics = 8, multi_core = True)"
   ]
  },
  {
   "cell_type": "code",
   "execution_count": 11,
   "id": "941fd677",
   "metadata": {},
   "outputs": [
    {
     "name": "stdout",
     "output_type": "stream",
     "text": [
      "CPU times: user 3.2 s, sys: 965 ms, total: 4.16 s\n",
      "Wall time: 3.05 s\n"
     ]
    }
   ],
   "source": [
    "%time hdp = create_model('hdp', num_topics = 8, multi_core = True)"
   ]
  },
  {
   "cell_type": "code",
   "execution_count": 12,
   "id": "17d26fac",
   "metadata": {},
   "outputs": [
    {
     "name": "stdout",
     "output_type": "stream",
     "text": [
      "CPU times: user 11.3 ms, sys: 2.25 ms, total: 13.5 ms\n",
      "Wall time: 13.9 ms\n"
     ]
    }
   ],
   "source": [
    "%time rp = create_model('rp', num_topics = 8, multi_core = True)"
   ]
  },
  {
   "cell_type": "code",
   "execution_count": 13,
   "id": "e9545e0a",
   "metadata": {},
   "outputs": [
    {
     "name": "stdout",
     "output_type": "stream",
     "text": [
      "CPU times: user 220 ms, sys: 278 ms, total: 497 ms\n",
      "Wall time: 184 ms\n"
     ]
    }
   ],
   "source": [
    "%time nmf = create_model('nmf', num_topics = 8, multi_core = True)"
   ]
  },
  {
   "cell_type": "markdown",
   "id": "ccfbdb2d",
   "metadata": {},
   "source": [
    "# Assign a Model"
   ]
  },
  {
   "cell_type": "code",
   "execution_count": 14,
   "id": "f02adb52",
   "metadata": {},
   "outputs": [
    {
     "data": {
      "text/html": [
       "<div>\n",
       "<style scoped>\n",
       "    .dataframe tbody tr th:only-of-type {\n",
       "        vertical-align: middle;\n",
       "    }\n",
       "\n",
       "    .dataframe tbody tr th {\n",
       "        vertical-align: top;\n",
       "    }\n",
       "\n",
       "    .dataframe thead th {\n",
       "        text-align: right;\n",
       "    }\n",
       "</style>\n",
       "<table border=\"1\" class=\"dataframe\">\n",
       "  <thead>\n",
       "    <tr style=\"text-align: right;\">\n",
       "      <th></th>\n",
       "      <th>goodreads_description</th>\n",
       "      <th>Topic_0</th>\n",
       "      <th>Topic_1</th>\n",
       "      <th>Topic_2</th>\n",
       "      <th>Topic_3</th>\n",
       "      <th>Topic_4</th>\n",
       "      <th>Topic_5</th>\n",
       "      <th>Topic_6</th>\n",
       "      <th>Topic_7</th>\n",
       "      <th>Dominant_Topic</th>\n",
       "      <th>Perc_Dominant_Topic</th>\n",
       "    </tr>\n",
       "  </thead>\n",
       "  <tbody>\n",
       "    <tr>\n",
       "      <th>0</th>\n",
       "      <td>utterly compelling thriller shocking twist del...</td>\n",
       "      <td>0.601538</td>\n",
       "      <td>0.126266</td>\n",
       "      <td>0.047363</td>\n",
       "      <td>0.002162</td>\n",
       "      <td>0.025873</td>\n",
       "      <td>0.002161</td>\n",
       "      <td>0.002161</td>\n",
       "      <td>0.192477</td>\n",
       "      <td>Topic 0</td>\n",
       "      <td>0.60</td>\n",
       "    </tr>\n",
       "    <tr>\n",
       "      <th>1</th>\n",
       "      <td>novel verse grief national book award_winne au...</td>\n",
       "      <td>0.002321</td>\n",
       "      <td>0.002321</td>\n",
       "      <td>0.002322</td>\n",
       "      <td>0.002319</td>\n",
       "      <td>0.245770</td>\n",
       "      <td>0.002322</td>\n",
       "      <td>0.002319</td>\n",
       "      <td>0.740306</td>\n",
       "      <td>Topic 7</td>\n",
       "      <td>0.74</td>\n",
       "    </tr>\n",
       "    <tr>\n",
       "      <th>2</th>\n",
       "      <td>jason_reynold fall hard astonish new_york_time...</td>\n",
       "      <td>0.379875</td>\n",
       "      <td>0.001693</td>\n",
       "      <td>0.609972</td>\n",
       "      <td>0.001691</td>\n",
       "      <td>0.001692</td>\n",
       "      <td>0.001692</td>\n",
       "      <td>0.001691</td>\n",
       "      <td>0.001693</td>\n",
       "      <td>Topic 2</td>\n",
       "      <td>0.61</td>\n",
       "    </tr>\n",
       "    <tr>\n",
       "      <th>3</th>\n",
       "      <td>jason_reynold fall hard astonish new_york_time...</td>\n",
       "      <td>0.379858</td>\n",
       "      <td>0.001693</td>\n",
       "      <td>0.609989</td>\n",
       "      <td>0.001691</td>\n",
       "      <td>0.001692</td>\n",
       "      <td>0.001692</td>\n",
       "      <td>0.001691</td>\n",
       "      <td>0.001693</td>\n",
       "      <td>Topic 2</td>\n",
       "      <td>0.61</td>\n",
       "    </tr>\n",
       "    <tr>\n",
       "      <th>4</th>\n",
       "      <td>jason_reynold fall hard astonish new_york_time...</td>\n",
       "      <td>0.379855</td>\n",
       "      <td>0.001693</td>\n",
       "      <td>0.609992</td>\n",
       "      <td>0.001691</td>\n",
       "      <td>0.001692</td>\n",
       "      <td>0.001692</td>\n",
       "      <td>0.001691</td>\n",
       "      <td>0.001693</td>\n",
       "      <td>Topic 2</td>\n",
       "      <td>0.61</td>\n",
       "    </tr>\n",
       "  </tbody>\n",
       "</table>\n",
       "</div>"
      ],
      "text/plain": [
       "                               goodreads_description   Topic_0   Topic_1  \\\n",
       "0  utterly compelling thriller shocking twist del...  0.601538  0.126266   \n",
       "1  novel verse grief national book award_winne au...  0.002321  0.002321   \n",
       "2  jason_reynold fall hard astonish new_york_time...  0.379875  0.001693   \n",
       "3  jason_reynold fall hard astonish new_york_time...  0.379858  0.001693   \n",
       "4  jason_reynold fall hard astonish new_york_time...  0.379855  0.001693   \n",
       "\n",
       "    Topic_2   Topic_3   Topic_4   Topic_5   Topic_6   Topic_7 Dominant_Topic  \\\n",
       "0  0.047363  0.002162  0.025873  0.002161  0.002161  0.192477        Topic 0   \n",
       "1  0.002322  0.002319  0.245770  0.002322  0.002319  0.740306        Topic 7   \n",
       "2  0.609972  0.001691  0.001692  0.001692  0.001691  0.001693        Topic 2   \n",
       "3  0.609989  0.001691  0.001692  0.001692  0.001691  0.001693        Topic 2   \n",
       "4  0.609992  0.001691  0.001692  0.001692  0.001691  0.001693        Topic 2   \n",
       "\n",
       "   Perc_Dominant_Topic  \n",
       "0                 0.60  \n",
       "1                 0.74  \n",
       "2                 0.61  \n",
       "3                 0.61  \n",
       "4                 0.61  "
      ]
     },
     "execution_count": 14,
     "metadata": {},
     "output_type": "execute_result"
    }
   ],
   "source": [
    "lda_results = assign_model(lda)\n",
    "lda_results.head()"
   ]
  },
  {
   "cell_type": "code",
   "execution_count": 16,
   "id": "5ea934e9",
   "metadata": {},
   "outputs": [
    {
     "data": {
      "text/html": [
       "<div>\n",
       "<style scoped>\n",
       "    .dataframe tbody tr th:only-of-type {\n",
       "        vertical-align: middle;\n",
       "    }\n",
       "\n",
       "    .dataframe tbody tr th {\n",
       "        vertical-align: top;\n",
       "    }\n",
       "\n",
       "    .dataframe thead th {\n",
       "        text-align: right;\n",
       "    }\n",
       "</style>\n",
       "<table border=\"1\" class=\"dataframe\">\n",
       "  <thead>\n",
       "    <tr style=\"text-align: right;\">\n",
       "      <th></th>\n",
       "      <th>goodreads_description</th>\n",
       "      <th>Topic_0</th>\n",
       "      <th>Topic_1</th>\n",
       "      <th>Topic_2</th>\n",
       "      <th>Topic_3</th>\n",
       "      <th>Topic_4</th>\n",
       "      <th>Topic_5</th>\n",
       "      <th>Topic_6</th>\n",
       "      <th>Topic_7</th>\n",
       "      <th>Dominant_Topic</th>\n",
       "    </tr>\n",
       "  </thead>\n",
       "  <tbody>\n",
       "    <tr>\n",
       "      <th>0</th>\n",
       "      <td>utterly compelling thriller shocking twist del...</td>\n",
       "      <td>1.634587</td>\n",
       "      <td>0.330639</td>\n",
       "      <td>1.347528</td>\n",
       "      <td>0.098698</td>\n",
       "      <td>-0.207613</td>\n",
       "      <td>0.726931</td>\n",
       "      <td>0.058514</td>\n",
       "      <td>0.411741</td>\n",
       "      <td>Topic 0</td>\n",
       "    </tr>\n",
       "    <tr>\n",
       "      <th>1</th>\n",
       "      <td>novel verse grief national book award_winne au...</td>\n",
       "      <td>1.924094</td>\n",
       "      <td>-0.359153</td>\n",
       "      <td>0.161969</td>\n",
       "      <td>-0.472761</td>\n",
       "      <td>0.099791</td>\n",
       "      <td>-0.606523</td>\n",
       "      <td>-0.661747</td>\n",
       "      <td>-0.179423</td>\n",
       "      <td>Topic 0</td>\n",
       "    </tr>\n",
       "    <tr>\n",
       "      <th>2</th>\n",
       "      <td>jason_reynold fall hard astonish new_york_time...</td>\n",
       "      <td>2.872970</td>\n",
       "      <td>0.475517</td>\n",
       "      <td>0.618986</td>\n",
       "      <td>-0.349842</td>\n",
       "      <td>1.912076</td>\n",
       "      <td>0.639538</td>\n",
       "      <td>0.084683</td>\n",
       "      <td>0.580926</td>\n",
       "      <td>Topic 0</td>\n",
       "    </tr>\n",
       "    <tr>\n",
       "      <th>3</th>\n",
       "      <td>jason_reynold fall hard astonish new_york_time...</td>\n",
       "      <td>2.872970</td>\n",
       "      <td>0.475517</td>\n",
       "      <td>0.618986</td>\n",
       "      <td>-0.349842</td>\n",
       "      <td>1.912076</td>\n",
       "      <td>0.639538</td>\n",
       "      <td>0.084683</td>\n",
       "      <td>0.580926</td>\n",
       "      <td>Topic 0</td>\n",
       "    </tr>\n",
       "    <tr>\n",
       "      <th>4</th>\n",
       "      <td>jason_reynold fall hard astonish new_york_time...</td>\n",
       "      <td>2.872970</td>\n",
       "      <td>0.475517</td>\n",
       "      <td>0.618986</td>\n",
       "      <td>-0.349842</td>\n",
       "      <td>1.912076</td>\n",
       "      <td>0.639538</td>\n",
       "      <td>0.084683</td>\n",
       "      <td>0.580926</td>\n",
       "      <td>Topic 0</td>\n",
       "    </tr>\n",
       "  </tbody>\n",
       "</table>\n",
       "</div>"
      ],
      "text/plain": [
       "                               goodreads_description   Topic_0   Topic_1  \\\n",
       "0  utterly compelling thriller shocking twist del...  1.634587  0.330639   \n",
       "1  novel verse grief national book award_winne au...  1.924094 -0.359153   \n",
       "2  jason_reynold fall hard astonish new_york_time...  2.872970  0.475517   \n",
       "3  jason_reynold fall hard astonish new_york_time...  2.872970  0.475517   \n",
       "4  jason_reynold fall hard astonish new_york_time...  2.872970  0.475517   \n",
       "\n",
       "    Topic_2   Topic_3   Topic_4   Topic_5   Topic_6   Topic_7 Dominant_Topic  \n",
       "0  1.347528  0.098698 -0.207613  0.726931  0.058514  0.411741        Topic 0  \n",
       "1  0.161969 -0.472761  0.099791 -0.606523 -0.661747 -0.179423        Topic 0  \n",
       "2  0.618986 -0.349842  1.912076  0.639538  0.084683  0.580926        Topic 0  \n",
       "3  0.618986 -0.349842  1.912076  0.639538  0.084683  0.580926        Topic 0  \n",
       "4  0.618986 -0.349842  1.912076  0.639538  0.084683  0.580926        Topic 0  "
      ]
     },
     "execution_count": 16,
     "metadata": {},
     "output_type": "execute_result"
    }
   ],
   "source": [
    "lsi_results = assign_model(lsi)\n",
    "lsi_results.head()"
   ]
  },
  {
   "cell_type": "code",
   "execution_count": 17,
   "id": "9e27f95f",
   "metadata": {},
   "outputs": [
    {
     "data": {
      "text/html": [
       "<div>\n",
       "<style scoped>\n",
       "    .dataframe tbody tr th:only-of-type {\n",
       "        vertical-align: middle;\n",
       "    }\n",
       "\n",
       "    .dataframe tbody tr th {\n",
       "        vertical-align: top;\n",
       "    }\n",
       "\n",
       "    .dataframe thead th {\n",
       "        text-align: right;\n",
       "    }\n",
       "</style>\n",
       "<table border=\"1\" class=\"dataframe\">\n",
       "  <thead>\n",
       "    <tr style=\"text-align: right;\">\n",
       "      <th></th>\n",
       "      <th>goodreads_description</th>\n",
       "      <th>Topic_0</th>\n",
       "      <th>Topic_1</th>\n",
       "      <th>Topic_2</th>\n",
       "      <th>Topic_3</th>\n",
       "      <th>Topic_4</th>\n",
       "      <th>Topic_5</th>\n",
       "      <th>Topic_6</th>\n",
       "      <th>Topic_7</th>\n",
       "      <th>Dominant_Topic</th>\n",
       "    </tr>\n",
       "  </thead>\n",
       "  <tbody>\n",
       "    <tr>\n",
       "      <th>0</th>\n",
       "      <td>utterly compelling thriller shocking twist del...</td>\n",
       "      <td>0.991359</td>\n",
       "      <td>0.0</td>\n",
       "      <td>0.0</td>\n",
       "      <td>0.0</td>\n",
       "      <td>0.0</td>\n",
       "      <td>0.0</td>\n",
       "      <td>0.0</td>\n",
       "      <td>0.0</td>\n",
       "      <td>Topic 0</td>\n",
       "    </tr>\n",
       "    <tr>\n",
       "      <th>1</th>\n",
       "      <td>novel verse grief national book award_winne au...</td>\n",
       "      <td>0.990719</td>\n",
       "      <td>0.0</td>\n",
       "      <td>0.0</td>\n",
       "      <td>0.0</td>\n",
       "      <td>0.0</td>\n",
       "      <td>0.0</td>\n",
       "      <td>0.0</td>\n",
       "      <td>0.0</td>\n",
       "      <td>Topic 0</td>\n",
       "    </tr>\n",
       "    <tr>\n",
       "      <th>2</th>\n",
       "      <td>jason_reynold fall hard astonish new_york_time...</td>\n",
       "      <td>0.993228</td>\n",
       "      <td>0.0</td>\n",
       "      <td>0.0</td>\n",
       "      <td>0.0</td>\n",
       "      <td>0.0</td>\n",
       "      <td>0.0</td>\n",
       "      <td>0.0</td>\n",
       "      <td>0.0</td>\n",
       "      <td>Topic 0</td>\n",
       "    </tr>\n",
       "    <tr>\n",
       "      <th>3</th>\n",
       "      <td>jason_reynold fall hard astonish new_york_time...</td>\n",
       "      <td>0.993228</td>\n",
       "      <td>0.0</td>\n",
       "      <td>0.0</td>\n",
       "      <td>0.0</td>\n",
       "      <td>0.0</td>\n",
       "      <td>0.0</td>\n",
       "      <td>0.0</td>\n",
       "      <td>0.0</td>\n",
       "      <td>Topic 0</td>\n",
       "    </tr>\n",
       "    <tr>\n",
       "      <th>4</th>\n",
       "      <td>jason_reynold fall hard astonish new_york_time...</td>\n",
       "      <td>0.993228</td>\n",
       "      <td>0.0</td>\n",
       "      <td>0.0</td>\n",
       "      <td>0.0</td>\n",
       "      <td>0.0</td>\n",
       "      <td>0.0</td>\n",
       "      <td>0.0</td>\n",
       "      <td>0.0</td>\n",
       "      <td>Topic 0</td>\n",
       "    </tr>\n",
       "  </tbody>\n",
       "</table>\n",
       "</div>"
      ],
      "text/plain": [
       "                               goodreads_description   Topic_0  Topic_1  \\\n",
       "0  utterly compelling thriller shocking twist del...  0.991359      0.0   \n",
       "1  novel verse grief national book award_winne au...  0.990719      0.0   \n",
       "2  jason_reynold fall hard astonish new_york_time...  0.993228      0.0   \n",
       "3  jason_reynold fall hard astonish new_york_time...  0.993228      0.0   \n",
       "4  jason_reynold fall hard astonish new_york_time...  0.993228      0.0   \n",
       "\n",
       "   Topic_2  Topic_3  Topic_4  Topic_5  Topic_6  Topic_7 Dominant_Topic  \n",
       "0      0.0      0.0      0.0      0.0      0.0      0.0        Topic 0  \n",
       "1      0.0      0.0      0.0      0.0      0.0      0.0        Topic 0  \n",
       "2      0.0      0.0      0.0      0.0      0.0      0.0        Topic 0  \n",
       "3      0.0      0.0      0.0      0.0      0.0      0.0        Topic 0  \n",
       "4      0.0      0.0      0.0      0.0      0.0      0.0        Topic 0  "
      ]
     },
     "execution_count": 17,
     "metadata": {},
     "output_type": "execute_result"
    }
   ],
   "source": [
    "hdp_results = assign_model(hdp)\n",
    "hdp_results.head()"
   ]
  },
  {
   "cell_type": "code",
   "execution_count": 18,
   "id": "63d07fd5",
   "metadata": {},
   "outputs": [
    {
     "data": {
      "text/html": [
       "<div>\n",
       "<style scoped>\n",
       "    .dataframe tbody tr th:only-of-type {\n",
       "        vertical-align: middle;\n",
       "    }\n",
       "\n",
       "    .dataframe tbody tr th {\n",
       "        vertical-align: top;\n",
       "    }\n",
       "\n",
       "    .dataframe thead th {\n",
       "        text-align: right;\n",
       "    }\n",
       "</style>\n",
       "<table border=\"1\" class=\"dataframe\">\n",
       "  <thead>\n",
       "    <tr style=\"text-align: right;\">\n",
       "      <th></th>\n",
       "      <th>goodreads_description</th>\n",
       "      <th>Topic_0</th>\n",
       "      <th>Topic_1</th>\n",
       "      <th>Topic_2</th>\n",
       "      <th>Topic_3</th>\n",
       "      <th>Topic_4</th>\n",
       "      <th>Topic_5</th>\n",
       "      <th>Topic_6</th>\n",
       "      <th>Topic_7</th>\n",
       "      <th>Dominant_Topic</th>\n",
       "    </tr>\n",
       "  </thead>\n",
       "  <tbody>\n",
       "    <tr>\n",
       "      <th>0</th>\n",
       "      <td>utterly compelling thriller shocking twist del...</td>\n",
       "      <td>1.767767</td>\n",
       "      <td>1.767767</td>\n",
       "      <td>0.353553</td>\n",
       "      <td>3.889087</td>\n",
       "      <td>-1.767767</td>\n",
       "      <td>-1.060660</td>\n",
       "      <td>-2.474874</td>\n",
       "      <td>-1.060660</td>\n",
       "      <td>Topic 3</td>\n",
       "    </tr>\n",
       "    <tr>\n",
       "      <th>1</th>\n",
       "      <td>novel verse grief national book award_winne au...</td>\n",
       "      <td>3.181981</td>\n",
       "      <td>-1.060660</td>\n",
       "      <td>-1.767767</td>\n",
       "      <td>-1.060660</td>\n",
       "      <td>1.060660</td>\n",
       "      <td>2.474873</td>\n",
       "      <td>-1.060660</td>\n",
       "      <td>2.474874</td>\n",
       "      <td>Topic 0</td>\n",
       "    </tr>\n",
       "    <tr>\n",
       "      <th>2</th>\n",
       "      <td>jason_reynold fall hard astonish new_york_time...</td>\n",
       "      <td>-1.767767</td>\n",
       "      <td>-1.767767</td>\n",
       "      <td>1.060660</td>\n",
       "      <td>1.060660</td>\n",
       "      <td>-0.353553</td>\n",
       "      <td>5.303300</td>\n",
       "      <td>-6.717514</td>\n",
       "      <td>-3.181980</td>\n",
       "      <td>Topic 5</td>\n",
       "    </tr>\n",
       "    <tr>\n",
       "      <th>3</th>\n",
       "      <td>jason_reynold fall hard astonish new_york_time...</td>\n",
       "      <td>-1.767767</td>\n",
       "      <td>-1.767767</td>\n",
       "      <td>1.060660</td>\n",
       "      <td>1.060660</td>\n",
       "      <td>-0.353553</td>\n",
       "      <td>5.303300</td>\n",
       "      <td>-6.717514</td>\n",
       "      <td>-3.181980</td>\n",
       "      <td>Topic 5</td>\n",
       "    </tr>\n",
       "    <tr>\n",
       "      <th>4</th>\n",
       "      <td>jason_reynold fall hard astonish new_york_time...</td>\n",
       "      <td>-1.767767</td>\n",
       "      <td>-1.767767</td>\n",
       "      <td>1.060660</td>\n",
       "      <td>1.060660</td>\n",
       "      <td>-0.353553</td>\n",
       "      <td>5.303300</td>\n",
       "      <td>-6.717514</td>\n",
       "      <td>-3.181980</td>\n",
       "      <td>Topic 5</td>\n",
       "    </tr>\n",
       "  </tbody>\n",
       "</table>\n",
       "</div>"
      ],
      "text/plain": [
       "                               goodreads_description   Topic_0   Topic_1  \\\n",
       "0  utterly compelling thriller shocking twist del...  1.767767  1.767767   \n",
       "1  novel verse grief national book award_winne au...  3.181981 -1.060660   \n",
       "2  jason_reynold fall hard astonish new_york_time... -1.767767 -1.767767   \n",
       "3  jason_reynold fall hard astonish new_york_time... -1.767767 -1.767767   \n",
       "4  jason_reynold fall hard astonish new_york_time... -1.767767 -1.767767   \n",
       "\n",
       "    Topic_2   Topic_3   Topic_4   Topic_5   Topic_6   Topic_7 Dominant_Topic  \n",
       "0  0.353553  3.889087 -1.767767 -1.060660 -2.474874 -1.060660        Topic 3  \n",
       "1 -1.767767 -1.060660  1.060660  2.474873 -1.060660  2.474874        Topic 0  \n",
       "2  1.060660  1.060660 -0.353553  5.303300 -6.717514 -3.181980        Topic 5  \n",
       "3  1.060660  1.060660 -0.353553  5.303300 -6.717514 -3.181980        Topic 5  \n",
       "4  1.060660  1.060660 -0.353553  5.303300 -6.717514 -3.181980        Topic 5  "
      ]
     },
     "execution_count": 18,
     "metadata": {},
     "output_type": "execute_result"
    }
   ],
   "source": [
    "rp_results = assign_model(rp)\n",
    "rp_results.head()"
   ]
  },
  {
   "cell_type": "code",
   "execution_count": 19,
   "id": "c8925ec1",
   "metadata": {},
   "outputs": [
    {
     "data": {
      "text/html": [
       "<div>\n",
       "<style scoped>\n",
       "    .dataframe tbody tr th:only-of-type {\n",
       "        vertical-align: middle;\n",
       "    }\n",
       "\n",
       "    .dataframe tbody tr th {\n",
       "        vertical-align: top;\n",
       "    }\n",
       "\n",
       "    .dataframe thead th {\n",
       "        text-align: right;\n",
       "    }\n",
       "</style>\n",
       "<table border=\"1\" class=\"dataframe\">\n",
       "  <thead>\n",
       "    <tr style=\"text-align: right;\">\n",
       "      <th></th>\n",
       "      <th>goodreads_description</th>\n",
       "      <th>Topic_0</th>\n",
       "      <th>Topic_1</th>\n",
       "      <th>Topic_2</th>\n",
       "      <th>Topic_3</th>\n",
       "      <th>Topic_4</th>\n",
       "      <th>Topic_5</th>\n",
       "      <th>Topic_6</th>\n",
       "      <th>Topic_7</th>\n",
       "      <th>Dominant_Topic</th>\n",
       "      <th>Perc_Dominant_Topic</th>\n",
       "    </tr>\n",
       "  </thead>\n",
       "  <tbody>\n",
       "    <tr>\n",
       "      <th>0</th>\n",
       "      <td>utterly compelling thriller shocking twist del...</td>\n",
       "      <td>3.779510e-20</td>\n",
       "      <td>0.015884</td>\n",
       "      <td>0.0</td>\n",
       "      <td>0.00000</td>\n",
       "      <td>0.000454</td>\n",
       "      <td>0.000000</td>\n",
       "      <td>0.002764</td>\n",
       "      <td>0.0</td>\n",
       "      <td>Topic 1</td>\n",
       "      <td>0.83</td>\n",
       "    </tr>\n",
       "    <tr>\n",
       "      <th>1</th>\n",
       "      <td>novel verse grief national book award_winne au...</td>\n",
       "      <td>0.000000e+00</td>\n",
       "      <td>0.019022</td>\n",
       "      <td>0.0</td>\n",
       "      <td>0.00000</td>\n",
       "      <td>0.000000</td>\n",
       "      <td>0.000088</td>\n",
       "      <td>0.000000</td>\n",
       "      <td>0.0</td>\n",
       "      <td>Topic 1</td>\n",
       "      <td>1.00</td>\n",
       "    </tr>\n",
       "    <tr>\n",
       "      <th>2</th>\n",
       "      <td>jason_reynold fall hard astonish new_york_time...</td>\n",
       "      <td>0.000000e+00</td>\n",
       "      <td>0.020699</td>\n",
       "      <td>0.0</td>\n",
       "      <td>0.00169</td>\n",
       "      <td>0.000000</td>\n",
       "      <td>0.000000</td>\n",
       "      <td>0.000000</td>\n",
       "      <td>0.0</td>\n",
       "      <td>Topic 1</td>\n",
       "      <td>0.92</td>\n",
       "    </tr>\n",
       "    <tr>\n",
       "      <th>3</th>\n",
       "      <td>jason_reynold fall hard astonish new_york_time...</td>\n",
       "      <td>0.000000e+00</td>\n",
       "      <td>0.020699</td>\n",
       "      <td>0.0</td>\n",
       "      <td>0.00169</td>\n",
       "      <td>0.000000</td>\n",
       "      <td>0.000000</td>\n",
       "      <td>0.000000</td>\n",
       "      <td>0.0</td>\n",
       "      <td>Topic 1</td>\n",
       "      <td>0.92</td>\n",
       "    </tr>\n",
       "    <tr>\n",
       "      <th>4</th>\n",
       "      <td>jason_reynold fall hard astonish new_york_time...</td>\n",
       "      <td>0.000000e+00</td>\n",
       "      <td>0.020699</td>\n",
       "      <td>0.0</td>\n",
       "      <td>0.00169</td>\n",
       "      <td>0.000000</td>\n",
       "      <td>0.000000</td>\n",
       "      <td>0.000000</td>\n",
       "      <td>0.0</td>\n",
       "      <td>Topic 1</td>\n",
       "      <td>0.92</td>\n",
       "    </tr>\n",
       "  </tbody>\n",
       "</table>\n",
       "</div>"
      ],
      "text/plain": [
       "                               goodreads_description       Topic_0   Topic_1  \\\n",
       "0  utterly compelling thriller shocking twist del...  3.779510e-20  0.015884   \n",
       "1  novel verse grief national book award_winne au...  0.000000e+00  0.019022   \n",
       "2  jason_reynold fall hard astonish new_york_time...  0.000000e+00  0.020699   \n",
       "3  jason_reynold fall hard astonish new_york_time...  0.000000e+00  0.020699   \n",
       "4  jason_reynold fall hard astonish new_york_time...  0.000000e+00  0.020699   \n",
       "\n",
       "   Topic_2  Topic_3   Topic_4   Topic_5   Topic_6  Topic_7 Dominant_Topic  \\\n",
       "0      0.0  0.00000  0.000454  0.000000  0.002764      0.0        Topic 1   \n",
       "1      0.0  0.00000  0.000000  0.000088  0.000000      0.0        Topic 1   \n",
       "2      0.0  0.00169  0.000000  0.000000  0.000000      0.0        Topic 1   \n",
       "3      0.0  0.00169  0.000000  0.000000  0.000000      0.0        Topic 1   \n",
       "4      0.0  0.00169  0.000000  0.000000  0.000000      0.0        Topic 1   \n",
       "\n",
       "   Perc_Dominant_Topic  \n",
       "0                 0.83  \n",
       "1                 1.00  \n",
       "2                 0.92  \n",
       "3                 0.92  \n",
       "4                 0.92  "
      ]
     },
     "execution_count": 19,
     "metadata": {},
     "output_type": "execute_result"
    }
   ],
   "source": [
    "nmf_results = assign_model(nmf)\n",
    "nmf_results.head()"
   ]
  },
  {
   "cell_type": "markdown",
   "id": "957a7c18",
   "metadata": {},
   "source": [
    "Dominant_Topic is the topic number with highest proportion and Perc_Dominant_Topic is the percentage of dominant topic over 1 (only shown when models are stochastic i.e. sum of all proportions equal to 1) ."
   ]
  },
  {
   "cell_type": "markdown",
   "id": "cf6e0c0c",
   "metadata": {},
   "source": [
    "# Plot a Model\n",
    "plot_model() function can be used to analyze the overall corpus or only specific topics extracted through topic model. Hence the function plot_model() can also work without passing any trained model object."
   ]
  },
  {
   "cell_type": "code",
   "execution_count": 20,
   "id": "92187941",
   "metadata": {},
   "outputs": [
    {
     "data": {
      "text/html": [
       "        <script type=\"text/javascript\">\n",
       "        window.PlotlyConfig = {MathJaxConfig: 'local'};\n",
       "        if (window.MathJax && window.MathJax.Hub && window.MathJax.Hub.Config) {window.MathJax.Hub.Config({SVG: {font: \"STIX-Web\"}});}\n",
       "        if (typeof require !== 'undefined') {\n",
       "        require.undef(\"plotly\");\n",
       "        requirejs.config({\n",
       "            paths: {\n",
       "                'plotly': ['https://cdn.plot.ly/plotly-2.18.2.min']\n",
       "            }\n",
       "        });\n",
       "        require(['plotly'], function(Plotly) {\n",
       "            window._Plotly = Plotly;\n",
       "        });\n",
       "        }\n",
       "        </script>\n",
       "        "
      ]
     },
     "metadata": {},
     "output_type": "display_data"
    },
    {
     "data": {
      "application/vnd.plotly.v1+json": {
       "config": {
        "linkText": "Export to plot.ly",
        "plotlyServerURL": "https://plot.ly",
        "showLink": true
       },
       "data": [
        {
         "marker": {
          "color": "rgba(255, 153, 51, 0.6)",
          "line": {
           "color": "rgba(255, 153, 51, 1.0)",
           "width": 1
          }
         },
         "name": "count",
         "orientation": "v",
         "text": "",
         "type": "bar",
         "x": [
          "asexual_gender_queer",
          "ever_write_time",
          "family_means_nonbinary",
          "friends_humans_everywhere",
          "gay_fanfiction_facing_trauma",
          "last_comic_would",
          "means_think_advocate",
          "mortification_confusion_adolescent_crushe",
          "pap_smears_starte",
          "personal_story_useful",
          "queer_maia_intensely_cathartic",
          "reading_statistics_would",
          "self_identity_include",
          "society_bonding_friends_erotic",
          "thing_felt_comfortable_stranger",
          "touching_guide_gender_identity"
         ],
         "y": [
          41,
          41,
          41,
          41,
          41,
          41,
          41,
          41,
          41,
          41,
          41,
          41,
          41,
          41,
          41,
          41
         ]
        }
       ],
       "layout": {
        "legend": {
         "bgcolor": "#F5F6F9",
         "font": {
          "color": "#4D5663"
         }
        },
        "paper_bgcolor": "#F5F6F9",
        "plot_bgcolor": "#F5F6F9",
        "template": {
         "data": {
          "bar": [
           {
            "error_x": {
             "color": "#2a3f5f"
            },
            "error_y": {
             "color": "#2a3f5f"
            },
            "marker": {
             "line": {
              "color": "#E5ECF6",
              "width": 0.5
             },
             "pattern": {
              "fillmode": "overlay",
              "size": 10,
              "solidity": 0.2
             }
            },
            "type": "bar"
           }
          ],
          "barpolar": [
           {
            "marker": {
             "line": {
              "color": "#E5ECF6",
              "width": 0.5
             },
             "pattern": {
              "fillmode": "overlay",
              "size": 10,
              "solidity": 0.2
             }
            },
            "type": "barpolar"
           }
          ],
          "carpet": [
           {
            "aaxis": {
             "endlinecolor": "#2a3f5f",
             "gridcolor": "white",
             "linecolor": "white",
             "minorgridcolor": "white",
             "startlinecolor": "#2a3f5f"
            },
            "baxis": {
             "endlinecolor": "#2a3f5f",
             "gridcolor": "white",
             "linecolor": "white",
             "minorgridcolor": "white",
             "startlinecolor": "#2a3f5f"
            },
            "type": "carpet"
           }
          ],
          "choropleth": [
           {
            "colorbar": {
             "outlinewidth": 0,
             "ticks": ""
            },
            "type": "choropleth"
           }
          ],
          "contour": [
           {
            "colorbar": {
             "outlinewidth": 0,
             "ticks": ""
            },
            "colorscale": [
             [
              0,
              "#0d0887"
             ],
             [
              0.1111111111111111,
              "#46039f"
             ],
             [
              0.2222222222222222,
              "#7201a8"
             ],
             [
              0.3333333333333333,
              "#9c179e"
             ],
             [
              0.4444444444444444,
              "#bd3786"
             ],
             [
              0.5555555555555556,
              "#d8576b"
             ],
             [
              0.6666666666666666,
              "#ed7953"
             ],
             [
              0.7777777777777778,
              "#fb9f3a"
             ],
             [
              0.8888888888888888,
              "#fdca26"
             ],
             [
              1,
              "#f0f921"
             ]
            ],
            "type": "contour"
           }
          ],
          "contourcarpet": [
           {
            "colorbar": {
             "outlinewidth": 0,
             "ticks": ""
            },
            "type": "contourcarpet"
           }
          ],
          "heatmap": [
           {
            "colorbar": {
             "outlinewidth": 0,
             "ticks": ""
            },
            "colorscale": [
             [
              0,
              "#0d0887"
             ],
             [
              0.1111111111111111,
              "#46039f"
             ],
             [
              0.2222222222222222,
              "#7201a8"
             ],
             [
              0.3333333333333333,
              "#9c179e"
             ],
             [
              0.4444444444444444,
              "#bd3786"
             ],
             [
              0.5555555555555556,
              "#d8576b"
             ],
             [
              0.6666666666666666,
              "#ed7953"
             ],
             [
              0.7777777777777778,
              "#fb9f3a"
             ],
             [
              0.8888888888888888,
              "#fdca26"
             ],
             [
              1,
              "#f0f921"
             ]
            ],
            "type": "heatmap"
           }
          ],
          "heatmapgl": [
           {
            "colorbar": {
             "outlinewidth": 0,
             "ticks": ""
            },
            "colorscale": [
             [
              0,
              "#0d0887"
             ],
             [
              0.1111111111111111,
              "#46039f"
             ],
             [
              0.2222222222222222,
              "#7201a8"
             ],
             [
              0.3333333333333333,
              "#9c179e"
             ],
             [
              0.4444444444444444,
              "#bd3786"
             ],
             [
              0.5555555555555556,
              "#d8576b"
             ],
             [
              0.6666666666666666,
              "#ed7953"
             ],
             [
              0.7777777777777778,
              "#fb9f3a"
             ],
             [
              0.8888888888888888,
              "#fdca26"
             ],
             [
              1,
              "#f0f921"
             ]
            ],
            "type": "heatmapgl"
           }
          ],
          "histogram": [
           {
            "marker": {
             "pattern": {
              "fillmode": "overlay",
              "size": 10,
              "solidity": 0.2
             }
            },
            "type": "histogram"
           }
          ],
          "histogram2d": [
           {
            "colorbar": {
             "outlinewidth": 0,
             "ticks": ""
            },
            "colorscale": [
             [
              0,
              "#0d0887"
             ],
             [
              0.1111111111111111,
              "#46039f"
             ],
             [
              0.2222222222222222,
              "#7201a8"
             ],
             [
              0.3333333333333333,
              "#9c179e"
             ],
             [
              0.4444444444444444,
              "#bd3786"
             ],
             [
              0.5555555555555556,
              "#d8576b"
             ],
             [
              0.6666666666666666,
              "#ed7953"
             ],
             [
              0.7777777777777778,
              "#fb9f3a"
             ],
             [
              0.8888888888888888,
              "#fdca26"
             ],
             [
              1,
              "#f0f921"
             ]
            ],
            "type": "histogram2d"
           }
          ],
          "histogram2dcontour": [
           {
            "colorbar": {
             "outlinewidth": 0,
             "ticks": ""
            },
            "colorscale": [
             [
              0,
              "#0d0887"
             ],
             [
              0.1111111111111111,
              "#46039f"
             ],
             [
              0.2222222222222222,
              "#7201a8"
             ],
             [
              0.3333333333333333,
              "#9c179e"
             ],
             [
              0.4444444444444444,
              "#bd3786"
             ],
             [
              0.5555555555555556,
              "#d8576b"
             ],
             [
              0.6666666666666666,
              "#ed7953"
             ],
             [
              0.7777777777777778,
              "#fb9f3a"
             ],
             [
              0.8888888888888888,
              "#fdca26"
             ],
             [
              1,
              "#f0f921"
             ]
            ],
            "type": "histogram2dcontour"
           }
          ],
          "mesh3d": [
           {
            "colorbar": {
             "outlinewidth": 0,
             "ticks": ""
            },
            "type": "mesh3d"
           }
          ],
          "parcoords": [
           {
            "line": {
             "colorbar": {
              "outlinewidth": 0,
              "ticks": ""
             }
            },
            "type": "parcoords"
           }
          ],
          "pie": [
           {
            "automargin": true,
            "type": "pie"
           }
          ],
          "scatter": [
           {
            "fillpattern": {
             "fillmode": "overlay",
             "size": 10,
             "solidity": 0.2
            },
            "type": "scatter"
           }
          ],
          "scatter3d": [
           {
            "line": {
             "colorbar": {
              "outlinewidth": 0,
              "ticks": ""
             }
            },
            "marker": {
             "colorbar": {
              "outlinewidth": 0,
              "ticks": ""
             }
            },
            "type": "scatter3d"
           }
          ],
          "scattercarpet": [
           {
            "marker": {
             "colorbar": {
              "outlinewidth": 0,
              "ticks": ""
             }
            },
            "type": "scattercarpet"
           }
          ],
          "scattergeo": [
           {
            "marker": {
             "colorbar": {
              "outlinewidth": 0,
              "ticks": ""
             }
            },
            "type": "scattergeo"
           }
          ],
          "scattergl": [
           {
            "marker": {
             "colorbar": {
              "outlinewidth": 0,
              "ticks": ""
             }
            },
            "type": "scattergl"
           }
          ],
          "scattermapbox": [
           {
            "marker": {
             "colorbar": {
              "outlinewidth": 0,
              "ticks": ""
             }
            },
            "type": "scattermapbox"
           }
          ],
          "scatterpolar": [
           {
            "marker": {
             "colorbar": {
              "outlinewidth": 0,
              "ticks": ""
             }
            },
            "type": "scatterpolar"
           }
          ],
          "scatterpolargl": [
           {
            "marker": {
             "colorbar": {
              "outlinewidth": 0,
              "ticks": ""
             }
            },
            "type": "scatterpolargl"
           }
          ],
          "scatterternary": [
           {
            "marker": {
             "colorbar": {
              "outlinewidth": 0,
              "ticks": ""
             }
            },
            "type": "scatterternary"
           }
          ],
          "surface": [
           {
            "colorbar": {
             "outlinewidth": 0,
             "ticks": ""
            },
            "colorscale": [
             [
              0,
              "#0d0887"
             ],
             [
              0.1111111111111111,
              "#46039f"
             ],
             [
              0.2222222222222222,
              "#7201a8"
             ],
             [
              0.3333333333333333,
              "#9c179e"
             ],
             [
              0.4444444444444444,
              "#bd3786"
             ],
             [
              0.5555555555555556,
              "#d8576b"
             ],
             [
              0.6666666666666666,
              "#ed7953"
             ],
             [
              0.7777777777777778,
              "#fb9f3a"
             ],
             [
              0.8888888888888888,
              "#fdca26"
             ],
             [
              1,
              "#f0f921"
             ]
            ],
            "type": "surface"
           }
          ],
          "table": [
           {
            "cells": {
             "fill": {
              "color": "#EBF0F8"
             },
             "line": {
              "color": "white"
             }
            },
            "header": {
             "fill": {
              "color": "#C8D4E3"
             },
             "line": {
              "color": "white"
             }
            },
            "type": "table"
           }
          ]
         },
         "layout": {
          "annotationdefaults": {
           "arrowcolor": "#2a3f5f",
           "arrowhead": 0,
           "arrowwidth": 1
          },
          "autotypenumbers": "strict",
          "coloraxis": {
           "colorbar": {
            "outlinewidth": 0,
            "ticks": ""
           }
          },
          "colorscale": {
           "diverging": [
            [
             0,
             "#8e0152"
            ],
            [
             0.1,
             "#c51b7d"
            ],
            [
             0.2,
             "#de77ae"
            ],
            [
             0.3,
             "#f1b6da"
            ],
            [
             0.4,
             "#fde0ef"
            ],
            [
             0.5,
             "#f7f7f7"
            ],
            [
             0.6,
             "#e6f5d0"
            ],
            [
             0.7,
             "#b8e186"
            ],
            [
             0.8,
             "#7fbc41"
            ],
            [
             0.9,
             "#4d9221"
            ],
            [
             1,
             "#276419"
            ]
           ],
           "sequential": [
            [
             0,
             "#0d0887"
            ],
            [
             0.1111111111111111,
             "#46039f"
            ],
            [
             0.2222222222222222,
             "#7201a8"
            ],
            [
             0.3333333333333333,
             "#9c179e"
            ],
            [
             0.4444444444444444,
             "#bd3786"
            ],
            [
             0.5555555555555556,
             "#d8576b"
            ],
            [
             0.6666666666666666,
             "#ed7953"
            ],
            [
             0.7777777777777778,
             "#fb9f3a"
            ],
            [
             0.8888888888888888,
             "#fdca26"
            ],
            [
             1,
             "#f0f921"
            ]
           ],
           "sequentialminus": [
            [
             0,
             "#0d0887"
            ],
            [
             0.1111111111111111,
             "#46039f"
            ],
            [
             0.2222222222222222,
             "#7201a8"
            ],
            [
             0.3333333333333333,
             "#9c179e"
            ],
            [
             0.4444444444444444,
             "#bd3786"
            ],
            [
             0.5555555555555556,
             "#d8576b"
            ],
            [
             0.6666666666666666,
             "#ed7953"
            ],
            [
             0.7777777777777778,
             "#fb9f3a"
            ],
            [
             0.8888888888888888,
             "#fdca26"
            ],
            [
             1,
             "#f0f921"
            ]
           ]
          },
          "colorway": [
           "#636efa",
           "#EF553B",
           "#00cc96",
           "#ab63fa",
           "#FFA15A",
           "#19d3f3",
           "#FF6692",
           "#B6E880",
           "#FF97FF",
           "#FECB52"
          ],
          "font": {
           "color": "#2a3f5f"
          },
          "geo": {
           "bgcolor": "white",
           "lakecolor": "white",
           "landcolor": "#E5ECF6",
           "showlakes": true,
           "showland": true,
           "subunitcolor": "white"
          },
          "hoverlabel": {
           "align": "left"
          },
          "hovermode": "closest",
          "mapbox": {
           "style": "light"
          },
          "paper_bgcolor": "white",
          "plot_bgcolor": "#E5ECF6",
          "polar": {
           "angularaxis": {
            "gridcolor": "white",
            "linecolor": "white",
            "ticks": ""
           },
           "bgcolor": "#E5ECF6",
           "radialaxis": {
            "gridcolor": "white",
            "linecolor": "white",
            "ticks": ""
           }
          },
          "scene": {
           "xaxis": {
            "backgroundcolor": "#E5ECF6",
            "gridcolor": "white",
            "gridwidth": 2,
            "linecolor": "white",
            "showbackground": true,
            "ticks": "",
            "zerolinecolor": "white"
           },
           "yaxis": {
            "backgroundcolor": "#E5ECF6",
            "gridcolor": "white",
            "gridwidth": 2,
            "linecolor": "white",
            "showbackground": true,
            "ticks": "",
            "zerolinecolor": "white"
           },
           "zaxis": {
            "backgroundcolor": "#E5ECF6",
            "gridcolor": "white",
            "gridwidth": 2,
            "linecolor": "white",
            "showbackground": true,
            "ticks": "",
            "zerolinecolor": "white"
           }
          },
          "shapedefaults": {
           "line": {
            "color": "#2a3f5f"
           }
          },
          "ternary": {
           "aaxis": {
            "gridcolor": "white",
            "linecolor": "white",
            "ticks": ""
           },
           "baxis": {
            "gridcolor": "white",
            "linecolor": "white",
            "ticks": ""
           },
           "bgcolor": "#E5ECF6",
           "caxis": {
            "gridcolor": "white",
            "linecolor": "white",
            "ticks": ""
           }
          },
          "title": {
           "x": 0.05
          },
          "xaxis": {
           "automargin": true,
           "gridcolor": "white",
           "linecolor": "white",
           "ticks": "",
           "title": {
            "standoff": 15
           },
           "zerolinecolor": "white",
           "zerolinewidth": 2
          },
          "yaxis": {
           "automargin": true,
           "gridcolor": "white",
           "linecolor": "white",
           "ticks": "",
           "title": {
            "standoff": 15
           },
           "zerolinecolor": "white",
           "zerolinewidth": 2
          }
         }
        },
        "title": {
         "font": {
          "color": "#4D5663"
         },
         "text": "Topic 0: Top 100 words after removing stop words"
        },
        "xaxis": {
         "gridcolor": "#E1E5ED",
         "linecolor": "black",
         "showgrid": true,
         "tickfont": {
          "color": "#4D5663"
         },
         "title": {
          "font": {
           "color": "#4D5663"
          },
          "text": ""
         },
         "zerolinecolor": "#E1E5ED"
        },
        "yaxis": {
         "gridcolor": "#E1E5ED",
         "linecolor": "black",
         "showgrid": true,
         "tickfont": {
          "color": "#4D5663"
         },
         "title": {
          "font": {
           "color": "#4D5663"
          },
          "text": "Count"
         },
         "zerolinecolor": "#E1E5ED"
        }
       }
      },
      "text/html": [
       "<div>                            <div id=\"777b79e7-9e7b-42de-a2f4-6f25ca1a1455\" class=\"plotly-graph-div\" style=\"height:525px; width:100%;\"></div>            <script type=\"text/javascript\">                require([\"plotly\"], function(Plotly) {                    window.PLOTLYENV=window.PLOTLYENV || {};\n",
       "                    window.PLOTLYENV.BASE_URL='https://plot.ly';                                    if (document.getElementById(\"777b79e7-9e7b-42de-a2f4-6f25ca1a1455\")) {                    Plotly.newPlot(                        \"777b79e7-9e7b-42de-a2f4-6f25ca1a1455\",                        [{\"marker\":{\"color\":\"rgba(255, 153, 51, 0.6)\",\"line\":{\"color\":\"rgba(255, 153, 51, 1.0)\",\"width\":1}},\"name\":\"count\",\"orientation\":\"v\",\"text\":\"\",\"x\":[\"asexual_gender_queer\",\"ever_write_time\",\"family_means_nonbinary\",\"friends_humans_everywhere\",\"gay_fanfiction_facing_trauma\",\"last_comic_would\",\"means_think_advocate\",\"mortification_confusion_adolescent_crushe\",\"pap_smears_starte\",\"personal_story_useful\",\"queer_maia_intensely_cathartic\",\"reading_statistics_would\",\"self_identity_include\",\"society_bonding_friends_erotic\",\"thing_felt_comfortable_stranger\",\"touching_guide_gender_identity\"],\"y\":[41,41,41,41,41,41,41,41,41,41,41,41,41,41,41,41],\"type\":\"bar\"}],                        {\"legend\":{\"bgcolor\":\"#F5F6F9\",\"font\":{\"color\":\"#4D5663\"}},\"paper_bgcolor\":\"#F5F6F9\",\"plot_bgcolor\":\"#F5F6F9\",\"template\":{\"data\":{\"barpolar\":[{\"marker\":{\"line\":{\"color\":\"#E5ECF6\",\"width\":0.5},\"pattern\":{\"fillmode\":\"overlay\",\"size\":10,\"solidity\":0.2}},\"type\":\"barpolar\"}],\"bar\":[{\"error_x\":{\"color\":\"#2a3f5f\"},\"error_y\":{\"color\":\"#2a3f5f\"},\"marker\":{\"line\":{\"color\":\"#E5ECF6\",\"width\":0.5},\"pattern\":{\"fillmode\":\"overlay\",\"size\":10,\"solidity\":0.2}},\"type\":\"bar\"}],\"carpet\":[{\"aaxis\":{\"endlinecolor\":\"#2a3f5f\",\"gridcolor\":\"white\",\"linecolor\":\"white\",\"minorgridcolor\":\"white\",\"startlinecolor\":\"#2a3f5f\"},\"baxis\":{\"endlinecolor\":\"#2a3f5f\",\"gridcolor\":\"white\",\"linecolor\":\"white\",\"minorgridcolor\":\"white\",\"startlinecolor\":\"#2a3f5f\"},\"type\":\"carpet\"}],\"choropleth\":[{\"colorbar\":{\"outlinewidth\":0,\"ticks\":\"\"},\"type\":\"choropleth\"}],\"contourcarpet\":[{\"colorbar\":{\"outlinewidth\":0,\"ticks\":\"\"},\"type\":\"contourcarpet\"}],\"contour\":[{\"colorbar\":{\"outlinewidth\":0,\"ticks\":\"\"},\"colorscale\":[[0.0,\"#0d0887\"],[0.1111111111111111,\"#46039f\"],[0.2222222222222222,\"#7201a8\"],[0.3333333333333333,\"#9c179e\"],[0.4444444444444444,\"#bd3786\"],[0.5555555555555556,\"#d8576b\"],[0.6666666666666666,\"#ed7953\"],[0.7777777777777778,\"#fb9f3a\"],[0.8888888888888888,\"#fdca26\"],[1.0,\"#f0f921\"]],\"type\":\"contour\"}],\"heatmapgl\":[{\"colorbar\":{\"outlinewidth\":0,\"ticks\":\"\"},\"colorscale\":[[0.0,\"#0d0887\"],[0.1111111111111111,\"#46039f\"],[0.2222222222222222,\"#7201a8\"],[0.3333333333333333,\"#9c179e\"],[0.4444444444444444,\"#bd3786\"],[0.5555555555555556,\"#d8576b\"],[0.6666666666666666,\"#ed7953\"],[0.7777777777777778,\"#fb9f3a\"],[0.8888888888888888,\"#fdca26\"],[1.0,\"#f0f921\"]],\"type\":\"heatmapgl\"}],\"heatmap\":[{\"colorbar\":{\"outlinewidth\":0,\"ticks\":\"\"},\"colorscale\":[[0.0,\"#0d0887\"],[0.1111111111111111,\"#46039f\"],[0.2222222222222222,\"#7201a8\"],[0.3333333333333333,\"#9c179e\"],[0.4444444444444444,\"#bd3786\"],[0.5555555555555556,\"#d8576b\"],[0.6666666666666666,\"#ed7953\"],[0.7777777777777778,\"#fb9f3a\"],[0.8888888888888888,\"#fdca26\"],[1.0,\"#f0f921\"]],\"type\":\"heatmap\"}],\"histogram2dcontour\":[{\"colorbar\":{\"outlinewidth\":0,\"ticks\":\"\"},\"colorscale\":[[0.0,\"#0d0887\"],[0.1111111111111111,\"#46039f\"],[0.2222222222222222,\"#7201a8\"],[0.3333333333333333,\"#9c179e\"],[0.4444444444444444,\"#bd3786\"],[0.5555555555555556,\"#d8576b\"],[0.6666666666666666,\"#ed7953\"],[0.7777777777777778,\"#fb9f3a\"],[0.8888888888888888,\"#fdca26\"],[1.0,\"#f0f921\"]],\"type\":\"histogram2dcontour\"}],\"histogram2d\":[{\"colorbar\":{\"outlinewidth\":0,\"ticks\":\"\"},\"colorscale\":[[0.0,\"#0d0887\"],[0.1111111111111111,\"#46039f\"],[0.2222222222222222,\"#7201a8\"],[0.3333333333333333,\"#9c179e\"],[0.4444444444444444,\"#bd3786\"],[0.5555555555555556,\"#d8576b\"],[0.6666666666666666,\"#ed7953\"],[0.7777777777777778,\"#fb9f3a\"],[0.8888888888888888,\"#fdca26\"],[1.0,\"#f0f921\"]],\"type\":\"histogram2d\"}],\"histogram\":[{\"marker\":{\"pattern\":{\"fillmode\":\"overlay\",\"size\":10,\"solidity\":0.2}},\"type\":\"histogram\"}],\"mesh3d\":[{\"colorbar\":{\"outlinewidth\":0,\"ticks\":\"\"},\"type\":\"mesh3d\"}],\"parcoords\":[{\"line\":{\"colorbar\":{\"outlinewidth\":0,\"ticks\":\"\"}},\"type\":\"parcoords\"}],\"pie\":[{\"automargin\":true,\"type\":\"pie\"}],\"scatter3d\":[{\"line\":{\"colorbar\":{\"outlinewidth\":0,\"ticks\":\"\"}},\"marker\":{\"colorbar\":{\"outlinewidth\":0,\"ticks\":\"\"}},\"type\":\"scatter3d\"}],\"scattercarpet\":[{\"marker\":{\"colorbar\":{\"outlinewidth\":0,\"ticks\":\"\"}},\"type\":\"scattercarpet\"}],\"scattergeo\":[{\"marker\":{\"colorbar\":{\"outlinewidth\":0,\"ticks\":\"\"}},\"type\":\"scattergeo\"}],\"scattergl\":[{\"marker\":{\"colorbar\":{\"outlinewidth\":0,\"ticks\":\"\"}},\"type\":\"scattergl\"}],\"scattermapbox\":[{\"marker\":{\"colorbar\":{\"outlinewidth\":0,\"ticks\":\"\"}},\"type\":\"scattermapbox\"}],\"scatterpolargl\":[{\"marker\":{\"colorbar\":{\"outlinewidth\":0,\"ticks\":\"\"}},\"type\":\"scatterpolargl\"}],\"scatterpolar\":[{\"marker\":{\"colorbar\":{\"outlinewidth\":0,\"ticks\":\"\"}},\"type\":\"scatterpolar\"}],\"scatter\":[{\"fillpattern\":{\"fillmode\":\"overlay\",\"size\":10,\"solidity\":0.2},\"type\":\"scatter\"}],\"scatterternary\":[{\"marker\":{\"colorbar\":{\"outlinewidth\":0,\"ticks\":\"\"}},\"type\":\"scatterternary\"}],\"surface\":[{\"colorbar\":{\"outlinewidth\":0,\"ticks\":\"\"},\"colorscale\":[[0.0,\"#0d0887\"],[0.1111111111111111,\"#46039f\"],[0.2222222222222222,\"#7201a8\"],[0.3333333333333333,\"#9c179e\"],[0.4444444444444444,\"#bd3786\"],[0.5555555555555556,\"#d8576b\"],[0.6666666666666666,\"#ed7953\"],[0.7777777777777778,\"#fb9f3a\"],[0.8888888888888888,\"#fdca26\"],[1.0,\"#f0f921\"]],\"type\":\"surface\"}],\"table\":[{\"cells\":{\"fill\":{\"color\":\"#EBF0F8\"},\"line\":{\"color\":\"white\"}},\"header\":{\"fill\":{\"color\":\"#C8D4E3\"},\"line\":{\"color\":\"white\"}},\"type\":\"table\"}]},\"layout\":{\"annotationdefaults\":{\"arrowcolor\":\"#2a3f5f\",\"arrowhead\":0,\"arrowwidth\":1},\"autotypenumbers\":\"strict\",\"coloraxis\":{\"colorbar\":{\"outlinewidth\":0,\"ticks\":\"\"}},\"colorscale\":{\"diverging\":[[0,\"#8e0152\"],[0.1,\"#c51b7d\"],[0.2,\"#de77ae\"],[0.3,\"#f1b6da\"],[0.4,\"#fde0ef\"],[0.5,\"#f7f7f7\"],[0.6,\"#e6f5d0\"],[0.7,\"#b8e186\"],[0.8,\"#7fbc41\"],[0.9,\"#4d9221\"],[1,\"#276419\"]],\"sequential\":[[0.0,\"#0d0887\"],[0.1111111111111111,\"#46039f\"],[0.2222222222222222,\"#7201a8\"],[0.3333333333333333,\"#9c179e\"],[0.4444444444444444,\"#bd3786\"],[0.5555555555555556,\"#d8576b\"],[0.6666666666666666,\"#ed7953\"],[0.7777777777777778,\"#fb9f3a\"],[0.8888888888888888,\"#fdca26\"],[1.0,\"#f0f921\"]],\"sequentialminus\":[[0.0,\"#0d0887\"],[0.1111111111111111,\"#46039f\"],[0.2222222222222222,\"#7201a8\"],[0.3333333333333333,\"#9c179e\"],[0.4444444444444444,\"#bd3786\"],[0.5555555555555556,\"#d8576b\"],[0.6666666666666666,\"#ed7953\"],[0.7777777777777778,\"#fb9f3a\"],[0.8888888888888888,\"#fdca26\"],[1.0,\"#f0f921\"]]},\"colorway\":[\"#636efa\",\"#EF553B\",\"#00cc96\",\"#ab63fa\",\"#FFA15A\",\"#19d3f3\",\"#FF6692\",\"#B6E880\",\"#FF97FF\",\"#FECB52\"],\"font\":{\"color\":\"#2a3f5f\"},\"geo\":{\"bgcolor\":\"white\",\"lakecolor\":\"white\",\"landcolor\":\"#E5ECF6\",\"showlakes\":true,\"showland\":true,\"subunitcolor\":\"white\"},\"hoverlabel\":{\"align\":\"left\"},\"hovermode\":\"closest\",\"mapbox\":{\"style\":\"light\"},\"paper_bgcolor\":\"white\",\"plot_bgcolor\":\"#E5ECF6\",\"polar\":{\"angularaxis\":{\"gridcolor\":\"white\",\"linecolor\":\"white\",\"ticks\":\"\"},\"bgcolor\":\"#E5ECF6\",\"radialaxis\":{\"gridcolor\":\"white\",\"linecolor\":\"white\",\"ticks\":\"\"}},\"scene\":{\"xaxis\":{\"backgroundcolor\":\"#E5ECF6\",\"gridcolor\":\"white\",\"gridwidth\":2,\"linecolor\":\"white\",\"showbackground\":true,\"ticks\":\"\",\"zerolinecolor\":\"white\"},\"yaxis\":{\"backgroundcolor\":\"#E5ECF6\",\"gridcolor\":\"white\",\"gridwidth\":2,\"linecolor\":\"white\",\"showbackground\":true,\"ticks\":\"\",\"zerolinecolor\":\"white\"},\"zaxis\":{\"backgroundcolor\":\"#E5ECF6\",\"gridcolor\":\"white\",\"gridwidth\":2,\"linecolor\":\"white\",\"showbackground\":true,\"ticks\":\"\",\"zerolinecolor\":\"white\"}},\"shapedefaults\":{\"line\":{\"color\":\"#2a3f5f\"}},\"ternary\":{\"aaxis\":{\"gridcolor\":\"white\",\"linecolor\":\"white\",\"ticks\":\"\"},\"baxis\":{\"gridcolor\":\"white\",\"linecolor\":\"white\",\"ticks\":\"\"},\"bgcolor\":\"#E5ECF6\",\"caxis\":{\"gridcolor\":\"white\",\"linecolor\":\"white\",\"ticks\":\"\"}},\"title\":{\"x\":0.05},\"xaxis\":{\"automargin\":true,\"gridcolor\":\"white\",\"linecolor\":\"white\",\"ticks\":\"\",\"title\":{\"standoff\":15},\"zerolinecolor\":\"white\",\"zerolinewidth\":2},\"yaxis\":{\"automargin\":true,\"gridcolor\":\"white\",\"linecolor\":\"white\",\"ticks\":\"\",\"title\":{\"standoff\":15},\"zerolinecolor\":\"white\",\"zerolinewidth\":2}}},\"title\":{\"font\":{\"color\":\"#4D5663\"},\"text\":\"Topic 0: Top 100 words after removing stop words\"},\"xaxis\":{\"gridcolor\":\"#E1E5ED\",\"linecolor\":\"black\",\"showgrid\":true,\"tickfont\":{\"color\":\"#4D5663\"},\"title\":{\"font\":{\"color\":\"#4D5663\"},\"text\":\"\"},\"zerolinecolor\":\"#E1E5ED\"},\"yaxis\":{\"gridcolor\":\"#E1E5ED\",\"linecolor\":\"black\",\"showgrid\":true,\"tickfont\":{\"color\":\"#4D5663\"},\"title\":{\"font\":{\"color\":\"#4D5663\"},\"text\":\"Count\"},\"zerolinecolor\":\"#E1E5ED\"}},                        {\"showLink\": true, \"linkText\": \"Export to plot.ly\", \"plotlyServerURL\": \"https://plot.ly\", \"responsive\": true}                    ).then(function(){\n",
       "                            \n",
       "var gd = document.getElementById('777b79e7-9e7b-42de-a2f4-6f25ca1a1455');\n",
       "var x = new MutationObserver(function (mutations, observer) {{\n",
       "        var display = window.getComputedStyle(gd).display;\n",
       "        if (!display || display === 'none') {{\n",
       "            console.log([gd, 'removed!']);\n",
       "            Plotly.purge(gd);\n",
       "            observer.disconnect();\n",
       "        }}\n",
       "}});\n",
       "\n",
       "// Listen for the removal of the full notebook cells\n",
       "var notebookContainer = gd.closest('#notebook-container');\n",
       "if (notebookContainer) {{\n",
       "    x.observe(notebookContainer, {childList: true});\n",
       "}}\n",
       "\n",
       "// Listen for the clearing of the current output cell\n",
       "var outputEl = gd.closest('.output');\n",
       "if (outputEl) {{\n",
       "    x.observe(outputEl, {childList: true});\n",
       "}}\n",
       "\n",
       "                        })                };                });            </script>        </div>"
      ]
     },
     "metadata": {},
     "output_type": "display_data"
    }
   ],
   "source": [
    "plot_model(nmf)"
   ]
  },
  {
   "cell_type": "markdown",
   "id": "c3d21a68",
   "metadata": {},
   "source": [
    "### 9.2 Top 100 Bigrams on Entire Corpus"
   ]
  },
  {
   "cell_type": "code",
   "execution_count": 21,
   "id": "01eca6c3",
   "metadata": {},
   "outputs": [
    {
     "data": {
      "text/html": [
       "        <script type=\"text/javascript\">\n",
       "        window.PlotlyConfig = {MathJaxConfig: 'local'};\n",
       "        if (window.MathJax && window.MathJax.Hub && window.MathJax.Hub.Config) {window.MathJax.Hub.Config({SVG: {font: \"STIX-Web\"}});}\n",
       "        if (typeof require !== 'undefined') {\n",
       "        require.undef(\"plotly\");\n",
       "        requirejs.config({\n",
       "            paths: {\n",
       "                'plotly': ['https://cdn.plot.ly/plotly-2.18.2.min']\n",
       "            }\n",
       "        });\n",
       "        require(['plotly'], function(Plotly) {\n",
       "            window._Plotly = Plotly;\n",
       "        });\n",
       "        }\n",
       "        </script>\n",
       "        "
      ]
     },
     "metadata": {},
     "output_type": "display_data"
    },
    {
     "data": {
      "application/vnd.plotly.v1+json": {
       "config": {
        "linkText": "Export to plot.ly",
        "plotlyServerURL": "https://plot.ly",
        "showLink": true
       },
       "data": [
        {
         "marker": {
          "color": "rgba(255, 153, 51, 0.6)",
          "line": {
           "color": "rgba(255, 153, 51, 1.0)",
           "width": 1
          }
         },
         "name": "count",
         "orientation": "v",
         "text": "",
         "type": "bar",
         "x": [
          "asexual_gender_queer personal_story_useful",
          "ever_write_time thing_felt_comfortable_stranger",
          "family_means_nonbinary asexual_gender_queer",
          "gay_fanfiction_facing_trauma pap_smears_starte",
          "last_comic_would ever_write_time",
          "means_think_advocate friends_humans_everywhere",
          "mortification_confusion_adolescent_crushe society_bonding_friends_erotic",
          "pap_smears_starte family_means_nonbinary",
          "personal_story_useful touching_guide_gender_identity",
          "queer_maia_intensely_cathartic self_identity_include",
          "reading_statistics_would last_comic_would",
          "self_identity_include mortification_confusion_adolescent_crushe",
          "society_bonding_friends_erotic gay_fanfiction_facing_trauma",
          "thing_felt_comfortable_stranger queer_maia_intensely_cathartic",
          "touching_guide_gender_identity means_think_advocate"
         ],
         "y": [
          41,
          41,
          41,
          41,
          41,
          41,
          41,
          41,
          41,
          41,
          41,
          41,
          41,
          41,
          41
         ]
        }
       ],
       "layout": {
        "legend": {
         "bgcolor": "#F5F6F9",
         "font": {
          "color": "#4D5663"
         }
        },
        "paper_bgcolor": "#F5F6F9",
        "plot_bgcolor": "#F5F6F9",
        "template": {
         "data": {
          "bar": [
           {
            "error_x": {
             "color": "#2a3f5f"
            },
            "error_y": {
             "color": "#2a3f5f"
            },
            "marker": {
             "line": {
              "color": "#E5ECF6",
              "width": 0.5
             },
             "pattern": {
              "fillmode": "overlay",
              "size": 10,
              "solidity": 0.2
             }
            },
            "type": "bar"
           }
          ],
          "barpolar": [
           {
            "marker": {
             "line": {
              "color": "#E5ECF6",
              "width": 0.5
             },
             "pattern": {
              "fillmode": "overlay",
              "size": 10,
              "solidity": 0.2
             }
            },
            "type": "barpolar"
           }
          ],
          "carpet": [
           {
            "aaxis": {
             "endlinecolor": "#2a3f5f",
             "gridcolor": "white",
             "linecolor": "white",
             "minorgridcolor": "white",
             "startlinecolor": "#2a3f5f"
            },
            "baxis": {
             "endlinecolor": "#2a3f5f",
             "gridcolor": "white",
             "linecolor": "white",
             "minorgridcolor": "white",
             "startlinecolor": "#2a3f5f"
            },
            "type": "carpet"
           }
          ],
          "choropleth": [
           {
            "colorbar": {
             "outlinewidth": 0,
             "ticks": ""
            },
            "type": "choropleth"
           }
          ],
          "contour": [
           {
            "colorbar": {
             "outlinewidth": 0,
             "ticks": ""
            },
            "colorscale": [
             [
              0,
              "#0d0887"
             ],
             [
              0.1111111111111111,
              "#46039f"
             ],
             [
              0.2222222222222222,
              "#7201a8"
             ],
             [
              0.3333333333333333,
              "#9c179e"
             ],
             [
              0.4444444444444444,
              "#bd3786"
             ],
             [
              0.5555555555555556,
              "#d8576b"
             ],
             [
              0.6666666666666666,
              "#ed7953"
             ],
             [
              0.7777777777777778,
              "#fb9f3a"
             ],
             [
              0.8888888888888888,
              "#fdca26"
             ],
             [
              1,
              "#f0f921"
             ]
            ],
            "type": "contour"
           }
          ],
          "contourcarpet": [
           {
            "colorbar": {
             "outlinewidth": 0,
             "ticks": ""
            },
            "type": "contourcarpet"
           }
          ],
          "heatmap": [
           {
            "colorbar": {
             "outlinewidth": 0,
             "ticks": ""
            },
            "colorscale": [
             [
              0,
              "#0d0887"
             ],
             [
              0.1111111111111111,
              "#46039f"
             ],
             [
              0.2222222222222222,
              "#7201a8"
             ],
             [
              0.3333333333333333,
              "#9c179e"
             ],
             [
              0.4444444444444444,
              "#bd3786"
             ],
             [
              0.5555555555555556,
              "#d8576b"
             ],
             [
              0.6666666666666666,
              "#ed7953"
             ],
             [
              0.7777777777777778,
              "#fb9f3a"
             ],
             [
              0.8888888888888888,
              "#fdca26"
             ],
             [
              1,
              "#f0f921"
             ]
            ],
            "type": "heatmap"
           }
          ],
          "heatmapgl": [
           {
            "colorbar": {
             "outlinewidth": 0,
             "ticks": ""
            },
            "colorscale": [
             [
              0,
              "#0d0887"
             ],
             [
              0.1111111111111111,
              "#46039f"
             ],
             [
              0.2222222222222222,
              "#7201a8"
             ],
             [
              0.3333333333333333,
              "#9c179e"
             ],
             [
              0.4444444444444444,
              "#bd3786"
             ],
             [
              0.5555555555555556,
              "#d8576b"
             ],
             [
              0.6666666666666666,
              "#ed7953"
             ],
             [
              0.7777777777777778,
              "#fb9f3a"
             ],
             [
              0.8888888888888888,
              "#fdca26"
             ],
             [
              1,
              "#f0f921"
             ]
            ],
            "type": "heatmapgl"
           }
          ],
          "histogram": [
           {
            "marker": {
             "pattern": {
              "fillmode": "overlay",
              "size": 10,
              "solidity": 0.2
             }
            },
            "type": "histogram"
           }
          ],
          "histogram2d": [
           {
            "colorbar": {
             "outlinewidth": 0,
             "ticks": ""
            },
            "colorscale": [
             [
              0,
              "#0d0887"
             ],
             [
              0.1111111111111111,
              "#46039f"
             ],
             [
              0.2222222222222222,
              "#7201a8"
             ],
             [
              0.3333333333333333,
              "#9c179e"
             ],
             [
              0.4444444444444444,
              "#bd3786"
             ],
             [
              0.5555555555555556,
              "#d8576b"
             ],
             [
              0.6666666666666666,
              "#ed7953"
             ],
             [
              0.7777777777777778,
              "#fb9f3a"
             ],
             [
              0.8888888888888888,
              "#fdca26"
             ],
             [
              1,
              "#f0f921"
             ]
            ],
            "type": "histogram2d"
           }
          ],
          "histogram2dcontour": [
           {
            "colorbar": {
             "outlinewidth": 0,
             "ticks": ""
            },
            "colorscale": [
             [
              0,
              "#0d0887"
             ],
             [
              0.1111111111111111,
              "#46039f"
             ],
             [
              0.2222222222222222,
              "#7201a8"
             ],
             [
              0.3333333333333333,
              "#9c179e"
             ],
             [
              0.4444444444444444,
              "#bd3786"
             ],
             [
              0.5555555555555556,
              "#d8576b"
             ],
             [
              0.6666666666666666,
              "#ed7953"
             ],
             [
              0.7777777777777778,
              "#fb9f3a"
             ],
             [
              0.8888888888888888,
              "#fdca26"
             ],
             [
              1,
              "#f0f921"
             ]
            ],
            "type": "histogram2dcontour"
           }
          ],
          "mesh3d": [
           {
            "colorbar": {
             "outlinewidth": 0,
             "ticks": ""
            },
            "type": "mesh3d"
           }
          ],
          "parcoords": [
           {
            "line": {
             "colorbar": {
              "outlinewidth": 0,
              "ticks": ""
             }
            },
            "type": "parcoords"
           }
          ],
          "pie": [
           {
            "automargin": true,
            "type": "pie"
           }
          ],
          "scatter": [
           {
            "fillpattern": {
             "fillmode": "overlay",
             "size": 10,
             "solidity": 0.2
            },
            "type": "scatter"
           }
          ],
          "scatter3d": [
           {
            "line": {
             "colorbar": {
              "outlinewidth": 0,
              "ticks": ""
             }
            },
            "marker": {
             "colorbar": {
              "outlinewidth": 0,
              "ticks": ""
             }
            },
            "type": "scatter3d"
           }
          ],
          "scattercarpet": [
           {
            "marker": {
             "colorbar": {
              "outlinewidth": 0,
              "ticks": ""
             }
            },
            "type": "scattercarpet"
           }
          ],
          "scattergeo": [
           {
            "marker": {
             "colorbar": {
              "outlinewidth": 0,
              "ticks": ""
             }
            },
            "type": "scattergeo"
           }
          ],
          "scattergl": [
           {
            "marker": {
             "colorbar": {
              "outlinewidth": 0,
              "ticks": ""
             }
            },
            "type": "scattergl"
           }
          ],
          "scattermapbox": [
           {
            "marker": {
             "colorbar": {
              "outlinewidth": 0,
              "ticks": ""
             }
            },
            "type": "scattermapbox"
           }
          ],
          "scatterpolar": [
           {
            "marker": {
             "colorbar": {
              "outlinewidth": 0,
              "ticks": ""
             }
            },
            "type": "scatterpolar"
           }
          ],
          "scatterpolargl": [
           {
            "marker": {
             "colorbar": {
              "outlinewidth": 0,
              "ticks": ""
             }
            },
            "type": "scatterpolargl"
           }
          ],
          "scatterternary": [
           {
            "marker": {
             "colorbar": {
              "outlinewidth": 0,
              "ticks": ""
             }
            },
            "type": "scatterternary"
           }
          ],
          "surface": [
           {
            "colorbar": {
             "outlinewidth": 0,
             "ticks": ""
            },
            "colorscale": [
             [
              0,
              "#0d0887"
             ],
             [
              0.1111111111111111,
              "#46039f"
             ],
             [
              0.2222222222222222,
              "#7201a8"
             ],
             [
              0.3333333333333333,
              "#9c179e"
             ],
             [
              0.4444444444444444,
              "#bd3786"
             ],
             [
              0.5555555555555556,
              "#d8576b"
             ],
             [
              0.6666666666666666,
              "#ed7953"
             ],
             [
              0.7777777777777778,
              "#fb9f3a"
             ],
             [
              0.8888888888888888,
              "#fdca26"
             ],
             [
              1,
              "#f0f921"
             ]
            ],
            "type": "surface"
           }
          ],
          "table": [
           {
            "cells": {
             "fill": {
              "color": "#EBF0F8"
             },
             "line": {
              "color": "white"
             }
            },
            "header": {
             "fill": {
              "color": "#C8D4E3"
             },
             "line": {
              "color": "white"
             }
            },
            "type": "table"
           }
          ]
         },
         "layout": {
          "annotationdefaults": {
           "arrowcolor": "#2a3f5f",
           "arrowhead": 0,
           "arrowwidth": 1
          },
          "autotypenumbers": "strict",
          "coloraxis": {
           "colorbar": {
            "outlinewidth": 0,
            "ticks": ""
           }
          },
          "colorscale": {
           "diverging": [
            [
             0,
             "#8e0152"
            ],
            [
             0.1,
             "#c51b7d"
            ],
            [
             0.2,
             "#de77ae"
            ],
            [
             0.3,
             "#f1b6da"
            ],
            [
             0.4,
             "#fde0ef"
            ],
            [
             0.5,
             "#f7f7f7"
            ],
            [
             0.6,
             "#e6f5d0"
            ],
            [
             0.7,
             "#b8e186"
            ],
            [
             0.8,
             "#7fbc41"
            ],
            [
             0.9,
             "#4d9221"
            ],
            [
             1,
             "#276419"
            ]
           ],
           "sequential": [
            [
             0,
             "#0d0887"
            ],
            [
             0.1111111111111111,
             "#46039f"
            ],
            [
             0.2222222222222222,
             "#7201a8"
            ],
            [
             0.3333333333333333,
             "#9c179e"
            ],
            [
             0.4444444444444444,
             "#bd3786"
            ],
            [
             0.5555555555555556,
             "#d8576b"
            ],
            [
             0.6666666666666666,
             "#ed7953"
            ],
            [
             0.7777777777777778,
             "#fb9f3a"
            ],
            [
             0.8888888888888888,
             "#fdca26"
            ],
            [
             1,
             "#f0f921"
            ]
           ],
           "sequentialminus": [
            [
             0,
             "#0d0887"
            ],
            [
             0.1111111111111111,
             "#46039f"
            ],
            [
             0.2222222222222222,
             "#7201a8"
            ],
            [
             0.3333333333333333,
             "#9c179e"
            ],
            [
             0.4444444444444444,
             "#bd3786"
            ],
            [
             0.5555555555555556,
             "#d8576b"
            ],
            [
             0.6666666666666666,
             "#ed7953"
            ],
            [
             0.7777777777777778,
             "#fb9f3a"
            ],
            [
             0.8888888888888888,
             "#fdca26"
            ],
            [
             1,
             "#f0f921"
            ]
           ]
          },
          "colorway": [
           "#636efa",
           "#EF553B",
           "#00cc96",
           "#ab63fa",
           "#FFA15A",
           "#19d3f3",
           "#FF6692",
           "#B6E880",
           "#FF97FF",
           "#FECB52"
          ],
          "font": {
           "color": "#2a3f5f"
          },
          "geo": {
           "bgcolor": "white",
           "lakecolor": "white",
           "landcolor": "#E5ECF6",
           "showlakes": true,
           "showland": true,
           "subunitcolor": "white"
          },
          "hoverlabel": {
           "align": "left"
          },
          "hovermode": "closest",
          "mapbox": {
           "style": "light"
          },
          "paper_bgcolor": "white",
          "plot_bgcolor": "#E5ECF6",
          "polar": {
           "angularaxis": {
            "gridcolor": "white",
            "linecolor": "white",
            "ticks": ""
           },
           "bgcolor": "#E5ECF6",
           "radialaxis": {
            "gridcolor": "white",
            "linecolor": "white",
            "ticks": ""
           }
          },
          "scene": {
           "xaxis": {
            "backgroundcolor": "#E5ECF6",
            "gridcolor": "white",
            "gridwidth": 2,
            "linecolor": "white",
            "showbackground": true,
            "ticks": "",
            "zerolinecolor": "white"
           },
           "yaxis": {
            "backgroundcolor": "#E5ECF6",
            "gridcolor": "white",
            "gridwidth": 2,
            "linecolor": "white",
            "showbackground": true,
            "ticks": "",
            "zerolinecolor": "white"
           },
           "zaxis": {
            "backgroundcolor": "#E5ECF6",
            "gridcolor": "white",
            "gridwidth": 2,
            "linecolor": "white",
            "showbackground": true,
            "ticks": "",
            "zerolinecolor": "white"
           }
          },
          "shapedefaults": {
           "line": {
            "color": "#2a3f5f"
           }
          },
          "ternary": {
           "aaxis": {
            "gridcolor": "white",
            "linecolor": "white",
            "ticks": ""
           },
           "baxis": {
            "gridcolor": "white",
            "linecolor": "white",
            "ticks": ""
           },
           "bgcolor": "#E5ECF6",
           "caxis": {
            "gridcolor": "white",
            "linecolor": "white",
            "ticks": ""
           }
          },
          "title": {
           "x": 0.05
          },
          "xaxis": {
           "automargin": true,
           "gridcolor": "white",
           "linecolor": "white",
           "ticks": "",
           "title": {
            "standoff": 15
           },
           "zerolinecolor": "white",
           "zerolinewidth": 2
          },
          "yaxis": {
           "automargin": true,
           "gridcolor": "white",
           "linecolor": "white",
           "ticks": "",
           "title": {
            "standoff": 15
           },
           "zerolinecolor": "white",
           "zerolinewidth": 2
          }
         }
        },
        "title": {
         "font": {
          "color": "#4D5663"
         },
         "text": "Topic 0: Top 100 bigrams after removing stop words"
        },
        "xaxis": {
         "gridcolor": "#E1E5ED",
         "linecolor": "black",
         "showgrid": true,
         "tickfont": {
          "color": "#4D5663"
         },
         "title": {
          "font": {
           "color": "#4D5663"
          },
          "text": ""
         },
         "zerolinecolor": "#E1E5ED"
        },
        "yaxis": {
         "gridcolor": "#E1E5ED",
         "linecolor": "black",
         "showgrid": true,
         "tickfont": {
          "color": "#4D5663"
         },
         "title": {
          "font": {
           "color": "#4D5663"
          },
          "text": "Count"
         },
         "zerolinecolor": "#E1E5ED"
        }
       }
      },
      "text/html": [
       "<div>                            <div id=\"d032af2b-6a17-49f2-be47-5cb3e2821eeb\" class=\"plotly-graph-div\" style=\"height:525px; width:100%;\"></div>            <script type=\"text/javascript\">                require([\"plotly\"], function(Plotly) {                    window.PLOTLYENV=window.PLOTLYENV || {};\n",
       "                    window.PLOTLYENV.BASE_URL='https://plot.ly';                                    if (document.getElementById(\"d032af2b-6a17-49f2-be47-5cb3e2821eeb\")) {                    Plotly.newPlot(                        \"d032af2b-6a17-49f2-be47-5cb3e2821eeb\",                        [{\"marker\":{\"color\":\"rgba(255, 153, 51, 0.6)\",\"line\":{\"color\":\"rgba(255, 153, 51, 1.0)\",\"width\":1}},\"name\":\"count\",\"orientation\":\"v\",\"text\":\"\",\"x\":[\"asexual_gender_queer personal_story_useful\",\"ever_write_time thing_felt_comfortable_stranger\",\"family_means_nonbinary asexual_gender_queer\",\"gay_fanfiction_facing_trauma pap_smears_starte\",\"last_comic_would ever_write_time\",\"means_think_advocate friends_humans_everywhere\",\"mortification_confusion_adolescent_crushe society_bonding_friends_erotic\",\"pap_smears_starte family_means_nonbinary\",\"personal_story_useful touching_guide_gender_identity\",\"queer_maia_intensely_cathartic self_identity_include\",\"reading_statistics_would last_comic_would\",\"self_identity_include mortification_confusion_adolescent_crushe\",\"society_bonding_friends_erotic gay_fanfiction_facing_trauma\",\"thing_felt_comfortable_stranger queer_maia_intensely_cathartic\",\"touching_guide_gender_identity means_think_advocate\"],\"y\":[41,41,41,41,41,41,41,41,41,41,41,41,41,41,41],\"type\":\"bar\"}],                        {\"legend\":{\"bgcolor\":\"#F5F6F9\",\"font\":{\"color\":\"#4D5663\"}},\"paper_bgcolor\":\"#F5F6F9\",\"plot_bgcolor\":\"#F5F6F9\",\"template\":{\"data\":{\"barpolar\":[{\"marker\":{\"line\":{\"color\":\"#E5ECF6\",\"width\":0.5},\"pattern\":{\"fillmode\":\"overlay\",\"size\":10,\"solidity\":0.2}},\"type\":\"barpolar\"}],\"bar\":[{\"error_x\":{\"color\":\"#2a3f5f\"},\"error_y\":{\"color\":\"#2a3f5f\"},\"marker\":{\"line\":{\"color\":\"#E5ECF6\",\"width\":0.5},\"pattern\":{\"fillmode\":\"overlay\",\"size\":10,\"solidity\":0.2}},\"type\":\"bar\"}],\"carpet\":[{\"aaxis\":{\"endlinecolor\":\"#2a3f5f\",\"gridcolor\":\"white\",\"linecolor\":\"white\",\"minorgridcolor\":\"white\",\"startlinecolor\":\"#2a3f5f\"},\"baxis\":{\"endlinecolor\":\"#2a3f5f\",\"gridcolor\":\"white\",\"linecolor\":\"white\",\"minorgridcolor\":\"white\",\"startlinecolor\":\"#2a3f5f\"},\"type\":\"carpet\"}],\"choropleth\":[{\"colorbar\":{\"outlinewidth\":0,\"ticks\":\"\"},\"type\":\"choropleth\"}],\"contourcarpet\":[{\"colorbar\":{\"outlinewidth\":0,\"ticks\":\"\"},\"type\":\"contourcarpet\"}],\"contour\":[{\"colorbar\":{\"outlinewidth\":0,\"ticks\":\"\"},\"colorscale\":[[0.0,\"#0d0887\"],[0.1111111111111111,\"#46039f\"],[0.2222222222222222,\"#7201a8\"],[0.3333333333333333,\"#9c179e\"],[0.4444444444444444,\"#bd3786\"],[0.5555555555555556,\"#d8576b\"],[0.6666666666666666,\"#ed7953\"],[0.7777777777777778,\"#fb9f3a\"],[0.8888888888888888,\"#fdca26\"],[1.0,\"#f0f921\"]],\"type\":\"contour\"}],\"heatmapgl\":[{\"colorbar\":{\"outlinewidth\":0,\"ticks\":\"\"},\"colorscale\":[[0.0,\"#0d0887\"],[0.1111111111111111,\"#46039f\"],[0.2222222222222222,\"#7201a8\"],[0.3333333333333333,\"#9c179e\"],[0.4444444444444444,\"#bd3786\"],[0.5555555555555556,\"#d8576b\"],[0.6666666666666666,\"#ed7953\"],[0.7777777777777778,\"#fb9f3a\"],[0.8888888888888888,\"#fdca26\"],[1.0,\"#f0f921\"]],\"type\":\"heatmapgl\"}],\"heatmap\":[{\"colorbar\":{\"outlinewidth\":0,\"ticks\":\"\"},\"colorscale\":[[0.0,\"#0d0887\"],[0.1111111111111111,\"#46039f\"],[0.2222222222222222,\"#7201a8\"],[0.3333333333333333,\"#9c179e\"],[0.4444444444444444,\"#bd3786\"],[0.5555555555555556,\"#d8576b\"],[0.6666666666666666,\"#ed7953\"],[0.7777777777777778,\"#fb9f3a\"],[0.8888888888888888,\"#fdca26\"],[1.0,\"#f0f921\"]],\"type\":\"heatmap\"}],\"histogram2dcontour\":[{\"colorbar\":{\"outlinewidth\":0,\"ticks\":\"\"},\"colorscale\":[[0.0,\"#0d0887\"],[0.1111111111111111,\"#46039f\"],[0.2222222222222222,\"#7201a8\"],[0.3333333333333333,\"#9c179e\"],[0.4444444444444444,\"#bd3786\"],[0.5555555555555556,\"#d8576b\"],[0.6666666666666666,\"#ed7953\"],[0.7777777777777778,\"#fb9f3a\"],[0.8888888888888888,\"#fdca26\"],[1.0,\"#f0f921\"]],\"type\":\"histogram2dcontour\"}],\"histogram2d\":[{\"colorbar\":{\"outlinewidth\":0,\"ticks\":\"\"},\"colorscale\":[[0.0,\"#0d0887\"],[0.1111111111111111,\"#46039f\"],[0.2222222222222222,\"#7201a8\"],[0.3333333333333333,\"#9c179e\"],[0.4444444444444444,\"#bd3786\"],[0.5555555555555556,\"#d8576b\"],[0.6666666666666666,\"#ed7953\"],[0.7777777777777778,\"#fb9f3a\"],[0.8888888888888888,\"#fdca26\"],[1.0,\"#f0f921\"]],\"type\":\"histogram2d\"}],\"histogram\":[{\"marker\":{\"pattern\":{\"fillmode\":\"overlay\",\"size\":10,\"solidity\":0.2}},\"type\":\"histogram\"}],\"mesh3d\":[{\"colorbar\":{\"outlinewidth\":0,\"ticks\":\"\"},\"type\":\"mesh3d\"}],\"parcoords\":[{\"line\":{\"colorbar\":{\"outlinewidth\":0,\"ticks\":\"\"}},\"type\":\"parcoords\"}],\"pie\":[{\"automargin\":true,\"type\":\"pie\"}],\"scatter3d\":[{\"line\":{\"colorbar\":{\"outlinewidth\":0,\"ticks\":\"\"}},\"marker\":{\"colorbar\":{\"outlinewidth\":0,\"ticks\":\"\"}},\"type\":\"scatter3d\"}],\"scattercarpet\":[{\"marker\":{\"colorbar\":{\"outlinewidth\":0,\"ticks\":\"\"}},\"type\":\"scattercarpet\"}],\"scattergeo\":[{\"marker\":{\"colorbar\":{\"outlinewidth\":0,\"ticks\":\"\"}},\"type\":\"scattergeo\"}],\"scattergl\":[{\"marker\":{\"colorbar\":{\"outlinewidth\":0,\"ticks\":\"\"}},\"type\":\"scattergl\"}],\"scattermapbox\":[{\"marker\":{\"colorbar\":{\"outlinewidth\":0,\"ticks\":\"\"}},\"type\":\"scattermapbox\"}],\"scatterpolargl\":[{\"marker\":{\"colorbar\":{\"outlinewidth\":0,\"ticks\":\"\"}},\"type\":\"scatterpolargl\"}],\"scatterpolar\":[{\"marker\":{\"colorbar\":{\"outlinewidth\":0,\"ticks\":\"\"}},\"type\":\"scatterpolar\"}],\"scatter\":[{\"fillpattern\":{\"fillmode\":\"overlay\",\"size\":10,\"solidity\":0.2},\"type\":\"scatter\"}],\"scatterternary\":[{\"marker\":{\"colorbar\":{\"outlinewidth\":0,\"ticks\":\"\"}},\"type\":\"scatterternary\"}],\"surface\":[{\"colorbar\":{\"outlinewidth\":0,\"ticks\":\"\"},\"colorscale\":[[0.0,\"#0d0887\"],[0.1111111111111111,\"#46039f\"],[0.2222222222222222,\"#7201a8\"],[0.3333333333333333,\"#9c179e\"],[0.4444444444444444,\"#bd3786\"],[0.5555555555555556,\"#d8576b\"],[0.6666666666666666,\"#ed7953\"],[0.7777777777777778,\"#fb9f3a\"],[0.8888888888888888,\"#fdca26\"],[1.0,\"#f0f921\"]],\"type\":\"surface\"}],\"table\":[{\"cells\":{\"fill\":{\"color\":\"#EBF0F8\"},\"line\":{\"color\":\"white\"}},\"header\":{\"fill\":{\"color\":\"#C8D4E3\"},\"line\":{\"color\":\"white\"}},\"type\":\"table\"}]},\"layout\":{\"annotationdefaults\":{\"arrowcolor\":\"#2a3f5f\",\"arrowhead\":0,\"arrowwidth\":1},\"autotypenumbers\":\"strict\",\"coloraxis\":{\"colorbar\":{\"outlinewidth\":0,\"ticks\":\"\"}},\"colorscale\":{\"diverging\":[[0,\"#8e0152\"],[0.1,\"#c51b7d\"],[0.2,\"#de77ae\"],[0.3,\"#f1b6da\"],[0.4,\"#fde0ef\"],[0.5,\"#f7f7f7\"],[0.6,\"#e6f5d0\"],[0.7,\"#b8e186\"],[0.8,\"#7fbc41\"],[0.9,\"#4d9221\"],[1,\"#276419\"]],\"sequential\":[[0.0,\"#0d0887\"],[0.1111111111111111,\"#46039f\"],[0.2222222222222222,\"#7201a8\"],[0.3333333333333333,\"#9c179e\"],[0.4444444444444444,\"#bd3786\"],[0.5555555555555556,\"#d8576b\"],[0.6666666666666666,\"#ed7953\"],[0.7777777777777778,\"#fb9f3a\"],[0.8888888888888888,\"#fdca26\"],[1.0,\"#f0f921\"]],\"sequentialminus\":[[0.0,\"#0d0887\"],[0.1111111111111111,\"#46039f\"],[0.2222222222222222,\"#7201a8\"],[0.3333333333333333,\"#9c179e\"],[0.4444444444444444,\"#bd3786\"],[0.5555555555555556,\"#d8576b\"],[0.6666666666666666,\"#ed7953\"],[0.7777777777777778,\"#fb9f3a\"],[0.8888888888888888,\"#fdca26\"],[1.0,\"#f0f921\"]]},\"colorway\":[\"#636efa\",\"#EF553B\",\"#00cc96\",\"#ab63fa\",\"#FFA15A\",\"#19d3f3\",\"#FF6692\",\"#B6E880\",\"#FF97FF\",\"#FECB52\"],\"font\":{\"color\":\"#2a3f5f\"},\"geo\":{\"bgcolor\":\"white\",\"lakecolor\":\"white\",\"landcolor\":\"#E5ECF6\",\"showlakes\":true,\"showland\":true,\"subunitcolor\":\"white\"},\"hoverlabel\":{\"align\":\"left\"},\"hovermode\":\"closest\",\"mapbox\":{\"style\":\"light\"},\"paper_bgcolor\":\"white\",\"plot_bgcolor\":\"#E5ECF6\",\"polar\":{\"angularaxis\":{\"gridcolor\":\"white\",\"linecolor\":\"white\",\"ticks\":\"\"},\"bgcolor\":\"#E5ECF6\",\"radialaxis\":{\"gridcolor\":\"white\",\"linecolor\":\"white\",\"ticks\":\"\"}},\"scene\":{\"xaxis\":{\"backgroundcolor\":\"#E5ECF6\",\"gridcolor\":\"white\",\"gridwidth\":2,\"linecolor\":\"white\",\"showbackground\":true,\"ticks\":\"\",\"zerolinecolor\":\"white\"},\"yaxis\":{\"backgroundcolor\":\"#E5ECF6\",\"gridcolor\":\"white\",\"gridwidth\":2,\"linecolor\":\"white\",\"showbackground\":true,\"ticks\":\"\",\"zerolinecolor\":\"white\"},\"zaxis\":{\"backgroundcolor\":\"#E5ECF6\",\"gridcolor\":\"white\",\"gridwidth\":2,\"linecolor\":\"white\",\"showbackground\":true,\"ticks\":\"\",\"zerolinecolor\":\"white\"}},\"shapedefaults\":{\"line\":{\"color\":\"#2a3f5f\"}},\"ternary\":{\"aaxis\":{\"gridcolor\":\"white\",\"linecolor\":\"white\",\"ticks\":\"\"},\"baxis\":{\"gridcolor\":\"white\",\"linecolor\":\"white\",\"ticks\":\"\"},\"bgcolor\":\"#E5ECF6\",\"caxis\":{\"gridcolor\":\"white\",\"linecolor\":\"white\",\"ticks\":\"\"}},\"title\":{\"x\":0.05},\"xaxis\":{\"automargin\":true,\"gridcolor\":\"white\",\"linecolor\":\"white\",\"ticks\":\"\",\"title\":{\"standoff\":15},\"zerolinecolor\":\"white\",\"zerolinewidth\":2},\"yaxis\":{\"automargin\":true,\"gridcolor\":\"white\",\"linecolor\":\"white\",\"ticks\":\"\",\"title\":{\"standoff\":15},\"zerolinecolor\":\"white\",\"zerolinewidth\":2}}},\"title\":{\"font\":{\"color\":\"#4D5663\"},\"text\":\"Topic 0: Top 100 bigrams after removing stop words\"},\"xaxis\":{\"gridcolor\":\"#E1E5ED\",\"linecolor\":\"black\",\"showgrid\":true,\"tickfont\":{\"color\":\"#4D5663\"},\"title\":{\"font\":{\"color\":\"#4D5663\"},\"text\":\"\"},\"zerolinecolor\":\"#E1E5ED\"},\"yaxis\":{\"gridcolor\":\"#E1E5ED\",\"linecolor\":\"black\",\"showgrid\":true,\"tickfont\":{\"color\":\"#4D5663\"},\"title\":{\"font\":{\"color\":\"#4D5663\"},\"text\":\"Count\"},\"zerolinecolor\":\"#E1E5ED\"}},                        {\"showLink\": true, \"linkText\": \"Export to plot.ly\", \"plotlyServerURL\": \"https://plot.ly\", \"responsive\": true}                    ).then(function(){\n",
       "                            \n",
       "var gd = document.getElementById('d032af2b-6a17-49f2-be47-5cb3e2821eeb');\n",
       "var x = new MutationObserver(function (mutations, observer) {{\n",
       "        var display = window.getComputedStyle(gd).display;\n",
       "        if (!display || display === 'none') {{\n",
       "            console.log([gd, 'removed!']);\n",
       "            Plotly.purge(gd);\n",
       "            observer.disconnect();\n",
       "        }}\n",
       "}});\n",
       "\n",
       "// Listen for the removal of the full notebook cells\n",
       "var notebookContainer = gd.closest('#notebook-container');\n",
       "if (notebookContainer) {{\n",
       "    x.observe(notebookContainer, {childList: true});\n",
       "}}\n",
       "\n",
       "// Listen for the clearing of the current output cell\n",
       "var outputEl = gd.closest('.output');\n",
       "if (outputEl) {{\n",
       "    x.observe(outputEl, {childList: true});\n",
       "}}\n",
       "\n",
       "                        })                };                });            </script>        </div>"
      ]
     },
     "metadata": {},
     "output_type": "display_data"
    }
   ],
   "source": [
    "plot_model(nmf, plot = 'bigram')"
   ]
  },
  {
   "cell_type": "markdown",
   "id": "e84315b0",
   "metadata": {},
   "source": [
    "### Frequency Distribution of Topic 1\n",
    "plot_model() can also be used to analyze the same plots for specific topics. To generate plots at topic level, function requires trained model object to be passed inside plot_model(). In example below we will generate frequency distribution on Topic 1 only as defined by topic_num parameter."
   ]
  },
  {
   "cell_type": "code",
   "execution_count": 22,
   "id": "8ce85991",
   "metadata": {},
   "outputs": [
    {
     "data": {
      "text/html": [
       "        <script type=\"text/javascript\">\n",
       "        window.PlotlyConfig = {MathJaxConfig: 'local'};\n",
       "        if (window.MathJax && window.MathJax.Hub && window.MathJax.Hub.Config) {window.MathJax.Hub.Config({SVG: {font: \"STIX-Web\"}});}\n",
       "        if (typeof require !== 'undefined') {\n",
       "        require.undef(\"plotly\");\n",
       "        requirejs.config({\n",
       "            paths: {\n",
       "                'plotly': ['https://cdn.plot.ly/plotly-2.18.2.min']\n",
       "            }\n",
       "        });\n",
       "        require(['plotly'], function(Plotly) {\n",
       "            window._Plotly = Plotly;\n",
       "        });\n",
       "        }\n",
       "        </script>\n",
       "        "
      ]
     },
     "metadata": {},
     "output_type": "display_data"
    },
    {
     "data": {
      "application/vnd.plotly.v1+json": {
       "config": {
        "linkText": "Export to plot.ly",
        "plotlyServerURL": "https://plot.ly",
        "showLink": true
       },
       "data": [
        {
         "marker": {
          "color": "rgba(255, 153, 51, 0.6)",
          "line": {
           "color": "rgba(255, 153, 51, 1.0)",
           "width": 1
          }
         },
         "name": "count",
         "orientation": "v",
         "text": "",
         "type": "bar",
         "x": [
          "love",
          "life",
          "family",
          "story",
          "school",
          "know",
          "girl",
          "find",
          "make",
          "new",
          "friend",
          "world",
          "come",
          "boy",
          "time",
          "even",
          "first",
          "way",
          "people",
          "go",
          "get",
          "book",
          "want",
          "year",
          "thing",
          "day",
          "live",
          "help",
          "take",
          "tell",
          "never",
          "child",
          "young",
          "may",
          "good",
          "novel",
          "feel",
          "become",
          "see",
          "author",
          "mother",
          "learn",
          "parent",
          "secret",
          "change",
          "ever",
          "reader",
          "high",
          "meet",
          "home",
          "start",
          "leave",
          "look",
          "must",
          "work",
          "face",
          "begin",
          "well",
          "think",
          "keep",
          "fall",
          "try",
          "woman",
          "turn",
          "teen",
          "always",
          "grow",
          "black",
          "different",
          "history",
          "really",
          "together",
          "place",
          "true",
          "could",
          "also",
          "mean",
          "heart",
          "need",
          "would",
          "long",
          "name",
          "say",
          "move",
          "many",
          "lose",
          "back",
          "kid",
          "little",
          "include",
          "bring",
          "dream",
          "real",
          "great",
          "hard",
          "call",
          "right",
          "old",
          "student",
          "man"
         ],
         "y": [
          1163,
          1157,
          954,
          856,
          825,
          821,
          791,
          723,
          721,
          702,
          668,
          611,
          611,
          585,
          562,
          557,
          537,
          536,
          531,
          526,
          516,
          508,
          480,
          461,
          459,
          447,
          445,
          435,
          434,
          410,
          398,
          384,
          360,
          355,
          345,
          345,
          344,
          342,
          337,
          336,
          336,
          335,
          335,
          330,
          330,
          327,
          305,
          304,
          296,
          289,
          288,
          285,
          283,
          282,
          278,
          272,
          271,
          269,
          269,
          268,
          265,
          262,
          262,
          259,
          257,
          256,
          255,
          254,
          253,
          251,
          248,
          248,
          242,
          241,
          239,
          237,
          236,
          233,
          233,
          232,
          232,
          228,
          221,
          221,
          220,
          220,
          218,
          214,
          210,
          209,
          208,
          207,
          207,
          205,
          203,
          202,
          196,
          196,
          195,
          194
         ]
        }
       ],
       "layout": {
        "legend": {
         "bgcolor": "#F5F6F9",
         "font": {
          "color": "#4D5663"
         }
        },
        "paper_bgcolor": "#F5F6F9",
        "plot_bgcolor": "#F5F6F9",
        "template": {
         "data": {
          "bar": [
           {
            "error_x": {
             "color": "#2a3f5f"
            },
            "error_y": {
             "color": "#2a3f5f"
            },
            "marker": {
             "line": {
              "color": "#E5ECF6",
              "width": 0.5
             },
             "pattern": {
              "fillmode": "overlay",
              "size": 10,
              "solidity": 0.2
             }
            },
            "type": "bar"
           }
          ],
          "barpolar": [
           {
            "marker": {
             "line": {
              "color": "#E5ECF6",
              "width": 0.5
             },
             "pattern": {
              "fillmode": "overlay",
              "size": 10,
              "solidity": 0.2
             }
            },
            "type": "barpolar"
           }
          ],
          "carpet": [
           {
            "aaxis": {
             "endlinecolor": "#2a3f5f",
             "gridcolor": "white",
             "linecolor": "white",
             "minorgridcolor": "white",
             "startlinecolor": "#2a3f5f"
            },
            "baxis": {
             "endlinecolor": "#2a3f5f",
             "gridcolor": "white",
             "linecolor": "white",
             "minorgridcolor": "white",
             "startlinecolor": "#2a3f5f"
            },
            "type": "carpet"
           }
          ],
          "choropleth": [
           {
            "colorbar": {
             "outlinewidth": 0,
             "ticks": ""
            },
            "type": "choropleth"
           }
          ],
          "contour": [
           {
            "colorbar": {
             "outlinewidth": 0,
             "ticks": ""
            },
            "colorscale": [
             [
              0,
              "#0d0887"
             ],
             [
              0.1111111111111111,
              "#46039f"
             ],
             [
              0.2222222222222222,
              "#7201a8"
             ],
             [
              0.3333333333333333,
              "#9c179e"
             ],
             [
              0.4444444444444444,
              "#bd3786"
             ],
             [
              0.5555555555555556,
              "#d8576b"
             ],
             [
              0.6666666666666666,
              "#ed7953"
             ],
             [
              0.7777777777777778,
              "#fb9f3a"
             ],
             [
              0.8888888888888888,
              "#fdca26"
             ],
             [
              1,
              "#f0f921"
             ]
            ],
            "type": "contour"
           }
          ],
          "contourcarpet": [
           {
            "colorbar": {
             "outlinewidth": 0,
             "ticks": ""
            },
            "type": "contourcarpet"
           }
          ],
          "heatmap": [
           {
            "colorbar": {
             "outlinewidth": 0,
             "ticks": ""
            },
            "colorscale": [
             [
              0,
              "#0d0887"
             ],
             [
              0.1111111111111111,
              "#46039f"
             ],
             [
              0.2222222222222222,
              "#7201a8"
             ],
             [
              0.3333333333333333,
              "#9c179e"
             ],
             [
              0.4444444444444444,
              "#bd3786"
             ],
             [
              0.5555555555555556,
              "#d8576b"
             ],
             [
              0.6666666666666666,
              "#ed7953"
             ],
             [
              0.7777777777777778,
              "#fb9f3a"
             ],
             [
              0.8888888888888888,
              "#fdca26"
             ],
             [
              1,
              "#f0f921"
             ]
            ],
            "type": "heatmap"
           }
          ],
          "heatmapgl": [
           {
            "colorbar": {
             "outlinewidth": 0,
             "ticks": ""
            },
            "colorscale": [
             [
              0,
              "#0d0887"
             ],
             [
              0.1111111111111111,
              "#46039f"
             ],
             [
              0.2222222222222222,
              "#7201a8"
             ],
             [
              0.3333333333333333,
              "#9c179e"
             ],
             [
              0.4444444444444444,
              "#bd3786"
             ],
             [
              0.5555555555555556,
              "#d8576b"
             ],
             [
              0.6666666666666666,
              "#ed7953"
             ],
             [
              0.7777777777777778,
              "#fb9f3a"
             ],
             [
              0.8888888888888888,
              "#fdca26"
             ],
             [
              1,
              "#f0f921"
             ]
            ],
            "type": "heatmapgl"
           }
          ],
          "histogram": [
           {
            "marker": {
             "pattern": {
              "fillmode": "overlay",
              "size": 10,
              "solidity": 0.2
             }
            },
            "type": "histogram"
           }
          ],
          "histogram2d": [
           {
            "colorbar": {
             "outlinewidth": 0,
             "ticks": ""
            },
            "colorscale": [
             [
              0,
              "#0d0887"
             ],
             [
              0.1111111111111111,
              "#46039f"
             ],
             [
              0.2222222222222222,
              "#7201a8"
             ],
             [
              0.3333333333333333,
              "#9c179e"
             ],
             [
              0.4444444444444444,
              "#bd3786"
             ],
             [
              0.5555555555555556,
              "#d8576b"
             ],
             [
              0.6666666666666666,
              "#ed7953"
             ],
             [
              0.7777777777777778,
              "#fb9f3a"
             ],
             [
              0.8888888888888888,
              "#fdca26"
             ],
             [
              1,
              "#f0f921"
             ]
            ],
            "type": "histogram2d"
           }
          ],
          "histogram2dcontour": [
           {
            "colorbar": {
             "outlinewidth": 0,
             "ticks": ""
            },
            "colorscale": [
             [
              0,
              "#0d0887"
             ],
             [
              0.1111111111111111,
              "#46039f"
             ],
             [
              0.2222222222222222,
              "#7201a8"
             ],
             [
              0.3333333333333333,
              "#9c179e"
             ],
             [
              0.4444444444444444,
              "#bd3786"
             ],
             [
              0.5555555555555556,
              "#d8576b"
             ],
             [
              0.6666666666666666,
              "#ed7953"
             ],
             [
              0.7777777777777778,
              "#fb9f3a"
             ],
             [
              0.8888888888888888,
              "#fdca26"
             ],
             [
              1,
              "#f0f921"
             ]
            ],
            "type": "histogram2dcontour"
           }
          ],
          "mesh3d": [
           {
            "colorbar": {
             "outlinewidth": 0,
             "ticks": ""
            },
            "type": "mesh3d"
           }
          ],
          "parcoords": [
           {
            "line": {
             "colorbar": {
              "outlinewidth": 0,
              "ticks": ""
             }
            },
            "type": "parcoords"
           }
          ],
          "pie": [
           {
            "automargin": true,
            "type": "pie"
           }
          ],
          "scatter": [
           {
            "fillpattern": {
             "fillmode": "overlay",
             "size": 10,
             "solidity": 0.2
            },
            "type": "scatter"
           }
          ],
          "scatter3d": [
           {
            "line": {
             "colorbar": {
              "outlinewidth": 0,
              "ticks": ""
             }
            },
            "marker": {
             "colorbar": {
              "outlinewidth": 0,
              "ticks": ""
             }
            },
            "type": "scatter3d"
           }
          ],
          "scattercarpet": [
           {
            "marker": {
             "colorbar": {
              "outlinewidth": 0,
              "ticks": ""
             }
            },
            "type": "scattercarpet"
           }
          ],
          "scattergeo": [
           {
            "marker": {
             "colorbar": {
              "outlinewidth": 0,
              "ticks": ""
             }
            },
            "type": "scattergeo"
           }
          ],
          "scattergl": [
           {
            "marker": {
             "colorbar": {
              "outlinewidth": 0,
              "ticks": ""
             }
            },
            "type": "scattergl"
           }
          ],
          "scattermapbox": [
           {
            "marker": {
             "colorbar": {
              "outlinewidth": 0,
              "ticks": ""
             }
            },
            "type": "scattermapbox"
           }
          ],
          "scatterpolar": [
           {
            "marker": {
             "colorbar": {
              "outlinewidth": 0,
              "ticks": ""
             }
            },
            "type": "scatterpolar"
           }
          ],
          "scatterpolargl": [
           {
            "marker": {
             "colorbar": {
              "outlinewidth": 0,
              "ticks": ""
             }
            },
            "type": "scatterpolargl"
           }
          ],
          "scatterternary": [
           {
            "marker": {
             "colorbar": {
              "outlinewidth": 0,
              "ticks": ""
             }
            },
            "type": "scatterternary"
           }
          ],
          "surface": [
           {
            "colorbar": {
             "outlinewidth": 0,
             "ticks": ""
            },
            "colorscale": [
             [
              0,
              "#0d0887"
             ],
             [
              0.1111111111111111,
              "#46039f"
             ],
             [
              0.2222222222222222,
              "#7201a8"
             ],
             [
              0.3333333333333333,
              "#9c179e"
             ],
             [
              0.4444444444444444,
              "#bd3786"
             ],
             [
              0.5555555555555556,
              "#d8576b"
             ],
             [
              0.6666666666666666,
              "#ed7953"
             ],
             [
              0.7777777777777778,
              "#fb9f3a"
             ],
             [
              0.8888888888888888,
              "#fdca26"
             ],
             [
              1,
              "#f0f921"
             ]
            ],
            "type": "surface"
           }
          ],
          "table": [
           {
            "cells": {
             "fill": {
              "color": "#EBF0F8"
             },
             "line": {
              "color": "white"
             }
            },
            "header": {
             "fill": {
              "color": "#C8D4E3"
             },
             "line": {
              "color": "white"
             }
            },
            "type": "table"
           }
          ]
         },
         "layout": {
          "annotationdefaults": {
           "arrowcolor": "#2a3f5f",
           "arrowhead": 0,
           "arrowwidth": 1
          },
          "autotypenumbers": "strict",
          "coloraxis": {
           "colorbar": {
            "outlinewidth": 0,
            "ticks": ""
           }
          },
          "colorscale": {
           "diverging": [
            [
             0,
             "#8e0152"
            ],
            [
             0.1,
             "#c51b7d"
            ],
            [
             0.2,
             "#de77ae"
            ],
            [
             0.3,
             "#f1b6da"
            ],
            [
             0.4,
             "#fde0ef"
            ],
            [
             0.5,
             "#f7f7f7"
            ],
            [
             0.6,
             "#e6f5d0"
            ],
            [
             0.7,
             "#b8e186"
            ],
            [
             0.8,
             "#7fbc41"
            ],
            [
             0.9,
             "#4d9221"
            ],
            [
             1,
             "#276419"
            ]
           ],
           "sequential": [
            [
             0,
             "#0d0887"
            ],
            [
             0.1111111111111111,
             "#46039f"
            ],
            [
             0.2222222222222222,
             "#7201a8"
            ],
            [
             0.3333333333333333,
             "#9c179e"
            ],
            [
             0.4444444444444444,
             "#bd3786"
            ],
            [
             0.5555555555555556,
             "#d8576b"
            ],
            [
             0.6666666666666666,
             "#ed7953"
            ],
            [
             0.7777777777777778,
             "#fb9f3a"
            ],
            [
             0.8888888888888888,
             "#fdca26"
            ],
            [
             1,
             "#f0f921"
            ]
           ],
           "sequentialminus": [
            [
             0,
             "#0d0887"
            ],
            [
             0.1111111111111111,
             "#46039f"
            ],
            [
             0.2222222222222222,
             "#7201a8"
            ],
            [
             0.3333333333333333,
             "#9c179e"
            ],
            [
             0.4444444444444444,
             "#bd3786"
            ],
            [
             0.5555555555555556,
             "#d8576b"
            ],
            [
             0.6666666666666666,
             "#ed7953"
            ],
            [
             0.7777777777777778,
             "#fb9f3a"
            ],
            [
             0.8888888888888888,
             "#fdca26"
            ],
            [
             1,
             "#f0f921"
            ]
           ]
          },
          "colorway": [
           "#636efa",
           "#EF553B",
           "#00cc96",
           "#ab63fa",
           "#FFA15A",
           "#19d3f3",
           "#FF6692",
           "#B6E880",
           "#FF97FF",
           "#FECB52"
          ],
          "font": {
           "color": "#2a3f5f"
          },
          "geo": {
           "bgcolor": "white",
           "lakecolor": "white",
           "landcolor": "#E5ECF6",
           "showlakes": true,
           "showland": true,
           "subunitcolor": "white"
          },
          "hoverlabel": {
           "align": "left"
          },
          "hovermode": "closest",
          "mapbox": {
           "style": "light"
          },
          "paper_bgcolor": "white",
          "plot_bgcolor": "#E5ECF6",
          "polar": {
           "angularaxis": {
            "gridcolor": "white",
            "linecolor": "white",
            "ticks": ""
           },
           "bgcolor": "#E5ECF6",
           "radialaxis": {
            "gridcolor": "white",
            "linecolor": "white",
            "ticks": ""
           }
          },
          "scene": {
           "xaxis": {
            "backgroundcolor": "#E5ECF6",
            "gridcolor": "white",
            "gridwidth": 2,
            "linecolor": "white",
            "showbackground": true,
            "ticks": "",
            "zerolinecolor": "white"
           },
           "yaxis": {
            "backgroundcolor": "#E5ECF6",
            "gridcolor": "white",
            "gridwidth": 2,
            "linecolor": "white",
            "showbackground": true,
            "ticks": "",
            "zerolinecolor": "white"
           },
           "zaxis": {
            "backgroundcolor": "#E5ECF6",
            "gridcolor": "white",
            "gridwidth": 2,
            "linecolor": "white",
            "showbackground": true,
            "ticks": "",
            "zerolinecolor": "white"
           }
          },
          "shapedefaults": {
           "line": {
            "color": "#2a3f5f"
           }
          },
          "ternary": {
           "aaxis": {
            "gridcolor": "white",
            "linecolor": "white",
            "ticks": ""
           },
           "baxis": {
            "gridcolor": "white",
            "linecolor": "white",
            "ticks": ""
           },
           "bgcolor": "#E5ECF6",
           "caxis": {
            "gridcolor": "white",
            "linecolor": "white",
            "ticks": ""
           }
          },
          "title": {
           "x": 0.05
          },
          "xaxis": {
           "automargin": true,
           "gridcolor": "white",
           "linecolor": "white",
           "ticks": "",
           "title": {
            "standoff": 15
           },
           "zerolinecolor": "white",
           "zerolinewidth": 2
          },
          "yaxis": {
           "automargin": true,
           "gridcolor": "white",
           "linecolor": "white",
           "ticks": "",
           "title": {
            "standoff": 15
           },
           "zerolinecolor": "white",
           "zerolinewidth": 2
          }
         }
        },
        "title": {
         "font": {
          "color": "#4D5663"
         },
         "text": "Topic 1: Top 100 words after removing stop words"
        },
        "xaxis": {
         "gridcolor": "#E1E5ED",
         "linecolor": "black",
         "showgrid": true,
         "tickfont": {
          "color": "#4D5663"
         },
         "title": {
          "font": {
           "color": "#4D5663"
          },
          "text": ""
         },
         "zerolinecolor": "#E1E5ED"
        },
        "yaxis": {
         "gridcolor": "#E1E5ED",
         "linecolor": "black",
         "showgrid": true,
         "tickfont": {
          "color": "#4D5663"
         },
         "title": {
          "font": {
           "color": "#4D5663"
          },
          "text": "Count"
         },
         "zerolinecolor": "#E1E5ED"
        }
       }
      },
      "text/html": [
       "<div>                            <div id=\"c036e76a-17ad-4e4b-a54e-091297c9f6fa\" class=\"plotly-graph-div\" style=\"height:525px; width:100%;\"></div>            <script type=\"text/javascript\">                require([\"plotly\"], function(Plotly) {                    window.PLOTLYENV=window.PLOTLYENV || {};\n",
       "                    window.PLOTLYENV.BASE_URL='https://plot.ly';                                    if (document.getElementById(\"c036e76a-17ad-4e4b-a54e-091297c9f6fa\")) {                    Plotly.newPlot(                        \"c036e76a-17ad-4e4b-a54e-091297c9f6fa\",                        [{\"marker\":{\"color\":\"rgba(255, 153, 51, 0.6)\",\"line\":{\"color\":\"rgba(255, 153, 51, 1.0)\",\"width\":1}},\"name\":\"count\",\"orientation\":\"v\",\"text\":\"\",\"x\":[\"love\",\"life\",\"family\",\"story\",\"school\",\"know\",\"girl\",\"find\",\"make\",\"new\",\"friend\",\"world\",\"come\",\"boy\",\"time\",\"even\",\"first\",\"way\",\"people\",\"go\",\"get\",\"book\",\"want\",\"year\",\"thing\",\"day\",\"live\",\"help\",\"take\",\"tell\",\"never\",\"child\",\"young\",\"may\",\"good\",\"novel\",\"feel\",\"become\",\"see\",\"author\",\"mother\",\"learn\",\"parent\",\"secret\",\"change\",\"ever\",\"reader\",\"high\",\"meet\",\"home\",\"start\",\"leave\",\"look\",\"must\",\"work\",\"face\",\"begin\",\"well\",\"think\",\"keep\",\"fall\",\"try\",\"woman\",\"turn\",\"teen\",\"always\",\"grow\",\"black\",\"different\",\"history\",\"really\",\"together\",\"place\",\"true\",\"could\",\"also\",\"mean\",\"heart\",\"need\",\"would\",\"long\",\"name\",\"say\",\"move\",\"many\",\"lose\",\"back\",\"kid\",\"little\",\"include\",\"bring\",\"dream\",\"real\",\"great\",\"hard\",\"call\",\"right\",\"old\",\"student\",\"man\"],\"y\":[1163,1157,954,856,825,821,791,723,721,702,668,611,611,585,562,557,537,536,531,526,516,508,480,461,459,447,445,435,434,410,398,384,360,355,345,345,344,342,337,336,336,335,335,330,330,327,305,304,296,289,288,285,283,282,278,272,271,269,269,268,265,262,262,259,257,256,255,254,253,251,248,248,242,241,239,237,236,233,233,232,232,228,221,221,220,220,218,214,210,209,208,207,207,205,203,202,196,196,195,194],\"type\":\"bar\"}],                        {\"legend\":{\"bgcolor\":\"#F5F6F9\",\"font\":{\"color\":\"#4D5663\"}},\"paper_bgcolor\":\"#F5F6F9\",\"plot_bgcolor\":\"#F5F6F9\",\"template\":{\"data\":{\"barpolar\":[{\"marker\":{\"line\":{\"color\":\"#E5ECF6\",\"width\":0.5},\"pattern\":{\"fillmode\":\"overlay\",\"size\":10,\"solidity\":0.2}},\"type\":\"barpolar\"}],\"bar\":[{\"error_x\":{\"color\":\"#2a3f5f\"},\"error_y\":{\"color\":\"#2a3f5f\"},\"marker\":{\"line\":{\"color\":\"#E5ECF6\",\"width\":0.5},\"pattern\":{\"fillmode\":\"overlay\",\"size\":10,\"solidity\":0.2}},\"type\":\"bar\"}],\"carpet\":[{\"aaxis\":{\"endlinecolor\":\"#2a3f5f\",\"gridcolor\":\"white\",\"linecolor\":\"white\",\"minorgridcolor\":\"white\",\"startlinecolor\":\"#2a3f5f\"},\"baxis\":{\"endlinecolor\":\"#2a3f5f\",\"gridcolor\":\"white\",\"linecolor\":\"white\",\"minorgridcolor\":\"white\",\"startlinecolor\":\"#2a3f5f\"},\"type\":\"carpet\"}],\"choropleth\":[{\"colorbar\":{\"outlinewidth\":0,\"ticks\":\"\"},\"type\":\"choropleth\"}],\"contourcarpet\":[{\"colorbar\":{\"outlinewidth\":0,\"ticks\":\"\"},\"type\":\"contourcarpet\"}],\"contour\":[{\"colorbar\":{\"outlinewidth\":0,\"ticks\":\"\"},\"colorscale\":[[0.0,\"#0d0887\"],[0.1111111111111111,\"#46039f\"],[0.2222222222222222,\"#7201a8\"],[0.3333333333333333,\"#9c179e\"],[0.4444444444444444,\"#bd3786\"],[0.5555555555555556,\"#d8576b\"],[0.6666666666666666,\"#ed7953\"],[0.7777777777777778,\"#fb9f3a\"],[0.8888888888888888,\"#fdca26\"],[1.0,\"#f0f921\"]],\"type\":\"contour\"}],\"heatmapgl\":[{\"colorbar\":{\"outlinewidth\":0,\"ticks\":\"\"},\"colorscale\":[[0.0,\"#0d0887\"],[0.1111111111111111,\"#46039f\"],[0.2222222222222222,\"#7201a8\"],[0.3333333333333333,\"#9c179e\"],[0.4444444444444444,\"#bd3786\"],[0.5555555555555556,\"#d8576b\"],[0.6666666666666666,\"#ed7953\"],[0.7777777777777778,\"#fb9f3a\"],[0.8888888888888888,\"#fdca26\"],[1.0,\"#f0f921\"]],\"type\":\"heatmapgl\"}],\"heatmap\":[{\"colorbar\":{\"outlinewidth\":0,\"ticks\":\"\"},\"colorscale\":[[0.0,\"#0d0887\"],[0.1111111111111111,\"#46039f\"],[0.2222222222222222,\"#7201a8\"],[0.3333333333333333,\"#9c179e\"],[0.4444444444444444,\"#bd3786\"],[0.5555555555555556,\"#d8576b\"],[0.6666666666666666,\"#ed7953\"],[0.7777777777777778,\"#fb9f3a\"],[0.8888888888888888,\"#fdca26\"],[1.0,\"#f0f921\"]],\"type\":\"heatmap\"}],\"histogram2dcontour\":[{\"colorbar\":{\"outlinewidth\":0,\"ticks\":\"\"},\"colorscale\":[[0.0,\"#0d0887\"],[0.1111111111111111,\"#46039f\"],[0.2222222222222222,\"#7201a8\"],[0.3333333333333333,\"#9c179e\"],[0.4444444444444444,\"#bd3786\"],[0.5555555555555556,\"#d8576b\"],[0.6666666666666666,\"#ed7953\"],[0.7777777777777778,\"#fb9f3a\"],[0.8888888888888888,\"#fdca26\"],[1.0,\"#f0f921\"]],\"type\":\"histogram2dcontour\"}],\"histogram2d\":[{\"colorbar\":{\"outlinewidth\":0,\"ticks\":\"\"},\"colorscale\":[[0.0,\"#0d0887\"],[0.1111111111111111,\"#46039f\"],[0.2222222222222222,\"#7201a8\"],[0.3333333333333333,\"#9c179e\"],[0.4444444444444444,\"#bd3786\"],[0.5555555555555556,\"#d8576b\"],[0.6666666666666666,\"#ed7953\"],[0.7777777777777778,\"#fb9f3a\"],[0.8888888888888888,\"#fdca26\"],[1.0,\"#f0f921\"]],\"type\":\"histogram2d\"}],\"histogram\":[{\"marker\":{\"pattern\":{\"fillmode\":\"overlay\",\"size\":10,\"solidity\":0.2}},\"type\":\"histogram\"}],\"mesh3d\":[{\"colorbar\":{\"outlinewidth\":0,\"ticks\":\"\"},\"type\":\"mesh3d\"}],\"parcoords\":[{\"line\":{\"colorbar\":{\"outlinewidth\":0,\"ticks\":\"\"}},\"type\":\"parcoords\"}],\"pie\":[{\"automargin\":true,\"type\":\"pie\"}],\"scatter3d\":[{\"line\":{\"colorbar\":{\"outlinewidth\":0,\"ticks\":\"\"}},\"marker\":{\"colorbar\":{\"outlinewidth\":0,\"ticks\":\"\"}},\"type\":\"scatter3d\"}],\"scattercarpet\":[{\"marker\":{\"colorbar\":{\"outlinewidth\":0,\"ticks\":\"\"}},\"type\":\"scattercarpet\"}],\"scattergeo\":[{\"marker\":{\"colorbar\":{\"outlinewidth\":0,\"ticks\":\"\"}},\"type\":\"scattergeo\"}],\"scattergl\":[{\"marker\":{\"colorbar\":{\"outlinewidth\":0,\"ticks\":\"\"}},\"type\":\"scattergl\"}],\"scattermapbox\":[{\"marker\":{\"colorbar\":{\"outlinewidth\":0,\"ticks\":\"\"}},\"type\":\"scattermapbox\"}],\"scatterpolargl\":[{\"marker\":{\"colorbar\":{\"outlinewidth\":0,\"ticks\":\"\"}},\"type\":\"scatterpolargl\"}],\"scatterpolar\":[{\"marker\":{\"colorbar\":{\"outlinewidth\":0,\"ticks\":\"\"}},\"type\":\"scatterpolar\"}],\"scatter\":[{\"fillpattern\":{\"fillmode\":\"overlay\",\"size\":10,\"solidity\":0.2},\"type\":\"scatter\"}],\"scatterternary\":[{\"marker\":{\"colorbar\":{\"outlinewidth\":0,\"ticks\":\"\"}},\"type\":\"scatterternary\"}],\"surface\":[{\"colorbar\":{\"outlinewidth\":0,\"ticks\":\"\"},\"colorscale\":[[0.0,\"#0d0887\"],[0.1111111111111111,\"#46039f\"],[0.2222222222222222,\"#7201a8\"],[0.3333333333333333,\"#9c179e\"],[0.4444444444444444,\"#bd3786\"],[0.5555555555555556,\"#d8576b\"],[0.6666666666666666,\"#ed7953\"],[0.7777777777777778,\"#fb9f3a\"],[0.8888888888888888,\"#fdca26\"],[1.0,\"#f0f921\"]],\"type\":\"surface\"}],\"table\":[{\"cells\":{\"fill\":{\"color\":\"#EBF0F8\"},\"line\":{\"color\":\"white\"}},\"header\":{\"fill\":{\"color\":\"#C8D4E3\"},\"line\":{\"color\":\"white\"}},\"type\":\"table\"}]},\"layout\":{\"annotationdefaults\":{\"arrowcolor\":\"#2a3f5f\",\"arrowhead\":0,\"arrowwidth\":1},\"autotypenumbers\":\"strict\",\"coloraxis\":{\"colorbar\":{\"outlinewidth\":0,\"ticks\":\"\"}},\"colorscale\":{\"diverging\":[[0,\"#8e0152\"],[0.1,\"#c51b7d\"],[0.2,\"#de77ae\"],[0.3,\"#f1b6da\"],[0.4,\"#fde0ef\"],[0.5,\"#f7f7f7\"],[0.6,\"#e6f5d0\"],[0.7,\"#b8e186\"],[0.8,\"#7fbc41\"],[0.9,\"#4d9221\"],[1,\"#276419\"]],\"sequential\":[[0.0,\"#0d0887\"],[0.1111111111111111,\"#46039f\"],[0.2222222222222222,\"#7201a8\"],[0.3333333333333333,\"#9c179e\"],[0.4444444444444444,\"#bd3786\"],[0.5555555555555556,\"#d8576b\"],[0.6666666666666666,\"#ed7953\"],[0.7777777777777778,\"#fb9f3a\"],[0.8888888888888888,\"#fdca26\"],[1.0,\"#f0f921\"]],\"sequentialminus\":[[0.0,\"#0d0887\"],[0.1111111111111111,\"#46039f\"],[0.2222222222222222,\"#7201a8\"],[0.3333333333333333,\"#9c179e\"],[0.4444444444444444,\"#bd3786\"],[0.5555555555555556,\"#d8576b\"],[0.6666666666666666,\"#ed7953\"],[0.7777777777777778,\"#fb9f3a\"],[0.8888888888888888,\"#fdca26\"],[1.0,\"#f0f921\"]]},\"colorway\":[\"#636efa\",\"#EF553B\",\"#00cc96\",\"#ab63fa\",\"#FFA15A\",\"#19d3f3\",\"#FF6692\",\"#B6E880\",\"#FF97FF\",\"#FECB52\"],\"font\":{\"color\":\"#2a3f5f\"},\"geo\":{\"bgcolor\":\"white\",\"lakecolor\":\"white\",\"landcolor\":\"#E5ECF6\",\"showlakes\":true,\"showland\":true,\"subunitcolor\":\"white\"},\"hoverlabel\":{\"align\":\"left\"},\"hovermode\":\"closest\",\"mapbox\":{\"style\":\"light\"},\"paper_bgcolor\":\"white\",\"plot_bgcolor\":\"#E5ECF6\",\"polar\":{\"angularaxis\":{\"gridcolor\":\"white\",\"linecolor\":\"white\",\"ticks\":\"\"},\"bgcolor\":\"#E5ECF6\",\"radialaxis\":{\"gridcolor\":\"white\",\"linecolor\":\"white\",\"ticks\":\"\"}},\"scene\":{\"xaxis\":{\"backgroundcolor\":\"#E5ECF6\",\"gridcolor\":\"white\",\"gridwidth\":2,\"linecolor\":\"white\",\"showbackground\":true,\"ticks\":\"\",\"zerolinecolor\":\"white\"},\"yaxis\":{\"backgroundcolor\":\"#E5ECF6\",\"gridcolor\":\"white\",\"gridwidth\":2,\"linecolor\":\"white\",\"showbackground\":true,\"ticks\":\"\",\"zerolinecolor\":\"white\"},\"zaxis\":{\"backgroundcolor\":\"#E5ECF6\",\"gridcolor\":\"white\",\"gridwidth\":2,\"linecolor\":\"white\",\"showbackground\":true,\"ticks\":\"\",\"zerolinecolor\":\"white\"}},\"shapedefaults\":{\"line\":{\"color\":\"#2a3f5f\"}},\"ternary\":{\"aaxis\":{\"gridcolor\":\"white\",\"linecolor\":\"white\",\"ticks\":\"\"},\"baxis\":{\"gridcolor\":\"white\",\"linecolor\":\"white\",\"ticks\":\"\"},\"bgcolor\":\"#E5ECF6\",\"caxis\":{\"gridcolor\":\"white\",\"linecolor\":\"white\",\"ticks\":\"\"}},\"title\":{\"x\":0.05},\"xaxis\":{\"automargin\":true,\"gridcolor\":\"white\",\"linecolor\":\"white\",\"ticks\":\"\",\"title\":{\"standoff\":15},\"zerolinecolor\":\"white\",\"zerolinewidth\":2},\"yaxis\":{\"automargin\":true,\"gridcolor\":\"white\",\"linecolor\":\"white\",\"ticks\":\"\",\"title\":{\"standoff\":15},\"zerolinecolor\":\"white\",\"zerolinewidth\":2}}},\"title\":{\"font\":{\"color\":\"#4D5663\"},\"text\":\"Topic 1: Top 100 words after removing stop words\"},\"xaxis\":{\"gridcolor\":\"#E1E5ED\",\"linecolor\":\"black\",\"showgrid\":true,\"tickfont\":{\"color\":\"#4D5663\"},\"title\":{\"font\":{\"color\":\"#4D5663\"},\"text\":\"\"},\"zerolinecolor\":\"#E1E5ED\"},\"yaxis\":{\"gridcolor\":\"#E1E5ED\",\"linecolor\":\"black\",\"showgrid\":true,\"tickfont\":{\"color\":\"#4D5663\"},\"title\":{\"font\":{\"color\":\"#4D5663\"},\"text\":\"Count\"},\"zerolinecolor\":\"#E1E5ED\"}},                        {\"showLink\": true, \"linkText\": \"Export to plot.ly\", \"plotlyServerURL\": \"https://plot.ly\", \"responsive\": true}                    ).then(function(){\n",
       "                            \n",
       "var gd = document.getElementById('c036e76a-17ad-4e4b-a54e-091297c9f6fa');\n",
       "var x = new MutationObserver(function (mutations, observer) {{\n",
       "        var display = window.getComputedStyle(gd).display;\n",
       "        if (!display || display === 'none') {{\n",
       "            console.log([gd, 'removed!']);\n",
       "            Plotly.purge(gd);\n",
       "            observer.disconnect();\n",
       "        }}\n",
       "}});\n",
       "\n",
       "// Listen for the removal of the full notebook cells\n",
       "var notebookContainer = gd.closest('#notebook-container');\n",
       "if (notebookContainer) {{\n",
       "    x.observe(notebookContainer, {childList: true});\n",
       "}}\n",
       "\n",
       "// Listen for the clearing of the current output cell\n",
       "var outputEl = gd.closest('.output');\n",
       "if (outputEl) {{\n",
       "    x.observe(outputEl, {childList: true});\n",
       "}}\n",
       "\n",
       "                        })                };                });            </script>        </div>"
      ]
     },
     "metadata": {},
     "output_type": "display_data"
    }
   ],
   "source": [
    "plot_model(nmf, plot = 'frequency', topic_num = 'Topic 1')"
   ]
  },
  {
   "cell_type": "markdown",
   "id": "62a355dc",
   "metadata": {},
   "source": [
    "### 9.4 Topic Distribution"
   ]
  },
  {
   "cell_type": "code",
   "execution_count": 23,
   "id": "060f384e",
   "metadata": {},
   "outputs": [
    {
     "data": {
      "text/html": [
       "        <script type=\"text/javascript\">\n",
       "        window.PlotlyConfig = {MathJaxConfig: 'local'};\n",
       "        if (window.MathJax && window.MathJax.Hub && window.MathJax.Hub.Config) {window.MathJax.Hub.Config({SVG: {font: \"STIX-Web\"}});}\n",
       "        if (typeof require !== 'undefined') {\n",
       "        require.undef(\"plotly\");\n",
       "        requirejs.config({\n",
       "            paths: {\n",
       "                'plotly': ['https://cdn.plot.ly/plotly-2.18.2.min']\n",
       "            }\n",
       "        });\n",
       "        require(['plotly'], function(Plotly) {\n",
       "            window._Plotly = Plotly;\n",
       "        });\n",
       "        }\n",
       "        </script>\n",
       "        "
      ]
     },
     "metadata": {},
     "output_type": "display_data"
    },
    {
     "data": {
      "application/vnd.plotly.v1+json": {
       "config": {
        "plotlyServerURL": "https://plot.ly"
       },
       "data": [
        {
         "alignmentgroup": "True",
         "customdata": [
          [
           "N, A"
          ],
          [
           "N, A"
          ],
          [
           "N, A"
          ],
          [
           "N, A"
          ],
          [
           "N, A"
          ],
          [
           "N, A"
          ],
          [
           "N, A"
          ],
          [
           "N, A"
          ]
         ],
         "hovertemplate": "Topic=%{x}<br>Documents=%{y}<br>Keyword=%{customdata[0]}<extra></extra>",
         "legendgroup": "",
         "marker": {
          "color": "#636efa",
          "pattern": {
           "shape": ""
          }
         },
         "name": "",
         "offsetgroup": "",
         "orientation": "v",
         "showlegend": false,
         "textposition": "auto",
         "type": "bar",
         "x": [
          "Topic 0",
          "Topic 1",
          "Topic 2",
          "Topic 3",
          "Topic 4",
          "Topic 5",
          "Topic 6",
          "Topic 7"
         ],
         "xaxis": "x",
         "y": [
          41,
          2301,
          29,
          52,
          37,
          23,
          32,
          17
         ],
         "yaxis": "y"
        }
       ],
       "layout": {
        "barmode": "relative",
        "legend": {
         "tracegroupgap": 0
        },
        "template": {
         "data": {
          "bar": [
           {
            "error_x": {
             "color": "#2a3f5f"
            },
            "error_y": {
             "color": "#2a3f5f"
            },
            "marker": {
             "line": {
              "color": "#E5ECF6",
              "width": 0.5
             },
             "pattern": {
              "fillmode": "overlay",
              "size": 10,
              "solidity": 0.2
             }
            },
            "type": "bar"
           }
          ],
          "barpolar": [
           {
            "marker": {
             "line": {
              "color": "#E5ECF6",
              "width": 0.5
             },
             "pattern": {
              "fillmode": "overlay",
              "size": 10,
              "solidity": 0.2
             }
            },
            "type": "barpolar"
           }
          ],
          "carpet": [
           {
            "aaxis": {
             "endlinecolor": "#2a3f5f",
             "gridcolor": "white",
             "linecolor": "white",
             "minorgridcolor": "white",
             "startlinecolor": "#2a3f5f"
            },
            "baxis": {
             "endlinecolor": "#2a3f5f",
             "gridcolor": "white",
             "linecolor": "white",
             "minorgridcolor": "white",
             "startlinecolor": "#2a3f5f"
            },
            "type": "carpet"
           }
          ],
          "choropleth": [
           {
            "colorbar": {
             "outlinewidth": 0,
             "ticks": ""
            },
            "type": "choropleth"
           }
          ],
          "contour": [
           {
            "colorbar": {
             "outlinewidth": 0,
             "ticks": ""
            },
            "colorscale": [
             [
              0,
              "#0d0887"
             ],
             [
              0.1111111111111111,
              "#46039f"
             ],
             [
              0.2222222222222222,
              "#7201a8"
             ],
             [
              0.3333333333333333,
              "#9c179e"
             ],
             [
              0.4444444444444444,
              "#bd3786"
             ],
             [
              0.5555555555555556,
              "#d8576b"
             ],
             [
              0.6666666666666666,
              "#ed7953"
             ],
             [
              0.7777777777777778,
              "#fb9f3a"
             ],
             [
              0.8888888888888888,
              "#fdca26"
             ],
             [
              1,
              "#f0f921"
             ]
            ],
            "type": "contour"
           }
          ],
          "contourcarpet": [
           {
            "colorbar": {
             "outlinewidth": 0,
             "ticks": ""
            },
            "type": "contourcarpet"
           }
          ],
          "heatmap": [
           {
            "colorbar": {
             "outlinewidth": 0,
             "ticks": ""
            },
            "colorscale": [
             [
              0,
              "#0d0887"
             ],
             [
              0.1111111111111111,
              "#46039f"
             ],
             [
              0.2222222222222222,
              "#7201a8"
             ],
             [
              0.3333333333333333,
              "#9c179e"
             ],
             [
              0.4444444444444444,
              "#bd3786"
             ],
             [
              0.5555555555555556,
              "#d8576b"
             ],
             [
              0.6666666666666666,
              "#ed7953"
             ],
             [
              0.7777777777777778,
              "#fb9f3a"
             ],
             [
              0.8888888888888888,
              "#fdca26"
             ],
             [
              1,
              "#f0f921"
             ]
            ],
            "type": "heatmap"
           }
          ],
          "heatmapgl": [
           {
            "colorbar": {
             "outlinewidth": 0,
             "ticks": ""
            },
            "colorscale": [
             [
              0,
              "#0d0887"
             ],
             [
              0.1111111111111111,
              "#46039f"
             ],
             [
              0.2222222222222222,
              "#7201a8"
             ],
             [
              0.3333333333333333,
              "#9c179e"
             ],
             [
              0.4444444444444444,
              "#bd3786"
             ],
             [
              0.5555555555555556,
              "#d8576b"
             ],
             [
              0.6666666666666666,
              "#ed7953"
             ],
             [
              0.7777777777777778,
              "#fb9f3a"
             ],
             [
              0.8888888888888888,
              "#fdca26"
             ],
             [
              1,
              "#f0f921"
             ]
            ],
            "type": "heatmapgl"
           }
          ],
          "histogram": [
           {
            "marker": {
             "pattern": {
              "fillmode": "overlay",
              "size": 10,
              "solidity": 0.2
             }
            },
            "type": "histogram"
           }
          ],
          "histogram2d": [
           {
            "colorbar": {
             "outlinewidth": 0,
             "ticks": ""
            },
            "colorscale": [
             [
              0,
              "#0d0887"
             ],
             [
              0.1111111111111111,
              "#46039f"
             ],
             [
              0.2222222222222222,
              "#7201a8"
             ],
             [
              0.3333333333333333,
              "#9c179e"
             ],
             [
              0.4444444444444444,
              "#bd3786"
             ],
             [
              0.5555555555555556,
              "#d8576b"
             ],
             [
              0.6666666666666666,
              "#ed7953"
             ],
             [
              0.7777777777777778,
              "#fb9f3a"
             ],
             [
              0.8888888888888888,
              "#fdca26"
             ],
             [
              1,
              "#f0f921"
             ]
            ],
            "type": "histogram2d"
           }
          ],
          "histogram2dcontour": [
           {
            "colorbar": {
             "outlinewidth": 0,
             "ticks": ""
            },
            "colorscale": [
             [
              0,
              "#0d0887"
             ],
             [
              0.1111111111111111,
              "#46039f"
             ],
             [
              0.2222222222222222,
              "#7201a8"
             ],
             [
              0.3333333333333333,
              "#9c179e"
             ],
             [
              0.4444444444444444,
              "#bd3786"
             ],
             [
              0.5555555555555556,
              "#d8576b"
             ],
             [
              0.6666666666666666,
              "#ed7953"
             ],
             [
              0.7777777777777778,
              "#fb9f3a"
             ],
             [
              0.8888888888888888,
              "#fdca26"
             ],
             [
              1,
              "#f0f921"
             ]
            ],
            "type": "histogram2dcontour"
           }
          ],
          "mesh3d": [
           {
            "colorbar": {
             "outlinewidth": 0,
             "ticks": ""
            },
            "type": "mesh3d"
           }
          ],
          "parcoords": [
           {
            "line": {
             "colorbar": {
              "outlinewidth": 0,
              "ticks": ""
             }
            },
            "type": "parcoords"
           }
          ],
          "pie": [
           {
            "automargin": true,
            "type": "pie"
           }
          ],
          "scatter": [
           {
            "fillpattern": {
             "fillmode": "overlay",
             "size": 10,
             "solidity": 0.2
            },
            "type": "scatter"
           }
          ],
          "scatter3d": [
           {
            "line": {
             "colorbar": {
              "outlinewidth": 0,
              "ticks": ""
             }
            },
            "marker": {
             "colorbar": {
              "outlinewidth": 0,
              "ticks": ""
             }
            },
            "type": "scatter3d"
           }
          ],
          "scattercarpet": [
           {
            "marker": {
             "colorbar": {
              "outlinewidth": 0,
              "ticks": ""
             }
            },
            "type": "scattercarpet"
           }
          ],
          "scattergeo": [
           {
            "marker": {
             "colorbar": {
              "outlinewidth": 0,
              "ticks": ""
             }
            },
            "type": "scattergeo"
           }
          ],
          "scattergl": [
           {
            "marker": {
             "colorbar": {
              "outlinewidth": 0,
              "ticks": ""
             }
            },
            "type": "scattergl"
           }
          ],
          "scattermapbox": [
           {
            "marker": {
             "colorbar": {
              "outlinewidth": 0,
              "ticks": ""
             }
            },
            "type": "scattermapbox"
           }
          ],
          "scatterpolar": [
           {
            "marker": {
             "colorbar": {
              "outlinewidth": 0,
              "ticks": ""
             }
            },
            "type": "scatterpolar"
           }
          ],
          "scatterpolargl": [
           {
            "marker": {
             "colorbar": {
              "outlinewidth": 0,
              "ticks": ""
             }
            },
            "type": "scatterpolargl"
           }
          ],
          "scatterternary": [
           {
            "marker": {
             "colorbar": {
              "outlinewidth": 0,
              "ticks": ""
             }
            },
            "type": "scatterternary"
           }
          ],
          "surface": [
           {
            "colorbar": {
             "outlinewidth": 0,
             "ticks": ""
            },
            "colorscale": [
             [
              0,
              "#0d0887"
             ],
             [
              0.1111111111111111,
              "#46039f"
             ],
             [
              0.2222222222222222,
              "#7201a8"
             ],
             [
              0.3333333333333333,
              "#9c179e"
             ],
             [
              0.4444444444444444,
              "#bd3786"
             ],
             [
              0.5555555555555556,
              "#d8576b"
             ],
             [
              0.6666666666666666,
              "#ed7953"
             ],
             [
              0.7777777777777778,
              "#fb9f3a"
             ],
             [
              0.8888888888888888,
              "#fdca26"
             ],
             [
              1,
              "#f0f921"
             ]
            ],
            "type": "surface"
           }
          ],
          "table": [
           {
            "cells": {
             "fill": {
              "color": "#EBF0F8"
             },
             "line": {
              "color": "white"
             }
            },
            "header": {
             "fill": {
              "color": "#C8D4E3"
             },
             "line": {
              "color": "white"
             }
            },
            "type": "table"
           }
          ]
         },
         "layout": {
          "annotationdefaults": {
           "arrowcolor": "#2a3f5f",
           "arrowhead": 0,
           "arrowwidth": 1
          },
          "autotypenumbers": "strict",
          "coloraxis": {
           "colorbar": {
            "outlinewidth": 0,
            "ticks": ""
           }
          },
          "colorscale": {
           "diverging": [
            [
             0,
             "#8e0152"
            ],
            [
             0.1,
             "#c51b7d"
            ],
            [
             0.2,
             "#de77ae"
            ],
            [
             0.3,
             "#f1b6da"
            ],
            [
             0.4,
             "#fde0ef"
            ],
            [
             0.5,
             "#f7f7f7"
            ],
            [
             0.6,
             "#e6f5d0"
            ],
            [
             0.7,
             "#b8e186"
            ],
            [
             0.8,
             "#7fbc41"
            ],
            [
             0.9,
             "#4d9221"
            ],
            [
             1,
             "#276419"
            ]
           ],
           "sequential": [
            [
             0,
             "#0d0887"
            ],
            [
             0.1111111111111111,
             "#46039f"
            ],
            [
             0.2222222222222222,
             "#7201a8"
            ],
            [
             0.3333333333333333,
             "#9c179e"
            ],
            [
             0.4444444444444444,
             "#bd3786"
            ],
            [
             0.5555555555555556,
             "#d8576b"
            ],
            [
             0.6666666666666666,
             "#ed7953"
            ],
            [
             0.7777777777777778,
             "#fb9f3a"
            ],
            [
             0.8888888888888888,
             "#fdca26"
            ],
            [
             1,
             "#f0f921"
            ]
           ],
           "sequentialminus": [
            [
             0,
             "#0d0887"
            ],
            [
             0.1111111111111111,
             "#46039f"
            ],
            [
             0.2222222222222222,
             "#7201a8"
            ],
            [
             0.3333333333333333,
             "#9c179e"
            ],
            [
             0.4444444444444444,
             "#bd3786"
            ],
            [
             0.5555555555555556,
             "#d8576b"
            ],
            [
             0.6666666666666666,
             "#ed7953"
            ],
            [
             0.7777777777777778,
             "#fb9f3a"
            ],
            [
             0.8888888888888888,
             "#fdca26"
            ],
            [
             1,
             "#f0f921"
            ]
           ]
          },
          "colorway": [
           "#636efa",
           "#EF553B",
           "#00cc96",
           "#ab63fa",
           "#FFA15A",
           "#19d3f3",
           "#FF6692",
           "#B6E880",
           "#FF97FF",
           "#FECB52"
          ],
          "font": {
           "color": "#2a3f5f"
          },
          "geo": {
           "bgcolor": "white",
           "lakecolor": "white",
           "landcolor": "#E5ECF6",
           "showlakes": true,
           "showland": true,
           "subunitcolor": "white"
          },
          "hoverlabel": {
           "align": "left"
          },
          "hovermode": "closest",
          "mapbox": {
           "style": "light"
          },
          "paper_bgcolor": "white",
          "plot_bgcolor": "#E5ECF6",
          "polar": {
           "angularaxis": {
            "gridcolor": "white",
            "linecolor": "white",
            "ticks": ""
           },
           "bgcolor": "#E5ECF6",
           "radialaxis": {
            "gridcolor": "white",
            "linecolor": "white",
            "ticks": ""
           }
          },
          "scene": {
           "xaxis": {
            "backgroundcolor": "#E5ECF6",
            "gridcolor": "white",
            "gridwidth": 2,
            "linecolor": "white",
            "showbackground": true,
            "ticks": "",
            "zerolinecolor": "white"
           },
           "yaxis": {
            "backgroundcolor": "#E5ECF6",
            "gridcolor": "white",
            "gridwidth": 2,
            "linecolor": "white",
            "showbackground": true,
            "ticks": "",
            "zerolinecolor": "white"
           },
           "zaxis": {
            "backgroundcolor": "#E5ECF6",
            "gridcolor": "white",
            "gridwidth": 2,
            "linecolor": "white",
            "showbackground": true,
            "ticks": "",
            "zerolinecolor": "white"
           }
          },
          "shapedefaults": {
           "line": {
            "color": "#2a3f5f"
           }
          },
          "ternary": {
           "aaxis": {
            "gridcolor": "white",
            "linecolor": "white",
            "ticks": ""
           },
           "baxis": {
            "gridcolor": "white",
            "linecolor": "white",
            "ticks": ""
           },
           "bgcolor": "#E5ECF6",
           "caxis": {
            "gridcolor": "white",
            "linecolor": "white",
            "ticks": ""
           }
          },
          "title": {
           "x": 0.05
          },
          "xaxis": {
           "automargin": true,
           "gridcolor": "white",
           "linecolor": "white",
           "ticks": "",
           "title": {
            "standoff": 15
           },
           "zerolinecolor": "white",
           "zerolinewidth": 2
          },
          "yaxis": {
           "automargin": true,
           "gridcolor": "white",
           "linecolor": "white",
           "ticks": "",
           "title": {
            "standoff": 15
           },
           "zerolinecolor": "white",
           "zerolinewidth": 2
          }
         }
        },
        "title": {
         "text": "Document Distribution by Topics"
        },
        "xaxis": {
         "anchor": "y",
         "domain": [
          0,
          1
         ],
         "title": {
          "text": "Topic"
         }
        },
        "yaxis": {
         "anchor": "x",
         "domain": [
          0,
          1
         ],
         "title": {
          "text": "Documents"
         }
        }
       }
      },
      "text/html": [
       "<div>                            <div id=\"5c77f872-01d6-4528-b871-fbf69da6a476\" class=\"plotly-graph-div\" style=\"height:525px; width:100%;\"></div>            <script type=\"text/javascript\">                require([\"plotly\"], function(Plotly) {                    window.PLOTLYENV=window.PLOTLYENV || {};                                    if (document.getElementById(\"5c77f872-01d6-4528-b871-fbf69da6a476\")) {                    Plotly.newPlot(                        \"5c77f872-01d6-4528-b871-fbf69da6a476\",                        [{\"alignmentgroup\":\"True\",\"customdata\":[[\"N, A\"],[\"N, A\"],[\"N, A\"],[\"N, A\"],[\"N, A\"],[\"N, A\"],[\"N, A\"],[\"N, A\"]],\"hovertemplate\":\"Topic=%{x}<br>Documents=%{y}<br>Keyword=%{customdata[0]}<extra></extra>\",\"legendgroup\":\"\",\"marker\":{\"color\":\"#636efa\",\"pattern\":{\"shape\":\"\"}},\"name\":\"\",\"offsetgroup\":\"\",\"orientation\":\"v\",\"showlegend\":false,\"textposition\":\"auto\",\"x\":[\"Topic 0\",\"Topic 1\",\"Topic 2\",\"Topic 3\",\"Topic 4\",\"Topic 5\",\"Topic 6\",\"Topic 7\"],\"xaxis\":\"x\",\"y\":[41,2301,29,52,37,23,32,17],\"yaxis\":\"y\",\"type\":\"bar\"}],                        {\"template\":{\"data\":{\"histogram2dcontour\":[{\"type\":\"histogram2dcontour\",\"colorbar\":{\"outlinewidth\":0,\"ticks\":\"\"},\"colorscale\":[[0.0,\"#0d0887\"],[0.1111111111111111,\"#46039f\"],[0.2222222222222222,\"#7201a8\"],[0.3333333333333333,\"#9c179e\"],[0.4444444444444444,\"#bd3786\"],[0.5555555555555556,\"#d8576b\"],[0.6666666666666666,\"#ed7953\"],[0.7777777777777778,\"#fb9f3a\"],[0.8888888888888888,\"#fdca26\"],[1.0,\"#f0f921\"]]}],\"choropleth\":[{\"type\":\"choropleth\",\"colorbar\":{\"outlinewidth\":0,\"ticks\":\"\"}}],\"histogram2d\":[{\"type\":\"histogram2d\",\"colorbar\":{\"outlinewidth\":0,\"ticks\":\"\"},\"colorscale\":[[0.0,\"#0d0887\"],[0.1111111111111111,\"#46039f\"],[0.2222222222222222,\"#7201a8\"],[0.3333333333333333,\"#9c179e\"],[0.4444444444444444,\"#bd3786\"],[0.5555555555555556,\"#d8576b\"],[0.6666666666666666,\"#ed7953\"],[0.7777777777777778,\"#fb9f3a\"],[0.8888888888888888,\"#fdca26\"],[1.0,\"#f0f921\"]]}],\"heatmap\":[{\"type\":\"heatmap\",\"colorbar\":{\"outlinewidth\":0,\"ticks\":\"\"},\"colorscale\":[[0.0,\"#0d0887\"],[0.1111111111111111,\"#46039f\"],[0.2222222222222222,\"#7201a8\"],[0.3333333333333333,\"#9c179e\"],[0.4444444444444444,\"#bd3786\"],[0.5555555555555556,\"#d8576b\"],[0.6666666666666666,\"#ed7953\"],[0.7777777777777778,\"#fb9f3a\"],[0.8888888888888888,\"#fdca26\"],[1.0,\"#f0f921\"]]}],\"heatmapgl\":[{\"type\":\"heatmapgl\",\"colorbar\":{\"outlinewidth\":0,\"ticks\":\"\"},\"colorscale\":[[0.0,\"#0d0887\"],[0.1111111111111111,\"#46039f\"],[0.2222222222222222,\"#7201a8\"],[0.3333333333333333,\"#9c179e\"],[0.4444444444444444,\"#bd3786\"],[0.5555555555555556,\"#d8576b\"],[0.6666666666666666,\"#ed7953\"],[0.7777777777777778,\"#fb9f3a\"],[0.8888888888888888,\"#fdca26\"],[1.0,\"#f0f921\"]]}],\"contourcarpet\":[{\"type\":\"contourcarpet\",\"colorbar\":{\"outlinewidth\":0,\"ticks\":\"\"}}],\"contour\":[{\"type\":\"contour\",\"colorbar\":{\"outlinewidth\":0,\"ticks\":\"\"},\"colorscale\":[[0.0,\"#0d0887\"],[0.1111111111111111,\"#46039f\"],[0.2222222222222222,\"#7201a8\"],[0.3333333333333333,\"#9c179e\"],[0.4444444444444444,\"#bd3786\"],[0.5555555555555556,\"#d8576b\"],[0.6666666666666666,\"#ed7953\"],[0.7777777777777778,\"#fb9f3a\"],[0.8888888888888888,\"#fdca26\"],[1.0,\"#f0f921\"]]}],\"surface\":[{\"type\":\"surface\",\"colorbar\":{\"outlinewidth\":0,\"ticks\":\"\"},\"colorscale\":[[0.0,\"#0d0887\"],[0.1111111111111111,\"#46039f\"],[0.2222222222222222,\"#7201a8\"],[0.3333333333333333,\"#9c179e\"],[0.4444444444444444,\"#bd3786\"],[0.5555555555555556,\"#d8576b\"],[0.6666666666666666,\"#ed7953\"],[0.7777777777777778,\"#fb9f3a\"],[0.8888888888888888,\"#fdca26\"],[1.0,\"#f0f921\"]]}],\"mesh3d\":[{\"type\":\"mesh3d\",\"colorbar\":{\"outlinewidth\":0,\"ticks\":\"\"}}],\"scatter\":[{\"fillpattern\":{\"fillmode\":\"overlay\",\"size\":10,\"solidity\":0.2},\"type\":\"scatter\"}],\"parcoords\":[{\"type\":\"parcoords\",\"line\":{\"colorbar\":{\"outlinewidth\":0,\"ticks\":\"\"}}}],\"scatterpolargl\":[{\"type\":\"scatterpolargl\",\"marker\":{\"colorbar\":{\"outlinewidth\":0,\"ticks\":\"\"}}}],\"bar\":[{\"error_x\":{\"color\":\"#2a3f5f\"},\"error_y\":{\"color\":\"#2a3f5f\"},\"marker\":{\"line\":{\"color\":\"#E5ECF6\",\"width\":0.5},\"pattern\":{\"fillmode\":\"overlay\",\"size\":10,\"solidity\":0.2}},\"type\":\"bar\"}],\"scattergeo\":[{\"type\":\"scattergeo\",\"marker\":{\"colorbar\":{\"outlinewidth\":0,\"ticks\":\"\"}}}],\"scatterpolar\":[{\"type\":\"scatterpolar\",\"marker\":{\"colorbar\":{\"outlinewidth\":0,\"ticks\":\"\"}}}],\"histogram\":[{\"marker\":{\"pattern\":{\"fillmode\":\"overlay\",\"size\":10,\"solidity\":0.2}},\"type\":\"histogram\"}],\"scattergl\":[{\"type\":\"scattergl\",\"marker\":{\"colorbar\":{\"outlinewidth\":0,\"ticks\":\"\"}}}],\"scatter3d\":[{\"type\":\"scatter3d\",\"line\":{\"colorbar\":{\"outlinewidth\":0,\"ticks\":\"\"}},\"marker\":{\"colorbar\":{\"outlinewidth\":0,\"ticks\":\"\"}}}],\"scattermapbox\":[{\"type\":\"scattermapbox\",\"marker\":{\"colorbar\":{\"outlinewidth\":0,\"ticks\":\"\"}}}],\"scatterternary\":[{\"type\":\"scatterternary\",\"marker\":{\"colorbar\":{\"outlinewidth\":0,\"ticks\":\"\"}}}],\"scattercarpet\":[{\"type\":\"scattercarpet\",\"marker\":{\"colorbar\":{\"outlinewidth\":0,\"ticks\":\"\"}}}],\"carpet\":[{\"aaxis\":{\"endlinecolor\":\"#2a3f5f\",\"gridcolor\":\"white\",\"linecolor\":\"white\",\"minorgridcolor\":\"white\",\"startlinecolor\":\"#2a3f5f\"},\"baxis\":{\"endlinecolor\":\"#2a3f5f\",\"gridcolor\":\"white\",\"linecolor\":\"white\",\"minorgridcolor\":\"white\",\"startlinecolor\":\"#2a3f5f\"},\"type\":\"carpet\"}],\"table\":[{\"cells\":{\"fill\":{\"color\":\"#EBF0F8\"},\"line\":{\"color\":\"white\"}},\"header\":{\"fill\":{\"color\":\"#C8D4E3\"},\"line\":{\"color\":\"white\"}},\"type\":\"table\"}],\"barpolar\":[{\"marker\":{\"line\":{\"color\":\"#E5ECF6\",\"width\":0.5},\"pattern\":{\"fillmode\":\"overlay\",\"size\":10,\"solidity\":0.2}},\"type\":\"barpolar\"}],\"pie\":[{\"automargin\":true,\"type\":\"pie\"}]},\"layout\":{\"autotypenumbers\":\"strict\",\"colorway\":[\"#636efa\",\"#EF553B\",\"#00cc96\",\"#ab63fa\",\"#FFA15A\",\"#19d3f3\",\"#FF6692\",\"#B6E880\",\"#FF97FF\",\"#FECB52\"],\"font\":{\"color\":\"#2a3f5f\"},\"hovermode\":\"closest\",\"hoverlabel\":{\"align\":\"left\"},\"paper_bgcolor\":\"white\",\"plot_bgcolor\":\"#E5ECF6\",\"polar\":{\"bgcolor\":\"#E5ECF6\",\"angularaxis\":{\"gridcolor\":\"white\",\"linecolor\":\"white\",\"ticks\":\"\"},\"radialaxis\":{\"gridcolor\":\"white\",\"linecolor\":\"white\",\"ticks\":\"\"}},\"ternary\":{\"bgcolor\":\"#E5ECF6\",\"aaxis\":{\"gridcolor\":\"white\",\"linecolor\":\"white\",\"ticks\":\"\"},\"baxis\":{\"gridcolor\":\"white\",\"linecolor\":\"white\",\"ticks\":\"\"},\"caxis\":{\"gridcolor\":\"white\",\"linecolor\":\"white\",\"ticks\":\"\"}},\"coloraxis\":{\"colorbar\":{\"outlinewidth\":0,\"ticks\":\"\"}},\"colorscale\":{\"sequential\":[[0.0,\"#0d0887\"],[0.1111111111111111,\"#46039f\"],[0.2222222222222222,\"#7201a8\"],[0.3333333333333333,\"#9c179e\"],[0.4444444444444444,\"#bd3786\"],[0.5555555555555556,\"#d8576b\"],[0.6666666666666666,\"#ed7953\"],[0.7777777777777778,\"#fb9f3a\"],[0.8888888888888888,\"#fdca26\"],[1.0,\"#f0f921\"]],\"sequentialminus\":[[0.0,\"#0d0887\"],[0.1111111111111111,\"#46039f\"],[0.2222222222222222,\"#7201a8\"],[0.3333333333333333,\"#9c179e\"],[0.4444444444444444,\"#bd3786\"],[0.5555555555555556,\"#d8576b\"],[0.6666666666666666,\"#ed7953\"],[0.7777777777777778,\"#fb9f3a\"],[0.8888888888888888,\"#fdca26\"],[1.0,\"#f0f921\"]],\"diverging\":[[0,\"#8e0152\"],[0.1,\"#c51b7d\"],[0.2,\"#de77ae\"],[0.3,\"#f1b6da\"],[0.4,\"#fde0ef\"],[0.5,\"#f7f7f7\"],[0.6,\"#e6f5d0\"],[0.7,\"#b8e186\"],[0.8,\"#7fbc41\"],[0.9,\"#4d9221\"],[1,\"#276419\"]]},\"xaxis\":{\"gridcolor\":\"white\",\"linecolor\":\"white\",\"ticks\":\"\",\"title\":{\"standoff\":15},\"zerolinecolor\":\"white\",\"automargin\":true,\"zerolinewidth\":2},\"yaxis\":{\"gridcolor\":\"white\",\"linecolor\":\"white\",\"ticks\":\"\",\"title\":{\"standoff\":15},\"zerolinecolor\":\"white\",\"automargin\":true,\"zerolinewidth\":2},\"scene\":{\"xaxis\":{\"backgroundcolor\":\"#E5ECF6\",\"gridcolor\":\"white\",\"linecolor\":\"white\",\"showbackground\":true,\"ticks\":\"\",\"zerolinecolor\":\"white\",\"gridwidth\":2},\"yaxis\":{\"backgroundcolor\":\"#E5ECF6\",\"gridcolor\":\"white\",\"linecolor\":\"white\",\"showbackground\":true,\"ticks\":\"\",\"zerolinecolor\":\"white\",\"gridwidth\":2},\"zaxis\":{\"backgroundcolor\":\"#E5ECF6\",\"gridcolor\":\"white\",\"linecolor\":\"white\",\"showbackground\":true,\"ticks\":\"\",\"zerolinecolor\":\"white\",\"gridwidth\":2}},\"shapedefaults\":{\"line\":{\"color\":\"#2a3f5f\"}},\"annotationdefaults\":{\"arrowcolor\":\"#2a3f5f\",\"arrowhead\":0,\"arrowwidth\":1},\"geo\":{\"bgcolor\":\"white\",\"landcolor\":\"#E5ECF6\",\"subunitcolor\":\"white\",\"showland\":true,\"showlakes\":true,\"lakecolor\":\"white\"},\"title\":{\"x\":0.05},\"mapbox\":{\"style\":\"light\"}}},\"xaxis\":{\"anchor\":\"y\",\"domain\":[0.0,1.0],\"title\":{\"text\":\"Topic\"}},\"yaxis\":{\"anchor\":\"x\",\"domain\":[0.0,1.0],\"title\":{\"text\":\"Documents\"}},\"legend\":{\"tracegroupgap\":0},\"title\":{\"text\":\"Document Distribution by Topics\"},\"barmode\":\"relative\"},                        {\"responsive\": true}                    ).then(function(){\n",
       "                            \n",
       "var gd = document.getElementById('5c77f872-01d6-4528-b871-fbf69da6a476');\n",
       "var x = new MutationObserver(function (mutations, observer) {{\n",
       "        var display = window.getComputedStyle(gd).display;\n",
       "        if (!display || display === 'none') {{\n",
       "            console.log([gd, 'removed!']);\n",
       "            Plotly.purge(gd);\n",
       "            observer.disconnect();\n",
       "        }}\n",
       "}});\n",
       "\n",
       "// Listen for the removal of the full notebook cells\n",
       "var notebookContainer = gd.closest('#notebook-container');\n",
       "if (notebookContainer) {{\n",
       "    x.observe(notebookContainer, {childList: true});\n",
       "}}\n",
       "\n",
       "// Listen for the clearing of the current output cell\n",
       "var outputEl = gd.closest('.output');\n",
       "if (outputEl) {{\n",
       "    x.observe(outputEl, {childList: true});\n",
       "}}\n",
       "\n",
       "                        })                };                });            </script>        </div>"
      ]
     },
     "metadata": {},
     "output_type": "display_data"
    }
   ],
   "source": [
    "plot_model(nmf, plot = 'topic_distribution')"
   ]
  },
  {
   "cell_type": "markdown",
   "id": "1c0bef63",
   "metadata": {},
   "source": [
    "### T-distributed Stochastic Neighbor Embedding (t-SNE)"
   ]
  },
  {
   "cell_type": "code",
   "execution_count": 24,
   "id": "042f92be",
   "metadata": {},
   "outputs": [
    {
     "data": {
      "text/html": [
       "        <script type=\"text/javascript\">\n",
       "        window.PlotlyConfig = {MathJaxConfig: 'local'};\n",
       "        if (window.MathJax && window.MathJax.Hub && window.MathJax.Hub.Config) {window.MathJax.Hub.Config({SVG: {font: \"STIX-Web\"}});}\n",
       "        if (typeof require !== 'undefined') {\n",
       "        require.undef(\"plotly\");\n",
       "        requirejs.config({\n",
       "            paths: {\n",
       "                'plotly': ['https://cdn.plot.ly/plotly-2.18.2.min']\n",
       "            }\n",
       "        });\n",
       "        require(['plotly'], function(Plotly) {\n",
       "            window._Plotly = Plotly;\n",
       "        });\n",
       "        }\n",
       "        </script>\n",
       "        "
      ]
     },
     "metadata": {},
     "output_type": "display_data"
    },
    {
     "data": {
      "application/vnd.plotly.v1+json": {
       "config": {
        "plotlyServerURL": "https://plot.ly"
       },
       "data": [
        {
         "hovertemplate": "Dominant_Topic=Topic 0<br>0=%{x}<br>1=%{y}<br>2=%{z}<extra></extra>",
         "legendgroup": "Topic 0",
         "marker": {
          "color": "#636efa",
          "opacity": 0.7,
          "symbol": "circle"
         },
         "mode": "markers",
         "name": "Topic 0",
         "scene": "scene",
         "showlegend": true,
         "type": "scatter3d",
         "x": [
          4.030536651611328,
          2.206801652908325,
          2.259042263031006,
          3.020977020263672,
          3.5932459831237793,
          4.231484413146973,
          3.4693572521209717,
          3.0543344020843506,
          3.2145884037017822,
          3.3478071689605713,
          3.96278977394104,
          3.0988717079162598,
          3.831591844558716,
          3.6272404193878174,
          2.710848331451416,
          4.328770160675049,
          3.2438924312591553,
          3.116445302963257,
          2.684781789779663,
          3.2673110961914062,
          3.1627097129821777,
          2.639122247695923,
          4.4563307762146,
          3.8449323177337646,
          2.1105594635009766,
          3.39401912689209,
          4.263850212097168,
          2.486144781112671,
          2.237281322479248,
          2.857469081878662,
          3.379720687866211,
          4.380977630615234,
          3.342494487762451,
          3.80880069732666,
          2.561575412750244,
          2.701322078704834,
          2.5057380199432373,
          4.029749393463135,
          3.7548348903656006,
          2.4551773071289062,
          4.060080051422119
         ],
         "y": [
          -24.38907241821289,
          -23.692867279052734,
          -23.358633041381836,
          -22.90676498413086,
          -22.905113220214844,
          -24.299089431762695,
          -23.406057357788086,
          -25.099775314331055,
          -23.25423240661621,
          -23.78680419921875,
          -23.704936981201172,
          -22.771493911743164,
          -23.225454330444336,
          -22.8096866607666,
          -23.91642951965332,
          -24.508747100830078,
          -24.51552963256836,
          -23.88055419921875,
          -23.292118072509766,
          -24.091455459594727,
          -24.920988082885742,
          -23.251182556152344,
          -23.943477630615234,
          -24.975845336914062,
          -24.14397430419922,
          -24.084104537963867,
          -23.314149856567383,
          -24.760181427001953,
          -23.938940048217773,
          -24.600740432739258,
          -23.897932052612305,
          -23.640901565551758,
          -24.913347244262695,
          -24.866416931152344,
          -22.950387954711914,
          -23.911184310913086,
          -24.423397064208984,
          -23.838855743408203,
          -24.49517250061035,
          -24.64409828186035,
          -23.07817840576172
         ],
         "z": [
          -2.522146224975586,
          -2.8520240783691406,
          -3.5443475246429443,
          -3.9254302978515625,
          -3.859562397003174,
          -3.922553777694702,
          -4.438314914703369,
          -3.358661413192749,
          -2.344989776611328,
          -3.435559034347534,
          -4.289491176605225,
          -3.075453042984009,
          -2.55413556098938,
          -3.035659074783325,
          -2.3014214038848877,
          -3.3124094009399414,
          -2.2951366901397705,
          -3.2548935413360596,
          -4.167518138885498,
          -4.489249229431152,
          -2.7422854900360107,
          -2.5886757373809814,
          -3.0806636810302734,
          -3.5681166648864746,
          -3.282883644104004,
          -3.3233468532562256,
          -3.0352470874786377,
          -3.120802879333496,
          -3.908425807952881,
          -4.198971271514893,
          -2.171298027038574,
          -3.749293804168701,
          -3.92889404296875,
          -2.8797717094421387,
          -3.2630107402801514,
          -4.376408576965332,
          -2.6023995876312256,
          -2.41713285446167,
          -4.299126625061035,
          -3.758737564086914,
          -3.6672523021698
         ]
        },
        {
         "hovertemplate": "Dominant_Topic=Topic 1<br>0=%{x}<br>1=%{y}<br>2=%{z}<extra></extra>",
         "legendgroup": "Topic 1",
         "marker": {
          "color": "#EF553B",
          "opacity": 0.7,
          "symbol": "circle"
         },
         "mode": "markers",
         "name": "Topic 1",
         "scene": "scene",
         "showlegend": true,
         "type": "scatter3d",
         "x": [
          -9.501072883605957,
          -8.816311836242676,
          -9.407814025878906,
          -9.680525779724121,
          -8.409802436828613,
          -8.303812980651855,
          -13.119851112365723,
          0.7705170512199402,
          -3.4597363471984863,
          -5.62777853012085,
          -9.065376281738281,
          -13.119853019714355,
          9.076848983764648,
          -8.496179580688477,
          -10.355823516845703,
          -10.904906272888184,
          4.851822853088379,
          2.7885096073150635,
          -9.713166236877441,
          -9.190070152282715,
          5.931365489959717,
          -3.0858452320098877,
          -8.45930290222168,
          -10.355823516845703,
          -8.45930290222168,
          -2.9007441997528076,
          -2.9007441997528076,
          -16.631996154785156,
          -8.07071590423584,
          3.134124279022217,
          -8.671941757202148,
          -0.4077160358428955,
          1.6359502077102661,
          -10.365972518920898,
          -12.468964576721191,
          14.952055931091309,
          14.952055931091309,
          -3.2184150218963623,
          -3.218413829803467,
          -3.2184150218963623,
          -3.2184150218963623,
          14.952055931091309,
          -1.6893761157989502,
          1.8344234228134155,
          -12.302351951599121,
          7.538410186767578,
          6.660410404205322,
          -2.391108989715576,
          10.090117454528809,
          7.761894226074219,
          -10.786766052246094,
          14.952055931091309,
          14.952055931091309,
          3.871758460998535,
          -9.789229393005371,
          -4.681110858917236,
          -10.527763366699219,
          -1.0473837852478027,
          9.270054817199707,
          -10.355823516845703,
          -4.5580735206604,
          -8.680412292480469,
          4.0079874992370605,
          13.868494987487793,
          -17.987869262695312,
          -17.98787498474121,
          -17.987882614135742,
          -8.680411338806152,
          -2.741630792617798,
          -16.63016700744629,
          -3.510807752609253,
          -1.9620808362960815,
          7.631500720977783,
          15.149649620056152,
          11.864911079406738,
          11.86481761932373,
          1.8075804710388184,
          5.375317096710205,
          -8.039810180664062,
          -1.831260323524475,
          15.148309707641602,
          0.001296902890317142,
          -14.216266632080078,
          10.281905174255371,
          -13.80313777923584,
          -17.428327560424805,
          4.019782543182373,
          4.982875347137451,
          2.6096227169036865,
          3.4540810585021973,
          3.3816144466400146,
          1.7112236022949219,
          8.565874099731445,
          8.565874099731445,
          -15.828742027282715,
          6.646004676818848,
          -9.86638355255127,
          -2.196528196334839,
          -2.196528196334839,
          12.67130184173584,
          1.3042693138122559,
          1.3128914833068848,
          -9.86638355255127,
          -15.822037696838379,
          -10.500983238220215,
          -10.500983238220215,
          -3.564605236053467,
          -9.174498558044434,
          -4.177370548248291,
          -16.021818161010742,
          -16.289609909057617,
          -0.2699585258960724,
          4.6541852951049805,
          4.654213905334473,
          -4.369735240936279,
          -2.332833766937256,
          0.9601038098335266,
          -3.791444778442383,
          -5.6043925285339355,
          -17.86036491394043,
          -1.9565914869308472,
          -11.242740631103516,
          -15.634944915771484,
          9.132271766662598,
          0.9724305272102356,
          -3.782108783721924,
          -1.3117084503173828,
          -8.381998062133789,
          -17.122560501098633,
          -10.500983238220215,
          -13.75369930267334,
          -14.61280345916748,
          -11.339065551757812,
          6.353465557098389,
          -15.421850204467773,
          8.158431053161621,
          -12.028938293457031,
          -16.186738967895508,
          -5.518711090087891,
          10.350761413574219,
          -2.9289305210113525,
          -2.605945587158203,
          -2.605945587158203,
          -2.6059257984161377,
          12.754294395446777,
          13.185871124267578,
          -15.979608535766602,
          17.04332733154297,
          -2.0997750759124756,
          -11.719874382019043,
          -16.723604202270508,
          -0.8750243782997131,
          -0.8750284314155579,
          -0.8750284314155579,
          3.046546697616577,
          3.046424150466919,
          4.580862045288086,
          -3.1812679767608643,
          -17.082956314086914,
          -5.042064189910889,
          -4.63918924331665,
          -1.9104429483413696,
          -5.214818000793457,
          -5.214578628540039,
          -14.110895156860352,
          10.915399551391602,
          -2.1653313636779785,
          -2.1827757358551025,
          3.079299211502075,
          -5.653165817260742,
          -17.253061294555664,
          2.721883773803711,
          11.501408576965332,
          -0.03466344252228737,
          5.799337387084961,
          -2.0155909061431885,
          3.96079158782959,
          -9.060041427612305,
          -17.40484619140625,
          -17.40462875366211,
          -3.9271504878997803,
          -2.7301242351531982,
          -11.23292064666748,
          -3.222247838973999,
          -18.363922119140625,
          -15.428136825561523,
          -18.851926803588867,
          0.38016101717948914,
          -15.341053009033203,
          -15.341045379638672,
          -15.341045379638672,
          -15.341045379638672,
          -15.341017723083496,
          -2.0155909061431885,
          8.321636199951172,
          8.32155704498291,
          -15.487345695495605,
          1.4767621755599976,
          1.4775601625442505,
          -16.123910903930664,
          12.341268539428711,
          3.2679460048675537,
          3.2679460048675537,
          -15.341029167175293,
          -15.340725898742676,
          -15.341024398803711,
          -15.34074878692627,
          -10.97415542602539,
          -0.03466344252228737,
          -8.816990852355957,
          8.3792724609375,
          5.285647392272949,
          8.768025398254395,
          4.871355056762695,
          -0.933651328086853,
          -10.297264099121094,
          0.5685768127441406,
          4.024633407592773,
          -4.823371887207031,
          -5.266984939575195,
          -5.266984939575195,
          2.1852734088897705,
          -2.7944464683532715,
          9.699264526367188,
          3.616706609725952,
          2.91404390335083,
          2.91404390335083,
          2.913999557495117,
          1.4230966567993164,
          2.755828857421875,
          2.7558023929595947,
          2.7558023929595947,
          4.958554267883301,
          -4.4201340675354,
          5.285647392272949,
          2.437183141708374,
          4.678888320922852,
          -10.60428237915039,
          7.798924446105957,
          5.941720008850098,
          -14.411681175231934,
          5.443885326385498,
          5.443909168243408,
          -7.889883041381836,
          -17.194623947143555,
          -17.208560943603516,
          -9.936952590942383,
          -4.7904863357543945,
          -4.7904863357543945,
          9.881758689880371,
          10.445798873901367,
          -13.635258674621582,
          -9.936994552612305,
          -11.01941204071045,
          -16.099464416503906,
          9.647137641906738,
          4.717735767364502,
          1.6427652835845947,
          -16.172718048095703,
          0.24462735652923584,
          -2.9283998012542725,
          -5.518711090087891,
          1.4798940420150757,
          10.106667518615723,
          -8.33969497680664,
          6.759594917297363,
          4.903219699859619,
          7.557401657104492,
          5.30015754699707,
          13.795141220092773,
          2.5907626152038574,
          11.740678787231445,
          -18.110286712646484,
          -18.11028480529785,
          -12.093822479248047,
          -12.093826293945312,
          -12.093831062316895,
          4.817209243774414,
          9.385388374328613,
          7.346678733825684,
          -2.9117929935455322,
          1.2005701065063477,
          0.25632762908935547,
          1.6468937397003174,
          -9.607767105102539,
          -17.167152404785156,
          11.44137954711914,
          -11.437297821044922,
          -12.99881649017334,
          -12.639654159545898,
          -9.707396507263184,
          -15.374473571777344,
          -15.922261238098145,
          -14.091811180114746,
          13.559834480285645,
          7.330628871917725,
          9.92648983001709,
          12.747062683105469,
          9.468846321105957,
          -12.683980941772461,
          11.077634811401367,
          11.077619552612305,
          -10.143985748291016,
          -10.143985748291016,
          11.296341896057129,
          1.549391269683838,
          12.976224899291992,
          -10.283208847045898,
          -10.283208847045898,
          -18.387157440185547,
          -18.387189865112305,
          8.971616744995117,
          6.263576030731201,
          5.169758319854736,
          6.191504001617432,
          7.008413314819336,
          3.8254013061523438,
          12.698441505432129,
          7.136999130249023,
          4.338871002197266,
          4.338892936706543,
          7.570070743560791,
          7.570069313049316,
          7.570069313049316,
          -2.3898279666900635,
          10.12912368774414,
          11.507439613342285,
          -4.162900924682617,
          -1.2966043949127197,
          -6.581071376800537,
          -14.701003074645996,
          -14.701024055480957,
          0.2961518168449402,
          0.2961523234844208,
          3.8254048824310303,
          8.174988746643066,
          4.006234645843506,
          13.879358291625977,
          13.879358291625977,
          13.879358291625977,
          3.825407028198242,
          13.879538536071777,
          13.694485664367676,
          4.1528825759887695,
          4.153114318847656,
          4.152985095977783,
          -1.1555132865905762,
          -0.5181778073310852,
          13.863812446594238,
          7.136999130249023,
          -17.457107543945312,
          -13.130792617797852,
          9.67093563079834,
          5.622406959533691,
          5.622406959533691,
          9.509178161621094,
          -9.331842422485352,
          -9.339369773864746,
          -9.339370727539062,
          -9.331750869750977,
          12.150167465209961,
          12.147679328918457,
          5.242474555969238,
          5.242474555969238,
          7.552339553833008,
          -5.024298667907715,
          4.728705883026123,
          9.953742027282715,
          12.511591911315918,
          12.63594913482666,
          12.63594913482666,
          3.6413629055023193,
          -4.14015531539917,
          -1.4619938135147095,
          -1.4619884490966797,
          -0.9534874558448792,
          -1.3290870189666748,
          -0.6765685081481934,
          6.981154441833496,
          6.981154441833496,
          3.317204475402832,
          -17.194129943847656,
          11.15673542022705,
          -14.31434154510498,
          -17.15742301940918,
          -5.91838264465332,
          -12.510536193847656,
          -3.508707284927368,
          -7.00644063949585,
          6.226235866546631,
          14.402959823608398,
          -8.408783912658691,
          6.361884593963623,
          -11.77678394317627,
          -6.790365695953369,
          -10.588900566101074,
          -7.806670188903809,
          6.963109970092773,
          6.963105201721191,
          13.395792007446289,
          4.957948684692383,
          -3.7943313121795654,
          11.536393165588379,
          4.55956506729126,
          -5.999825954437256,
          -5.999825954437256,
          -5.999825954437256,
          -5.999825954437256,
          -5.999825954437256,
          -5.999825954437256,
          -6.439638137817383,
          -5.999825954437256,
          -5.999825954437256,
          -5.999825954437256,
          -5.999825954437256,
          5.4458231925964355,
          13.97109317779541,
          -17.293336868286133,
          -5.999825954437256,
          7.136999607086182,
          7.13701057434082,
          12.661103248596191,
          6.2590107917785645,
          -12.63827896118164,
          7.599165439605713,
          -2.5090596675872803,
          14.251471519470215,
          14.252513885498047,
          14.252912521362305,
          14.25251293182373,
          14.253990173339844,
          14.254388809204102,
          12.680645942687988,
          3.8374850749969482,
          1.9250164031982422,
          1.9250222444534302,
          -1.233954906463623,
          1.9399522542953491,
          -1.0004308223724365,
          -12.581098556518555,
          8.271769523620605,
          10.350817680358887,
          -3.215850591659546,
          -9.811482429504395,
          -9.171829223632812,
          6.259036064147949,
          13.534459114074707,
          -2.3495593070983887,
          12.208551406860352,
          9.34095287322998,
          -17.598854064941406,
          0.47787296772003174,
          -16.938432693481445,
          -16.98578643798828,
          -16.804046630859375,
          6.2590131759643555,
          10.384805679321289,
          -17.050792694091797,
          -11.487725257873535,
          2.3895068168640137,
          2.3895068168640137,
          9.205190658569336,
          9.205190658569336,
          14.257696151733398,
          14.257654190063477,
          -1.8107866048812866,
          4.158380508422852,
          6.018243789672852,
          -17.253311157226562,
          -6.912891864776611,
          0.8572072386741638,
          5.085310459136963,
          8.218121528625488,
          9.6632080078125,
          10.384805679321289,
          12.705157279968262,
          12.705047607421875,
          12.705041885375977,
          12.705157279968262,
          12.704878807067871,
          6.259013652801514,
          12.705157279968262,
          -5.621476173400879,
          -5.621476173400879,
          4.47647762298584,
          3.503359794616699,
          -0.9990454912185669,
          -4.331445693969727,
          12.705157279968262,
          2.495781898498535,
          -8.96577262878418,
          -8.965751647949219,
          7.3881635665893555,
          14.172457695007324,
          14.172463417053223,
          8.683876991271973,
          8.683876991271973,
          -10.81689167022705,
          -5.743782043457031,
          -5.743782043457031,
          2.182698965072632,
          10.915632247924805,
          -14.60690689086914,
          6.902188301086426,
          6.902174949645996,
          -8.281917572021484,
          -12.441937446594238,
          -4.864014148712158,
          9.314421653747559,
          12.59838581085205,
          12.59838581085205,
          12.698441505432129,
          12.59838581085205,
          2.5011892318725586,
          2.5011892318725586,
          -4.690512657165527,
          -2.7926063537597656,
          -10.303360939025879,
          -15.551850318908691,
          -15.551850318908691,
          8.738506317138672,
          -6.285394668579102,
          -9.885063171386719,
          -10.303360939025879,
          11.168126106262207,
          -16.102210998535156,
          -16.102436065673828,
          14.378597259521484,
          14.410919189453125,
          -0.9600539803504944,
          -0.9600539803504944,
          -15.452983856201172,
          -7.0528998374938965,
          14.568870544433594,
          -11.364989280700684,
          3.5783567428588867,
          3.509342670440674,
          12.216207504272461,
          9.422374725341797,
          6.454703330993652,
          13.304045677185059,
          0.3280209004878998,
          1.2005701065063477,
          14.615653991699219,
          15.532318115234375,
          -9.775473594665527,
          -7.766184329986572,
          3.021930456161499,
          3.021930456161499,
          -3.148914337158203,
          -7.058948993682861,
          15.351356506347656,
          -7.058948993682861,
          15.16952896118164,
          15.572517395019531,
          14.872522354125977,
          14.429118156433105,
          15.197295188903809,
          14.770757675170898,
          -17.29939842224121,
          11.124541282653809,
          12.624048233032227,
          6.842651844024658,
          -3.136690378189087,
          -10.546682357788086,
          -10.240514755249023,
          13.838380813598633,
          -2.570514440536499,
          10.246530532836914,
          13.618496894836426,
          0.3279252350330353,
          -10.45356273651123,
          10.666282653808594,
          13.232096672058105,
          -11.624406814575195,
          -11.624407768249512,
          5.589022159576416,
          -10.453636169433594,
          3.4046552181243896,
          -3.3780181407928467,
          -3.3780174255371094,
          -0.5868191719055176,
          -3.47125506401062,
          9.197073936462402,
          8.496272087097168,
          10.565372467041016,
          -9.346824645996094,
          10.4426851272583,
          10.444053649902344,
          10.442747116088867,
          1.6500836610794067,
          2.2536869049072266,
          -3.8691956996917725,
          -3.8691956996917725,
          7.670395374298096,
          -3.3780174255371094,
          11.844459533691406,
          11.81118392944336,
          11.652441024780273,
          11.828746795654297,
          14.088788986206055,
          -2.547255754470825,
          13.41441822052002,
          -10.002988815307617,
          13.771283149719238,
          13.783624649047852,
          3.7248034477233887,
          6.234349727630615,
          -6.435976982116699,
          2.346876621246338,
          2.346876621246338,
          2.346885919570923,
          -16.497697830200195,
          -8.187253952026367,
          -9.267315864562988,
          3.453434705734253,
          13.854074478149414,
          2.709929943084717,
          3.453434705734253,
          -1.1950092315673828,
          -1.1949889659881592,
          3.453434705734253,
          2.840186834335327,
          3.453434705734253,
          2.8612782955169678,
          2.840186834335327,
          2.840186834335327,
          3.453434705734253,
          3.453434705734253,
          3.208744764328003,
          3.453434705734253,
          3.453434705734253,
          3.453434705734253,
          2.840186834335327,
          3.453434705734253,
          10.650498390197754,
          13.854044914245605,
          -12.846338272094727,
          13.00942325592041,
          -7.008704662322998,
          -7.008695125579834,
          9.983255386352539,
          9.075462341308594,
          2.9419283866882324,
          5.258241653442383,
          -8.25206470489502,
          -10.65172290802002,
          -10.65172290802002,
          -10.65172290802002,
          -3.183115005493164,
          14.491955757141113,
          14.491955757141113,
          -10.65172290802002,
          6.170718669891357,
          6.170718669891357,
          -3.4120397567749023,
          -16.619916915893555,
          9.107283592224121,
          -5.6859869956970215,
          -6.925706386566162,
          -6.17084264755249,
          -6.1708455085754395,
          -6.170839786529541,
          -0.7193225026130676,
          -0.7193350791931152,
          5.720343112945557,
          5.720342636108398,
          3.8688366413116455,
          3.868840217590332,
          3.868861675262451,
          3.3043928146362305,
          -9.48782730102539,
          -9.487828254699707,
          -9.487829208374023,
          13.137977600097656,
          -1.701951026916504,
          4.963616847991943,
          4.360222339630127,
          -6.399352550506592,
          -13.396480560302734,
          13.916180610656738,
          1.4216383695602417,
          -14.136616706848145,
          -14.280095100402832,
          -14.13499641418457,
          -14.609330177307129,
          -14.42044734954834,
          -14.267969131469727,
          -14.497660636901855,
          4.037418842315674,
          -1.701951026916504,
          -10.095830917358398,
          14.952776908874512,
          9.010674476623535,
          -0.8066706657409668,
          -8.38688850402832,
          9.187790870666504,
          -10.633472442626953,
          7.51370096206665,
          2.4863338470458984,
          -10.707537651062012,
          -10.707537651062012,
          -10.707537651062012,
          -10.655220031738281,
          -10.674999237060547,
          -15.980937957763672,
          -0.10064370185136795,
          3.5529167652130127,
          -10.826733589172363,
          5.478600025177002,
          3.3419699668884277,
          3.341970205307007,
          6.415322303771973,
          5.091122627258301,
          -15.845663070678711,
          11.22734546661377,
          -13.206703186035156,
          4.703733921051025,
          -2.5754878520965576,
          -5.372152805328369,
          -2.6199865341186523,
          16.43807029724121,
          -13.041749000549316,
          -13.041746139526367,
          7.653201103210449,
          -9.507343292236328,
          -1.9957091808319092,
          -9.821772575378418,
          -10.668110847473145,
          7.148681640625,
          -12.612115859985352,
          -2.6518502235412598,
          -1.8586798906326294,
          -1.8586798906326294,
          -1.85869562625885,
          -1.6988338232040405,
          -3.1140964031219482,
          -14.628293991088867,
          -2.781812906265259,
          -2.781812906265259,
          11.489106178283691,
          2.7958486080169678,
          -9.733964920043945,
          -11.704850196838379,
          13.632318496704102,
          -12.612115859985352,
          4.5080389976501465,
          0.35481739044189453,
          4.678155422210693,
          3.111215829849243,
          10.006156921386719,
          3.8024981021881104,
          3.802518844604492,
          0.7197717428207397,
          10.541947364807129,
          -4.619422435760498,
          4.759459018707275,
          8.393256187438965,
          1.9188435077667236,
          7.272115230560303,
          -1.8008928298950195,
          0.846723198890686,
          7.847519397735596,
          -9.531773567199707,
          -2.1053245067596436,
          0.7384715676307678,
          0.39782416820526123,
          10.661150932312012,
          13.8523588180542,
          -0.08859062194824219,
          -3.136542558670044,
          -6.126136302947998,
          10.857667922973633,
          -3.004188299179077,
          8.416339874267578,
          4.110141754150391,
          8.146302223205566,
          8.146319389343262,
          6.16023063659668,
          8.389337539672852,
          -3.7095189094543457,
          -3.7095189094543457,
          -11.824071884155273,
          5.113481521606445,
          8.650834083557129,
          0.39782416820526123,
          -4.966063976287842,
          9.503381729125977,
          -13.0287446975708,
          -2.6576666831970215,
          -4.201577663421631,
          -14.91130542755127,
          4.116013050079346,
          5.488109588623047,
          -13.417717933654785,
          4.188270092010498,
          13.41468334197998,
          13.414689064025879,
          9.189848899841309,
          9.189848899841309,
          0.8366785645484924,
          9.889294624328613,
          6.217100143432617,
          3.8870115280151367,
          7.063538551330566,
          -14.138123512268066,
          -10.417203903198242,
          5.08954381942749,
          8.586956024169922,
          -10.156729698181152,
          4.548937797546387,
          4.548937797546387,
          -0.6640715003013611,
          2.8781352043151855,
          13.949790000915527,
          -0.2815761864185333,
          -0.28157636523246765,
          -0.28157639503479004,
          -16.84861946105957,
          -5.092147350311279,
          10.662763595581055,
          -10.143242835998535,
          4.456076622009277,
          -16.94780731201172,
          3.4264395236968994,
          10.668642044067383,
          1.7438629865646362,
          3.100001811981201,
          9.198426246643066,
          3.709564685821533,
          -8.05088996887207,
          8.069657325744629,
          11.060765266418457,
          0.12586578726768494,
          -0.16712155938148499,
          14.058794975280762,
          -16.708879470825195,
          -6.536375045776367,
          4.803882598876953,
          15.525134086608887,
          -2.735333204269409,
          6.6710429191589355,
          9.766809463500977,
          -11.89428997039795,
          -11.894935607910156,
          10.668642044067383,
          -16.728240966796875,
          -3.578355550765991,
          -3.578355550765991,
          3.452011823654175,
          5.027568817138672,
          5.027536392211914,
          -9.97915267944336,
          -11.442801475524902,
          -14.356867790222168,
          -0.040974076837301254,
          -12.14855670928955,
          -16.628156661987305,
          -11.894124031066895,
          -11.89418888092041,
          -11.89428997039795,
          13.041668891906738,
          -6.084786415100098,
          -12.245615005493164,
          -9.32931137084961,
          -16.629823684692383,
          -16.54482650756836,
          12.490334510803223,
          12.490067481994629,
          -16.84865379333496,
          -15.494275093078613,
          -1.7415549755096436,
          -10.695015907287598,
          7.893341541290283,
          8.051944732666016,
          7.893341541290283,
          8.051944732666016,
          8.051944732666016,
          -1.7415627241134644,
          -15.494275093078613,
          -15.494275093078613,
          -11.093301773071289,
          -16.0338134765625,
          10.871232986450195,
          10.871238708496094,
          10.871232986450195,
          0.04139072448015213,
          5.176671504974365,
          -8.055956840515137,
          6.659191131591797,
          13.236238479614258,
          5.934805870056152,
          10.001697540283203,
          -1.2150723934173584,
          -12.783815383911133,
          -9.816319465637207,
          -2.8218929767608643,
          7.893341541290283,
          7.893341541290283,
          7.893341541290283,
          7.893341541290283,
          4.497088432312012,
          4.497084617614746,
          4.497086048126221,
          -16.750774383544922,
          -16.9500675201416,
          3.2769038677215576,
          3.2763893604278564,
          9.734369277954102,
          9.89118766784668,
          5.441462516784668,
          11.716286659240723,
          11.716102600097656,
          3.170448064804077,
          -6.253544807434082,
          -3.795480728149414,
          4.45611047744751,
          9.888096809387207,
          4.456110000610352,
          11.19654655456543,
          7.893341541290283,
          1.7641949653625488,
          -3.9943418502807617,
          7.7467522621154785,
          0.030602164566516876,
          -2.127973794937134,
          4.929991722106934,
          5.305120944976807,
          4.1625471115112305,
          4.162528038024902,
          4.162528038024902,
          4.162528038024902,
          4.162528038024902,
          12.737683296203613,
          0.20093464851379395,
          -5.197491645812988,
          -12.31483268737793,
          -16.1490535736084,
          -16.447914123535156,
          5.791808605194092,
          5.791809558868408,
          1.0211328268051147,
          1.0211509466171265,
          1.0211509466171265,
          1.0211509466171265,
          14.680140495300293,
          -12.08788776397705,
          6.43037748336792,
          -3.3809847831726074,
          2.3771674633026123,
          -2.568153142929077,
          -12.426644325256348,
          -16.678695678710938,
          -8.058170318603516,
          6.5010552406311035,
          -8.058170318603516,
          4.9587602615356445,
          -0.13350100815296173,
          6.842652320861816,
          6.842651844024658,
          5.953455924987793,
          -5.231338977813721,
          9.968056678771973,
          -17.258895874023438,
          -17.217317581176758,
          0.8085678815841675,
          0.8085678815841675,
          8.795480728149414,
          -14.866425514221191,
          10.647117614746094,
          13.890478134155273,
          -0.1335429549217224,
          -0.13350100815296173,
          4.958765029907227,
          8.818617820739746,
          -8.058170318603516,
          -11.533456802368164,
          13.093103408813477,
          7.274565696716309,
          7.72976016998291,
          -2.4412622451782227,
          9.164488792419434,
          -2.4412622451782227,
          -2.4412622451782227,
          -2.4415130615234375,
          2.742360830307007,
          1.4284567832946777,
          1.4284566640853882,
          1.428619623184204,
          1.428619623184204,
          1.4285023212432861,
          0.2820439338684082,
          -8.828773498535156,
          1.0010652542114258,
          -8.82893180847168,
          -8.828773498535156,
          0.3073842227458954,
          -16.424264907836914,
          -9.348933219909668,
          -17.19961929321289,
          9.959030151367188,
          13.769280433654785,
          13.879538536071777,
          13.879538536071777,
          -2.6820015907287598,
          -2.103684902191162,
          10.857069969177246,
          -16.66576385498047,
          -4.729299068450928,
          10.166451454162598,
          -8.82893180847168,
          -8.828774452209473,
          6.842651844024658,
          0.10485191643238068,
          -2.477238178253174,
          -6.683741569519043,
          5.357794761657715,
          7.120855331420898,
          -1.9991203546524048,
          9.8650541305542,
          -13.549250602722168,
          3.4514503479003906,
          13.817172050476074,
          -16.931753158569336,
          -16.769699096679688,
          -16.769699096679688,
          8.881054878234863,
          8.877609252929688,
          8.599843978881836,
          13.81717300415039,
          -1.7657043933868408,
          -1.7657043933868408,
          6.242311477661133,
          10.979082107543945,
          13.79924201965332,
          9.41553020477295,
          -16.879276275634766,
          13.206567764282227,
          0.35193148255348206,
          3.982903480529785,
          -9.048413276672363,
          -0.22690802812576294,
          2.4035415649414062,
          2.4035415649414062,
          -9.950039863586426,
          3.4702882766723633,
          13.693100929260254,
          14.043188095092773,
          8.751261711120605,
          8.501079559326172,
          8.866570472717285,
          8.499399185180664,
          2.1671955585479736,
          2.1671955585479736,
          2.1671955585479736,
          2.1671955585479736,
          2.1671955585479736,
          12.427871704101562,
          12.427871704101562,
          -15.101490020751953,
          -3.746030569076538,
          12.741276741027832,
          16.010547637939453,
          16.010547637939453,
          10.399735450744629,
          0.3424902856349945,
          -12.24561595916748,
          2.1671955585479736,
          -4.008486270904541,
          2.1671955585479736,
          -3.6669998168945312,
          8.476827621459961,
          7.386694431304932,
          7.38604211807251,
          7.386042594909668,
          2.029557704925537,
          2.0295581817626953,
          6.867242336273193,
          7.741678714752197,
          -8.750304222106934,
          -8.750306129455566,
          12.627008438110352,
          -3.7699756622314453,
          -10.571859359741211,
          0.4491940438747406,
          -16.43661880493164,
          2.1671955585479736,
          -16.81572914123535,
          -16.88709259033203,
          -16.81572914123535,
          -13.205453872680664,
          6.555946350097656,
          6.555946350097656,
          6.555943012237549,
          6.555946350097656,
          -4.635708332061768,
          -4.063227653503418,
          -6.107685565948486,
          5.189902305603027,
          -3.494663953781128,
          14.811063766479492,
          4.418566703796387,
          7.4512834548950195,
          -11.26209831237793,
          -7.189008712768555,
          4.587944984436035,
          -7.189008712768555,
          5.983240604400635,
          5.983304977416992,
          -2.477238416671753,
          -2.477238416671753,
          -2.477238178253174,
          -2.477238416671753,
          11.928525924682617,
          -15.765103340148926,
          1.398973822593689,
          1.3988301753997803,
          1.398790717124939,
          6.298260688781738,
          -1.285479187965393,
          -9.861062049865723,
          4.919624328613281,
          -14.545228004455566,
          5.983312129974365,
          5.983315467834473,
          8.217031478881836,
          -4.5944390296936035,
          8.160135269165039,
          4.600748062133789,
          4.600748062133789,
          -16.816123962402344,
          10.382973670959473,
          7.734399318695068,
          -11.887857437133789,
          -16.77236557006836,
          -16.77236557006836,
          -18.912919998168945,
          13.736323356628418,
          11.032187461853027,
          -6.891513824462891,
          -1.8405770063400269,
          -16.81572914123535,
          -16.88709259033203,
          4.600748062133789,
          -4.5944390296936035,
          4.600748062133789,
          -1.115907073020935,
          11.176065444946289,
          13.127543449401855,
          -11.148890495300293,
          -11.149175643920898,
          5.674720287322998,
          5.6748270988464355,
          -3.3049709796905518,
          2.171530246734619,
          -2.2494242191314697,
          -6.999880313873291,
          -14.20307731628418,
          9.552279472351074,
          14.793320655822754,
          8.22358226776123,
          -8.352368354797363,
          1.157474398612976,
          11.124564170837402,
          4.728862762451172,
          15.099165916442871,
          -12.552526473999023,
          -12.552456855773926,
          -1.5692840814590454,
          -1.5693305730819702,
          -1.5693305730819702,
          -2.0436410903930664,
          -0.018170088529586792,
          8.968361854553223,
          -1.6871415376663208,
          -1.630464792251587,
          -1.6304492950439453,
          -5.179934978485107,
          2.4411497116088867,
          -1.4311529397964478,
          -17.316120147705078,
          -5.5733184814453125,
          5.856267929077148,
          1.2215014696121216,
          8.041743278503418,
          -10.291991233825684,
          -8.885871887207031,
          -13.159945487976074,
          10.76132869720459,
          8.22005558013916,
          8.220136642456055,
          -0.6683902740478516,
          -14.821516036987305,
          14.187530517578125,
          14.187530517578125,
          14.187530517578125,
          -6.561193943023682,
          4.522907257080078,
          2.6673099994659424,
          0.7383092641830444,
          4.236971855163574,
          4.298582553863525,
          4.298582553863525,
          8.073236465454102,
          2.8532919883728027,
          2.8532919883728027,
          2.8532919883728027,
          2.8532919883728027,
          2.8532919883728027,
          2.8532919883728027,
          2.8532919883728027,
          2.8532919883728027,
          2.8532919883728027,
          11.449780464172363,
          2.6886539459228516,
          5.361210346221924,
          -16.911340713500977,
          7.081539630889893,
          7.081538677215576,
          2.8532919883728027,
          11.15263843536377,
          11.172074317932129,
          -10.005058288574219,
          -17.651517868041992,
          -10.049481391906738,
          -10.074844360351562,
          -10.074519157409668,
          -5.489193916320801,
          -5.489193916320801,
          5.1008806228637695,
          -9.606680870056152,
          10.591108322143555,
          10.591035842895508,
          7.948709487915039,
          7.948709487915039,
          7.948709487915039,
          7.948709487915039,
          -6.555008888244629,
          -9.204079627990723,
          10.591042518615723,
          -6.489007472991943,
          -6.489007472991943,
          -0.47498059272766113,
          -10.166770935058594,
          2.2017741203308105,
          -3.946845293045044,
          5.723288059234619,
          -9.942079544067383,
          -14.077797889709473,
          -12.85306167602539,
          -16.700428009033203,
          -13.020151138305664,
          9.295106887817383,
          -7.397335529327393,
          7.826766490936279,
          -2.5413522720336914,
          -8.460590362548828,
          -2.3976030349731445,
          -16.26404571533203,
          -4.185601711273193,
          6.918344020843506,
          6.9183669090271,
          11.240205764770508,
          -10.074357032775879,
          -10.074853897094727,
          5.279596328735352,
          5.279574394226074,
          -15.235663414001465,
          -14.947772979736328,
          1.9832054376602173,
          -9.409280776977539,
          3.674093723297119,
          -5.349572658538818,
          4.1560893058776855,
          -4.543706893920898,
          12.205354690551758,
          1.2971200942993164,
          1.2972335815429688,
          -10.652061462402344,
          -3.5783588886260986,
          1.0866385698318481,
          3.5302817821502686,
          -16.46623992919922,
          -14.671954154968262,
          -14.671944618225098,
          -11.467024803161621,
          -18.37716293334961,
          -18.377164840698242,
          -18.377161026000977,
          16.89703941345215,
          -2.4360663890838623,
          1.0225826501846313,
          14.618660926818848,
          16.378856658935547,
          -1.1929303407669067,
          8.135863304138184,
          2.379725217819214,
          -16.46611785888672,
          -16.466259002685547,
          -16.4660701751709,
          -1.7990363836288452,
          3.5322656631469727,
          3.534533977508545,
          3.5317625999450684,
          3.535723924636841,
          3.5317625999450684,
          3.536558151245117,
          -10.67347526550293,
          3.5319933891296387,
          1.544842004776001,
          -17.102333068847656,
          -0.7875059247016907,
          0.023115986958146095,
          2.253340244293213,
          9.159561157226562,
          13.314695358276367,
          13.313835144042969,
          8.701459884643555,
          8.325002670288086,
          -5.153797149658203,
          -4.820246696472168,
          -2.716789484024048,
          3.940744638442993,
          13.458694458007812,
          6.700117111206055,
          5.4779887199401855,
          -17.36138916015625,
          -17.36138916015625,
          -11.095107078552246,
          -16.18153953552246,
          -0.5853887796401978,
          -0.5853887796401978,
          -13.029319763183594,
          -9.194381713867188,
          -15.94835376739502,
          -12.882837295532227,
          -6.667007923126221,
          -1.7260602712631226,
          -1.7260602712631226,
          -1.7260602712631226,
          3.0417463779449463,
          3.0417778491973877,
          9.96383285522461,
          5.824494361877441,
          0.0941813662648201,
          14.908016204833984,
          4.734459400177002,
          7.234614849090576,
          3.8195667266845703,
          2.6525087356567383,
          -15.166275978088379,
          -2.0093963146209717,
          -9.331974029541016,
          -9.518446922302246,
          -1.7260602712631226,
          -1.7260189056396484,
          13.08655834197998,
          5.81413459777832,
          11.124539375305176,
          4.943923473358154,
          10.257091522216797,
          9.612937927246094,
          9.582252502441406,
          9.582252502441406,
          9.61887264251709,
          9.986470222473145,
          9.986470222473145,
          10.257091522216797,
          10.257091522216797,
          14.369993209838867,
          3.4998602867126465,
          -9.597253799438477,
          -13.973156929016113,
          8.086191177368164,
          8.0862398147583,
          9.818180084228516,
          10.353839874267578,
          9.81806755065918,
          9.582252502441406,
          5.294156551361084,
          5.294156551361084,
          -3.4692745208740234,
          -0.3635949194431305,
          10.870199203491211,
          -12.561763763427734,
          -16.680997848510742,
          -0.5039677619934082,
          -1.5811188220977783,
          4.921911716461182,
          4.9218316078186035,
          6.663791656494141,
          10.353839874267578,
          10.353839874267578,
          10.257091522216797,
          9.612937927246094,
          -7.316278457641602,
          13.512404441833496,
          0.34170666337013245,
          -3.8629074096679688,
          6.611710548400879,
          6.611710548400879,
          -9.621830940246582,
          -17.31048011779785,
          -10.065686225891113,
          -12.61478328704834,
          11.762993812561035,
          -8.766121864318848,
          -3.278883218765259,
          2.202446460723877,
          9.199725151062012,
          -13.597193717956543,
          12.99191951751709,
          -11.228791236877441,
          4.218521595001221,
          8.446267127990723,
          11.549391746520996,
          -13.087845802307129,
          -11.203728675842285,
          -4.820286750793457,
          -4.799017429351807,
          -4.799014091491699,
          -4.809219837188721,
          -5.149260997772217,
          -4.714639663696289,
          -4.820286750793457,
          4.218522548675537,
          -5.115279674530029,
          -13.011056900024414,
          12.783501625061035,
          -11.89734172821045,
          10.89323616027832,
          -11.734804153442383,
          10.306816101074219,
          -11.203728675842285,
          -4.812031269073486,
          -3.8629074096679688,
          9.464839935302734,
          9.794929504394531,
          -16.902801513671875,
          14.000852584838867,
          -15.533966064453125,
          -2.0149545669555664,
          10.029356002807617,
          -4.269518852233887,
          -4.37554407119751,
          4.858236789703369,
          13.131440162658691,
          0.2975481450557709,
          -13.773876190185547,
          -9.809922218322754,
          2.4002280235290527,
          -3.8629074096679688,
          -3.8629074096679688,
          7.9007086753845215,
          9.060187339782715,
          2.0748977661132812,
          3.8910114765167236,
          7.990621089935303,
          -16.18276023864746,
          5.790284633636475,
          -17.28617286682129,
          -8.452001571655273,
          -0.08636878430843353,
          6.028255462646484,
          9.794929504394531,
          12.220096588134766,
          8.59691333770752,
          -0.8078905344009399,
          7.450908184051514,
          -15.326955795288086,
          -10.814722061157227,
          2.164621591567993,
          8.485681533813477,
          13.626601219177246,
          9.566132545471191,
          8.214125633239746,
          -6.317718505859375,
          12.96047306060791,
          8.170905113220215,
          8.171096801757812,
          8.170905113220215,
          5.517952919006348,
          -1.2534393072128296,
          -1.7112350463867188,
          -1.2534393072128296,
          -1.2534393072128296,
          -1.2534393072128296,
          -1.2534393072128296,
          -1.2534393072128296,
          -1.2534393072128296,
          -1.2534393072128296,
          -1.2534393072128296,
          0.6269218325614929,
          -1.2534393072128296,
          0.626946747303009,
          6.201983451843262,
          -6.044332504272461,
          -6.044558048248291,
          -6.044311046600342,
          7.861558437347412,
          -12.391488075256348,
          -16.618919372558594,
          1.0509737730026245,
          1.0509737730026245,
          -2.102092981338501,
          -1.1006014347076416,
          -6.7284464836120605,
          10.1181640625,
          -1.2323198318481445,
          13.626895904541016,
          3.4703986644744873,
          -1.0202265977859497,
          -1.2534393072128296,
          1.5903018712997437,
          -4.136634349822998,
          4.559031963348389,
          -4.035806655883789,
          6.8146820068359375,
          6.814767837524414,
          -17.260839462280273,
          7.099720001220703,
          -3.890986919403076,
          -14.776433944702148,
          -16.487010955810547,
          15.319085121154785,
          16.853107452392578,
          -13.934351921081543,
          -16.663301467895508,
          2.8096227645874023,
          2.9373269081115723,
          12.71369457244873,
          12.714249610900879,
          -16.39943504333496,
          -7.849116325378418,
          -4.136634349822998,
          -4.136634349822998,
          -14.845259666442871,
          -14.922042846679688,
          -15.30187702178955,
          -15.307426452636719,
          -14.83354663848877,
          -8.358134269714355,
          -14.838566780090332,
          -15.308890342712402,
          -14.88398265838623,
          -15.30533504486084,
          -15.30533504486084,
          -15.30533504486084,
          -15.30533504486084,
          -7.8490471839904785,
          -15.312654495239258,
          -8.220263481140137,
          -9.344688415527344,
          -8.924307823181152,
          -11.89847469329834,
          14.054363250732422,
          7.246815204620361,
          13.646717071533203,
          13.646717071533203,
          0.8781194090843201,
          -12.165260314941406,
          -12.165260314941406,
          -12.165268898010254,
          5.592972755432129,
          5.592945098876953,
          5.592972755432129,
          12.577229499816895,
          12.577229499816895,
          12.577229499816895,
          -11.89848518371582,
          8.5588960647583,
          8.5588960647583,
          8.339370727539062,
          -1.6655964851379395,
          0.5099332928657532,
          0.5099332928657532,
          0.5099332928657532,
          0.509955883026123,
          -8.411293983459473,
          -5.715066909790039,
          10.46749210357666,
          4.3795599937438965,
          -10.396422386169434,
          13.140070915222168,
          -16.374290466308594,
          8.028218269348145,
          15.497453689575195,
          11.858489036560059,
          11.858494758605957,
          -8.990378379821777,
          8.116582870483398,
          -9.46849536895752,
          -9.910012245178223,
          -0.4808354377746582,
          -0.48089104890823364,
          -0.48080968856811523,
          -0.021819673478603363,
          7.333427906036377,
          -9.364351272583008,
          -9.581998825073242,
          -8.901269912719727,
          -8.50217342376709,
          -9.602931022644043,
          -8.755780220031738,
          -8.820752143859863,
          -9.097233772277832,
          -8.396167755126953,
          -8.11109733581543,
          -0.4808107018470764,
          -0.48087942600250244,
          -0.4808070659637451,
          -0.480794757604599,
          -9.910012245178223,
          13.319381713867188,
          -5.870676040649414,
          4.466765880584717,
          -2.8462634086608887,
          13.153207778930664,
          6.028018951416016,
          -9.910012245178223,
          6.569448471069336,
          10.312049865722656,
          -5.896576881408691,
          -11.723134994506836,
          -9.139569282531738,
          -9.76625919342041,
          -0.4809025526046753,
          -0.48089104890823364,
          -16.193992614746094,
          -12.228320121765137,
          -12.227958679199219,
          -12.228326797485352,
          -1.1502101421356201,
          -1.0021803379058838,
          13.470590591430664,
          13.804022789001465,
          -7.157260894775391,
          -7.156662940979004,
          -7.156662940979004,
          -15.360410690307617,
          -15.706335067749023,
          -12.570037841796875,
          12.162375450134277,
          9.181036949157715,
          11.292695045471191,
          -12.422891616821289,
          -15.878117561340332,
          -6.021006107330322,
          -6.021006107330322,
          -12.10141372680664,
          -13.281906127929688,
          -4.925412178039551,
          10.01037311553955,
          -6.690832138061523,
          -12.400850296020508,
          11.779420852661133,
          1.5039870738983154,
          -10.310243606567383,
          -7.785338878631592,
          -16.827775955200195,
          0.746732234954834,
          -16.731685638427734,
          11.499499320983887,
          11.494717597961426,
          5.637158393859863,
          -6.322683334350586,
          -7.610212326049805,
          -4.661594390869141,
          -17.47575569152832,
          -7.785338878631592,
          2.046801805496216,
          -2.607576847076416,
          13.95596694946289,
          -15.730046272277832,
          4.739081859588623,
          -15.723095893859863,
          -16.02743148803711,
          13.517208099365234,
          -6.2755279541015625,
          14.175663948059082,
          9.518460273742676,
          4.140033721923828,
          -13.456772804260254,
          -15.002816200256348,
          15.49862289428711,
          3.7877957820892334,
          -2.607576847076416,
          3.5159566402435303,
          4.98708438873291,
          13.749277114868164,
          3.0022947788238525,
          12.40489673614502,
          -16.472108840942383,
          1.1445063352584839,
          -2.0149085521698,
          -0.8323786854743958,
          -15.506444931030273,
          3.735311508178711,
          -7.3303141593933105,
          -2.2127392292022705,
          1.6278609037399292,
          -9.713030815124512,
          -11.635592460632324,
          -1.4518053531646729,
          -6.537815570831299,
          -10.354240417480469,
          6.03308629989624,
          8.214125633239746,
          7.8289971351623535,
          5.235694408416748,
          -9.640060424804688,
          -9.766480445861816,
          -9.196842193603516,
          9.507279396057129,
          9.507281303405762,
          -3.6999545097351074,
          -3.6999545097351074,
          -3.69962739944458,
          -3.69962739944458,
          -9.760239601135254,
          8.586344718933105,
          -13.708208084106445,
          -13.708176612854004,
          -13.708205223083496,
          -12.747632026672363,
          -9.878233909606934,
          -9.642292976379395,
          -9.858895301818848,
          -9.858895301818848,
          -12.228334426879883,
          -14.161995887756348,
          -17.25373077392578,
          0.08943763375282288,
          7.498417854309082,
          1.9919992685317993,
          5.3369550704956055,
          -12.747632026672363,
          5.3369550704956055,
          7.152263641357422,
          -0.16825704276561737,
          9.884627342224121,
          -9.859376907348633,
          -9.87786865234375,
          -9.642292976379395,
          -9.640060424804688,
          5.336135387420654,
          5.235694408416748,
          3.5721917152404785,
          4.312003135681152,
          1.2629832029342651,
          1.26329505443573,
          1.261629581451416,
          5.470565319061279,
          15.161971092224121,
          14.523942947387695,
          4.465519905090332,
          -10.505413055419922,
          -10.505308151245117,
          -10.505317687988281,
          11.407352447509766,
          13.738622665405273,
          10.502028465270996,
          5.235694408416748,
          5.235694408416748,
          -12.446857452392578,
          -12.446857452392578,
          5.827520847320557,
          2.1925578117370605,
          4.311680793762207,
          13.323663711547852,
          13.015583038330078,
          13.983488082885742,
          -3.961981773376465,
          -3.9677560329437256,
          -3.9677560329437256,
          -10.129323959350586,
          -3.961981773376465,
          5.300708770751953,
          5.300665855407715,
          5.300755977630615,
          -2.158757209777832,
          -13.322426795959473,
          3.1266143321990967,
          -16.7547607421875,
          -1.5320743322372437,
          13.078067779541016,
          -11.282679557800293,
          2.709024429321289,
          13.849838256835938,
          9.280739784240723,
          9.083763122558594,
          8.788232803344727,
          8.924467086791992,
          9.280749320983887,
          4.909280776977539,
          9.092164039611816,
          8.69155216217041,
          8.839373588562012,
          8.692684173583984,
          8.687812805175781,
          9.333053588867188,
          8.422630310058594,
          9.282195091247559,
          4.909226894378662,
          4.12820291519165,
          2.887970209121704,
          -9.425956726074219,
          -9.425993919372559,
          -7.481660842895508,
          -7.48166036605835,
          -7.48166036605835,
          -7.48166036605835,
          0.9445124268531799,
          0.9442036747932434,
          0.9445124268531799,
          0.9444847106933594,
          0.9441920518875122,
          0.9445124268531799,
          0.9445124268531799,
          0.9442036747932434,
          4.73808479309082,
          -9.480010032653809,
          -1.910922646522522,
          -1.9113988876342773,
          10.845688819885254,
          -10.088936805725098,
          -10.10994815826416,
          -10.114568710327148,
          -10.109962463378906,
          -9.577713966369629,
          -9.577713966369629,
          6.880715847015381,
          -3.896995782852173,
          -3.897005796432495,
          -10.727299690246582,
          -17.40472984313965,
          3.022191047668457,
          3.022190809249878,
          -11.675324440002441,
          5.533452987670898,
          -10.088881492614746,
          6.703455448150635,
          8.58254623413086,
          8.582999229431152,
          10.845701217651367,
          1.8607717752456665,
          -10.780838966369629,
          8.9982271194458,
          -8.341370582580566,
          -15.51486587524414,
          -15.51486587524414,
          4.015242099761963,
          -1.2702858448028564,
          15.292777061462402,
          8.9982271194458,
          8.9982271194458,
          8.9982271194458,
          8.9982271194458,
          -4.218626976013184,
          8.582998275756836,
          6.703455448150635,
          13.102215766906738,
          -7.253053188323975,
          6.217096328735352,
          13.122426986694336,
          -17.536956787109375,
          -1.4837212562561035,
          -3.5629823207855225,
          11.884669303894043,
          -17.152606964111328,
          -17.152606964111328,
          -17.152606964111328,
          9.416569709777832,
          9.940814971923828,
          -9.841644287109375,
          2.5110538005828857,
          -10.94101333618164,
          6.683568000793457,
          -7.779366970062256,
          8.471190452575684,
          -7.779366493225098,
          10.459884643554688,
          14.208070755004883,
          14.208154678344727,
          14.20816707611084,
          7.976601600646973,
          -7.8005523681640625,
          -7.800601005554199,
          14.49482536315918,
          -8.822396278381348,
          -9.491646766662598,
          8.667338371276855,
          8.667338371276855,
          8.667340278625488,
          8.857514381408691,
          8.857514381408691,
          13.248708724975586,
          -3.021272659301758,
          -3.2260215282440186,
          1.8678951263427734,
          5.1609954833984375,
          -3.244133234024048,
          -3.2947893142700195,
          -2.9188320636749268,
          -2.9188320636749268,
          5.038105010986328,
          5.038105010986328,
          5.419774532318115,
          -0.7811399698257446,
          -0.7811399698257446,
          11.375194549560547,
          11.375194549560547,
          -16.992273330688477,
          -17.1280460357666,
          4.244716167449951,
          4.244716167449951,
          -3.244133234024048,
          -15.930547714233398,
          -3.2947592735290527,
          -3.1206002235412598,
          3.893855571746826,
          6.64715576171875,
          -9.666977882385254,
          4.818564414978027,
          0.6684442162513733,
          9.073063850402832,
          9.07307243347168,
          -16.603466033935547,
          -10.094574928283691,
          10.513471603393555,
          10.513469696044922,
          -2.9188320636749268,
          -2.9188320636749268,
          -2.9188320636749268,
          -3.1206002235412598,
          -3.1206002235412598,
          -1.987384557723999,
          -5.118704319000244,
          11.685999870300293,
          -1.1248161792755127,
          -2.2151153087615967,
          6.76267147064209,
          13.315410614013672,
          7.207611083984375,
          2.8198812007904053,
          8.354220390319824,
          -0.7119067311286926,
          -13.113779067993164,
          -1.1779903173446655,
          7.464192867279053,
          11.504072189331055,
          11.504129409790039,
          11.503545761108398,
          -0.7119067311286926,
          -9.995929718017578,
          9.38835334777832,
          11.765107154846191,
          12.192329406738281,
          -15.681336402893066,
          5.352445125579834,
          5.54764986038208,
          6.986679553985596,
          12.998536109924316,
          3.503030776977539,
          13.847840309143066,
          -2.382401466369629,
          1.004938006401062,
          11.601037979125977,
          -13.408270835876465,
          -3.977060556411743,
          14.078571319580078,
          14.350687980651855,
          11.503591537475586,
          11.503545761108398,
          11.503544807434082,
          12.266955375671387,
          5.326569557189941,
          -10.113770484924316,
          -5.059835910797119,
          -5.561595439910889,
          4.802328586578369,
          7.647165298461914,
          5.081366539001465,
          5.314285755157471,
          8.715982437133789,
          6.104816436767578,
          6.104946613311768,
          6.104928493499756,
          6.104931831359863,
          -4.314751625061035,
          -3.878476619720459,
          -3.684377431869507,
          10.848164558410645,
          0.8278070092201233,
          -9.749298095703125,
          12.266952514648438,
          -14.977747917175293,
          -14.977747917175293,
          -14.977747917175293,
          -17.151905059814453,
          14.08635139465332,
          0.9182218313217163,
          -5.126014709472656,
          -7.6543145179748535,
          -7.654314041137695,
          -7.6543145179748535,
          -7.6543145179748535,
          -7.6542510986328125,
          -9.749299049377441,
          -9.749299049377441,
          -9.749298095703125,
          13.249152183532715,
          -10.554793357849121,
          -11.461925506591797,
          10.666387557983398,
          10.666387557983398,
          5.112208366394043,
          5.112208366394043,
          5.112158298492432,
          5.112158298492432,
          5.112208366394043,
          -2.697882890701294,
          -5.1355438232421875,
          -4.397918224334717,
          -4.397918224334717,
          -4.397918224334717,
          -4.397918224334717,
          1.7750719785690308,
          -6.4383225440979,
          10.666422843933105,
          5.286467552185059,
          10.666411399841309,
          10.666387557983398,
          11.68615436553955,
          11.686012268066406,
          11.686077117919922,
          11.686079025268555,
          11.685965538024902,
          -9.213265419006348,
          12.884828567504883,
          12.884828567504883,
          9.477059364318848,
          -15.942456245422363,
          -4.284992694854736,
          9.807012557983398,
          7.989038944244385,
          9.211151123046875,
          1.3806664943695068,
          10.666376113891602,
          11.685967445373535,
          5.822944641113281,
          5.822944641113281,
          0.15596358478069305,
          14.314291954040527,
          0.34870877861976624,
          -0.20995958149433136,
          9.684534072875977,
          7.665370941162109,
          -12.148140907287598,
          -11.016153335571289,
          9.264752388000488,
          8.584433555603027,
          10.292252540588379,
          6.18706750869751,
          0.8836692571640015,
          -11.46192455291748,
          -11.461925506591797,
          -9.57297134399414,
          5.822944641113281,
          -15.687140464782715,
          14.040396690368652,
          5.759946346282959,
          5.759946346282959,
          5.759946346282959,
          5.759946346282959,
          5.822944641113281,
          5.822944641113281,
          -4.208313465118408,
          -15.132244110107422,
          -6.185394763946533,
          -6.185315132141113,
          13.479355812072754,
          12.403847694396973,
          6.334507465362549,
          -14.47123908996582,
          2.6491363048553467,
          14.061681747436523,
          -1.987384557723999,
          -9.59111499786377,
          6.9472222328186035,
          -9.259004592895508,
          9.780263900756836,
          5.352376461029053,
          7.242941379547119,
          2.631922721862793,
          3.7519803047180176,
          0.4663897156715393,
          0.9016058444976807,
          0.4663897156715393,
          0.623365581035614,
          0.623365581035614,
          9.797736167907715,
          1.2632274627685547,
          1.2632274627685547,
          13.558252334594727,
          5.121654510498047,
          -16.01906394958496,
          4.884905815124512,
          4.884937286376953,
          4.885025978088379,
          4.8850250244140625,
          4.8850250244140625,
          0.4663897156715393,
          0.901965320110321,
          0.623365581035614,
          13.092073440551758,
          5.39090633392334,
          9.929464340209961,
          -10.071137428283691,
          5.14240837097168,
          -9.46363353729248,
          -9.46363353729248,
          8.71137809753418,
          10.516079902648926,
          8.767226219177246,
          9.904655456542969,
          9.90359878540039,
          9.67186164855957,
          9.671622276306152,
          3.2430577278137207,
          1.3287127017974854,
          0.623365581035614,
          -10.682239532470703,
          -2.093289375305176,
          -4.854206085205078,
          10.590367317199707,
          10.590507507324219,
          14.130325317382812,
          -6.732117176055908,
          9.640830993652344,
          9.64133358001709,
          0.901681661605835,
          0.623365581035614,
          0.5288700461387634,
          0.5288699865341187,
          -10.682235717773438,
          0.054476793855428696,
          5.300384998321533,
          4.8850250244140625,
          -12.084503173828125,
          -8.286398887634277,
          -10.456342697143555,
          10.324419021606445,
          -10.456342697143555,
          1.8152052164077759,
          -9.996498107910156,
          13.682568550109863,
          13.682510375976562,
          7.388057231903076,
          -1.709701418876648,
          -15.518202781677246,
          -15.518159866333008,
          -17.107105255126953,
          0.2495795041322708,
          8.508641242980957,
          -13.877248764038086,
          -15.285317420959473,
          -16.661169052124023,
          -2.919302463531494,
          -2.919302463531494,
          10.203537940979004,
          11.310158729553223,
          2.997058629989624,
          2.9970622062683105,
          -12.084718704223633,
          -12.414093017578125,
          -8.449695587158203,
          -8.431014060974121,
          6.9472222328186035,
          6.94521427154541,
          6.9472222328186035,
          -13.213964462280273,
          -0.3505414128303528,
          8.640501976013184,
          8.640501976013184,
          5.9410929679870605,
          4.885029315948486,
          5.940921783447266,
          -2.1704328060150146,
          -9.35365104675293,
          -1.8034067153930664,
          10.959381103515625,
          10.959371566772461,
          10.95944595336914,
          9.527327537536621,
          10.681305885314941,
          10.37853717803955,
          -1.8196790218353271,
          -2.427809000015259,
          3.9619040489196777,
          -9.642529487609863,
          2.8417859077453613,
          -3.515373945236206,
          1.5919111967086792,
          10.959367752075195,
          8.896639823913574,
          -12.772013664245605,
          3.2470664978027344,
          3.0709950923919678,
          -9.911136627197266,
          -9.911170959472656,
          -9.911194801330566,
          12.397602081298828,
          12.397602081298828,
          7.293405532836914,
          13.208708763122559,
          12.397602081298828,
          12.397602081298828,
          12.397602081298828,
          12.397602081298828,
          12.397602081298828,
          12.397602081298828,
          12.397602081298828,
          12.397602081298828,
          -6.832638263702393,
          -5.152740478515625,
          -5.15285062789917,
          -16.600391387939453,
          -3.036334991455078,
          6.745980262756348,
          -16.625057220458984,
          -3.2685914039611816,
          -15.812344551086426,
          -16.734983444213867,
          -16.728652954101562,
          2.644148111343384,
          -9.911160469055176,
          -9.979364395141602,
          8.035215377807617,
          -10.024795532226562,
          5.49049186706543,
          -10.191925048828125,
          -1.7117137908935547,
          3.0240581035614014,
          3.0240581035614014,
          -1.2545275688171387,
          -4.103604793548584,
          6.9210896492004395,
          -9.122306823730469,
          -5.768001556396484,
          -16.514850616455078,
          -16.513675689697266,
          -16.728652954101562,
          -16.514842987060547,
          -18.715524673461914,
          8.680212020874023,
          -17.11634063720703,
          -17.11634063720703,
          0.22344106435775757,
          0.22342059016227722,
          9.398248672485352,
          14.595932006835938,
          4.9773359298706055,
          4.9773359298706055,
          -1.8007677793502808,
          13.414716720581055,
          -3.547994613647461,
          -16.514842987060547,
          5.635408401489258,
          12.397602081298828,
          2.4485983848571777,
          13.477869033813477,
          -6.706641674041748,
          -6.706447601318359,
          -3.707214832305908,
          -14.947674751281738,
          -17.07245445251465,
          -17.07245445251465,
          13.870413780212402,
          -5.426478385925293,
          -5.426478385925293,
          -5.149350643157959,
          8.870575904846191,
          -15.694936752319336,
          -15.10523509979248,
          -9.241865158081055,
          -3.815654754638672,
          -8.041150093078613,
          3.317438840866089,
          3.575849771499634,
          1.8039151430130005,
          -10.026067733764648,
          -3.5315191745758057,
          -2.0377721786499023,
          3.1277027130126953,
          1.1749011278152466,
          1.1749018430709839,
          -0.9945303201675415,
          -17.107654571533203,
          1.174904227256775,
          8.411650657653809
         ],
         "y": [
          12.057146072387695,
          11.912627220153809,
          12.112204551696777,
          12.15837287902832,
          11.870914459228516,
          11.83231258392334,
          -7.618284225463867,
          9.273730278015137,
          -0.9450944066047668,
          -2.353512763977051,
          11.996903419494629,
          -7.618282794952393,
          -4.324304103851318,
          11.847650527954102,
          7.05318021774292,
          4.565170764923096,
          -9.607802391052246,
          -7.064470291137695,
          12.129672050476074,
          11.986679077148438,
          -3.235276460647583,
          -2.2242188453674316,
          14.405198097229004,
          7.05318021774292,
          14.405198097229004,
          10.828446388244629,
          10.828446388244629,
          -8.177186965942383,
          -11.191627502441406,
          7.82662296295166,
          11.931719779968262,
          7.493633270263672,
          1.9321410655975342,
          -6.500019550323486,
          -6.119564056396484,
          1.2997584342956543,
          1.2997584342956543,
          11.11267375946045,
          11.112690925598145,
          11.11267375946045,
          11.11267375946045,
          1.2997584342956543,
          -13.344191551208496,
          9.298198699951172,
          -5.211399078369141,
          10.265172958374023,
          -3.457820415496826,
          3.0342466831207275,
          -3.822178602218628,
          8.648355484008789,
          7.6681365966796875,
          1.2997584342956543,
          1.2997584342956543,
          6.043217182159424,
          8.681031227111816,
          10.092470169067383,
          8.096370697021484,
          4.919467449188232,
          2.764601707458496,
          7.05318021774292,
          1.291332721710205,
          -4.962032318115234,
          -7.665584564208984,
          11.174304962158203,
          -0.1690017133951187,
          -0.16877272725105286,
          -0.16877654194831848,
          -4.962032318115234,
          -4.312605381011963,
          -7.585013389587402,
          7.066897392272949,
          9.41012954711914,
          3.828108310699463,
          5.6954731941223145,
          0.11879197508096695,
          0.1187618151307106,
          19.45569610595703,
          9.928258895874023,
          0.16850587725639343,
          1.8945821523666382,
          4.921873092651367,
          -1.5503120422363281,
          -10.856184959411621,
          -3.159329414367676,
          -3.3916609287261963,
          0.3804565370082855,
          -3.198176145553589,
          8.828800201416016,
          10.63461685180664,
          7.819361686706543,
          6.868390083312988,
          11.626521110534668,
          6.078548908233643,
          6.078548908233643,
          -3.6273598670959473,
          8.809608459472656,
          -13.405077934265137,
          4.50454568862915,
          4.50454568862915,
          11.91645622253418,
          -12.316646575927734,
          -12.300333976745605,
          -13.405077934265137,
          3.129739761352539,
          -7.400492191314697,
          -7.400492191314697,
          -13.43723201751709,
          4.037850856781006,
          7.750913619995117,
          -9.00499153137207,
          -9.11267375946045,
          0.8685749769210815,
          -5.971070766448975,
          -5.971046447753906,
          -4.2773027420043945,
          10.055048942565918,
          -8.745013236999512,
          -5.543481349945068,
          6.363966941833496,
          -0.14883339405059814,
          2.8618571758270264,
          7.028475284576416,
          -0.053250864148139954,
          5.829670429229736,
          -9.428563117980957,
          -14.361533164978027,
          -11.861194610595703,
          -11.552921295166016,
          -3.5520429611206055,
          -7.400492191314697,
          -10.017398834228516,
          -10.622857093811035,
          -11.796046257019043,
          -10.031071662902832,
          0.6833471655845642,
          11.354700088500977,
          -5.924401760101318,
          2.4408962726593018,
          -1.810760498046875,
          -5.777549743652344,
          -10.62066650390625,
          12.027908325195312,
          12.027908325195312,
          12.027769088745117,
          8.204523086547852,
          -2.472362756729126,
          -8.894790649414062,
          11.20500373840332,
          2.9684486389160156,
          1.5601675510406494,
          -5.865041255950928,
          6.7702412605285645,
          6.770243167877197,
          6.770243167877197,
          -7.939080715179443,
          -7.939210891723633,
          3.200578451156616,
          -13.422542572021484,
          0.6738951206207275,
          -1.806560754776001,
          -4.143716812133789,
          1.7349324226379395,
          -2.342125177383423,
          -2.342184543609619,
          -4.948315143585205,
          2.04504656791687,
          -13.299161911010742,
          -13.59742259979248,
          -8.696736335754395,
          -3.2843127250671387,
          0.9652783870697021,
          -9.201499938964844,
          6.319582939147949,
          6.2300238609313965,
          4.166689395904541,
          11.364346504211426,
          -5.0372772216796875,
          -9.388916969299316,
          0.8214896321296692,
          0.8213974237442017,
          5.0914411544799805,
          -5.308392524719238,
          2.4068048000335693,
          -2.022219657897949,
          -7.613537311553955,
          -10.153763771057129,
          -2.8043813705444336,
          -5.6813883781433105,
          0.2927536368370056,
          0.292788565158844,
          0.292788565158844,
          0.29279059171676636,
          0.29279473423957825,
          11.364346504211426,
          13.916419982910156,
          13.916230201721191,
          -4.789648056030273,
          -8.328350067138672,
          -8.328371047973633,
          -4.653930187225342,
          13.759490013122559,
          -2.517528533935547,
          -2.517528533935547,
          0.2927773892879486,
          0.2942141890525818,
          0.2927381694316864,
          0.2942120432853699,
          -4.796359062194824,
          6.2300238609313965,
          -0.1488834172487259,
          5.689033508300781,
          -5.275311470031738,
          0.5337604880332947,
          -5.765079498291016,
          0.5954743027687073,
          4.457302570343018,
          7.010900497436523,
          -2.668750524520874,
          -3.4021201133728027,
          2.3936033248901367,
          2.3936033248901367,
          2.4449760913848877,
          -5.857876777648926,
          1.845625638961792,
          0.4116145372390747,
          7.483811378479004,
          7.483811378479004,
          7.483809471130371,
          11.321561813354492,
          -0.6889885663986206,
          -0.6889773011207581,
          -0.6889773011207581,
          -2.751811981201172,
          -4.853237152099609,
          -5.275311470031738,
          -11.042004585266113,
          3.345609426498413,
          -2.1118688583374023,
          10.154154777526855,
          4.154824256896973,
          -1.02017343044281,
          -0.7840360999107361,
          -0.784088134765625,
          1.504346251487732,
          -0.20915691554546356,
          -0.20900319516658783,
          1.6209917068481445,
          3.380453109741211,
          3.380453109741211,
          -4.760932922363281,
          -1.5230728387832642,
          -5.7243971824646,
          1.621000051498413,
          6.960517406463623,
          -3.847661018371582,
          -9.418028831481934,
          0.7148023843765259,
          10.60010051727295,
          2.220952033996582,
          6.89815092086792,
          -10.619105339050293,
          -1.810760498046875,
          19.849132537841797,
          3.8435018062591553,
          -4.310647964477539,
          11.7471342086792,
          -3.6525230407714844,
          4.254055976867676,
          2.0452451705932617,
          -4.655550003051758,
          7.116927623748779,
          -7.163837909698486,
          -0.9393832683563232,
          -0.9393831491470337,
          3.797071695327759,
          3.7970774173736572,
          3.79705810546875,
          -2.212265729904175,
          6.198576927185059,
          9.114638328552246,
          -5.841806411743164,
          21.44002914428711,
          12.500612258911133,
          -0.27837786078453064,
          9.730328559875488,
          0.17981088161468506,
          -6.861782073974609,
          -12.216814041137695,
          5.489556312561035,
          -12.138886451721191,
          9.550965309143066,
          -9.73947811126709,
          -6.979804992675781,
          -10.715387344360352,
          -5.676116466522217,
          -6.1912102699279785,
          -2.9494545459747314,
          13.674836158752441,
          14.052891731262207,
          5.827481269836426,
          -10.595099449157715,
          -10.595087051391602,
          -0.4156137704849243,
          -0.4156137704849243,
          -7.0155558586120605,
          11.152504920959473,
          -0.9767899513244629,
          1.816601276397705,
          1.816601276397705,
          0.5746686458587646,
          0.5746742486953735,
          -1.627402663230896,
          -5.845829963684082,
          -0.2962303161621094,
          -3.8515284061431885,
          17.18402099609375,
          -1.4626049995422363,
          13.286968231201172,
          12.15385913848877,
          -0.13275344669818878,
          -0.13297592103481293,
          -11.14163589477539,
          -11.141629219055176,
          -11.141629219055176,
          5.9380011558532715,
          -3.314382791519165,
          -6.356456756591797,
          0.6060177087783813,
          2.7280657291412354,
          7.43953275680542,
          -11.919221878051758,
          -11.919212341308594,
          -12.716458320617676,
          -12.716458320617676,
          -1.4626315832138062,
          11.30286693572998,
          16.864274978637695,
          9.822441101074219,
          9.822442054748535,
          9.822441101074219,
          -1.4626458883285522,
          9.822379112243652,
          -5.647656440734863,
          -8.913640975952148,
          -8.914019584655762,
          -8.913321495056152,
          -1.8599730730056763,
          -13.106302261352539,
          9.828312873840332,
          12.153858184814453,
          -0.33717080950737,
          -4.656302452087402,
          -3.69258975982666,
          10.311837196350098,
          10.311837196350098,
          14.35207462310791,
          -12.239274978637695,
          -11.767804145812988,
          -11.767802238464355,
          -12.239426612854004,
          -6.66735315322876,
          -6.659687042236328,
          4.892554759979248,
          4.892554759979248,
          -1.1992456912994385,
          -2.6308791637420654,
          15.092862129211426,
          0.07942193001508713,
          16.079078674316406,
          -4.019942760467529,
          -4.019942760467529,
          8.376978874206543,
          -2.9539222717285156,
          -12.924599647521973,
          -12.924625396728516,
          -10.960583686828613,
          -3.5664377212524414,
          5.021059513092041,
          12.866318702697754,
          12.866318702697754,
          7.47292947769165,
          -2.147707939147949,
          -1.9476321935653687,
          -11.275169372558594,
          -0.1803973913192749,
          -1.8573423624038696,
          -5.689302444458008,
          -7.111114501953125,
          -12.484310150146484,
          -14.223687171936035,
          9.93392562866211,
          5.6607208251953125,
          -7.650357723236084,
          4.38816499710083,
          -12.539021492004395,
          -9.502342224121094,
          0.3735991418361664,
          12.988570213317871,
          12.9885892868042,
          8.20380687713623,
          -3.688197135925293,
          -5.846926689147949,
          0.30184975266456604,
          -8.702781677246094,
          0.7674936652183533,
          0.7674936652183533,
          0.7674936652183533,
          0.7674936652183533,
          0.7674936652183533,
          0.7674936652183533,
          -4.641716957092285,
          0.7674936652183533,
          0.7674936652183533,
          0.7674936652183533,
          0.7674936652183533,
          5.055694580078125,
          11.949142456054688,
          -0.42887556552886963,
          0.7674936652183533,
          12.153858184814453,
          12.153871536254883,
          13.25306510925293,
          -13.803122520446777,
          -5.346253395080566,
          -10.11105728149414,
          0.4881564676761627,
          10.384966850280762,
          10.384964942932129,
          10.384588241577148,
          10.384964942932129,
          10.384899139404297,
          10.384520530700684,
          -2.066441774368286,
          -2.751493215560913,
          10.409168243408203,
          10.40917682647705,
          -2.1154909133911133,
          -2.8161585330963135,
          13.58006763458252,
          -5.767879486083984,
          -10.644481658935547,
          -5.778225421905518,
          -3.531864881515503,
          9.351531028747559,
          6.566696643829346,
          -13.803119659423828,
          13.150735855102539,
          -2.636866569519043,
          -1.3628185987472534,
          6.22273063659668,
          0.20103777945041656,
          -2.2917332649230957,
          -3.421250820159912,
          -4.416867733001709,
          -5.325602054595947,
          -13.80312442779541,
          -2.303845167160034,
          0.5132530331611633,
          6.087803363800049,
          -9.107898712158203,
          -9.107898712158203,
          6.02981424331665,
          6.02981424331665,
          3.2311134338378906,
          3.2311835289001465,
          -1.1874253749847412,
          0.6460421085357666,
          0.3572137951850891,
          -1.1443623304367065,
          -4.227499961853027,
          -6.217617034912109,
          -10.105798721313477,
          17.794641494750977,
          -8.092084884643555,
          -2.303845167160034,
          -6.653576374053955,
          -6.653861999511719,
          -6.653861999511719,
          -6.653576374053955,
          -6.653547763824463,
          -13.803125381469727,
          -6.653576374053955,
          -2.077465534210205,
          -2.077465534210205,
          7.2312703132629395,
          -8.29511547088623,
          -2.060143232345581,
          -2.6032116413116455,
          -6.653576374053955,
          5.366056442260742,
          6.362957954406738,
          6.362956523895264,
          -7.41320276260376,
          9.957538604736328,
          9.957448959350586,
          7.404599666595459,
          7.404599666595459,
          -13.297529220581055,
          -2.75156307220459,
          -2.75156307220459,
          -9.455035209655762,
          -1.3502932786941528,
          -1.0426772832870483,
          -10.034197807312012,
          -10.034175872802734,
          -1.2862368822097778,
          4.8955206871032715,
          -12.85570240020752,
          3.6391422748565674,
          13.141447067260742,
          13.141447067260742,
          13.286968231201172,
          13.141447067260742,
          17.44352912902832,
          17.44352912902832,
          -4.157081127166748,
          -13.065618515014648,
          -2.1196939945220947,
          -5.22938871383667,
          -5.22938871383667,
          -1.4628000259399414,
          -12.506843566894531,
          6.994290828704834,
          -2.1196939945220947,
          1.9873840808868408,
          -5.235637187957764,
          -5.235729217529297,
          5.057395935058594,
          5.190091133117676,
          -11.812992095947266,
          -11.812992095947266,
          -9.059224128723145,
          7.083611011505127,
          5.273166179656982,
          -6.266760349273682,
          -10.488798141479492,
          -10.783672332763672,
          -0.2833525538444519,
          -0.013214057311415672,
          -5.785457134246826,
          -2.0800907611846924,
          -2.0224146842956543,
          21.44002914428711,
          4.9581193923950195,
          5.201483726501465,
          -7.353600978851318,
          -0.8543832302093506,
          -10.284080505371094,
          -10.284080505371094,
          -2.134681463241577,
          -2.8256733417510986,
          5.043302536010742,
          -2.8256733417510986,
          4.942695617675781,
          5.135278701782227,
          4.934852123260498,
          5.013393878936768,
          5.347997188568115,
          5.30360746383667,
          -2.6049230098724365,
          -0.4703892767429352,
          -5.027390480041504,
          10.075623512268066,
          -3.5218770503997803,
          -0.10160627216100693,
          3.0024712085723877,
          -7.315138816833496,
          10.790245056152344,
          -9.174715042114258,
          12.54277229309082,
          7.897033214569092,
          0.2161838561296463,
          3.8011105060577393,
          0.7217038869857788,
          -1.3278498649597168,
          -1.3278504610061646,
          -7.763403415679932,
          0.21623840928077698,
          -8.253084182739258,
          -0.7848570346832275,
          -0.7848567962646484,
          13.160032272338867,
          -13.013809204101562,
          -1.5968928337097168,
          17.030101776123047,
          -8.505383491516113,
          -7.093101501464844,
          -8.116544723510742,
          -8.117591857910156,
          -8.116618156433105,
          -5.534411430358887,
          3.7824602127075195,
          -1.3563326597213745,
          -1.3563326597213745,
          -4.977710723876953,
          -0.7848567962646484,
          -7.113757133483887,
          -7.411950588226318,
          -6.883707523345947,
          -7.410378456115723,
          11.248892784118652,
          -5.334759712219238,
          -1.106809377670288,
          -1.5753350257873535,
          11.703238487243652,
          -3.6652328968048096,
          -9.29201889038086,
          -5.012302875518799,
          7.256757736206055,
          -0.2542031705379486,
          -0.2542031705379486,
          -0.2541906237602234,
          -2.324427843093872,
          5.901745319366455,
          8.460929870605469,
          16.502458572387695,
          11.957259178161621,
          16.61932373046875,
          16.502458572387695,
          -5.69561767578125,
          -5.695631504058838,
          16.502458572387695,
          16.373580932617188,
          16.502458572387695,
          16.029237747192383,
          16.373580932617188,
          16.373580932617188,
          16.502458572387695,
          16.502458572387695,
          15.77621841430664,
          16.502458572387695,
          16.502458572387695,
          16.502458572387695,
          16.373580932617188,
          16.502458572387695,
          3.752732276916504,
          11.95726490020752,
          -3.4006128311157227,
          -0.46716323494911194,
          -4.410922050476074,
          -4.410924911499023,
          1.740314245223999,
          -0.4757382273674011,
          -0.5202044248580933,
          3.4318926334381104,
          -12.185807228088379,
          3.814857244491577,
          3.814857244491577,
          3.814857244491577,
          0.45123568177223206,
          1.8396892547607422,
          1.8396892547607422,
          3.814857244491577,
          -5.864416599273682,
          -5.864416599273682,
          -3.2540042400360107,
          -3.84256911277771,
          -1.6813925504684448,
          -12.78357219696045,
          -4.371775150299072,
          3.663106679916382,
          3.6631617546081543,
          3.6631104946136475,
          4.8063130378723145,
          4.8062591552734375,
          12.02288818359375,
          12.02288818359375,
          -2.0582590103149414,
          -2.0582377910614014,
          -2.0582587718963623,
          14.048227310180664,
          -10.328376770019531,
          -10.328376770019531,
          -10.328375816345215,
          -1.738635540008545,
          1.0071910619735718,
          -7.6744537353515625,
          -6.073808670043945,
          2.9726271629333496,
          -11.289871215820312,
          11.863107681274414,
          -5.376349449157715,
          4.203125953674316,
          4.570339202880859,
          4.312824726104736,
          4.709291934967041,
          4.248073101043701,
          4.153270721435547,
          4.719332695007324,
          17.935266494750977,
          1.0071910619735718,
          8.840577125549316,
          1.4975237846374512,
          -9.106425285339355,
          6.28680419921875,
          -2.1422693729400635,
          17.153017044067383,
          7.306463718414307,
          0.19402725994586945,
          -5.647439479827881,
          0.04770961403846741,
          0.047709621489048004,
          0.047709621489048004,
          -11.75533676147461,
          -12.035333633422852,
          -0.46403220295906067,
          -13.250327110290527,
          0.2579565942287445,
          7.59947395324707,
          -7.556210994720459,
          -9.257923126220703,
          -9.257923126220703,
          -7.595560550689697,
          -11.927902221679688,
          -8.739720344543457,
          -7.956573963165283,
          -11.396891593933105,
          18.430002212524414,
          -5.03662109375,
          -5.702056884765625,
          -13.531105041503906,
          5.548234462738037,
          -7.573574066162109,
          -7.573577880859375,
          8.673394203186035,
          -1.5071760416030884,
          -5.4058427810668945,
          0.26592037081718445,
          3.5580523014068604,
          9.440346717834473,
          -6.668127536773682,
          3.991856813430786,
          -0.20453080534934998,
          -0.20453080534934998,
          -0.2045394331216812,
          8.74388313293457,
          0.4299664795398712,
          -5.564986705780029,
          -13.611652374267578,
          -13.611652374267578,
          17.122581481933594,
          -10.99845027923584,
          -9.266518592834473,
          5.160135269165039,
          13.038086891174316,
          -6.66812801361084,
          4.141326427459717,
          -13.171063423156738,
          -0.766377866268158,
          -5.804046630859375,
          -4.658041477203369,
          -5.089578151702881,
          -5.089573860168457,
          -0.22237606346607208,
          -8.073756217956543,
          0.20760920643806458,
          13.309247016906738,
          1.8306986093521118,
          -2.4805727005004883,
          12.834232330322266,
          0.6921213269233704,
          8.062275886535645,
          4.529021739959717,
          3.226675271987915,
          10.427970886230469,
          7.500331401824951,
          -13.136275291442871,
          5.855527877807617,
          2.540526866912842,
          1.9640798568725586,
          -3.64127254486084,
          -8.892313957214355,
          -1.7052432298660278,
          6.738406181335449,
          15.733609199523926,
          4.24188232421875,
          -10.868119239807129,
          -10.86808967590332,
          3.623882293701172,
          5.229056358337402,
          -7.615735054016113,
          -7.615735054016113,
          6.410192012786865,
          9.76939868927002,
          -1.263861894607544,
          -13.136275291442871,
          -1.5567866563796997,
          -9.318177223205566,
          -7.565166473388672,
          -12.062262535095215,
          7.142751216888428,
          3.958993673324585,
          4.864896297454834,
          -14.026203155517578,
          5.330084323883057,
          -7.94584846496582,
          1.6232109069824219,
          1.6231627464294434,
          -4.3240814208984375,
          -4.3240814208984375,
          -12.744857788085938,
          -9.334403038024902,
          -11.850349426269531,
          -1.338090181350708,
          -5.468575477600098,
          -0.5973907113075256,
          -13.388254165649414,
          -0.32665762305259705,
          7.256990909576416,
          4.605807781219482,
          17.69430923461914,
          17.69430923461914,
          -6.6715922355651855,
          -8.405396461486816,
          -6.829261779785156,
          1.559957504272461,
          1.5599582195281982,
          1.5599581003189087,
          -2.3096487522125244,
          -5.6089372634887695,
          3.761279821395874,
          6.914976119995117,
          14.830181121826172,
          -3.9090065956115723,
          5.694429397583008,
          -8.726409912109375,
          19.522340774536133,
          -10.941839218139648,
          -5.029930591583252,
          -7.101296901702881,
          -0.17231546342372894,
          16.71016502380371,
          -6.617207050323486,
          -3.1011953353881836,
          -3.012205123901367,
          12.40591049194336,
          1.4512156248092651,
          1.6605738401412964,
          -3.1235320568084717,
          4.659666061401367,
          0.38910973072052,
          -1.7217726707458496,
          2.0844929218292236,
          -5.963309288024902,
          -5.964272499084473,
          -8.726409912109375,
          -5.816112518310547,
          -13.339987754821777,
          -13.339987754821777,
          6.9378204345703125,
          -5.311758041381836,
          -5.311751365661621,
          7.43004035949707,
          6.657844543457031,
          -7.246558666229248,
          -10.052632331848145,
          0.942560076713562,
          -4.871610164642334,
          -5.9633564949035645,
          -5.96346378326416,
          -5.963309288024902,
          0.6003292202949524,
          -4.211272716522217,
          0.7584289908409119,
          10.771105766296387,
          -0.521613597869873,
          -7.69291877746582,
          -0.1166381761431694,
          -0.11677351593971252,
          1.1093034744262695,
          -1.4087722301483154,
          -1.3177577257156372,
          6.572360515594482,
          7.416324615478516,
          7.293259143829346,
          7.416324615478516,
          7.293259143829346,
          7.293259143829346,
          -1.3177589178085327,
          -1.4087722301483154,
          -1.4087722301483154,
          -1.5991590023040771,
          2.733093500137329,
          -1.6172751188278198,
          -1.6172606945037842,
          -1.6172751188278198,
          5.496417045593262,
          -8.59982967376709,
          1.487757921218872,
          -10.029911994934082,
          -2.0365025997161865,
          -0.017708731815218925,
          6.205585956573486,
          -2.123023748397827,
          0.27648064494132996,
          1.9128267765045166,
          -13.090242385864258,
          7.416324615478516,
          7.416324615478516,
          7.416324615478516,
          7.416324615478516,
          18.359678268432617,
          18.35968017578125,
          18.359682083129883,
          -4.177818775177002,
          -4.251408576965332,
          -8.233049392700195,
          -8.233331680297852,
          -9.064053535461426,
          -9.336893081665039,
          17.33881950378418,
          -10.310072898864746,
          -10.310356140136719,
          -9.117474555969238,
          6.132894515991211,
          -2.60215163230896,
          14.380720138549805,
          -8.750333786010742,
          14.380721092224121,
          -7.427310466766357,
          7.416324615478516,
          3.8754258155822754,
          -13.131494522094727,
          2.831234931945801,
          -11.630675315856934,
          2.0437564849853516,
          0.7207801342010498,
          -7.260542392730713,
          9.019281387329102,
          9.019182205200195,
          9.019182205200195,
          9.019182205200195,
          9.019182205200195,
          7.355196952819824,
          -9.002558708190918,
          -11.99732494354248,
          -8.759504318237305,
          -8.436311721801758,
          -1.1457463502883911,
          -0.2956749498844147,
          -0.2956749200820923,
          1.6212557554244995,
          1.6211528778076172,
          1.6211528778076172,
          1.6211528778076172,
          6.454688549041748,
          1.0663472414016724,
          2.996274709701538,
          -3.0354626178741455,
          5.7238993644714355,
          -3.1072850227355957,
          0.7257137298583984,
          -6.564467430114746,
          -1.3678957223892212,
          4.327663898468018,
          -1.3678957223892212,
          -8.646296501159668,
          0.7760685682296753,
          10.075624465942383,
          10.075623512268066,
          9.345945358276367,
          -12.070090293884277,
          -3.599308729171753,
          0.47399112582206726,
          0.26662325859069824,
          -3.5516490936279297,
          -3.5516490936279297,
          -5.499407768249512,
          -5.74777364730835,
          -8.848777770996094,
          2.61258864402771,
          0.7760869264602661,
          0.7760685682296753,
          -8.646378517150879,
          -11.492205619812012,
          -1.3678957223892212,
          5.88292121887207,
          -3.775973320007324,
          9.392546653747559,
          -4.760887145996094,
          0.2295832335948944,
          -9.747543334960938,
          0.2295832335948944,
          0.2295832335948944,
          0.22945602238178253,
          0.42897287011146545,
          4.130184173583984,
          4.130184173583984,
          4.130520343780518,
          4.130520343780518,
          4.130139350891113,
          -11.52414608001709,
          -1.3748778104782104,
          -8.859302520751953,
          -1.374963402748108,
          -1.3748778104782104,
          2.428227663040161,
          -9.543002128601074,
          -6.779682636260986,
          -2.095409393310547,
          -8.635664939880371,
          11.898772239685059,
          11.94921588897705,
          11.94921588897705,
          -4.745391845703125,
          6.837621688842773,
          -8.006560325622559,
          -6.805855751037598,
          3.7206811904907227,
          -3.391852378845215,
          -1.374963402748108,
          -1.3748784065246582,
          10.075623512268066,
          -4.125614166259766,
          6.597920894622803,
          -2.417388677597046,
          -6.536747932434082,
          -5.975820064544678,
          4.299190044403076,
          3.9223685264587402,
          5.090620517730713,
          -8.686095237731934,
          -3.690291404724121,
          -8.416816711425781,
          -5.517140865325928,
          -5.517142295837402,
          -9.983743667602539,
          -9.982110023498535,
          -9.280284881591797,
          -3.690293550491333,
          2.2080764770507812,
          2.2080764770507812,
          -5.822310447692871,
          -7.665964603424072,
          -4.597621440887451,
          -4.733462810516357,
          -4.374838829040527,
          -6.0663251876831055,
          0.9454174041748047,
          -10.369325637817383,
          -1.2769132852554321,
          -2.211048126220703,
          -10.520764350891113,
          -10.520764350891113,
          -10.338558197021484,
          -0.12933485209941864,
          -4.8138346672058105,
          -1.4312050342559814,
          -9.518957138061523,
          -9.414981842041016,
          -9.793898582458496,
          -9.413423538208008,
          3.1460609436035156,
          3.1460609436035156,
          3.1460609436035156,
          3.1460609436035156,
          3.1460609436035156,
          6.768502712249756,
          6.768502712249756,
          -1.278327465057373,
          2.6704142093658447,
          15.981572151184082,
          0.9447510838508606,
          0.9447510838508606,
          -4.054144859313965,
          8.17856502532959,
          0.7584289312362671,
          3.1460609436035156,
          0.9675880670547485,
          3.1460609436035156,
          -2.691162109375,
          -9.199200630187988,
          9.392905235290527,
          9.393335342407227,
          9.39333438873291,
          3.2053637504577637,
          3.2053632736206055,
          8.948691368103027,
          -12.08277416229248,
          -10.079696655273438,
          -10.079697608947754,
          -4.070164203643799,
          3.8660032749176025,
          3.4911677837371826,
          -9.71152114868164,
          -2.4176201820373535,
          3.1460609436035156,
          -3.6485037803649902,
          -3.686601400375366,
          -3.6485037803649902,
          -11.397500038146973,
          4.054586410522461,
          4.054586410522461,
          4.054561614990234,
          4.054586410522461,
          -12.899896621704102,
          0.4823412597179413,
          5.940295219421387,
          17.597402572631836,
          -13.223299980163574,
          5.8870954513549805,
          -7.242156982421875,
          -12.19217300415039,
          2.3075902462005615,
          -2.237050771713257,
          -10.203904151916504,
          -2.237050771713257,
          19.162771224975586,
          19.162973403930664,
          6.5979228019714355,
          6.5979228019714355,
          6.597920894622803,
          6.5979228019714355,
          6.724950790405273,
          -9.454704284667969,
          -0.8425849676132202,
          -0.8424325585365295,
          -0.8424642086029053,
          17.36258888244629,
          -3.9877970218658447,
          9.252604484558105,
          -10.131871223449707,
          -7.195764064788818,
          19.162960052490234,
          19.16293716430664,
          -5.34528112411499,
          -0.8508137464523315,
          11.059435844421387,
          15.635689735412598,
          15.635689735412598,
          -3.648024797439575,
          -1.7472199201583862,
          0.34305253624916077,
          6.364126682281494,
          -4.651745796203613,
          -4.651745796203613,
          -2.844862222671509,
          -3.441899538040161,
          -1.58151376247406,
          -1.3043984174728394,
          -12.998815536499023,
          -3.6485037803649902,
          -3.686601400375366,
          15.635689735412598,
          -0.8508137464523315,
          15.635689735412598,
          -2.9105749130249023,
          -1.3901365995407104,
          -6.0234599113464355,
          -1.5933380126953125,
          -1.5928040742874146,
          8.847474098205566,
          8.847893714904785,
          -3.4456801414489746,
          -13.726337432861328,
          -2.870884418487549,
          7.410937786102295,
          -1.3496726751327515,
          5.2432541847229,
          3.903015613555908,
          -5.439389705657959,
          6.285676002502441,
          20.29654312133789,
          -0.470398485660553,
          15.092734336853027,
          5.711057186126709,
          0.9390442371368408,
          0.9392964243888855,
          -0.27617910504341125,
          -0.27621304988861084,
          -0.27621304988861084,
          -3.3696255683898926,
          -10.411486625671387,
          -9.553548812866211,
          -3.145364999771118,
          8.24398136138916,
          8.243908882141113,
          3.2363643646240234,
          3.5129170417785645,
          3.6511149406433105,
          -2.5353405475616455,
          7.7374186515808105,
          13.66726303100586,
          -9.543024063110352,
          13.15483570098877,
          4.776669502258301,
          6.098532676696777,
          -11.424989700317383,
          17.50587272644043,
          -6.484661102294922,
          -6.4847493171691895,
          -3.586949348449707,
          4.329294681549072,
          11.076783180236816,
          11.076783180236816,
          11.076783180236816,
          -2.4497790336608887,
          17.384252548217773,
          14.281559944152832,
          1.2182142734527588,
          -7.37628698348999,
          -0.320611834526062,
          -0.320611834526062,
          -4.569699287414551,
          17.666831970214844,
          17.666831970214844,
          17.666831970214844,
          17.666831970214844,
          17.666831970214844,
          17.666831970214844,
          17.666831970214844,
          17.666831970214844,
          17.666831970214844,
          2.4686059951782227,
          -0.12853001058101654,
          1.510317087173462,
          -4.311335563659668,
          -9.817936897277832,
          -9.817936897277832,
          17.666831970214844,
          -7.4759674072265625,
          -7.495340347290039,
          6.8739213943481445,
          -4.864375114440918,
          -12.168298721313477,
          -11.453811645507812,
          -11.454089164733887,
          3.3613197803497314,
          3.3613197803497314,
          14.536404609680176,
          1.0780538320541382,
          6.413379192352295,
          6.413293838500977,
          9.003080368041992,
          9.003080368041992,
          9.003080368041992,
          9.003080368041992,
          0.16553281247615814,
          -12.543078422546387,
          6.413291931152344,
          4.5006513595581055,
          4.5006513595581055,
          -13.538759231567383,
          -13.097293853759766,
          3.9987218379974365,
          3.105485677719116,
          -6.202396869659424,
          -12.172062873840332,
          -1.2721072435379028,
          -0.20109011232852936,
          -1.9267849922180176,
          -7.78656005859375,
          -9.765223503112793,
          -2.427161693572998,
          -9.757614135742188,
          -13.695647239685059,
          6.227874755859375,
          -1.639832615852356,
          -6.289103984832764,
          5.530333042144775,
          9.266741752624512,
          9.266733169555664,
          -7.555694103240967,
          -9.307595252990723,
          -9.307397842407227,
          -0.7021426558494568,
          -0.7021651864051819,
          -5.674048900604248,
          -10.419957160949707,
          -6.4403395652771,
          -10.812531471252441,
          -1.3998311758041382,
          -12.84241771697998,
          4.836922645568848,
          5.034310340881348,
          -0.41907399892807007,
          -6.392409801483154,
          -6.392423152923584,
          -0.5943962335586548,
          -13.34008502960205,
          -12.400395393371582,
          14.66695499420166,
          -6.173789024353027,
          -8.247535705566406,
          -8.247565269470215,
          -9.299671173095703,
          -7.635887145996094,
          -7.635887145996094,
          -7.635880470275879,
          11.034615516662598,
          -1.5101968050003052,
          -11.783717155456543,
          -5.148079872131348,
          11.208181381225586,
          -2.12699294090271,
          -6.532176494598389,
          -10.998605728149414,
          -6.173668384552002,
          -6.173770904541016,
          -6.173556804656982,
          8.319679260253906,
          14.6691255569458,
          14.668267250061035,
          14.669893264770508,
          14.669726371765137,
          14.669893264770508,
          14.669965744018555,
          0.9346311092376709,
          14.668784141540527,
          11.025720596313477,
          -0.15497137606143951,
          6.46697473526001,
          7.784562110900879,
          -1.6706953048706055,
          4.246402740478516,
          -2.4537172317504883,
          -2.452058792114258,
          5.3700432777404785,
          -5.514377117156982,
          4.610360145568848,
          4.533721446990967,
          -4.793010711669922,
          -9.799447059631348,
          -2.416764974594116,
          -10.030704498291016,
          11.292747497558594,
          -5.767701148986816,
          -5.767701148986816,
          -0.04083916172385216,
          2.4488344192504883,
          8.339735984802246,
          8.339735984802246,
          -8.029312133789062,
          1.1404474973678589,
          2.842066526412964,
          -9.383854866027832,
          -1.0040558576583862,
          -6.002924919128418,
          -6.002924919128418,
          -6.002924919128418,
          -9.584490776062012,
          -9.584480285644531,
          -4.0252227783203125,
          -4.795285224914551,
          -10.27446460723877,
          4.070173263549805,
          -9.462635040283203,
          -5.4896979331970215,
          -10.339383125305176,
          -11.090420722961426,
          1.3074567317962646,
          -1.3444112539291382,
          11.736783027648926,
          4.317994117736816,
          -6.002924919128418,
          -6.002954959869385,
          7.823936462402344,
          -8.6171875,
          -0.470379114151001,
          2.3782265186309814,
          -5.380106449127197,
          -5.5031657218933105,
          -5.078022480010986,
          -5.078022480010986,
          -5.678107738494873,
          -5.855665683746338,
          -5.855665683746338,
          -5.380106449127197,
          -5.380106449127197,
          10.167745590209961,
          2.986721992492676,
          -1.1458076238632202,
          -2.5274441242218018,
          2.778146982192993,
          2.778130531311035,
          -4.953714370727539,
          -5.291141510009766,
          -4.951316833496094,
          -5.078022480010986,
          -2.700610876083374,
          -2.700610876083374,
          -13.464570045471191,
          -13.49743938446045,
          -8.1730375289917,
          5.068594932556152,
          0.5087473392486572,
          -11.840949058532715,
          8.968653678894043,
          -7.477818012237549,
          -7.477757930755615,
          10.14586067199707,
          -5.291141510009766,
          -5.291141510009766,
          -5.380106449127197,
          -5.5031657218933105,
          1.1023322343826294,
          -0.01799633540213108,
          -3.745230197906494,
          -7.90603494644165,
          -3.9442079067230225,
          -3.9442079067230225,
          7.220539093017578,
          0.3536413609981537,
          -2.2767250537872314,
          5.8706374168396,
          6.579610347747803,
          11.612382888793945,
          -1.5104550123214722,
          -13.756925582885742,
          0.5661713480949402,
          5.080240726470947,
          -0.5952249765396118,
          7.011460781097412,
          7.064106464385986,
          2.569293737411499,
          0.30671191215515137,
          -3.9950547218322754,
          7.074070930480957,
          4.533655166625977,
          4.771317958831787,
          4.771317958831787,
          4.770113468170166,
          4.488773345947266,
          4.763869762420654,
          4.533655166625977,
          7.064108371734619,
          4.469064235687256,
          5.479078769683838,
          -1.9698504209518433,
          -13.149587631225586,
          -2.627652883529663,
          -5.224019527435303,
          3.645911931991577,
          7.074070930480957,
          4.769749164581299,
          -7.90603494644165,
          5.297736167907715,
          -0.4190128445625305,
          0.960827112197876,
          2.807507276535034,
          3.768819808959961,
          -3.231804609298706,
          -5.266419887542725,
          -13.079856872558594,
          -5.692992210388184,
          0.3575398921966553,
          -0.9668861031532288,
          -1.2753864526748657,
          -11.087708473205566,
          1.9020795822143555,
          4.944512844085693,
          -7.90603494644165,
          -7.90603494644165,
          -9.970723152160645,
          -2.057084083557129,
          0.11468634009361267,
          17.958175659179688,
          -9.860809326171875,
          -4.233158588409424,
          -14.167104721069336,
          -0.5206540822982788,
          7.554741382598877,
          -13.476728439331055,
          12.755690574645996,
          -0.4190128445625305,
          -10.253661155700684,
          -0.45086225867271423,
          -1.4544813632965088,
          2.137258529663086,
          -2.0760717391967773,
          3.001970052719116,
          -11.05420970916748,
          5.7841997146606445,
          -3.0804245471954346,
          2.9782018661499023,
          6.689261436462402,
          -5.009524345397949,
          -3.8680479526519775,
          -5.9735107421875,
          -5.973410129547119,
          -5.9735107421875,
          9.93718433380127,
          -9.833306312561035,
          -9.837874412536621,
          -9.833306312561035,
          -9.833306312561035,
          -9.833306312561035,
          -9.833306312561035,
          -9.833306312561035,
          -9.833306312561035,
          -9.833306312561035,
          -9.833306312561035,
          9.275254249572754,
          -9.833306312561035,
          9.275287628173828,
          3.689016819000244,
          -12.686003684997559,
          -12.687627792358398,
          -12.68594741821289,
          3.1457345485687256,
          6.0135369300842285,
          -0.791912853717804,
          -3.1020612716674805,
          -3.1020612716674805,
          -5.2092061042785645,
          -6.986766815185547,
          0.10352014005184174,
          -8.49610710144043,
          6.473119735717773,
          -5.479094982147217,
          -0.16321982443332672,
          -2.484135866165161,
          -9.833306312561035,
          -6.479557514190674,
          -1.375510811805725,
          18.831697463989258,
          -1.5782482624053955,
          -3.6707658767700195,
          -3.670761823654175,
          -0.9167614579200745,
          8.402923583984375,
          -3.137404441833496,
          -12.253754615783691,
          -8.464755058288574,
          4.497077941894531,
          11.02731990814209,
          -11.52591609954834,
          -7.697734832763672,
          -9.010028839111328,
          -10.67491626739502,
          9.575654029846191,
          9.575486183166504,
          -2.530531883239746,
          1.1554476022720337,
          -1.375510811805725,
          -1.375510811805725,
          3.6616060733795166,
          4.078000068664551,
          4.025709629058838,
          4.050296306610107,
          3.658676862716675,
          12.57349967956543,
          3.652592420578003,
          4.006150245666504,
          3.630866289138794,
          3.220608711242676,
          3.220608711242676,
          3.220608711242676,
          3.220608711242676,
          1.1553869247436523,
          3.984795331954956,
          12.507699966430664,
          12.777623176574707,
          12.683433532714844,
          -9.203129768371582,
          -3.1604294776916504,
          -6.50955867767334,
          8.744864463806152,
          8.744864463806152,
          4.153682231903076,
          -12.286112785339355,
          -12.286112785339355,
          -12.286078453063965,
          -7.724931716918945,
          -7.7248215675354,
          -7.724931716918945,
          -7.893700122833252,
          -7.893700122833252,
          -7.893700122833252,
          -9.203130722045898,
          -0.6663525700569153,
          -0.6663525700569153,
          -11.26928424835205,
          -13.882658958435059,
          -3.325737237930298,
          -3.325737237930298,
          -3.325737237930298,
          -3.3257129192352295,
          -3.813856840133667,
          -3.6464715003967285,
          -0.9654427170753479,
          18.28691864013672,
          -9.962705612182617,
          2.5343120098114014,
          -2.5537173748016357,
          2.802905559539795,
          1.1708977222442627,
          -0.49435317516326904,
          -0.4943627119064331,
          0.0016385214403271675,
          -10.019954681396484,
          0.811016321182251,
          2.2842206954956055,
          3.2996103763580322,
          3.2994747161865234,
          3.2997536659240723,
          -9.92623233795166,
          -4.661713600158691,
          12.705516815185547,
          12.856854438781738,
          12.920119285583496,
          12.5831937789917,
          12.819299697875977,
          13.000714302062988,
          12.6144437789917,
          13.05712604522705,
          12.857080459594727,
          12.470627784729004,
          3.2997560501098633,
          3.2994441986083984,
          3.299745798110962,
          3.299720287322998,
          2.2842206954956055,
          -2.077955961227417,
          -12.771967887878418,
          8.77296257019043,
          -4.9171528816223145,
          0.3448473811149597,
          -14.313332557678223,
          2.2842206954956055,
          -10.030115127563477,
          -2.6854422092437744,
          7.062908172607422,
          -13.083415031433105,
          3.2394027709960938,
          1.8387423753738403,
          3.29949951171875,
          3.2994747161865234,
          -9.47452449798584,
          5.212522983551025,
          5.211978435516357,
          5.212531089782715,
          -13.719426155090332,
          -13.509218215942383,
          9.539358139038086,
          11.798772811889648,
          -2.6772425174713135,
          -2.677212953567505,
          -2.677212953567505,
          -9.758747100830078,
          -10.084028244018555,
          -11.668484687805176,
          -6.859771728515625,
          -9.03221321105957,
          -7.439794063568115,
          -11.697562217712402,
          -5.039595127105713,
          -6.759350299835205,
          -6.759350299835205,
          -12.743202209472656,
          -9.525373458862305,
          -1.9114158153533936,
          3.861098527908325,
          -2.5622642040252686,
          -11.699156761169434,
          6.472054481506348,
          4.247734069824219,
          7.066003322601318,
          -1.9516223669052124,
          -5.200133800506592,
          3.491711378097534,
          1.463724970817566,
          -2.2410030364990234,
          -0.019257137551903725,
          -13.219029426574707,
          5.421144008636475,
          -0.6105055809020996,
          8.323208808898926,
          -2.9887962341308594,
          -1.9516223669052124,
          4.810131549835205,
          -1.6949207782745361,
          -5.27421760559082,
          -5.599441051483154,
          5.890501499176025,
          -4.970497131347656,
          2.704489231109619,
          12.467007637023926,
          -12.667312622070312,
          3.091935873031616,
          -8.767364501953125,
          17.86713218688965,
          5.102352142333984,
          -5.9451704025268555,
          2.3527379035949707,
          3.0607407093048096,
          -1.6949207782745361,
          18.082124710083008,
          13.815794944763184,
          -5.414239406585693,
          18.29596710205078,
          0.7790933847427368,
          -9.069483757019043,
          -3.4528446197509766,
          8.51889705657959,
          -13.680158615112305,
          0.529727578163147,
          18.00520896911621,
          7.4032793045043945,
          -3.2550384998321533,
          4.180777549743652,
          -10.938521385192871,
          6.607385635375977,
          -13.638086318969727,
          3.230221748352051,
          2.613351821899414,
          -6.874339580535889,
          6.689261436462402,
          5.971761703491211,
          14.336248397827148,
          -0.616190493106842,
          0.5307297706604004,
          -6.954387187957764,
          -9.157320022583008,
          -9.157319068908691,
          -1.569503664970398,
          -1.569503664970398,
          -1.5694164037704468,
          -1.5694164037704468,
          2.8359146118164062,
          0.1961268037557602,
          -9.713177680969238,
          -9.713420867919922,
          -9.713177680969238,
          -5.719239234924316,
          -0.736794114112854,
          -0.6241158246994019,
          -0.6776664853096008,
          -0.6776664853096008,
          5.212541103363037,
          -0.14027337729930878,
          -1.099544644355774,
          -12.82190227508545,
          12.178544044494629,
          -0.871112048625946,
          -3.332251787185669,
          -5.719239234924316,
          -3.332251787185669,
          3.383427381515503,
          -10.721770286560059,
          15.13510513305664,
          -0.9681566953659058,
          -0.7349201440811157,
          -0.6241158246994019,
          -0.6161905527114868,
          -3.331803560256958,
          14.336246490478516,
          0.003367567667737603,
          -6.632141590118408,
          -12.048853874206543,
          -12.052541732788086,
          -12.048689842224121,
          5.120656967163086,
          4.492914199829102,
          4.620345115661621,
          -8.847883224487305,
          -9.859614372253418,
          -9.859506607055664,
          -9.859512329101562,
          17.15669059753418,
          -5.036957263946533,
          -4.273801326751709,
          14.336246490478516,
          14.336246490478516,
          5.287583827972412,
          5.287583827972412,
          -11.457058906555176,
          -9.922515869140625,
          -6.6321234703063965,
          -2.643988609313965,
          -0.4155234694480896,
          -4.303966045379639,
          3.7764430046081543,
          3.7664828300476074,
          3.7664828300476074,
          -2.5922412872314453,
          3.7764430046081543,
          17.574981689453125,
          17.574954986572266,
          17.57500648498535,
          0.7484946846961975,
          -7.310507297515869,
          -10.477700233459473,
          -6.53239107131958,
          -10.994344711303711,
          -3.974202871322632,
          6.7358479499816895,
          -10.403055191040039,
          -5.540670394897461,
          15.82822036743164,
          15.517595291137695,
          15.303829193115234,
          15.725439071655273,
          15.828246116638184,
          2.5649209022521973,
          15.519820213317871,
          15.317849159240723,
          15.635570526123047,
          15.434199333190918,
          15.32222843170166,
          15.98047924041748,
          7.015907287597656,
          15.999119758605957,
          2.565056324005127,
          3.961909770965576,
          8.348286628723145,
          -4.480733871459961,
          -4.48068904876709,
          5.11606502532959,
          5.116064548492432,
          5.116064548492432,
          5.116064548492432,
          12.684842109680176,
          12.684924125671387,
          12.684842109680176,
          12.684731483459473,
          12.684925079345703,
          12.684842109680176,
          12.684842109680176,
          12.684924125671387,
          -2.0094873905181885,
          -4.093019962310791,
          -13.532801628112793,
          -13.536105155944824,
          -1.6790252923965454,
          -12.50965690612793,
          -11.93188762664795,
          -12.302919387817383,
          -11.932226181030273,
          4.228975296020508,
          4.228975296020508,
          9.892765998840332,
          -1.1064519882202148,
          -1.106480598449707,
          6.714786052703857,
          0.5313289761543274,
          -9.367461204528809,
          -9.367461204528809,
          -12.388543128967285,
          -7.3986029624938965,
          -12.509590148925781,
          10.687475204467773,
          -9.645855903625488,
          -9.645648002624512,
          -1.679095983505249,
          2.152106523513794,
          2.9703643321990967,
          -1.9553825855255127,
          -4.119065761566162,
          -4.7337422370910645,
          -4.7337422370910645,
          -8.083341598510742,
          6.554754734039307,
          2.659921407699585,
          -1.9553825855255127,
          -1.9553825855255127,
          -1.9553825855255127,
          -1.9553825855255127,
          -13.042125701904297,
          -9.645648002624512,
          10.687475204467773,
          0.7069459557533264,
          -3.6353600025177,
          3.6467225551605225,
          13.402754783630371,
          -4.779194355010986,
          -13.252120971679688,
          -13.342551231384277,
          -1.3588637113571167,
          -1.5527033805847168,
          -1.5527033805847168,
          -1.5527033805847168,
          -9.591776847839355,
          -2.8825364112854004,
          2.1106488704681396,
          3.2937870025634766,
          -11.648250579833984,
          -9.987251281738281,
          -7.782591342926025,
          13.01380443572998,
          -7.782591819763184,
          3.2756924629211426,
          9.295256614685059,
          9.295234680175781,
          9.29526138305664,
          14.109953880310059,
          -2.3615481853485107,
          -2.361585855484009,
          1.860044002532959,
          1.9555715322494507,
          -8.71399211883545,
          0.91911381483078,
          0.9191137552261353,
          0.919093668460846,
          6.800477027893066,
          6.800477027893066,
          -2.3737270832061768,
          5.778787136077881,
          3.2374136447906494,
          3.543363332748413,
          7.582966327667236,
          3.1402409076690674,
          3.0427474975585938,
          3.6600165367126465,
          3.6600165367126465,
          -8.331829071044922,
          -8.331829071044922,
          -2.5986459255218506,
          3.871485471725464,
          3.871485471725464,
          -8.164057731628418,
          -8.164057731628418,
          -4.069709777832031,
          -4.093213081359863,
          0.6581511497497559,
          0.6581511497497559,
          3.1402409076690674,
          2.8575820922851562,
          3.0430214405059814,
          3.4378466606140137,
          14.26054573059082,
          3.605255603790283,
          9.728049278259277,
          5.830669403076172,
          5.651361465454102,
          -8.480663299560547,
          -8.480669975280762,
          -3.8793580532073975,
          -2.392406940460205,
          2.3718650341033936,
          2.3718650341033936,
          3.6600165367126465,
          3.6600165367126465,
          3.6600165367126465,
          3.4378466606140137,
          3.4378466606140137,
          -5.871727466583252,
          -2.825033664703369,
          14.959486961364746,
          3.749187707901001,
          2.307203769683838,
          3.9202919006347656,
          7.896383285522461,
          2.094740867614746,
          2.8472394943237305,
          8.018199920654297,
          -6.670766830444336,
          -8.028534889221191,
          -11.598846435546875,
          16.931617736816406,
          1.1407561302185059,
          1.1406742334365845,
          1.1401166915893555,
          -6.670766830444336,
          -4.521831512451172,
          0.7859721779823303,
          17.094091415405273,
          -6.603122711181641,
          -9.897006034851074,
          -5.01176118850708,
          9.925481796264648,
          -6.6273603439331055,
          -3.8551273345947266,
          0.013587748631834984,
          11.018853187561035,
          -5.966782569885254,
          -12.175682067871094,
          -8.131192207336426,
          5.389133930206299,
          0.7894622087478638,
          -4.805304527282715,
          7.814468860626221,
          1.1404623985290527,
          1.1401166915893555,
          1.1401222944259644,
          -1.112288475036621,
          1.3287702798843384,
          2.091482639312744,
          0.03342830389738083,
          -3.345966339111328,
          3.729553461074829,
          10.32453727722168,
          -11.948057174682617,
          -10.066153526306152,
          -9.616238594055176,
          -6.283501625061035,
          -6.283749580383301,
          -6.283708572387695,
          -6.283702850341797,
          -1.7690715789794922,
          -13.147706031799316,
          1.1620044708251953,
          4.359983444213867,
          -3.6968116760253906,
          9.095815658569336,
          -1.1122852563858032,
          -5.388975143432617,
          -5.388975143432617,
          -5.388975143432617,
          -2.6280272006988525,
          9.149821281433105,
          -3.6369571685791016,
          7.961822986602783,
          0.06165098398923874,
          0.06165106222033501,
          0.06165098398923874,
          0.06165098398923874,
          0.061729930341243744,
          9.095803260803223,
          9.095803260803223,
          9.095815658569336,
          -5.940674304962158,
          3.0499587059020996,
          -1.802249550819397,
          0.7839301824569702,
          0.7839301824569702,
          12.444112777709961,
          12.444112777709961,
          12.4442720413208,
          12.4442720413208,
          12.444112777709961,
          -3.2314274311065674,
          -12.095620155334473,
          -1.9048823118209839,
          -1.9048823118209839,
          -1.9048823118209839,
          -1.9048823118209839,
          -0.9898489713668823,
          2.7154815196990967,
          0.7839314341545105,
          -7.385126113891602,
          0.7839489579200745,
          0.7839301824569702,
          14.959562301635742,
          14.959482192993164,
          14.95958137512207,
          14.959582328796387,
          14.959505081176758,
          7.551732063293457,
          14.656524658203125,
          14.656524658203125,
          5.938505172729492,
          -7.96017599105835,
          -2.628967761993408,
          6.06292724609375,
          2.798100233078003,
          -5.092734336853027,
          -5.373739719390869,
          0.7839466333389282,
          14.95949935913086,
          4.881986141204834,
          4.881986141204834,
          -1.1317611932754517,
          1.7085767984390259,
          -0.09330000728368759,
          -6.829320907592773,
          -10.512724876403809,
          9.077129364013672,
          0.4231409728527069,
          1.7988394498825073,
          0.44414985179901123,
          -1.121533989906311,
          -0.7120596766471863,
          -3.1224312782287598,
          5.9888691902160645,
          -1.8022490739822388,
          -1.802249550819397,
          -11.551888465881348,
          4.881986141204834,
          -5.099232196807861,
          -4.531167507171631,
          4.839986324310303,
          4.839986324310303,
          4.839986324310303,
          4.839986324310303,
          4.881986141204834,
          4.881986141204834,
          -3.127549409866333,
          -10.315167427062988,
          -8.861337661743164,
          -8.861332893371582,
          12.834951400756836,
          -1.8196728229522705,
          -4.024695873260498,
          4.55999755859375,
          2.577460765838623,
          -4.544808387756348,
          -5.871727466583252,
          2.0186760425567627,
          17.2088680267334,
          10.968280792236328,
          0.07293388247489929,
          9.693830490112305,
          -0.5328329205513,
          -9.782177925109863,
          -2.5742716789245605,
          20.584638595581055,
          20.7871036529541,
          20.584638595581055,
          20.82112693786621,
          20.82112693786621,
          -4.52133846282959,
          -0.9732195734977722,
          -0.9732195734977722,
          -0.28401705622673035,
          -0.36736011505126953,
          1.6920416355133057,
          -12.447198867797852,
          -12.447216033935547,
          -12.44732666015625,
          -12.447324752807617,
          -12.447324752807617,
          20.584638595581055,
          20.786893844604492,
          20.82112693786621,
          0.08030997216701508,
          -4.047785758972168,
          2.0701653957366943,
          0.31574949622154236,
          -6.942703723907471,
          7.56503438949585,
          7.56503438949585,
          -0.48545005917549133,
          -3.0649242401123047,
          11.557312965393066,
          15.270172119140625,
          15.268131256103516,
          15.140509605407715,
          15.139629364013672,
          0.8875400424003601,
          -3.7523300647735596,
          20.82112693786621,
          -9.117668151855469,
          7.968824863433838,
          -2.0391907691955566,
          13.628012657165527,
          13.62806510925293,
          6.407155990600586,
          -4.5427937507629395,
          7.103633403778076,
          7.102971076965332,
          20.787059783935547,
          20.82112693786621,
          -0.6804825067520142,
          -0.6804825067520142,
          -9.117664337158203,
          -6.155299663543701,
          -3.4897122383117676,
          -12.447324752807617,
          0.6311229467391968,
          -10.288250923156738,
          0.5235463976860046,
          0.5562477111816406,
          0.5235463976860046,
          9.377418518066406,
          -1.7900277376174927,
          4.711790084838867,
          4.71181583404541,
          7.572004795074463,
          -11.410502433776855,
          0.453875869512558,
          0.4539155662059784,
          -2.9845423698425293,
          4.222987174987793,
          16.262603759765625,
          -3.2599899768829346,
          -2.5969934463500977,
          -6.875577926635742,
          -4.3535003662109375,
          -4.3535003662109375,
          0.2594287693500519,
          2.144632339477539,
          -10.165074348449707,
          -10.165075302124023,
          0.6314806342124939,
          0.5064145922660828,
          -2.1677865982055664,
          -12.13984203338623,
          17.2088680267334,
          17.207054138183594,
          17.2088680267334,
          -3.460512638092041,
          -2.9726836681365967,
          5.910107135772705,
          5.910107135772705,
          2.7036776542663574,
          -12.44735050201416,
          2.7033047676086426,
          -0.1888457089662552,
          10.69865608215332,
          0.3233601450920105,
          2.2512574195861816,
          2.2512974739074707,
          2.251079797744751,
          -1.1425001621246338,
          3.0658888816833496,
          -8.21863842010498,
          2.5797462463378906,
          -3.113240957260132,
          7.6212263107299805,
          4.153017520904541,
          -8.50268268585205,
          -13.299995422363281,
          -9.27939510345459,
          2.251370906829834,
          16.215534210205078,
          6.157782077789307,
          -10.301715850830078,
          -8.370408058166504,
          -8.687460899353027,
          -8.687478065490723,
          -8.687499046325684,
          -7.904107093811035,
          -7.904107093811035,
          10.195857048034668,
          0.5950388312339783,
          -7.904107093811035,
          -7.904107093811035,
          -7.904107093811035,
          -7.904107093811035,
          -7.904107093811035,
          -7.904107093811035,
          -7.904107093811035,
          -7.904107093811035,
          -1.516358494758606,
          8.899706840515137,
          8.900023460388184,
          -8.69556713104248,
          -3.0523223876953125,
          -6.742842197418213,
          -7.586016654968262,
          -2.776454210281372,
          -9.957657814025879,
          -4.482303619384766,
          -4.480683326721191,
          -4.8148603439331055,
          -8.687443733215332,
          6.530474662780762,
          14.5706205368042,
          -9.237286567687988,
          -7.122348308563232,
          8.67955493927002,
          -10.918546676635742,
          -0.2671336233615875,
          -0.2671336233615875,
          -12.703653335571289,
          -3.5640907287597656,
          13.113446235656738,
          8.190664291381836,
          5.0317912101745605,
          1.52660071849823,
          1.5257742404937744,
          -4.480683326721191,
          1.5266022682189941,
          -2.8009192943573,
          -6.350277900695801,
          -0.8839089870452881,
          -0.8839089870452881,
          -6.721063613891602,
          -6.72100305557251,
          -3.8967843055725098,
          3.939164400100708,
          0.956483006477356,
          0.9564831852912903,
          -3.822012186050415,
          12.004385948181152,
          -3.0797455310821533,
          1.5266022682189941,
          -0.45513394474983215,
          -7.904107093811035,
          -5.6765456199646,
          -5.748724937438965,
          -13.944186210632324,
          -13.944280624389648,
          -12.613810539245605,
          -0.4342116415500641,
          -3.71907639503479,
          -3.71907639503479,
          -3.755528688430786,
          1.6167597770690918,
          1.6167597770690918,
          -11.968769073486328,
          6.707140922546387,
          -2.4926342964172363,
          3.9968414306640625,
          -0.09607640653848648,
          7.126661777496338,
          -12.233710289001465,
          18.152402877807617,
          -10.409052848815918,
          19.460969924926758,
          -11.768088340759277,
          -13.240464210510254,
          0.7820835113525391,
          -11.047184944152832,
          12.724634170532227,
          12.724620819091797,
          -13.23009967803955,
          0.614986777305603,
          12.724614143371582,
          7.816638946533203
         ],
         "z": [
          -0.2192317545413971,
          -0.04278503730893135,
          -1.3238589763641357,
          -1.0053298473358154,
          -1.1101443767547607,
          -0.6544387936592102,
          5.52687931060791,
          11.322834014892578,
          4.5700836181640625,
          5.6841559410095215,
          -1.3978431224822998,
          5.5268778800964355,
          -7.622203350067139,
          -0.2537478506565094,
          3.8813929557800293,
          3.7853200435638428,
          -9.821388244628906,
          -9.008455276489258,
          -0.603274941444397,
          -0.04521918296813965,
          -3.317455291748047,
          4.426516056060791,
          -1.0299080610275269,
          3.8813929557800293,
          -1.0299080610275269,
          13.283414840698242,
          13.283414840698242,
          -3.5913825035095215,
          -2.927729606628418,
          8.268083572387695,
          -1.3407689332962036,
          11.017423629760742,
          8.201895713806152,
          -6.951490879058838,
          -5.445337772369385,
          4.773324966430664,
          4.773324966430664,
          12.17555046081543,
          12.175529479980469,
          12.17555046081543,
          12.17555046081543,
          4.773324966430664,
          -3.530932664871216,
          9.726555824279785,
          -5.752171993255615,
          -0.7645971775054932,
          -6.585735321044922,
          -7.480419635772705,
          -7.456076622009277,
          8.181729316711426,
          -0.4111517369747162,
          4.773324966430664,
          4.773324966430664,
          7.416474342346191,
          -1.6217429637908936,
          11.62704086303711,
          -0.8150638341903687,
          9.934584617614746,
          -2.812237501144409,
          3.8813929557800293,
          7.557144641876221,
          5.550065517425537,
          3.8859453201293945,
          1.232511043548584,
          -1.911571979522705,
          -1.911586046218872,
          -1.9115912914276123,
          5.550065517425537,
          -0.7206147909164429,
          -3.823939800262451,
          11.166413307189941,
          12.927315711975098,
          -4.134951591491699,
          1.130669355392456,
          2.985372304916382,
          2.9853808879852295,
          2.5238044261932373,
          -1.9225149154663086,
          6.140748500823975,
          8.579108238220215,
          0.4122941195964813,
          -4.443289756774902,
          -1.6817291975021362,
          -7.31024694442749,
          -1.750367283821106,
          -0.3901497423648834,
          -7.970821857452393,
          6.268681049346924,
          8.81627368927002,
          7.6088056564331055,
          7.69906759262085,
          9.627476692199707,
          1.00006902217865,
          1.00006902217865,
          -3.0404348373413086,
          5.25885009765625,
          0.9402773380279541,
          9.735367774963379,
          9.735367774963379,
          1.1091989278793335,
          -5.071900844573975,
          -5.053939342498779,
          0.9402775168418884,
          -2.7529871463775635,
          -6.255046367645264,
          -6.255046367645264,
          1.3277124166488647,
          7.042506217956543,
          11.096837997436523,
          -3.513122081756592,
          -3.4880566596984863,
          7.9862284660339355,
          -9.131574630737305,
          -9.131573677062988,
          -13.912363052368164,
          13.705254554748535,
          4.448239326477051,
          0.5476778149604797,
          9.905200004577637,
          -1.494523525238037,
          -6.353254318237305,
          -0.5904139876365662,
          -0.2483990341424942,
          6.746658802032471,
          2.974815607070923,
          -1.6223363876342773,
          -0.6980051398277283,
          -2.35673451423645,
          -4.978099346160889,
          -6.255046367645264,
          -0.5678738951683044,
          -1.803285837173462,
          -1.8770010471343994,
          -8.165265083312988,
          -0.31058230996131897,
          -0.7517101764678955,
          -6.800116062164307,
          -3.323727607727051,
          -12.053702354431152,
          -7.559134006500244,
          7.475337505340576,
          12.593992233276367,
          12.593992233276367,
          12.594079971313477,
          1.1897060871124268,
          -2.950983762741089,
          -2.854674816131592,
          0.48417386412620544,
          8.205471992492676,
          -8.670309066772461,
          -4.558109760284424,
          11.330785751342773,
          11.33078384399414,
          11.33078384399414,
          -8.61888313293457,
          -8.618871688842773,
          -8.276198387145996,
          -1.3755979537963867,
          2.7255146503448486,
          6.113785743713379,
          -1.5118836164474487,
          8.079479217529297,
          -11.34276008605957,
          -11.342822074890137,
          5.046404838562012,
          -6.958481788635254,
          -2.4682905673980713,
          -2.4590446949005127,
          1.9683886766433716,
          5.052316188812256,
          -5.764379978179932,
          -5.555843830108643,
          1.2871835231781006,
          -8.096863746643066,
          -7.54263162612915,
          12.298175811767578,
          -4.267611026763916,
          -4.819591999053955,
          -1.1112070083618164,
          -1.1111117601394653,
          -6.53780460357666,
          -10.0106782913208,
          6.367530822753906,
          6.624897003173828,
          -5.878441333770752,
          -2.218348503112793,
          3.0852229595184326,
          -9.688962936401367,
          -7.846488952636719,
          -7.846383094787598,
          -7.846383094787598,
          -7.84637975692749,
          -7.8462910652160645,
          12.298175811767578,
          2.7998523712158203,
          2.799631118774414,
          -5.649514198303223,
          -1.716327428817749,
          -1.7163032293319702,
          3.7164804935455322,
          1.4243731498718262,
          -6.317507743835449,
          -6.317507743835449,
          -7.846323013305664,
          -7.8452348709106445,
          -7.846379280090332,
          -7.845388412475586,
          5.733085632324219,
          -8.096863746643066,
          -11.236411094665527,
          0.9761471748352051,
          -7.382894992828369,
          -3.275831699371338,
          -9.312337875366211,
          7.626875400543213,
          4.950775146484375,
          11.039183616638184,
          -7.078969955444336,
          8.378002166748047,
          10.1032075881958,
          10.1032075881958,
          8.565485000610352,
          -8.693893432617188,
          0.8406724333763123,
          -4.681840896606445,
          8.481844902038574,
          8.481844902038574,
          8.481682777404785,
          10.002934455871582,
          8.132647514343262,
          8.132647514343262,
          8.132647514343262,
          4.938930511474609,
          -0.6637493371963501,
          -7.382894992828369,
          -6.954868316650391,
          -7.23644495010376,
          4.2312140464782715,
          6.382564544677734,
          -7.228121280670166,
          -1.7974733114242554,
          8.66423511505127,
          8.66418743133545,
          6.768467903137207,
          -4.341898441314697,
          -4.337806224822998,
          2.7303357124328613,
          8.9829740524292,
          8.9829740524292,
          -7.689727783203125,
          -5.994471073150635,
          -6.113265514373779,
          2.7302634716033936,
          4.688472747802734,
          -3.536104679107666,
          -1.1222527027130127,
          -3.7825024127960205,
          10.123682975769043,
          -3.853893756866455,
          11.933426856994629,
          7.477992057800293,
          -12.053702354431152,
          2.6616086959838867,
          -2.178619861602783,
          -8.089719772338867,
          -1.018605351448059,
          -4.556227684020996,
          -4.650353908538818,
          -4.056007385253906,
          -2.846560478210449,
          8.800190925598145,
          -5.891218185424805,
          0.05482000857591629,
          0.054819345474243164,
          -1.2327555418014526,
          -1.2327293157577515,
          -1.232928991317749,
          5.518272876739502,
          1.8673555850982666,
          7.464831352233887,
          0.5665823221206665,
          2.945256233215332,
          10.533424377441406,
          7.919339179992676,
          -1.7700711488723755,
          -4.290571689605713,
          -6.446901798248291,
          -1.4624378681182861,
          -0.1314517855644226,
          -3.675130844116211,
          -1.0842057466506958,
          -2.619706869125366,
          -0.4236040711402893,
          -1.5433199405670166,
          -4.716136455535889,
          -5.3614983558654785,
          -7.879500865936279,
          1.5899741649627686,
          0.7009979486465454,
          -0.8736138939857483,
          -4.413797378540039,
          -4.413789749145508,
          -2.026416063308716,
          -2.026416063308716,
          -6.253438949584961,
          10.018084526062012,
          -1.0307252407073975,
          5.020882606506348,
          5.020882606506348,
          -6.605710506439209,
          -6.605714321136475,
          -8.894471168518066,
          3.2457356452941895,
          8.642415046691895,
          -3.7001187801361084,
          1.3695182800292969,
          5.7611470222473145,
          1.1674647331237793,
          4.651493549346924,
          8.882746696472168,
          8.882176399230957,
          -6.444107532501221,
          -6.44409704208374,
          -6.44409704208374,
          10.53190803527832,
          1.9934883117675781,
          -5.7946038246154785,
          7.24980354309082,
          -5.995825290679932,
          9.867152214050293,
          -0.8802444934844971,
          -0.8802302479743958,
          -4.222134113311768,
          -4.222134113311768,
          5.761135578155518,
          -0.7366153001785278,
          2.7170112133026123,
          1.1936496496200562,
          1.193650484085083,
          1.1936496496200562,
          5.761131286621094,
          1.1934601068496704,
          -4.2633585929870605,
          -8.135984420776367,
          -8.136809349060059,
          -8.136003494262695,
          -4.393737316131592,
          -3.5812032222747803,
          1.2107425928115845,
          4.651493549346924,
          -7.968423366546631,
          5.406880855560303,
          2.2681305408477783,
          5.764461994171143,
          5.764461994171143,
          0.9114171266555786,
          -1.8863558769226074,
          -1.5037838220596313,
          -1.503782033920288,
          -1.8859177827835083,
          -6.070152282714844,
          -6.075780868530273,
          7.859947681427002,
          7.859944820404053,
          -4.142728805541992,
          -0.185280442237854,
          4.189487934112549,
          -9.307027816772461,
          3.7021474838256836,
          1.8140947818756104,
          1.8140947818756104,
          7.230414390563965,
          5.995234489440918,
          -4.860228061676025,
          -4.860248565673828,
          2.457787275314331,
          -11.571688652038574,
          9.906454086303711,
          -0.8134284615516663,
          -0.813428521156311,
          7.7740373611450195,
          -4.816843032836914,
          2.6826436519622803,
          -4.162083625793457,
          2.616774559020996,
          6.170956611633301,
          -5.548840522766113,
          -1.2018741369247437,
          -1.1506564617156982,
          0.8303964734077454,
          1.4204535484313965,
          -5.077701568603516,
          6.328643798828125,
          3.9638853073120117,
          -1.09763503074646,
          1.3267556428909302,
          6.121523857116699,
          -0.7903569936752319,
          -0.7903492450714111,
          5.252671241760254,
          -8.909710884094238,
          -1.0609631538391113,
          4.731413841247559,
          -0.6798179745674133,
          -15.390849113464355,
          -15.390849113464355,
          -15.390849113464355,
          -15.390849113464355,
          -15.390849113464355,
          -15.390849113464355,
          -0.24491599202156067,
          -15.390849113464355,
          -15.390849113464355,
          -15.390849113464355,
          -15.390849113464355,
          4.666766166687012,
          1.3007078170776367,
          -4.363399982452393,
          -15.390849113464355,
          4.651493549346924,
          4.651486396789551,
          1.1741985082626343,
          -0.4366631507873535,
          -4.866551399230957,
          -3.308398962020874,
          7.509253025054932,
          3.6544675827026367,
          3.655109167098999,
          3.6550674438476562,
          3.65510892868042,
          3.6553993225097656,
          3.655357837677002,
          -3.776242971420288,
          -6.995263576507568,
          9.638984680175781,
          9.638980865478516,
          7.612165927886963,
          -4.236936569213867,
          10.89309310913086,
          -6.629830360412598,
          -6.9713263511657715,
          -7.558631896972656,
          5.938303470611572,
          -0.9124216437339783,
          -4.42588472366333,
          -0.4366547167301178,
          4.65557336807251,
          -11.399996757507324,
          -3.975323438644409,
          -1.1608966588974,
          -0.6374286413192749,
          7.9348907470703125,
          -5.078811168670654,
          1.3210171461105347,
          -4.728854656219482,
          -0.4366588592529297,
          3.4748618602752686,
          -4.2568359375,
          -3.084439754486084,
          1.767563819885254,
          1.767563819885254,
          1.8275142908096313,
          1.8275142908096313,
          0.6385399103164673,
          0.6381886005401611,
          3.421328067779541,
          7.946219444274902,
          -4.65034294128418,
          -4.569656848907471,
          -0.35688409209251404,
          -9.492918968200684,
          -8.101773262023926,
          1.210124135017395,
          -4.194378852844238,
          3.4748618602752686,
          3.843886375427246,
          3.8438422679901123,
          3.8438358306884766,
          3.843886375427246,
          3.844179153442383,
          -0.43665897846221924,
          3.843886375427246,
          -11.502060890197754,
          -11.502060890197754,
          6.014577388763428,
          2.5454673767089844,
          -4.471312999725342,
          -0.09825891256332397,
          3.843886375427246,
          8.159778594970703,
          -4.622875690460205,
          -4.622882843017578,
          7.984750270843506,
          4.0368971824646,
          4.03676176071167,
          -4.889510154724121,
          -4.889510154724121,
          0.25126808881759644,
          5.492447853088379,
          5.492447853088379,
          1.0971630811691284,
          4.538669586181641,
          -1.6087441444396973,
          -8.158284187316895,
          -8.158244132995605,
          7.2503204345703125,
          2.5785465240478516,
          -0.9915941953659058,
          -2.714789628982544,
          1.465824007987976,
          1.465824007987976,
          1.1674647331237793,
          1.465824007987976,
          0.9677568674087524,
          0.9677568674087524,
          -1.4712895154953003,
          -1.6810625791549683,
          4.067923545837402,
          4.281922340393066,
          4.281922340393066,
          -8.53702449798584,
          -1.4022091627120972,
          -3.6348516941070557,
          4.067923545837402,
          -3.088101625442505,
          -5.224526882171631,
          -5.224899768829346,
          1.2196731567382812,
          0.8582841753959656,
          -0.8746432662010193,
          -0.8746432662010193,
          -1.997398853302002,
          10.226224899291992,
          0.626437783241272,
          -6.6541948318481445,
          -7.26882791519165,
          -7.559210300445557,
          -1.1178405284881592,
          -2.857370615005493,
          4.162841796875,
          -2.161832809448242,
          7.860409259796143,
          2.945256233215332,
          1.553547978401184,
          0.7777827978134155,
          -6.601036548614502,
          4.317894458770752,
          -0.21399402618408203,
          -0.21399399638175964,
          4.500716209411621,
          0.4624079763889313,
          1.5150504112243652,
          0.4624079763889313,
          1.6338624954223633,
          1.0846613645553589,
          1.6518306732177734,
          1.3687379360198975,
          0.5361588597297668,
          0.4949778616428375,
          1.8538767099380493,
          2.5585944652557373,
          0.358271986246109,
          -3.9650847911834717,
          5.8065667152404785,
          -1.9837473630905151,
          -9.669136047363281,
          -2.7823426723480225,
          12.277868270874023,
          -0.03656310215592384,
          0.431627094745636,
          10.916117668151855,
          2.984687089920044,
          1.1127761602401733,
          0.10092613846063614,
          -9.813453674316406,
          -9.813454627990723,
          0.26949483156204224,
          2.9846203327178955,
          4.674217224121094,
          4.468417644500732,
          4.468423366546631,
          10.816816329956055,
          -1.4660605192184448,
          -9.023247718811035,
          0.8020132184028625,
          -2.8931641578674316,
          -6.958808422088623,
          -5.921655178070068,
          -5.92188835144043,
          -5.921720504760742,
          2.8697826862335205,
          6.067904472351074,
          -9.937796592712402,
          -9.937796592712402,
          3.9711754322052,
          4.468423366546631,
          -6.578226566314697,
          -6.187212944030762,
          -6.571623802185059,
          -6.215484142303467,
          0.6825872659683228,
          -10.017078399658203,
          -0.5991909503936768,
          -2.5287058353424072,
          0.14625540375709534,
          -3.115990400314331,
          -0.5059463977813721,
          -6.58466911315918,
          9.937176704406738,
          -5.893378257751465,
          -5.893378257751465,
          -5.893368244171143,
          5.537633895874023,
          7.319201469421387,
          -0.8586491942405701,
          -5.562912940979004,
          3.004350185394287,
          -5.788733005523682,
          -5.562912940979004,
          1.5292284488677979,
          1.529213547706604,
          -5.562912940979004,
          -5.075948238372803,
          -5.562912940979004,
          -5.817842483520508,
          -5.075948238372803,
          -5.075948238372803,
          -5.562912940979004,
          -5.562912940979004,
          -5.390928745269775,
          -5.562912940979004,
          -5.562912940979004,
          -5.562912940979004,
          -5.075948238372803,
          -5.562912940979004,
          1.0709478855133057,
          3.0043535232543945,
          -1.5614159107208252,
          -0.6390659809112549,
          6.116366386413574,
          6.116369724273682,
          0.7698626518249512,
          -3.253983974456787,
          -5.336066722869873,
          7.147674560546875,
          -1.3984838724136353,
          4.717662334442139,
          4.717662334442139,
          4.717662334442139,
          6.881638050079346,
          4.241366863250732,
          4.241366863250732,
          4.717662334442139,
          3.548431873321533,
          3.548431873321533,
          -11.383284568786621,
          -5.078032970428467,
          -9.037759780883789,
          -1.000780701637268,
          -0.326943963766098,
          11.158819198608398,
          11.158841133117676,
          11.158843994140625,
          -7.332900524139404,
          -7.332720756530762,
          5.6789021492004395,
          5.6789021492004395,
          8.9581937789917,
          8.9581880569458,
          8.958218574523926,
          6.679411888122559,
          -6.55009126663208,
          -6.5500969886779785,
          -6.550096035003662,
          -1.7997139692306519,
          -5.0383734703063965,
          1.8634834289550781,
          -9.111833572387695,
          6.652302265167236,
          -1.5943807363510132,
          0.7417934536933899,
          2.736309766769409,
          -1.6974434852600098,
          -1.9022159576416016,
          -1.8152400255203247,
          -1.609009027481079,
          -1.3213351964950562,
          -1.4381743669509888,
          -1.7782013416290283,
          1.557068109512329,
          -5.0383734703063965,
          -0.9037005305290222,
          4.574764728546143,
          -3.0699660778045654,
          11.985815048217773,
          6.679045677185059,
          1.3952052593231201,
          1.855355143547058,
          -4.005176544189453,
          3.4789938926696777,
          4.436338901519775,
          4.436338901519775,
          4.436338901519775,
          -2.058053970336914,
          -2.1024820804595947,
          -7.735974311828613,
          -4.022463321685791,
          -4.313401699066162,
          -0.7298973798751831,
          0.7099093794822693,
          -0.11147600412368774,
          -0.11147579550743103,
          6.339070796966553,
          0.4537162482738495,
          -3.1434340476989746,
          -2.0624070167541504,
          -1.6061279773712158,
          0.09782058000564575,
          -0.5026010870933533,
          0.5630916953086853,
          -1.5343533754348755,
          2.1394882202148438,
          5.061359882354736,
          5.061360836029053,
          4.632137775421143,
          -9.794092178344727,
          -10.067428588867188,
          -1.942314624786377,
          4.796154499053955,
          7.097332954406738,
          -3.5439400672912598,
          9.406304359436035,
          -3.2473325729370117,
          -3.2473325729370117,
          -3.2472567558288574,
          11.728772163391113,
          7.183788776397705,
          -5.7557783126831055,
          -1.910813570022583,
          -1.910813570022583,
          3.3200345039367676,
          -7.318175792694092,
          2.200986862182617,
          -0.9241122007369995,
          4.6254143714904785,
          -3.5439398288726807,
          7.527535438537598,
          -3.8998680114746094,
          9.921380043029785,
          -9.27510929107666,
          -5.9846062660217285,
          -4.11704683303833,
          -4.117062091827393,
          10.561088562011719,
          -7.0279059410095215,
          6.974490165710449,
          5.717052459716797,
          -4.007955074310303,
          -5.089663505554199,
          4.033012866973877,
          7.669553756713867,
          10.441216468811035,
          -4.442263603210449,
          5.9199347496032715,
          11.549629211425781,
          10.555683135986328,
          -4.327954292297363,
          1.3015962839126587,
          0.5506199598312378,
          6.961985111236572,
          -11.178794860839844,
          -1.0100756883621216,
          5.1023383140563965,
          11.350783348083496,
          0.6591127514839172,
          7.729108810424805,
          -6.6886796951293945,
          -6.688643455505371,
          6.510262489318848,
          -4.127882957458496,
          -1.3456964492797852,
          -1.3456964492797852,
          -0.7092738151550293,
          -2.549114942550659,
          -8.17287540435791,
          -4.327954292297363,
          6.113242149353027,
          -7.925498962402344,
          4.981203556060791,
          2.1135287284851074,
          10.958233833312988,
          -2.027681589126587,
          7.749529838562012,
          0.38368478417396545,
          -1.0939046144485474,
          5.218963146209717,
          0.3749415874481201,
          0.37495100498199463,
          4.253185749053955,
          4.253185749053955,
          -4.5460309982299805,
          -0.738188624382019,
          0.8254300951957703,
          -0.7273514270782471,
          4.629619121551514,
          -1.3702492713928223,
          0.44809556007385254,
          7.21796989440918,
          -4.7539896965026855,
          5.0739006996154785,
          1.4375073909759521,
          1.4375073909759521,
          -9.526301383972168,
          -8.383938789367676,
          -3.1643459796905518,
          13.718255996704102,
          13.71825885772705,
          13.718257904052734,
          -4.547841548919678,
          0.5257720351219177,
          -2.271923065185547,
          -3.594266891479492,
          3.702035903930664,
          -5.314970016479492,
          7.860175609588623,
          -1.1247754096984863,
          2.5477685928344727,
          -7.159130573272705,
          -4.532458782196045,
          -8.945160865783691,
          6.158985137939453,
          0.08102034032344818,
          -5.748493194580078,
          7.983151435852051,
          6.189478874206543,
          4.670633792877197,
          -3.923363447189331,
          7.313107013702393,
          3.207706928253174,
          1.004867672920227,
          4.34979772567749,
          -4.6370134353637695,
          -2.461512565612793,
          -6.753201961517334,
          -6.752992630004883,
          -1.1247754096984863,
          -4.569310665130615,
          1.4467540979385376,
          1.4467540979385376,
          7.588266849517822,
          -6.047916412353516,
          -6.0478835105896,
          -3.246744155883789,
          -0.8195410370826721,
          0.9564135074615479,
          1.8992384672164917,
          -6.655573844909668,
          -4.385871887207031,
          -6.7523884773254395,
          -6.752269268035889,
          -6.753201961517334,
          3.7724461555480957,
          -0.044306304305791855,
          -8.56364631652832,
          -0.7446455955505371,
          0.6971419453620911,
          -3.6233952045440674,
          0.5179458856582642,
          0.5176714062690735,
          -4.087718486785889,
          -3.3981292247772217,
          3.4170422554016113,
          3.5294198989868164,
          -8.37918758392334,
          -8.415884017944336,
          -8.37918758392334,
          -8.415884017944336,
          -8.415884017944336,
          3.4170310497283936,
          -3.3981292247772217,
          -3.3981292247772217,
          3.9802792072296143,
          -1.1198502779006958,
          2.961303234100342,
          2.9612936973571777,
          2.961303234100342,
          10.622737884521484,
          -8.145334243774414,
          6.4380903244018555,
          -8.150273323059082,
          -2.114427089691162,
          7.565155029296875,
          6.468341827392578,
          -4.453530311584473,
          -6.472248077392578,
          5.203076362609863,
          -1.926506519317627,
          -8.37918758392334,
          -8.37918758392334,
          -8.37918758392334,
          -8.37918758392334,
          0.13847562670707703,
          0.13829798996448517,
          0.1382976472377777,
          2.314953565597534,
          2.3695836067199707,
          4.108593463897705,
          4.10790491104126,
          -7.458751201629639,
          -0.732292652130127,
          1.227169156074524,
          -4.455036640167236,
          -4.455197811126709,
          0.20700262486934662,
          9.12474536895752,
          6.251380920410156,
          4.806889057159424,
          -7.43664026260376,
          4.806889057159424,
          -2.499074935913086,
          -8.37918758392334,
          -8.27718734741211,
          -1.3273181915283203,
          -4.34676456451416,
          -1.5266413688659668,
          -5.515382766723633,
          -3.3083443641662598,
          2.1834521293640137,
          6.103407382965088,
          6.103443622589111,
          6.103443622589111,
          6.103443622589111,
          6.103443622589111,
          5.647351264953613,
          3.449458360671997,
          -2.7991089820861816,
          1.2500666379928589,
          -3.128204107284546,
          -4.005486488342285,
          7.577223777770996,
          7.577231407165527,
          8.19748306274414,
          8.197409629821777,
          8.197409629821777,
          8.197409629821777,
          1.3456013202667236,
          -8.51977252960205,
          -4.238394260406494,
          6.182511329650879,
          9.115114212036133,
          -11.912484169006348,
          -7.001467227935791,
          -4.334110736846924,
          6.058084964752197,
          -7.664393424987793,
          6.058084964752197,
          -0.6093581318855286,
          7.989859580993652,
          -3.9650845527648926,
          -3.9650847911834717,
          5.699477672576904,
          -2.6333322525024414,
          2.242685317993164,
          -7.140410900115967,
          -7.290741443634033,
          -3.894979238510132,
          -3.894979238510132,
          -5.179357528686523,
          4.323033809661865,
          0.03814750909805298,
          0.5609248280525208,
          7.989963531494141,
          7.989859580993652,
          -0.6094349026679993,
          1.174748182296753,
          6.058084964752197,
          -3.630587339401245,
          0.39729735255241394,
          5.398808479309082,
          3.815526247024536,
          3.148531198501587,
          -0.749265730381012,
          3.148531198501587,
          3.148531198501587,
          3.148385763168335,
          6.7405829429626465,
          5.8916144371032715,
          5.8916144371032715,
          5.891613006591797,
          5.891613006591797,
          5.8915300369262695,
          -1.6287156343460083,
          -11.000395774841309,
          4.1065216064453125,
          -11.000350952148438,
          -11.000395774841309,
          6.420238018035889,
          -2.2029881477355957,
          -7.166897773742676,
          -4.806344509124756,
          -7.341139316558838,
          1.318726897239685,
          1.3147550821304321,
          1.3147550821304321,
          -0.6768494844436646,
          12.180720329284668,
          -3.4107003211975098,
          -4.247500419616699,
          9.554859161376953,
          1.6764334440231323,
          -11.000350952148438,
          -11.000396728515625,
          -3.9650845527648926,
          8.215867042541504,
          12.070929527282715,
          2.3022425174713135,
          1.5301032066345215,
          1.8439702987670898,
          9.556939125061035,
          -2.612751007080078,
          -1.0464810132980347,
          1.0807949304580688,
          0.15138041973114014,
          -2.2732958793640137,
          0.20633924007415771,
          0.20634084939956665,
          -7.957217216491699,
          -7.9382219314575195,
          -8.220340728759766,
          0.15138128399848938,
          -5.652325630187988,
          -5.652325630187988,
          3.7403719425201416,
          -6.7912373542785645,
          -3.9096479415893555,
          -8.40353775024414,
          -5.116744518280029,
          -4.049610137939453,
          8.117409706115723,
          -7.931285381317139,
          -10.425878524780273,
          7.724256992340088,
          -6.937588214874268,
          -6.937588214874268,
          0.5546813011169434,
          0.5407342314720154,
          -2.241206169128418,
          0.19054624438285828,
          -8.35165786743164,
          -7.5544538497924805,
          -8.284171104431152,
          -7.554903507232666,
          -8.681537628173828,
          -8.681537628173828,
          -8.681537628173828,
          -8.681537628173828,
          -8.681537628173828,
          1.3576432466506958,
          1.3576432466506958,
          5.011053562164307,
          8.593282699584961,
          3.7809042930603027,
          4.876145839691162,
          4.876145839691162,
          7.802128314971924,
          10.727032661437988,
          -8.563647270202637,
          -8.681537628173828,
          7.49867057800293,
          -8.681537628173828,
          -0.40739181637763977,
          -7.898298740386963,
          5.574437618255615,
          5.574172019958496,
          5.574172019958496,
          -6.988701820373535,
          -6.9886980056762695,
          5.740363121032715,
          0.6387495994567871,
          -4.142045974731445,
          -4.1420464515686035,
          1.9049774408340454,
          10.023040771484375,
          -8.955501556396484,
          2.461756944656372,
          4.8642730712890625,
          -8.681537628173828,
          3.3309547901153564,
          3.3556745052337646,
          3.3309547901153564,
          -1.606797695159912,
          4.5858001708984375,
          4.5858001708984375,
          4.585788249969482,
          4.5858001708984375,
          -1.242553949356079,
          7.221628665924072,
          9.353240966796875,
          1.495071291923523,
          -0.8838316202163696,
          2.0999138355255127,
          1.2937737703323364,
          0.5787826180458069,
          6.253468990325928,
          4.347965717315674,
          -8.041629791259766,
          4.347965717315674,
          -1.0020605325698853,
          -1.0023750066757202,
          12.070929527282715,
          12.070929527282715,
          12.070929527282715,
          12.070929527282715,
          1.2968374490737915,
          -3.101660966873169,
          13.541425704956055,
          13.54149055480957,
          13.541486740112305,
          1.4426451921463013,
          -11.185683250427246,
          -0.9165173768997192,
          -8.087261199951172,
          0.679497241973877,
          -1.002321481704712,
          -1.0022943019866943,
          -5.108476161956787,
          -13.501697540283203,
          -0.7228146195411682,
          3.8546979427337646,
          3.8546979427337646,
          3.3314969539642334,
          4.51306676864624,
          -3.972414970397949,
          -0.7304668426513672,
          1.7250583171844482,
          1.7250583171844482,
          3.307380437850952,
          -3.090399742126465,
          5.9012131690979,
          -12.277153968811035,
          -1.827185869216919,
          3.3309547901153564,
          3.3556745052337646,
          3.8546979427337646,
          -13.501697540283203,
          3.8546979427337646,
          8.519237518310547,
          5.354644298553467,
          -5.0375518798828125,
          -10.190314292907715,
          -10.190366744995117,
          5.6579203605651855,
          5.657600402832031,
          -0.4340992569923401,
          -3.717982769012451,
          -11.589117050170898,
          9.733189582824707,
          -1.8064378499984741,
          -1.2488367557525635,
          1.595359444618225,
          -5.134688377380371,
          7.2797532081604,
          2.8218259811401367,
          2.558652639389038,
          4.189200401306152,
          1.1278072595596313,
          -8.092347145080566,
          -8.092391967773438,
          -4.427952289581299,
          -4.427923202514648,
          -4.427923202514648,
          -11.842851638793945,
          1.1672039031982422,
          -7.4293622970581055,
          -12.26723861694336,
          12.42509651184082,
          12.42503833770752,
          8.85679817199707,
          -6.400753498077393,
          -7.226053237915039,
          1.6423888206481934,
          10.392242431640625,
          -0.9535605907440186,
          2.2314953804016113,
          4.076251029968262,
          4.849093437194824,
          6.389335632324219,
          -1.611190676689148,
          2.783590316772461,
          -5.500237464904785,
          -5.500202178955078,
          -11.592554092407227,
          -1.6280179023742676,
          1.20816969871521,
          1.20816969871521,
          1.20816969871521,
          6.616128921508789,
          0.19188372790813446,
          5.043440341949463,
          6.615688800811768,
          3.9779460430145264,
          8.914231300354004,
          8.914231300354004,
          -7.373006343841553,
          6.000358581542969,
          6.000358581542969,
          6.000358581542969,
          6.000358581542969,
          6.000358581542969,
          6.000358581542969,
          6.000358581542969,
          6.000358581542969,
          6.000358581542969,
          -10.786436080932617,
          8.006324768066406,
          9.27484130859375,
          -5.1902875900268555,
          -2.7518932819366455,
          -2.7518954277038574,
          6.000358581542969,
          -6.6849822998046875,
          -6.6868791580200195,
          -3.834195613861084,
          0.3999220132827759,
          -2.253868818283081,
          -1.7898507118225098,
          -1.7915772199630737,
          8.964433670043945,
          8.964433670043945,
          -0.8554189205169678,
          -1.8339393138885498,
          6.243085861206055,
          6.243128299713135,
          -4.8249077796936035,
          -4.8249077796936035,
          -4.8249077796936035,
          -4.8249077796936035,
          -12.922587394714355,
          -0.8639311194419861,
          6.243143558502197,
          8.637128829956055,
          8.637128829956055,
          -3.3911523818969727,
          0.044610001146793365,
          -9.379495620727539,
          8.855705261230469,
          3.7790446281433105,
          -2.2418713569641113,
          -1.8280577659606934,
          -5.965577602386475,
          4.022010326385498,
          6.073107719421387,
          -7.715861797332764,
          0.36502039432525635,
          -8.060620307922363,
          2.1374435424804688,
          7.107316493988037,
          -10.147997856140137,
          -0.08267439156770706,
          -6.675175189971924,
          8.497304916381836,
          8.497299194335938,
          -4.995139122009277,
          1.9309686422348022,
          1.9314157962799072,
          8.615351676940918,
          8.615386009216309,
          3.7571444511413574,
          -1.9842779636383057,
          -9.313015937805176,
          -3.337433099746704,
          6.159381866455078,
          -1.0290780067443848,
          7.648287296295166,
          -6.320159912109375,
          0.711267352104187,
          -9.41150188446045,
          -9.411541938781738,
          -9.917539596557617,
          1.4467140436172485,
          -4.67031192779541,
          5.966618537902832,
          -0.37195539474487305,
          -4.364130973815918,
          -4.36411714553833,
          1.0931159257888794,
          -5.88437032699585,
          -5.88437032699585,
          -5.8843674659729,
          0.5222722291946411,
          7.048734664916992,
          -3.7040770053863525,
          -4.187763214111328,
          0.61525958776474,
          -4.418367385864258,
          -5.475520610809326,
          -6.882869243621826,
          -0.3718923330307007,
          -0.3719364404678345,
          -0.3720184862613678,
          12.137983322143555,
          5.967069149017334,
          5.968911647796631,
          5.966473579406738,
          5.969037055969238,
          5.966473579406738,
          5.969611167907715,
          4.763744354248047,
          5.966907501220703,
          10.853419303894043,
          -4.3517303466796875,
          12.65385627746582,
          10.857669830322266,
          8.305231094360352,
          -3.0359175205230713,
          -1.5383832454681396,
          -1.5385172367095947,
          1.1635689735412598,
          5.2705278396606445,
          9.76318645477295,
          10.190387725830078,
          -0.6354696154594421,
          -7.302917957305908,
          -2.3656868934631348,
          -8.150146484375,
          7.4741106033325195,
          -5.2587738037109375,
          -5.2587738037109375,
          4.285755634307861,
          -3.318256139755249,
          12.804594993591309,
          12.804594993591309,
          1.5848901271820068,
          -1.8082053661346436,
          -2.9993114471435547,
          0.4217907190322876,
          -12.122387886047363,
          -9.19442367553711,
          -9.19442367553711,
          -9.19442367553711,
          -0.4672083854675293,
          -0.467097669839859,
          -7.553864002227783,
          -9.068045616149902,
          1.4024769067764282,
          0.8200598359107971,
          -10.207512855529785,
          2.9424595832824707,
          -7.7217183113098145,
          -6.1204304695129395,
          -0.027981704100966454,
          3.618192672729492,
          -0.7360785007476807,
          5.8752264976501465,
          -9.19442367553711,
          -9.194304466247559,
          1.424493670463562,
          -1.3451390266418457,
          2.558624505996704,
          9.187251091003418,
          7.574517726898193,
          8.331296920776367,
          7.7313055992126465,
          7.7313055992126465,
          7.70754337310791,
          8.029515266418457,
          8.029515266418457,
          7.574517726898193,
          7.574517726898193,
          1.3528112173080444,
          -8.25959300994873,
          -2.2056334018707275,
          -1.858790636062622,
          5.122620582580566,
          5.122564792633057,
          8.322821617126465,
          8.31671142578125,
          8.31982421875,
          7.7313055992126465,
          3.7444705963134766,
          3.7444705963134766,
          1.5175577402114868,
          -3.785088539123535,
          -3.180402994155884,
          2.1313536167144775,
          -8.403467178344727,
          -1.309464693069458,
          11.859240531921387,
          1.5250000953674316,
          1.5248154401779175,
          7.691777229309082,
          8.31671142578125,
          8.31671142578125,
          7.574517726898193,
          8.331296920776367,
          7.380490303039551,
          0.024395015090703964,
          -3.8172590732574463,
          -1.4042176008224487,
          -8.049344062805176,
          -8.049344062805176,
          4.648991584777832,
          -7.222821235656738,
          -3.07155704498291,
          -0.861487627029419,
          1.2874846458435059,
          -0.7147990465164185,
          -14.103729248046875,
          -3.6866660118103027,
          -2.867488145828247,
          -1.0277191400527954,
          -0.7274585962295532,
          -0.5801529884338379,
          2.798110008239746,
          4.798616409301758,
          4.702573299407959,
          -0.9921613931655884,
          -0.6017415523529053,
          10.190388679504395,
          9.637005805969238,
          9.637007713317871,
          9.631539344787598,
          9.972064971923828,
          10.073046684265137,
          10.190388679504395,
          2.798092842102051,
          10.024752616882324,
          -0.9778102040290833,
          -3.345808982849121,
          0.2253865748643875,
          1.383677363395691,
          -6.708848476409912,
          -2.203564167022705,
          -0.6017415523529053,
          9.630241394042969,
          -1.4042176008224487,
          -1.0998084545135498,
          -9.290367126464844,
          -4.145444393157959,
          0.587070643901825,
          -2.338294744491577,
          -11.997663497924805,
          -7.705845355987549,
          -1.2234941720962524,
          0.8975601196289062,
          9.621039390563965,
          -0.8204220533370972,
          -3.5069916248321533,
          -1.6017905473709106,
          3.4655561447143555,
          7.135410785675049,
          -1.4042176008224487,
          -1.4042176008224487,
          -8.104877471923828,
          -8.798938751220703,
          -6.2651753425598145,
          1.6348364353179932,
          -2.9873616695404053,
          4.065638542175293,
          -0.33033499121665955,
          -4.389865398406982,
          -0.6655601859092712,
          -3.687786102294922,
          5.066267967224121,
          -9.290367126464844,
          -4.276391983032227,
          -7.588156223297119,
          -4.402479648590088,
          -5.852910041809082,
          0.058338191360235214,
          -8.982498168945312,
          -6.56710958480835,
          -4.262083530426025,
          -2.8246166706085205,
          -0.6231194734573364,
          2.448188304901123,
          0.1445595920085907,
          0.7988449335098267,
          4.754846096038818,
          4.754807949066162,
          4.754846096038818,
          -1.6215226650238037,
          11.473441123962402,
          11.500329971313477,
          11.473441123962402,
          11.473441123962402,
          11.473441123962402,
          11.473441123962402,
          11.473441123962402,
          11.473441123962402,
          11.473441123962402,
          11.473441123962402,
          11.404668807983398,
          11.473441123962402,
          11.404644012451172,
          -3.238194704055786,
          -0.9639878869056702,
          -0.9650989770889282,
          -0.9639173150062561,
          -4.229865550994873,
          -0.826318085193634,
          -5.268918037414551,
          8.203083038330078,
          8.203083038330078,
          -10.181352615356445,
          -9.577725410461426,
          -12.626800537109375,
          -7.25566291809082,
          12.919771194458008,
          -3.509504795074463,
          0.605479896068573,
          7.939914703369141,
          11.473441123962402,
          -9.353608131408691,
          0.2154121994972229,
          0.4714949429035187,
          -10.313939094543457,
          -6.434028148651123,
          -6.433873653411865,
          -4.510429859161377,
          4.528892517089844,
          6.761500835418701,
          -0.6301641464233398,
          -3.7302536964416504,
          1.2718838453292847,
          0.5391175746917725,
          -4.14788293838501,
          -3.95694637298584,
          -5.500290870666504,
          -7.7528252601623535,
          0.7783861756324768,
          0.7765899896621704,
          4.812467575073242,
          6.7260918617248535,
          0.2154121994972229,
          0.2154121994972229,
          -3.8238954544067383,
          -3.7570481300354004,
          -3.7746331691741943,
          -3.7919366359710693,
          -3.8276383876800537,
          -1.2884657382965088,
          -3.825778007507324,
          -3.762176752090454,
          -3.8344411849975586,
          -2.4191930294036865,
          -2.4191930294036865,
          -2.4191930294036865,
          -2.4191930294036865,
          6.726137638092041,
          -3.7675893306732178,
          -0.3448026180267334,
          -1.3215402364730835,
          0.02615327388048172,
          1.0091866254806519,
          0.2159736305475235,
          -5.439483642578125,
          4.984233379364014,
          4.984233379364014,
          5.3660969734191895,
          -3.5154192447662354,
          -3.5154192447662354,
          -3.5153632164001465,
          0.3406020402908325,
          0.34054094552993774,
          0.3406020402908325,
          1.0748136043548584,
          1.0748136043548584,
          1.0748136043548584,
          1.0091854333877563,
          -3.5897278785705566,
          -3.5897278785705566,
          0.5376132726669312,
          -2.554091215133667,
          8.119998931884766,
          8.119998931884766,
          8.119998931884766,
          8.120030403137207,
          -8.462947845458984,
          4.968781471252441,
          -6.413827896118164,
          -0.2910526394844055,
          0.756083071231842,
          0.5842782855033875,
          -4.030896186828613,
          5.160127639770508,
          4.789131164550781,
          3.89862060546875,
          3.898615837097168,
          5.492584228515625,
          -8.165696144104004,
          -1.8463435173034668,
          -1.7034064531326294,
          14.258087158203125,
          14.258265495300293,
          14.257994651794434,
          2.135565757751465,
          3.757446050643921,
          -0.0942702665925026,
          -0.9217420816421509,
          -1.1863925457000732,
          -0.06659113615751266,
          -0.4769839644432068,
          -0.40868812799453735,
          -1.507807970046997,
          -0.621681272983551,
          -0.8166143894195557,
          -0.8345492482185364,
          14.257991790771484,
          14.258286476135254,
          14.257999420166016,
          14.258025169372559,
          -1.7034064531326294,
          -2.1631689071655273,
          -1.0182620286941528,
          6.535218238830566,
          -10.280982971191406,
          -0.13079464435577393,
          1.3575129508972168,
          -1.7034064531326294,
          -8.152947425842285,
          -7.077785968780518,
          9.545294761657715,
          -0.0860210731625557,
          6.067489147186279,
          -1.7512212991714478,
          14.258234024047852,
          14.258265495300293,
          -3.0105464458465576,
          2.439378023147583,
          2.439443588256836,
          2.4394185543060303,
          -3.0219318866729736,
          -2.80973744392395,
          1.0824252367019653,
          4.654562473297119,
          0.6002880334854126,
          0.6001463532447815,
          0.6001463532447815,
          -2.5407402515411377,
          -2.6095967292785645,
          -1.6750378608703613,
          -5.765908241271973,
          -7.992541313171387,
          -2.409621477127075,
          -1.693618893623352,
          3.6280288696289062,
          -0.8698985576629639,
          -0.8698984980583191,
          -0.5708116888999939,
          0.11176095902919769,
          6.14833402633667,
          -2.1049106121063232,
          1.9437445402145386,
          -1.696719765663147,
          1.2976605892181396,
          8.314287185668945,
          4.000422954559326,
          5.907349109649658,
          -4.789189338684082,
          5.885368824005127,
          2.371575117111206,
          0.8974865078926086,
          -1.4192692041397095,
          0.32790204882621765,
          10.477959632873535,
          -11.80678939819336,
          11.068452835083008,
          -6.28094482421875,
          5.907349109649658,
          8.17696475982666,
          6.936777114868164,
          -4.241945743560791,
          2.5327844619750977,
          -6.453629493713379,
          -5.485471725463867,
          -3.1194722652435303,
          1.399353265762329,
          -0.9973558187484741,
          0.6385976672172546,
          -7.4724602699279785,
          1.5789183378219604,
          -1.1243888139724731,
          -5.446878433227539,
          -0.7737538814544678,
          -7.098935604095459,
          6.936777114868164,
          1.7053273916244507,
          5.031579494476318,
          -4.559700012207031,
          1.809773325920105,
          -0.21926000714302063,
          -3.107198715209961,
          8.276322364807129,
          11.7730712890625,
          -3.2727396488189697,
          0.05167754366993904,
          1.6579787731170654,
          8.85838794708252,
          -11.859703063964844,
          6.504925727844238,
          -3.179899215698242,
          -0.6205989122390747,
          -2.756033420562744,
          6.566957950592041,
          4.876028060913086,
          2.567640542984009,
          2.448188304901123,
          0.1337902694940567,
          -0.9232844114303589,
          -10.264322280883789,
          5.099754810333252,
          -7.111565113067627,
          -2.7606518268585205,
          -2.760652780532837,
          -13.763230323791504,
          -13.763230323791504,
          -13.76391315460205,
          -13.76391315460205,
          -10.312458992004395,
          -7.243567943572998,
          -0.2880723178386688,
          -0.2878686189651489,
          -0.2880747616291046,
          -6.600780963897705,
          -10.680414199829102,
          -10.258944511413574,
          -10.676651954650879,
          -10.676651954650879,
          2.439462661743164,
          -6.247208118438721,
          -4.55952787399292,
          -3.3778676986694336,
          4.306534290313721,
          8.075928688049316,
          4.507150650024414,
          -6.600780963897705,
          4.507150650024414,
          5.755490779876709,
          0.6089876890182495,
          1.5218045711517334,
          -10.47848892211914,
          -10.680486679077148,
          -10.258944511413574,
          -10.264322280883789,
          4.506568908691406,
          -0.9232844114303589,
          8.013763427734375,
          -9.080631256103516,
          -5.056009769439697,
          -5.058781147003174,
          -5.056936264038086,
          4.4284987449646,
          0.5834274291992188,
          0.6722958087921143,
          -0.6074377298355103,
          0.8254810571670532,
          0.8254199028015137,
          0.8254179954528809,
          3.262230396270752,
          -4.289707183837891,
          7.681820392608643,
          -0.9232844114303589,
          -0.9232844114303589,
          -3.871514320373535,
          -3.871514320373535,
          1.085973858833313,
          -1.2737892866134644,
          -9.080830574035645,
          -1.7158408164978027,
          -0.6060854196548462,
          -3.65910267829895,
          -5.801774978637695,
          -5.815830230712891,
          -5.815830230712891,
          -3.4838922023773193,
          -5.801774978637695,
          1.4931014776229858,
          1.493079662322998,
          1.493131399154663,
          7.702211380004883,
          4.903951168060303,
          -6.380000114440918,
          -3.9310810565948486,
          3.2287914752960205,
          -0.07902896404266357,
          0.7601490616798401,
          -7.58595609664917,
          -4.521492004394531,
          0.8202072978019714,
          0.7343543171882629,
          1.0543519258499146,
          1.669640302658081,
          0.8202276229858398,
          7.508635520935059,
          0.7346835136413574,
          1.267626166343689,
          1.6607762575149536,
          1.4997318983078003,
          1.2829996347427368,
          1.0705779790878296,
          -4.5515546798706055,
          1.3303248882293701,
          7.508667469024658,
          7.712264060974121,
          8.58698558807373,
          5.49143648147583,
          5.4914069175720215,
          -5.590457916259766,
          -5.590457916259766,
          -5.590457916259766,
          -5.590457916259766,
          10.103841781616211,
          10.103840827941895,
          10.103841781616211,
          10.104466438293457,
          10.103842735290527,
          10.103841781616211,
          10.103841781616211,
          10.103840827941895,
          5.7312726974487305,
          5.388893127441406,
          -1.9119118452072144,
          -1.911935567855835,
          5.024155139923096,
          -1.6694352626800537,
          -1.2430696487426758,
          -1.4112573862075806,
          -1.2430347204208374,
          5.8098883628845215,
          5.8098883628845215,
          5.463669776916504,
          -9.598949432373047,
          -9.598946571350098,
          3.4278316497802734,
          -6.646261692047119,
          0.27186036109924316,
          0.2718603312969208,
          -3.4236373901367188,
          1.3113017082214355,
          -1.669237494468689,
          -1.0750668048858643,
          -2.706913471221924,
          -2.706339120864868,
          5.024158954620361,
          8.141777992248535,
          -9.039573669433594,
          -11.04898452758789,
          -8.238506317138672,
          4.574716567993164,
          4.574716567993164,
          5.345560073852539,
          13.119871139526367,
          -0.4458465874195099,
          -11.04898452758789,
          -11.04898452758789,
          -11.04898452758789,
          -11.04898452758789,
          -0.014817272312939167,
          -2.7063393592834473,
          -1.0750668048858643,
          3.8210647106170654,
          6.081266403198242,
          6.48577356338501,
          1.4766440391540527,
          1.9828919172286987,
          -2.789820432662964,
          1.4876680374145508,
          -4.727439880371094,
          2.4744842052459717,
          2.4744842052459717,
          2.4744842052459717,
          -0.43863940238952637,
          3.6030187606811523,
          -1.70673668384552,
          -6.5586442947387695,
          -1.84739351272583,
          -2.936840534210205,
          1.4474830627441406,
          4.016726970672607,
          1.4474831819534302,
          0.6894084811210632,
          2.440742015838623,
          2.440718650817871,
          2.4407143592834473,
          -0.28954631090164185,
          6.1606059074401855,
          6.160584926605225,
          4.215066432952881,
          -1.7499221563339233,
          -5.433342456817627,
          -6.7349629402160645,
          -6.734963417053223,
          -6.734975337982178,
          0.5085288882255554,
          0.5085288882255554,
          -2.448901653289795,
          -7.260212421417236,
          8.929481506347656,
          -8.978703498840332,
          5.628810882568359,
          -5.5531697273254395,
          -6.042069911956787,
          -5.686069488525391,
          -5.686069488525391,
          -9.293712615966797,
          -9.29371166229248,
          3.632964611053467,
          -6.725997447967529,
          -6.725997447967529,
          -0.7567148208618164,
          -0.7567148208618164,
          -4.771866798400879,
          -4.876318454742432,
          -4.637350559234619,
          -4.637350559234619,
          -5.5531697273254395,
          -1.104807734489441,
          -6.041905403137207,
          -6.291348457336426,
          4.01181697845459,
          6.269256591796875,
          -0.8739596009254456,
          -6.491300106048584,
          9.415984153747559,
          8.426691055297852,
          8.42726993560791,
          -5.067392349243164,
          -3.1387202739715576,
          -6.210437774658203,
          -6.210460186004639,
          -5.686069488525391,
          -5.686069488525391,
          -5.686069488525391,
          -6.291348457336426,
          -6.291348457336426,
          1.1381679773330688,
          5.714057445526123,
          3.165283679962158,
          -6.395833492279053,
          -5.610859394073486,
          -5.431813716888428,
          2.1777446269989014,
          -4.838439464569092,
          -7.783200263977051,
          -4.8129682540893555,
          -9.531414985656738,
          1.4400697946548462,
          -0.3838890790939331,
          1.3246194124221802,
          0.9715728759765625,
          0.9717261791229248,
          0.9718078374862671,
          -9.531414985656738,
          5.537200450897217,
          -2.674917459487915,
          3.5720319747924805,
          -5.705390930175781,
          -2.2446470260620117,
          -9.100046157836914,
          -1.5114367008209229,
          6.490777492523193,
          0.7443526387214661,
          0.4055204391479492,
          -0.7267972826957703,
          -8.708433151245117,
          -5.087896823883057,
          -0.7051301598548889,
          -1.0810602903366089,
          7.399869441986084,
          -3.834113121032715,
          1.6009639501571655,
          0.9715724587440491,
          0.9718078374862671,
          0.9718177914619446,
          0.17399829626083374,
          9.250194549560547,
          4.983844757080078,
          6.7898783683776855,
          0.001712663797661662,
          7.4027862548828125,
          -0.7436135411262512,
          0.546334445476532,
          -8.126705169677734,
          -2.7342402935028076,
          -5.279951095581055,
          -5.27984619140625,
          -5.2798662185668945,
          -5.279860019683838,
          -14.552068710327148,
          0.43065088987350464,
          7.774596691131592,
          1.175995111465454,
          -3.876024007797241,
          2.1960692405700684,
          0.1739979237318039,
          4.827802658081055,
          4.827802658081055,
          4.827802658081055,
          -5.110686302185059,
          3.9119935035705566,
          -3.956550121307373,
          10.718306541442871,
          -12.090521812438965,
          -12.090521812438965,
          -12.090521812438965,
          -12.090521812438965,
          -12.090418815612793,
          2.1960434913635254,
          2.1960434913635254,
          2.1960692405700684,
          -4.944522857666016,
          -9.274238586425781,
          3.767202138900757,
          -10.295302391052246,
          -10.295302391052246,
          6.062383651733398,
          6.062383651733398,
          6.0621819496154785,
          6.0621819496154785,
          6.062383651733398,
          8.509811401367188,
          -2.6249794960021973,
          -13.501749038696289,
          -13.501749038696289,
          -13.501749038696289,
          -13.501749038696289,
          7.864073753356934,
          8.209575653076172,
          -10.295294761657715,
          1.9175156354904175,
          -10.295282363891602,
          -10.295302391052246,
          3.165371894836426,
          3.1652889251708984,
          3.165372133255005,
          3.1653740406036377,
          3.1652698516845703,
          -0.715222954750061,
          3.9081242084503174,
          3.9081246852874756,
          -0.9123769998550415,
          -4.037430763244629,
          -11.390816688537598,
          6.532107353210449,
          -4.180108547210693,
          -4.684305667877197,
          2.714149236679077,
          -10.295294761657715,
          3.1652820110321045,
          -7.4798479080200195,
          -7.4798479080200195,
          -3.4444658756256104,
          5.4085493087768555,
          9.476442337036133,
          -9.479002952575684,
          -3.3025810718536377,
          5.1248908042907715,
          -8.832869529724121,
          5.117005825042725,
          -2.849592685699463,
          -7.86914587020874,
          -6.687338352203369,
          -3.950995683670044,
          9.481316566467285,
          3.767202615737915,
          3.767202138900757,
          -1.6343098878860474,
          -7.4798479080200195,
          4.412048816680908,
          -3.7841758728027344,
          -7.711184024810791,
          -7.711184024810791,
          -7.711184024810791,
          -7.711184024810791,
          -7.4798479080200195,
          -7.4798479080200195,
          -14.448976516723633,
          -2.0741589069366455,
          -1.0012720823287964,
          -1.0012716054916382,
          1.0333197116851807,
          -4.2243218421936035,
          -3.7226195335388184,
          -1.28628671169281,
          -7.597553730010986,
          -3.766745090484619,
          1.1381679773330688,
          5.717358589172363,
          1.3808114528656006,
          -0.7246788740158081,
          -7.865118026733398,
          -1.1734869480133057,
          -7.890153408050537,
          -0.767591655254364,
          -6.946863651275635,
          3.1841697692871094,
          3.3121769428253174,
          3.1841697692871094,
          2.6879351139068604,
          2.6879351139068604,
          -7.353331089019775,
          7.922086238861084,
          7.922086238861084,
          -0.03577391058206558,
          8.402008056640625,
          -4.731629848480225,
          -0.3369462490081787,
          -0.3369130492210388,
          -0.3369733989238739,
          -0.33697590231895447,
          -0.33697590231895447,
          3.1841697692871094,
          3.3120391368865967,
          2.6879351139068604,
          -0.30588045716285706,
          -8.72284984588623,
          -2.2234787940979004,
          4.857977867126465,
          -9.163200378417969,
          4.612133979797363,
          4.612133979797363,
          -3.4588592052459717,
          1.4765338897705078,
          -1.1827887296676636,
          1.4793189764022827,
          1.479555606842041,
          1.7708479166030884,
          1.7701634168624878,
          -5.291846752166748,
          -4.051431655883789,
          2.6879351139068604,
          -0.720887303352356,
          11.5975980758667,
          -12.20541000366211,
          3.0514354705810547,
          3.0515620708465576,
          1.3434516191482544,
          -0.2798733711242676,
          -5.014969348907471,
          -5.01522159576416,
          3.3121488094329834,
          2.6879351139068604,
          9.383162498474121,
          9.383162498474121,
          -0.7208836674690247,
          -9.535623550415039,
          -4.602165699005127,
          -0.33697590231895447,
          -8.750663757324219,
          -4.141959190368652,
          4.640814304351807,
          -9.145898818969727,
          4.640814304351807,
          9.756882667541504,
          -2.699824094772339,
          4.8787841796875,
          4.87865686416626,
          3.7412946224212646,
          2.6096248626708984,
          -0.5651333332061768,
          -0.5651345252990723,
          -4.957427024841309,
          14.828155517578125,
          1.287552833557129,
          -1.8107714653015137,
          0.21537208557128906,
          -4.218770980834961,
          -13.235638618469238,
          -13.235638618469238,
          -9.63588809967041,
          -10.70384693145752,
          -7.262411117553711,
          -7.262407302856445,
          -8.75080680847168,
          -8.682392120361328,
          7.344910144805908,
          -1.4299451112747192,
          1.3808114528656006,
          1.3734334707260132,
          1.3808114528656006,
          -1.531484842300415,
          6.1746296882629395,
          1.05752432346344,
          1.05752432346344,
          -3.9903693199157715,
          -0.3369586765766144,
          -3.9902405738830566,
          -4.148838043212891,
          -2.619539499282837,
          7.578804969787598,
          -1.2801735401153564,
          -1.280186653137207,
          -1.2801871299743652,
          -9.176277160644531,
          -1.8288871049880981,
          -7.107805252075195,
          -5.809782981872559,
          8.607470512390137,
          3.0958967208862305,
          5.7384443283081055,
          4.873263359069824,
          -1.5521790981292725,
          2.500006675720215,
          -1.2801316976547241,
          1.661299467086792,
          -1.6938129663467407,
          -7.891495227813721,
          3.9738826751708984,
          -5.556457042694092,
          -5.556356430053711,
          -5.556354999542236,
          9.041788101196289,
          9.041788101196289,
          -0.8261653184890747,
          0.03519958630204201,
          9.041788101196289,
          9.041788101196289,
          9.041788101196289,
          9.041788101196289,
          9.041788101196289,
          9.041788101196289,
          9.041788101196289,
          9.041788101196289,
          -11.537641525268555,
          11.030044555664062,
          11.030061721801758,
          -3.3467414379119873,
          -11.716238021850586,
          6.818431854248047,
          -3.8098299503326416,
          5.171070098876953,
          -2.6944711208343506,
          2.309577226638794,
          2.3076696395874023,
          -3.5713050365448,
          -5.556349277496338,
          3.3144047260284424,
          -0.08272411674261093,
          2.048658847808838,
          2.0504586696624756,
          -0.8845767974853516,
          3.668452739715576,
          5.941704273223877,
          5.941704273223877,
          -5.257288932800293,
          -14.062418937683105,
          4.348799228668213,
          -0.8177346587181091,
          10.182809829711914,
          1.9501625299453735,
          1.9500948190689087,
          2.3076696395874023,
          1.9501311779022217,
          3.05601167678833,
          5.9343180656433105,
          2.2076563835144043,
          2.2076563835144043,
          -9.46278190612793,
          -9.462789535522461,
          2.818862199783325,
          0.715133547782898,
          -3.9579639434814453,
          -3.957965612411499,
          -11.244915962219238,
          5.093068599700928,
          -0.2706131041049957,
          1.9501311779022217,
          7.462302207946777,
          9.041788101196289,
          3.4819416999816895,
          -4.7682318687438965,
          -1.1779855489730835,
          -1.177992582321167,
          1.4407525062561035,
          -1.9173202514648438,
          1.914224624633789,
          1.914224624633789,
          -3.2968599796295166,
          -13.300474166870117,
          -13.300474166870117,
          -2.8844075202941895,
          -0.8877825140953064,
          -3.459979295730591,
          -2.0703184604644775,
          5.326246738433838,
          11.073808670043945,
          -1.359931468963623,
          1.7402305603027344,
          -7.9650750160217285,
          2.5225565433502197,
          -2.2014319896698,
          -1.5441116094589233,
          2.4214303493499756,
          -5.83951473236084,
          3.7885687351226807,
          3.7885687351226807,
          -3.097205400466919,
          -4.208785533905029,
          3.7885680198669434,
          -4.741202354431152
         ]
        },
        {
         "hovertemplate": "Dominant_Topic=Topic 2<br>0=%{x}<br>1=%{y}<br>2=%{z}<extra></extra>",
         "legendgroup": "Topic 2",
         "marker": {
          "color": "#00cc96",
          "opacity": 0.7,
          "symbol": "circle"
         },
         "mode": "markers",
         "name": "Topic 2",
         "scene": "scene",
         "showlegend": true,
         "type": "scatter3d",
         "x": [
          0.19000597298145294,
          1.2834566831588745,
          0.13508789241313934,
          -0.03310028836131096,
          1.1533888578414917,
          0.8065247535705566,
          0.5725720524787903,
          1.537217617034912,
          0.7135961651802063,
          0.0802093967795372,
          0.16757529973983765,
          1.0732977390289307,
          1.5853307247161865,
          1.1432768106460571,
          1.4541255235671997,
          0.5848978161811829,
          0.5114490389823914,
          1.1961461305618286,
          0.6405835747718811,
          0.47979503870010376,
          0.38486936688423157,
          1.5376924276351929,
          0.9940909147262573,
          1.18509042263031,
          0.6088112592697144,
          1.2528424263000488,
          0.10752638429403305,
          0.9938802719116211,
          0.5537700653076172
         ],
         "y": [
          -18.88112449645996,
          -18.410648345947266,
          -18.4547061920166,
          -18.321964263916016,
          -17.75490951538086,
          -18.958599090576172,
          -18.567113876342773,
          -18.058542251586914,
          -17.60672378540039,
          -18.719594955444336,
          -17.9539852142334,
          -19.140233993530273,
          -18.586265563964844,
          -17.966829299926758,
          -18.74608039855957,
          -17.789962768554688,
          -19.135116577148438,
          -17.64520835876465,
          -18.296680450439453,
          -17.943246841430664,
          -18.6016902923584,
          -18.135364532470703,
          -18.811180114746094,
          -18.544118881225586,
          -19.091737747192383,
          -19.001928329467773,
          -17.943283081054688,
          -18.093278884887695,
          -17.59609603881836
         ],
         "z": [
          11.572348594665527,
          10.685518264770508,
          11.90956974029541,
          11.27202320098877,
          11.780213356018066,
          11.922892570495605,
          12.086825370788574,
          11.140091896057129,
          11.208104133605957,
          11.000929832458496,
          10.932554244995117,
          11.481087684631348,
          11.191110610961914,
          10.699941635131836,
          11.66258430480957,
          10.730508804321289,
          11.422110557556152,
          11.202982902526855,
          10.52200698852539,
          12.006998062133789,
          10.62817096710205,
          11.671124458312988,
          10.631012916564941,
          12.02094841003418,
          10.96102237701416,
          11.024909019470215,
          11.528233528137207,
          12.092939376831055,
          11.56092643737793
         ]
        },
        {
         "hovertemplate": "Dominant_Topic=Topic 3<br>0=%{x}<br>1=%{y}<br>2=%{z}<extra></extra>",
         "legendgroup": "Topic 3",
         "marker": {
          "color": "#ab63fa",
          "opacity": 0.7,
          "symbol": "circle"
         },
         "mode": "markers",
         "name": "Topic 3",
         "scene": "scene",
         "showlegend": true,
         "type": "scatter3d",
         "x": [
          -8.179017066955566,
          -8.179017066955566,
          -8.195577621459961,
          -8.179017066955566,
          -8.195577621459961,
          -8.195577621459961,
          -4.873027801513672,
          -6.4283318519592285,
          -6.4283318519592285,
          -4.041950702667236,
          -6.043664455413818,
          -4.86887264251709,
          -2.539579391479492,
          -6.043664455413818,
          -8.195577621459961,
          -8.179017066955566,
          -3.7449560165405273,
          -3.3826990127563477,
          -3.686776638031006,
          -4.101932048797607,
          -9.398710250854492,
          -9.398710250854492,
          -9.398710250854492,
          -9.398710250854492,
          -3.8806567192077637,
          -3.7238059043884277,
          -3.6306471824645996,
          -3.6306471824645996,
          -3.6909632682800293,
          -7.67439079284668,
          -3.7449560165405273,
          -3.7449560165405273,
          -3.7449560165405273,
          -3.8806567192077637,
          -8.195577621459961,
          -4.101932048797607,
          -3.6325302124023438,
          -4.863997459411621,
          -1.486654281616211,
          -6.4379096031188965,
          -3.5351274013519287,
          -3.6559853553771973,
          -7.554033279418945,
          -3.6559853553771973,
          -3.6559853553771973,
          -4.015616416931152,
          -3.4716503620147705,
          -4.273723125457764,
          -5.062375068664551,
          -4.574642181396484,
          -3.7449560165405273,
          -1.8535345792770386
         ],
         "y": [
          10.032191276550293,
          10.032191276550293,
          9.990968704223633,
          10.032191276550293,
          9.990968704223633,
          9.990968704223633,
          10.300498962402344,
          9.188021659851074,
          9.188021659851074,
          13.753329277038574,
          13.639204978942871,
          10.092927932739258,
          14.301250457763672,
          13.639204978942871,
          9.990968704223633,
          10.032191276550293,
          14.508781433105469,
          14.360793113708496,
          12.150605201721191,
          11.834203720092773,
          8.239127159118652,
          8.239127159118652,
          8.239127159118652,
          8.239127159118652,
          11.822147369384766,
          12.113900184631348,
          12.228073120117188,
          12.228073120117188,
          12.14709758758545,
          7.459026336669922,
          14.508781433105469,
          14.508781433105469,
          14.508781433105469,
          11.822147369384766,
          9.990968704223633,
          11.834203720092773,
          12.217950820922852,
          9.906651496887207,
          13.94810676574707,
          9.09926986694336,
          15.48105525970459,
          12.46235466003418,
          7.397088050842285,
          12.462353706359863,
          12.46235466003418,
          11.928133010864258,
          13.932815551757812,
          13.883103370666504,
          14.169946670532227,
          13.552412986755371,
          14.508781433105469,
          14.425386428833008
         ],
         "z": [
          10.478858947753906,
          10.478858947753906,
          10.52621078491211,
          10.478858947753906,
          10.52621078491211,
          10.52621078491211,
          11.627457618713379,
          10.462124824523926,
          10.462124824523926,
          12.09957218170166,
          10.952418327331543,
          11.559974670410156,
          11.333940505981445,
          10.952418327331543,
          10.52621078491211,
          10.478858947753906,
          11.53308391571045,
          11.685128211975098,
          12.198399543762207,
          12.558692932128906,
          6.84421968460083,
          6.84421968460083,
          6.84421968460083,
          6.84421968460083,
          12.932791709899902,
          12.161571502685547,
          12.873992919921875,
          12.873992919921875,
          12.194632530212402,
          8.503683090209961,
          11.53308391571045,
          11.53308391571045,
          11.53308391571045,
          12.932791709899902,
          10.52621078491211,
          12.558692932128906,
          12.885128021240234,
          11.4896821975708,
          11.005125999450684,
          10.48302936553955,
          11.64930534362793,
          8.683243751525879,
          8.549772262573242,
          8.683243751525879,
          8.683243751525879,
          12.246270179748535,
          11.962227821350098,
          12.000073432922363,
          11.223278045654297,
          12.165899276733398,
          11.53308391571045,
          11.039809226989746
         ]
        },
        {
         "hovertemplate": "Dominant_Topic=Topic 4<br>0=%{x}<br>1=%{y}<br>2=%{z}<extra></extra>",
         "legendgroup": "Topic 4",
         "marker": {
          "color": "#FFA15A",
          "opacity": 0.7,
          "symbol": "circle"
         },
         "mode": "markers",
         "name": "Topic 4",
         "scene": "scene",
         "showlegend": true,
         "type": "scatter3d",
         "x": [
          -0.46610578894615173,
          -0.7607537508010864,
          -0.7607537508010864,
          -0.7607537508010864,
          -0.9544088840484619,
          -0.9544088840484619,
          -0.9544088840484619,
          3.253025531768799,
          3.253025531768799,
          3.253025531768799,
          3.253025531768799,
          3.253025531768799,
          3.253025531768799,
          3.253025531768799,
          3.253025531768799,
          3.253025531768799,
          3.253025531768799,
          3.253025531768799,
          0.6776583790779114,
          1.0214394330978394,
          1.0214394330978394,
          3.253025531768799,
          1.0214394330978394,
          -0.9544088840484619,
          0.6776583790779114,
          -0.9544088840484619,
          -0.20361903309822083,
          -1.1156442165374756,
          -0.9544088840484619,
          0.05817919224500656,
          1.0214394330978394,
          1.0214394330978394,
          0.6776583790779114,
          1.0214394330978394,
          -0.9544088840484619,
          0.6776583790779114,
          1.0214394330978394
         ],
         "y": [
          7.5394439697265625,
          5.98626184463501,
          5.98626184463501,
          5.98626184463501,
          7.10381555557251,
          7.10381555557251,
          7.10381555557251,
          9.182120323181152,
          9.182120323181152,
          9.182120323181152,
          9.182120323181152,
          9.182120323181152,
          9.182120323181152,
          9.182120323181152,
          9.182120323181152,
          9.182120323181152,
          9.182120323181152,
          9.182120323181152,
          5.725264072418213,
          5.617751598358154,
          5.617751598358154,
          9.182120323181152,
          5.617751598358154,
          7.10381555557251,
          5.725264072418213,
          7.10381555557251,
          6.340104579925537,
          7.307361602783203,
          7.10381555557251,
          6.804083347320557,
          5.617751598358154,
          5.617751598358154,
          5.725264072418213,
          5.617751598358154,
          7.10381555557251,
          5.725264072418213,
          5.617751598358154
         ],
         "z": [
          -9.396613121032715,
          -7.912533760070801,
          -7.912533760070801,
          -7.912533760070801,
          -8.656953811645508,
          -8.656953811645508,
          -8.656953811645508,
          -10.791399955749512,
          -10.791399955749512,
          -10.791399955749512,
          -10.791399955749512,
          -10.791399955749512,
          -10.791399955749512,
          -10.791399955749512,
          -10.791399955749512,
          -10.791399955749512,
          -10.791399955749512,
          -10.791399955749512,
          -12.088367462158203,
          -12.024008750915527,
          -12.024008750915527,
          -10.791399955749512,
          -12.024008750915527,
          -8.656953811645508,
          -12.088367462158203,
          -8.656953811645508,
          -8.174827575683594,
          -9.353501319885254,
          -8.656953811645508,
          -8.492988586425781,
          -12.024008750915527,
          -12.024008750915527,
          -12.088367462158203,
          -12.024008750915527,
          -8.656953811645508,
          -12.088367462158203,
          -12.024008750915527
         ]
        },
        {
         "hovertemplate": "Dominant_Topic=Topic 5<br>0=%{x}<br>1=%{y}<br>2=%{z}<extra></extra>",
         "legendgroup": "Topic 5",
         "marker": {
          "color": "#19d3f3",
          "opacity": 0.7,
          "symbol": "circle"
         },
         "mode": "markers",
         "name": "Topic 5",
         "scene": "scene",
         "showlegend": true,
         "type": "scatter3d",
         "x": [
          -1.7894591093063354,
          -2.326287031173706,
          -2.5727734565734863,
          -2.6037700176239014,
          -1.5642411708831787,
          -1.5451030731201172,
          -1.7894591093063354,
          -2.3966970443725586,
          -1.5451030731201172,
          -2.3966970443725586,
          -1.9930239915847778,
          -2.8766472339630127,
          -1.8417171239852905,
          -2.245889186859131,
          -1.3625915050506592,
          -2.181192398071289,
          -1.5642411708831787,
          -2.1246824264526367,
          -2.3966970443725586,
          -1.680976390838623,
          -2.326287031173706,
          -2.3966970443725586,
          -1.680976390838623
         ],
         "y": [
          -5.1824631690979,
          -4.771744251251221,
          -5.109492301940918,
          -4.852700233459473,
          -5.657386302947998,
          -5.132741928100586,
          -5.1824631690979,
          -5.585711479187012,
          -5.132741928100586,
          -5.585711479187012,
          -4.760585308074951,
          -10.590185165405273,
          -5.727900981903076,
          -5.218114376068115,
          -5.102522373199463,
          -4.584547996520996,
          -5.657386302947998,
          -5.585689544677734,
          -5.585711479187012,
          -4.637853145599365,
          -4.771744251251221,
          -5.585711479187012,
          -4.637853145599365
         ],
         "z": [
          20.40141487121582,
          20.192100524902344,
          19.384164810180664,
          19.680646896362305,
          19.90212631225586,
          19.321697235107422,
          20.40141487121582,
          19.988279342651367,
          19.321697235107422,
          19.988279342651367,
          19.258079528808594,
          7.656211853027344,
          19.39225959777832,
          19.14571762084961,
          19.90904998779297,
          19.537174224853516,
          19.90212631225586,
          19.230741500854492,
          19.988279342651367,
          19.88001251220703,
          20.192100524902344,
          19.988279342651367,
          19.88001251220703
         ]
        },
        {
         "hovertemplate": "Dominant_Topic=Topic 6<br>0=%{x}<br>1=%{y}<br>2=%{z}<extra></extra>",
         "legendgroup": "Topic 6",
         "marker": {
          "color": "#FF6692",
          "opacity": 0.7,
          "symbol": "circle"
         },
         "mode": "markers",
         "name": "Topic 6",
         "scene": "scene",
         "showlegend": true,
         "type": "scatter3d",
         "x": [
          -5.10890007019043,
          -5.028375148773193,
          -4.417694091796875,
          -4.960517883300781,
          -3.861680507659912,
          -4.512456893920898,
          -5.279269695281982,
          -4.051382064819336,
          -4.120001316070557,
          -4.695583820343018,
          -4.663310527801514,
          -4.7468719482421875,
          -4.088883399963379,
          -4.6457648277282715,
          -3.980088710784912,
          -4.5879645347595215,
          -4.570915222167969,
          -4.568036079406738,
          -5.115697860717773,
          -4.2077789306640625,
          -4.132341384887695,
          -5.0538129806518555,
          -9.384016036987305,
          -5.079667091369629,
          -4.198889255523682,
          -9.384016036987305,
          -9.384020805358887,
          -8.43349552154541,
          -8.43349552154541,
          -8.971724510192871,
          -8.363687515258789,
          -5.8852057456970215
         ],
         "y": [
          9.690495491027832,
          10.088425636291504,
          9.24386215209961,
          9.22255802154541,
          9.627685546875,
          9.141809463500977,
          9.581159591674805,
          9.295706748962402,
          9.658369064331055,
          9.601703643798828,
          9.70781135559082,
          8.91254997253418,
          10.025734901428223,
          10.079364776611328,
          9.25627326965332,
          10.276969909667969,
          10.110020637512207,
          8.917112350463867,
          9.111116409301758,
          8.956738471984863,
          10.074357032775879,
          9.355302810668945,
          2.9322941303253174,
          9.923924446105957,
          9.726582527160645,
          2.9322941303253174,
          2.9322946071624756,
          2.5802276134490967,
          2.5802276134490967,
          2.7158234119415283,
          2.5744972229003906,
          2.0615665912628174
         ],
         "z": [
          -18.139816284179688,
          -18.43231964111328,
          -17.97199249267578,
          -18.10098648071289,
          -18.64903450012207,
          -19.154409408569336,
          -18.630002975463867,
          -18.9903507232666,
          -18.04444122314453,
          -19.284833908081055,
          -17.896146774291992,
          -18.805233001708984,
          -18.33698272705078,
          -19.071590423583984,
          -18.335115432739258,
          -18.6127986907959,
          -18.127098083496094,
          -18.2954044342041,
          -18.562671661376953,
          -18.646753311157227,
          -18.824840545654297,
          -19.06475257873535,
          -10.962926864624023,
          -18.930583953857422,
          -19.171873092651367,
          -10.962926864624023,
          -10.962968826293945,
          -12.197672843933105,
          -12.197672843933105,
          -11.481295585632324,
          -12.274532318115234,
          -13.526408195495605
         ]
        },
        {
         "hovertemplate": "Dominant_Topic=Topic 7<br>0=%{x}<br>1=%{y}<br>2=%{z}<extra></extra>",
         "legendgroup": "Topic 7",
         "marker": {
          "color": "#B6E880",
          "opacity": 0.7,
          "symbol": "circle"
         },
         "mode": "markers",
         "name": "Topic 7",
         "scene": "scene",
         "showlegend": true,
         "type": "scatter3d",
         "x": [
          8.133406639099121,
          8.091387748718262,
          8.133406639099121,
          8.133406639099121,
          8.133406639099121,
          7.48331880569458,
          8.133406639099121,
          8.133406639099121,
          8.133406639099121,
          8.133406639099121,
          8.133406639099121,
          8.133406639099121,
          8.133406639099121,
          7.48331880569458,
          7.48331880569458,
          7.39393424987793,
          7.48331880569458
         ],
         "y": [
          -8.70148754119873,
          -9.377447128295898,
          -8.70148754119873,
          -8.70148754119873,
          -8.70148754119873,
          -8.969620704650879,
          -8.70148754119873,
          -8.70148754119873,
          -8.70148754119873,
          -8.70148754119873,
          -8.70148754119873,
          -8.70148754119873,
          -8.70148754119873,
          -8.969620704650879,
          -8.969620704650879,
          -7.436151504516602,
          -8.969620704650879
         ],
         "z": [
          13.526851654052734,
          13.244606971740723,
          13.526851654052734,
          13.526851654052734,
          13.526851654052734,
          13.312514305114746,
          13.526851654052734,
          13.526851654052734,
          13.526851654052734,
          13.526851654052734,
          13.526851654052734,
          13.526851654052734,
          13.526851654052734,
          13.312514305114746,
          13.312514305114746,
          8.021746635437012,
          13.312514305114746
         ]
        }
       ],
       "layout": {
        "height": 800,
        "legend": {
         "title": {
          "text": "Dominant_Topic"
         },
         "tracegroupgap": 0
        },
        "scene": {
         "domain": {
          "x": [
           0,
           1
          ],
          "y": [
           0,
           1
          ]
         },
         "xaxis": {
          "title": {
           "text": "0"
          }
         },
         "yaxis": {
          "title": {
           "text": "1"
          }
         },
         "zaxis": {
          "title": {
           "text": "2"
          }
         }
        },
        "template": {
         "data": {
          "bar": [
           {
            "error_x": {
             "color": "#2a3f5f"
            },
            "error_y": {
             "color": "#2a3f5f"
            },
            "marker": {
             "line": {
              "color": "#E5ECF6",
              "width": 0.5
             },
             "pattern": {
              "fillmode": "overlay",
              "size": 10,
              "solidity": 0.2
             }
            },
            "type": "bar"
           }
          ],
          "barpolar": [
           {
            "marker": {
             "line": {
              "color": "#E5ECF6",
              "width": 0.5
             },
             "pattern": {
              "fillmode": "overlay",
              "size": 10,
              "solidity": 0.2
             }
            },
            "type": "barpolar"
           }
          ],
          "carpet": [
           {
            "aaxis": {
             "endlinecolor": "#2a3f5f",
             "gridcolor": "white",
             "linecolor": "white",
             "minorgridcolor": "white",
             "startlinecolor": "#2a3f5f"
            },
            "baxis": {
             "endlinecolor": "#2a3f5f",
             "gridcolor": "white",
             "linecolor": "white",
             "minorgridcolor": "white",
             "startlinecolor": "#2a3f5f"
            },
            "type": "carpet"
           }
          ],
          "choropleth": [
           {
            "colorbar": {
             "outlinewidth": 0,
             "ticks": ""
            },
            "type": "choropleth"
           }
          ],
          "contour": [
           {
            "colorbar": {
             "outlinewidth": 0,
             "ticks": ""
            },
            "colorscale": [
             [
              0,
              "#0d0887"
             ],
             [
              0.1111111111111111,
              "#46039f"
             ],
             [
              0.2222222222222222,
              "#7201a8"
             ],
             [
              0.3333333333333333,
              "#9c179e"
             ],
             [
              0.4444444444444444,
              "#bd3786"
             ],
             [
              0.5555555555555556,
              "#d8576b"
             ],
             [
              0.6666666666666666,
              "#ed7953"
             ],
             [
              0.7777777777777778,
              "#fb9f3a"
             ],
             [
              0.8888888888888888,
              "#fdca26"
             ],
             [
              1,
              "#f0f921"
             ]
            ],
            "type": "contour"
           }
          ],
          "contourcarpet": [
           {
            "colorbar": {
             "outlinewidth": 0,
             "ticks": ""
            },
            "type": "contourcarpet"
           }
          ],
          "heatmap": [
           {
            "colorbar": {
             "outlinewidth": 0,
             "ticks": ""
            },
            "colorscale": [
             [
              0,
              "#0d0887"
             ],
             [
              0.1111111111111111,
              "#46039f"
             ],
             [
              0.2222222222222222,
              "#7201a8"
             ],
             [
              0.3333333333333333,
              "#9c179e"
             ],
             [
              0.4444444444444444,
              "#bd3786"
             ],
             [
              0.5555555555555556,
              "#d8576b"
             ],
             [
              0.6666666666666666,
              "#ed7953"
             ],
             [
              0.7777777777777778,
              "#fb9f3a"
             ],
             [
              0.8888888888888888,
              "#fdca26"
             ],
             [
              1,
              "#f0f921"
             ]
            ],
            "type": "heatmap"
           }
          ],
          "heatmapgl": [
           {
            "colorbar": {
             "outlinewidth": 0,
             "ticks": ""
            },
            "colorscale": [
             [
              0,
              "#0d0887"
             ],
             [
              0.1111111111111111,
              "#46039f"
             ],
             [
              0.2222222222222222,
              "#7201a8"
             ],
             [
              0.3333333333333333,
              "#9c179e"
             ],
             [
              0.4444444444444444,
              "#bd3786"
             ],
             [
              0.5555555555555556,
              "#d8576b"
             ],
             [
              0.6666666666666666,
              "#ed7953"
             ],
             [
              0.7777777777777778,
              "#fb9f3a"
             ],
             [
              0.8888888888888888,
              "#fdca26"
             ],
             [
              1,
              "#f0f921"
             ]
            ],
            "type": "heatmapgl"
           }
          ],
          "histogram": [
           {
            "marker": {
             "pattern": {
              "fillmode": "overlay",
              "size": 10,
              "solidity": 0.2
             }
            },
            "type": "histogram"
           }
          ],
          "histogram2d": [
           {
            "colorbar": {
             "outlinewidth": 0,
             "ticks": ""
            },
            "colorscale": [
             [
              0,
              "#0d0887"
             ],
             [
              0.1111111111111111,
              "#46039f"
             ],
             [
              0.2222222222222222,
              "#7201a8"
             ],
             [
              0.3333333333333333,
              "#9c179e"
             ],
             [
              0.4444444444444444,
              "#bd3786"
             ],
             [
              0.5555555555555556,
              "#d8576b"
             ],
             [
              0.6666666666666666,
              "#ed7953"
             ],
             [
              0.7777777777777778,
              "#fb9f3a"
             ],
             [
              0.8888888888888888,
              "#fdca26"
             ],
             [
              1,
              "#f0f921"
             ]
            ],
            "type": "histogram2d"
           }
          ],
          "histogram2dcontour": [
           {
            "colorbar": {
             "outlinewidth": 0,
             "ticks": ""
            },
            "colorscale": [
             [
              0,
              "#0d0887"
             ],
             [
              0.1111111111111111,
              "#46039f"
             ],
             [
              0.2222222222222222,
              "#7201a8"
             ],
             [
              0.3333333333333333,
              "#9c179e"
             ],
             [
              0.4444444444444444,
              "#bd3786"
             ],
             [
              0.5555555555555556,
              "#d8576b"
             ],
             [
              0.6666666666666666,
              "#ed7953"
             ],
             [
              0.7777777777777778,
              "#fb9f3a"
             ],
             [
              0.8888888888888888,
              "#fdca26"
             ],
             [
              1,
              "#f0f921"
             ]
            ],
            "type": "histogram2dcontour"
           }
          ],
          "mesh3d": [
           {
            "colorbar": {
             "outlinewidth": 0,
             "ticks": ""
            },
            "type": "mesh3d"
           }
          ],
          "parcoords": [
           {
            "line": {
             "colorbar": {
              "outlinewidth": 0,
              "ticks": ""
             }
            },
            "type": "parcoords"
           }
          ],
          "pie": [
           {
            "automargin": true,
            "type": "pie"
           }
          ],
          "scatter": [
           {
            "fillpattern": {
             "fillmode": "overlay",
             "size": 10,
             "solidity": 0.2
            },
            "type": "scatter"
           }
          ],
          "scatter3d": [
           {
            "line": {
             "colorbar": {
              "outlinewidth": 0,
              "ticks": ""
             }
            },
            "marker": {
             "colorbar": {
              "outlinewidth": 0,
              "ticks": ""
             }
            },
            "type": "scatter3d"
           }
          ],
          "scattercarpet": [
           {
            "marker": {
             "colorbar": {
              "outlinewidth": 0,
              "ticks": ""
             }
            },
            "type": "scattercarpet"
           }
          ],
          "scattergeo": [
           {
            "marker": {
             "colorbar": {
              "outlinewidth": 0,
              "ticks": ""
             }
            },
            "type": "scattergeo"
           }
          ],
          "scattergl": [
           {
            "marker": {
             "colorbar": {
              "outlinewidth": 0,
              "ticks": ""
             }
            },
            "type": "scattergl"
           }
          ],
          "scattermapbox": [
           {
            "marker": {
             "colorbar": {
              "outlinewidth": 0,
              "ticks": ""
             }
            },
            "type": "scattermapbox"
           }
          ],
          "scatterpolar": [
           {
            "marker": {
             "colorbar": {
              "outlinewidth": 0,
              "ticks": ""
             }
            },
            "type": "scatterpolar"
           }
          ],
          "scatterpolargl": [
           {
            "marker": {
             "colorbar": {
              "outlinewidth": 0,
              "ticks": ""
             }
            },
            "type": "scatterpolargl"
           }
          ],
          "scatterternary": [
           {
            "marker": {
             "colorbar": {
              "outlinewidth": 0,
              "ticks": ""
             }
            },
            "type": "scatterternary"
           }
          ],
          "surface": [
           {
            "colorbar": {
             "outlinewidth": 0,
             "ticks": ""
            },
            "colorscale": [
             [
              0,
              "#0d0887"
             ],
             [
              0.1111111111111111,
              "#46039f"
             ],
             [
              0.2222222222222222,
              "#7201a8"
             ],
             [
              0.3333333333333333,
              "#9c179e"
             ],
             [
              0.4444444444444444,
              "#bd3786"
             ],
             [
              0.5555555555555556,
              "#d8576b"
             ],
             [
              0.6666666666666666,
              "#ed7953"
             ],
             [
              0.7777777777777778,
              "#fb9f3a"
             ],
             [
              0.8888888888888888,
              "#fdca26"
             ],
             [
              1,
              "#f0f921"
             ]
            ],
            "type": "surface"
           }
          ],
          "table": [
           {
            "cells": {
             "fill": {
              "color": "#EBF0F8"
             },
             "line": {
              "color": "white"
             }
            },
            "header": {
             "fill": {
              "color": "#C8D4E3"
             },
             "line": {
              "color": "white"
             }
            },
            "type": "table"
           }
          ]
         },
         "layout": {
          "annotationdefaults": {
           "arrowcolor": "#2a3f5f",
           "arrowhead": 0,
           "arrowwidth": 1
          },
          "autotypenumbers": "strict",
          "coloraxis": {
           "colorbar": {
            "outlinewidth": 0,
            "ticks": ""
           }
          },
          "colorscale": {
           "diverging": [
            [
             0,
             "#8e0152"
            ],
            [
             0.1,
             "#c51b7d"
            ],
            [
             0.2,
             "#de77ae"
            ],
            [
             0.3,
             "#f1b6da"
            ],
            [
             0.4,
             "#fde0ef"
            ],
            [
             0.5,
             "#f7f7f7"
            ],
            [
             0.6,
             "#e6f5d0"
            ],
            [
             0.7,
             "#b8e186"
            ],
            [
             0.8,
             "#7fbc41"
            ],
            [
             0.9,
             "#4d9221"
            ],
            [
             1,
             "#276419"
            ]
           ],
           "sequential": [
            [
             0,
             "#0d0887"
            ],
            [
             0.1111111111111111,
             "#46039f"
            ],
            [
             0.2222222222222222,
             "#7201a8"
            ],
            [
             0.3333333333333333,
             "#9c179e"
            ],
            [
             0.4444444444444444,
             "#bd3786"
            ],
            [
             0.5555555555555556,
             "#d8576b"
            ],
            [
             0.6666666666666666,
             "#ed7953"
            ],
            [
             0.7777777777777778,
             "#fb9f3a"
            ],
            [
             0.8888888888888888,
             "#fdca26"
            ],
            [
             1,
             "#f0f921"
            ]
           ],
           "sequentialminus": [
            [
             0,
             "#0d0887"
            ],
            [
             0.1111111111111111,
             "#46039f"
            ],
            [
             0.2222222222222222,
             "#7201a8"
            ],
            [
             0.3333333333333333,
             "#9c179e"
            ],
            [
             0.4444444444444444,
             "#bd3786"
            ],
            [
             0.5555555555555556,
             "#d8576b"
            ],
            [
             0.6666666666666666,
             "#ed7953"
            ],
            [
             0.7777777777777778,
             "#fb9f3a"
            ],
            [
             0.8888888888888888,
             "#fdca26"
            ],
            [
             1,
             "#f0f921"
            ]
           ]
          },
          "colorway": [
           "#636efa",
           "#EF553B",
           "#00cc96",
           "#ab63fa",
           "#FFA15A",
           "#19d3f3",
           "#FF6692",
           "#B6E880",
           "#FF97FF",
           "#FECB52"
          ],
          "font": {
           "color": "#2a3f5f"
          },
          "geo": {
           "bgcolor": "white",
           "lakecolor": "white",
           "landcolor": "#E5ECF6",
           "showlakes": true,
           "showland": true,
           "subunitcolor": "white"
          },
          "hoverlabel": {
           "align": "left"
          },
          "hovermode": "closest",
          "mapbox": {
           "style": "light"
          },
          "paper_bgcolor": "white",
          "plot_bgcolor": "#E5ECF6",
          "polar": {
           "angularaxis": {
            "gridcolor": "white",
            "linecolor": "white",
            "ticks": ""
           },
           "bgcolor": "#E5ECF6",
           "radialaxis": {
            "gridcolor": "white",
            "linecolor": "white",
            "ticks": ""
           }
          },
          "scene": {
           "xaxis": {
            "backgroundcolor": "#E5ECF6",
            "gridcolor": "white",
            "gridwidth": 2,
            "linecolor": "white",
            "showbackground": true,
            "ticks": "",
            "zerolinecolor": "white"
           },
           "yaxis": {
            "backgroundcolor": "#E5ECF6",
            "gridcolor": "white",
            "gridwidth": 2,
            "linecolor": "white",
            "showbackground": true,
            "ticks": "",
            "zerolinecolor": "white"
           },
           "zaxis": {
            "backgroundcolor": "#E5ECF6",
            "gridcolor": "white",
            "gridwidth": 2,
            "linecolor": "white",
            "showbackground": true,
            "ticks": "",
            "zerolinecolor": "white"
           }
          },
          "shapedefaults": {
           "line": {
            "color": "#2a3f5f"
           }
          },
          "ternary": {
           "aaxis": {
            "gridcolor": "white",
            "linecolor": "white",
            "ticks": ""
           },
           "baxis": {
            "gridcolor": "white",
            "linecolor": "white",
            "ticks": ""
           },
           "bgcolor": "#E5ECF6",
           "caxis": {
            "gridcolor": "white",
            "linecolor": "white",
            "ticks": ""
           }
          },
          "title": {
           "x": 0.05
          },
          "xaxis": {
           "automargin": true,
           "gridcolor": "white",
           "linecolor": "white",
           "ticks": "",
           "title": {
            "standoff": 15
           },
           "zerolinecolor": "white",
           "zerolinewidth": 2
          },
          "yaxis": {
           "automargin": true,
           "gridcolor": "white",
           "linecolor": "white",
           "ticks": "",
           "title": {
            "standoff": 15
           },
           "zerolinecolor": "white",
           "zerolinewidth": 2
          }
         }
        },
        "title": {
         "text": "3d TSNE Plot for Topic Model"
        },
        "width": 900
       }
      },
      "text/html": [
       "<div>                            <div id=\"94ef99f6-0751-4bb7-ba83-ec5740ad3014\" class=\"plotly-graph-div\" style=\"height:800px; width:900px;\"></div>            <script type=\"text/javascript\">                require([\"plotly\"], function(Plotly) {                    window.PLOTLYENV=window.PLOTLYENV || {};                                    if (document.getElementById(\"94ef99f6-0751-4bb7-ba83-ec5740ad3014\")) {                    Plotly.newPlot(                        \"94ef99f6-0751-4bb7-ba83-ec5740ad3014\",                        [{\"hovertemplate\":\"Dominant_Topic=Topic 0<br>0=%{x}<br>1=%{y}<br>2=%{z}<extra></extra>\",\"legendgroup\":\"Topic 0\",\"marker\":{\"color\":\"#636efa\",\"opacity\":0.7,\"symbol\":\"circle\"},\"mode\":\"markers\",\"name\":\"Topic 0\",\"scene\":\"scene\",\"showlegend\":true,\"x\":[4.030536651611328,2.206801652908325,2.259042263031006,3.020977020263672,3.5932459831237793,4.231484413146973,3.4693572521209717,3.0543344020843506,3.2145884037017822,3.3478071689605713,3.96278977394104,3.0988717079162598,3.831591844558716,3.6272404193878174,2.710848331451416,4.328770160675049,3.2438924312591553,3.116445302963257,2.684781789779663,3.2673110961914062,3.1627097129821777,2.639122247695923,4.4563307762146,3.8449323177337646,2.1105594635009766,3.39401912689209,4.263850212097168,2.486144781112671,2.237281322479248,2.857469081878662,3.379720687866211,4.380977630615234,3.342494487762451,3.80880069732666,2.561575412750244,2.701322078704834,2.5057380199432373,4.029749393463135,3.7548348903656006,2.4551773071289062,4.060080051422119],\"y\":[-24.38907241821289,-23.692867279052734,-23.358633041381836,-22.90676498413086,-22.905113220214844,-24.299089431762695,-23.406057357788086,-25.099775314331055,-23.25423240661621,-23.78680419921875,-23.704936981201172,-22.771493911743164,-23.225454330444336,-22.8096866607666,-23.91642951965332,-24.508747100830078,-24.51552963256836,-23.88055419921875,-23.292118072509766,-24.091455459594727,-24.920988082885742,-23.251182556152344,-23.943477630615234,-24.975845336914062,-24.14397430419922,-24.084104537963867,-23.314149856567383,-24.760181427001953,-23.938940048217773,-24.600740432739258,-23.897932052612305,-23.640901565551758,-24.913347244262695,-24.866416931152344,-22.950387954711914,-23.911184310913086,-24.423397064208984,-23.838855743408203,-24.49517250061035,-24.64409828186035,-23.07817840576172],\"z\":[-2.522146224975586,-2.8520240783691406,-3.5443475246429443,-3.9254302978515625,-3.859562397003174,-3.922553777694702,-4.438314914703369,-3.358661413192749,-2.344989776611328,-3.435559034347534,-4.289491176605225,-3.075453042984009,-2.55413556098938,-3.035659074783325,-2.3014214038848877,-3.3124094009399414,-2.2951366901397705,-3.2548935413360596,-4.167518138885498,-4.489249229431152,-2.7422854900360107,-2.5886757373809814,-3.0806636810302734,-3.5681166648864746,-3.282883644104004,-3.3233468532562256,-3.0352470874786377,-3.120802879333496,-3.908425807952881,-4.198971271514893,-2.171298027038574,-3.749293804168701,-3.92889404296875,-2.8797717094421387,-3.2630107402801514,-4.376408576965332,-2.6023995876312256,-2.41713285446167,-4.299126625061035,-3.758737564086914,-3.6672523021698],\"type\":\"scatter3d\"},{\"hovertemplate\":\"Dominant_Topic=Topic 1<br>0=%{x}<br>1=%{y}<br>2=%{z}<extra></extra>\",\"legendgroup\":\"Topic 1\",\"marker\":{\"color\":\"#EF553B\",\"opacity\":0.7,\"symbol\":\"circle\"},\"mode\":\"markers\",\"name\":\"Topic 1\",\"scene\":\"scene\",\"showlegend\":true,\"x\":[-9.501072883605957,-8.816311836242676,-9.407814025878906,-9.680525779724121,-8.409802436828613,-8.303812980651855,-13.119851112365723,0.7705170512199402,-3.4597363471984863,-5.62777853012085,-9.065376281738281,-13.119853019714355,9.076848983764648,-8.496179580688477,-10.355823516845703,-10.904906272888184,4.851822853088379,2.7885096073150635,-9.713166236877441,-9.190070152282715,5.931365489959717,-3.0858452320098877,-8.45930290222168,-10.355823516845703,-8.45930290222168,-2.9007441997528076,-2.9007441997528076,-16.631996154785156,-8.07071590423584,3.134124279022217,-8.671941757202148,-0.4077160358428955,1.6359502077102661,-10.365972518920898,-12.468964576721191,14.952055931091309,14.952055931091309,-3.2184150218963623,-3.218413829803467,-3.2184150218963623,-3.2184150218963623,14.952055931091309,-1.6893761157989502,1.8344234228134155,-12.302351951599121,7.538410186767578,6.660410404205322,-2.391108989715576,10.090117454528809,7.761894226074219,-10.786766052246094,14.952055931091309,14.952055931091309,3.871758460998535,-9.789229393005371,-4.681110858917236,-10.527763366699219,-1.0473837852478027,9.270054817199707,-10.355823516845703,-4.5580735206604,-8.680412292480469,4.0079874992370605,13.868494987487793,-17.987869262695312,-17.98787498474121,-17.987882614135742,-8.680411338806152,-2.741630792617798,-16.63016700744629,-3.510807752609253,-1.9620808362960815,7.631500720977783,15.149649620056152,11.864911079406738,11.86481761932373,1.8075804710388184,5.375317096710205,-8.039810180664062,-1.831260323524475,15.148309707641602,0.001296902890317142,-14.216266632080078,10.281905174255371,-13.80313777923584,-17.428327560424805,4.019782543182373,4.982875347137451,2.6096227169036865,3.4540810585021973,3.3816144466400146,1.7112236022949219,8.565874099731445,8.565874099731445,-15.828742027282715,6.646004676818848,-9.86638355255127,-2.196528196334839,-2.196528196334839,12.67130184173584,1.3042693138122559,1.3128914833068848,-9.86638355255127,-15.822037696838379,-10.500983238220215,-10.500983238220215,-3.564605236053467,-9.174498558044434,-4.177370548248291,-16.021818161010742,-16.289609909057617,-0.2699585258960724,4.6541852951049805,4.654213905334473,-4.369735240936279,-2.332833766937256,0.9601038098335266,-3.791444778442383,-5.6043925285339355,-17.86036491394043,-1.9565914869308472,-11.242740631103516,-15.634944915771484,9.132271766662598,0.9724305272102356,-3.782108783721924,-1.3117084503173828,-8.381998062133789,-17.122560501098633,-10.500983238220215,-13.75369930267334,-14.61280345916748,-11.339065551757812,6.353465557098389,-15.421850204467773,8.158431053161621,-12.028938293457031,-16.186738967895508,-5.518711090087891,10.350761413574219,-2.9289305210113525,-2.605945587158203,-2.605945587158203,-2.6059257984161377,12.754294395446777,13.185871124267578,-15.979608535766602,17.04332733154297,-2.0997750759124756,-11.719874382019043,-16.723604202270508,-0.8750243782997131,-0.8750284314155579,-0.8750284314155579,3.046546697616577,3.046424150466919,4.580862045288086,-3.1812679767608643,-17.082956314086914,-5.042064189910889,-4.63918924331665,-1.9104429483413696,-5.214818000793457,-5.214578628540039,-14.110895156860352,10.915399551391602,-2.1653313636779785,-2.1827757358551025,3.079299211502075,-5.653165817260742,-17.253061294555664,2.721883773803711,11.501408576965332,-0.03466344252228737,5.799337387084961,-2.0155909061431885,3.96079158782959,-9.060041427612305,-17.40484619140625,-17.40462875366211,-3.9271504878997803,-2.7301242351531982,-11.23292064666748,-3.222247838973999,-18.363922119140625,-15.428136825561523,-18.851926803588867,0.38016101717948914,-15.341053009033203,-15.341045379638672,-15.341045379638672,-15.341045379638672,-15.341017723083496,-2.0155909061431885,8.321636199951172,8.32155704498291,-15.487345695495605,1.4767621755599976,1.4775601625442505,-16.123910903930664,12.341268539428711,3.2679460048675537,3.2679460048675537,-15.341029167175293,-15.340725898742676,-15.341024398803711,-15.34074878692627,-10.97415542602539,-0.03466344252228737,-8.816990852355957,8.3792724609375,5.285647392272949,8.768025398254395,4.871355056762695,-0.933651328086853,-10.297264099121094,0.5685768127441406,4.024633407592773,-4.823371887207031,-5.266984939575195,-5.266984939575195,2.1852734088897705,-2.7944464683532715,9.699264526367188,3.616706609725952,2.91404390335083,2.91404390335083,2.913999557495117,1.4230966567993164,2.755828857421875,2.7558023929595947,2.7558023929595947,4.958554267883301,-4.4201340675354,5.285647392272949,2.437183141708374,4.678888320922852,-10.60428237915039,7.798924446105957,5.941720008850098,-14.411681175231934,5.443885326385498,5.443909168243408,-7.889883041381836,-17.194623947143555,-17.208560943603516,-9.936952590942383,-4.7904863357543945,-4.7904863357543945,9.881758689880371,10.445798873901367,-13.635258674621582,-9.936994552612305,-11.01941204071045,-16.099464416503906,9.647137641906738,4.717735767364502,1.6427652835845947,-16.172718048095703,0.24462735652923584,-2.9283998012542725,-5.518711090087891,1.4798940420150757,10.106667518615723,-8.33969497680664,6.759594917297363,4.903219699859619,7.557401657104492,5.30015754699707,13.795141220092773,2.5907626152038574,11.740678787231445,-18.110286712646484,-18.11028480529785,-12.093822479248047,-12.093826293945312,-12.093831062316895,4.817209243774414,9.385388374328613,7.346678733825684,-2.9117929935455322,1.2005701065063477,0.25632762908935547,1.6468937397003174,-9.607767105102539,-17.167152404785156,11.44137954711914,-11.437297821044922,-12.99881649017334,-12.639654159545898,-9.707396507263184,-15.374473571777344,-15.922261238098145,-14.091811180114746,13.559834480285645,7.330628871917725,9.92648983001709,12.747062683105469,9.468846321105957,-12.683980941772461,11.077634811401367,11.077619552612305,-10.143985748291016,-10.143985748291016,11.296341896057129,1.549391269683838,12.976224899291992,-10.283208847045898,-10.283208847045898,-18.387157440185547,-18.387189865112305,8.971616744995117,6.263576030731201,5.169758319854736,6.191504001617432,7.008413314819336,3.8254013061523438,12.698441505432129,7.136999130249023,4.338871002197266,4.338892936706543,7.570070743560791,7.570069313049316,7.570069313049316,-2.3898279666900635,10.12912368774414,11.507439613342285,-4.162900924682617,-1.2966043949127197,-6.581071376800537,-14.701003074645996,-14.701024055480957,0.2961518168449402,0.2961523234844208,3.8254048824310303,8.174988746643066,4.006234645843506,13.879358291625977,13.879358291625977,13.879358291625977,3.825407028198242,13.879538536071777,13.694485664367676,4.1528825759887695,4.153114318847656,4.152985095977783,-1.1555132865905762,-0.5181778073310852,13.863812446594238,7.136999130249023,-17.457107543945312,-13.130792617797852,9.67093563079834,5.622406959533691,5.622406959533691,9.509178161621094,-9.331842422485352,-9.339369773864746,-9.339370727539062,-9.331750869750977,12.150167465209961,12.147679328918457,5.242474555969238,5.242474555969238,7.552339553833008,-5.024298667907715,4.728705883026123,9.953742027282715,12.511591911315918,12.63594913482666,12.63594913482666,3.6413629055023193,-4.14015531539917,-1.4619938135147095,-1.4619884490966797,-0.9534874558448792,-1.3290870189666748,-0.6765685081481934,6.981154441833496,6.981154441833496,3.317204475402832,-17.194129943847656,11.15673542022705,-14.31434154510498,-17.15742301940918,-5.91838264465332,-12.510536193847656,-3.508707284927368,-7.00644063949585,6.226235866546631,14.402959823608398,-8.408783912658691,6.361884593963623,-11.77678394317627,-6.790365695953369,-10.588900566101074,-7.806670188903809,6.963109970092773,6.963105201721191,13.395792007446289,4.957948684692383,-3.7943313121795654,11.536393165588379,4.55956506729126,-5.999825954437256,-5.999825954437256,-5.999825954437256,-5.999825954437256,-5.999825954437256,-5.999825954437256,-6.439638137817383,-5.999825954437256,-5.999825954437256,-5.999825954437256,-5.999825954437256,5.4458231925964355,13.97109317779541,-17.293336868286133,-5.999825954437256,7.136999607086182,7.13701057434082,12.661103248596191,6.2590107917785645,-12.63827896118164,7.599165439605713,-2.5090596675872803,14.251471519470215,14.252513885498047,14.252912521362305,14.25251293182373,14.253990173339844,14.254388809204102,12.680645942687988,3.8374850749969482,1.9250164031982422,1.9250222444534302,-1.233954906463623,1.9399522542953491,-1.0004308223724365,-12.581098556518555,8.271769523620605,10.350817680358887,-3.215850591659546,-9.811482429504395,-9.171829223632812,6.259036064147949,13.534459114074707,-2.3495593070983887,12.208551406860352,9.34095287322998,-17.598854064941406,0.47787296772003174,-16.938432693481445,-16.98578643798828,-16.804046630859375,6.2590131759643555,10.384805679321289,-17.050792694091797,-11.487725257873535,2.3895068168640137,2.3895068168640137,9.205190658569336,9.205190658569336,14.257696151733398,14.257654190063477,-1.8107866048812866,4.158380508422852,6.018243789672852,-17.253311157226562,-6.912891864776611,0.8572072386741638,5.085310459136963,8.218121528625488,9.6632080078125,10.384805679321289,12.705157279968262,12.705047607421875,12.705041885375977,12.705157279968262,12.704878807067871,6.259013652801514,12.705157279968262,-5.621476173400879,-5.621476173400879,4.47647762298584,3.503359794616699,-0.9990454912185669,-4.331445693969727,12.705157279968262,2.495781898498535,-8.96577262878418,-8.965751647949219,7.3881635665893555,14.172457695007324,14.172463417053223,8.683876991271973,8.683876991271973,-10.81689167022705,-5.743782043457031,-5.743782043457031,2.182698965072632,10.915632247924805,-14.60690689086914,6.902188301086426,6.902174949645996,-8.281917572021484,-12.441937446594238,-4.864014148712158,9.314421653747559,12.59838581085205,12.59838581085205,12.698441505432129,12.59838581085205,2.5011892318725586,2.5011892318725586,-4.690512657165527,-2.7926063537597656,-10.303360939025879,-15.551850318908691,-15.551850318908691,8.738506317138672,-6.285394668579102,-9.885063171386719,-10.303360939025879,11.168126106262207,-16.102210998535156,-16.102436065673828,14.378597259521484,14.410919189453125,-0.9600539803504944,-0.9600539803504944,-15.452983856201172,-7.0528998374938965,14.568870544433594,-11.364989280700684,3.5783567428588867,3.509342670440674,12.216207504272461,9.422374725341797,6.454703330993652,13.304045677185059,0.3280209004878998,1.2005701065063477,14.615653991699219,15.532318115234375,-9.775473594665527,-7.766184329986572,3.021930456161499,3.021930456161499,-3.148914337158203,-7.058948993682861,15.351356506347656,-7.058948993682861,15.16952896118164,15.572517395019531,14.872522354125977,14.429118156433105,15.197295188903809,14.770757675170898,-17.29939842224121,11.124541282653809,12.624048233032227,6.842651844024658,-3.136690378189087,-10.546682357788086,-10.240514755249023,13.838380813598633,-2.570514440536499,10.246530532836914,13.618496894836426,0.3279252350330353,-10.45356273651123,10.666282653808594,13.232096672058105,-11.624406814575195,-11.624407768249512,5.589022159576416,-10.453636169433594,3.4046552181243896,-3.3780181407928467,-3.3780174255371094,-0.5868191719055176,-3.47125506401062,9.197073936462402,8.496272087097168,10.565372467041016,-9.346824645996094,10.4426851272583,10.444053649902344,10.442747116088867,1.6500836610794067,2.2536869049072266,-3.8691956996917725,-3.8691956996917725,7.670395374298096,-3.3780174255371094,11.844459533691406,11.81118392944336,11.652441024780273,11.828746795654297,14.088788986206055,-2.547255754470825,13.41441822052002,-10.002988815307617,13.771283149719238,13.783624649047852,3.7248034477233887,6.234349727630615,-6.435976982116699,2.346876621246338,2.346876621246338,2.346885919570923,-16.497697830200195,-8.187253952026367,-9.267315864562988,3.453434705734253,13.854074478149414,2.709929943084717,3.453434705734253,-1.1950092315673828,-1.1949889659881592,3.453434705734253,2.840186834335327,3.453434705734253,2.8612782955169678,2.840186834335327,2.840186834335327,3.453434705734253,3.453434705734253,3.208744764328003,3.453434705734253,3.453434705734253,3.453434705734253,2.840186834335327,3.453434705734253,10.650498390197754,13.854044914245605,-12.846338272094727,13.00942325592041,-7.008704662322998,-7.008695125579834,9.983255386352539,9.075462341308594,2.9419283866882324,5.258241653442383,-8.25206470489502,-10.65172290802002,-10.65172290802002,-10.65172290802002,-3.183115005493164,14.491955757141113,14.491955757141113,-10.65172290802002,6.170718669891357,6.170718669891357,-3.4120397567749023,-16.619916915893555,9.107283592224121,-5.6859869956970215,-6.925706386566162,-6.17084264755249,-6.1708455085754395,-6.170839786529541,-0.7193225026130676,-0.7193350791931152,5.720343112945557,5.720342636108398,3.8688366413116455,3.868840217590332,3.868861675262451,3.3043928146362305,-9.48782730102539,-9.487828254699707,-9.487829208374023,13.137977600097656,-1.701951026916504,4.963616847991943,4.360222339630127,-6.399352550506592,-13.396480560302734,13.916180610656738,1.4216383695602417,-14.136616706848145,-14.280095100402832,-14.13499641418457,-14.609330177307129,-14.42044734954834,-14.267969131469727,-14.497660636901855,4.037418842315674,-1.701951026916504,-10.095830917358398,14.952776908874512,9.010674476623535,-0.8066706657409668,-8.38688850402832,9.187790870666504,-10.633472442626953,7.51370096206665,2.4863338470458984,-10.707537651062012,-10.707537651062012,-10.707537651062012,-10.655220031738281,-10.674999237060547,-15.980937957763672,-0.10064370185136795,3.5529167652130127,-10.826733589172363,5.478600025177002,3.3419699668884277,3.341970205307007,6.415322303771973,5.091122627258301,-15.845663070678711,11.22734546661377,-13.206703186035156,4.703733921051025,-2.5754878520965576,-5.372152805328369,-2.6199865341186523,16.43807029724121,-13.041749000549316,-13.041746139526367,7.653201103210449,-9.507343292236328,-1.9957091808319092,-9.821772575378418,-10.668110847473145,7.148681640625,-12.612115859985352,-2.6518502235412598,-1.8586798906326294,-1.8586798906326294,-1.85869562625885,-1.6988338232040405,-3.1140964031219482,-14.628293991088867,-2.781812906265259,-2.781812906265259,11.489106178283691,2.7958486080169678,-9.733964920043945,-11.704850196838379,13.632318496704102,-12.612115859985352,4.5080389976501465,0.35481739044189453,4.678155422210693,3.111215829849243,10.006156921386719,3.8024981021881104,3.802518844604492,0.7197717428207397,10.541947364807129,-4.619422435760498,4.759459018707275,8.393256187438965,1.9188435077667236,7.272115230560303,-1.8008928298950195,0.846723198890686,7.847519397735596,-9.531773567199707,-2.1053245067596436,0.7384715676307678,0.39782416820526123,10.661150932312012,13.8523588180542,-0.08859062194824219,-3.136542558670044,-6.126136302947998,10.857667922973633,-3.004188299179077,8.416339874267578,4.110141754150391,8.146302223205566,8.146319389343262,6.16023063659668,8.389337539672852,-3.7095189094543457,-3.7095189094543457,-11.824071884155273,5.113481521606445,8.650834083557129,0.39782416820526123,-4.966063976287842,9.503381729125977,-13.0287446975708,-2.6576666831970215,-4.201577663421631,-14.91130542755127,4.116013050079346,5.488109588623047,-13.417717933654785,4.188270092010498,13.41468334197998,13.414689064025879,9.189848899841309,9.189848899841309,0.8366785645484924,9.889294624328613,6.217100143432617,3.8870115280151367,7.063538551330566,-14.138123512268066,-10.417203903198242,5.08954381942749,8.586956024169922,-10.156729698181152,4.548937797546387,4.548937797546387,-0.6640715003013611,2.8781352043151855,13.949790000915527,-0.2815761864185333,-0.28157636523246765,-0.28157639503479004,-16.84861946105957,-5.092147350311279,10.662763595581055,-10.143242835998535,4.456076622009277,-16.94780731201172,3.4264395236968994,10.668642044067383,1.7438629865646362,3.100001811981201,9.198426246643066,3.709564685821533,-8.05088996887207,8.069657325744629,11.060765266418457,0.12586578726768494,-0.16712155938148499,14.058794975280762,-16.708879470825195,-6.536375045776367,4.803882598876953,15.525134086608887,-2.735333204269409,6.6710429191589355,9.766809463500977,-11.89428997039795,-11.894935607910156,10.668642044067383,-16.728240966796875,-3.578355550765991,-3.578355550765991,3.452011823654175,5.027568817138672,5.027536392211914,-9.97915267944336,-11.442801475524902,-14.356867790222168,-0.040974076837301254,-12.14855670928955,-16.628156661987305,-11.894124031066895,-11.89418888092041,-11.89428997039795,13.041668891906738,-6.084786415100098,-12.245615005493164,-9.32931137084961,-16.629823684692383,-16.54482650756836,12.490334510803223,12.490067481994629,-16.84865379333496,-15.494275093078613,-1.7415549755096436,-10.695015907287598,7.893341541290283,8.051944732666016,7.893341541290283,8.051944732666016,8.051944732666016,-1.7415627241134644,-15.494275093078613,-15.494275093078613,-11.093301773071289,-16.0338134765625,10.871232986450195,10.871238708496094,10.871232986450195,0.04139072448015213,5.176671504974365,-8.055956840515137,6.659191131591797,13.236238479614258,5.934805870056152,10.001697540283203,-1.2150723934173584,-12.783815383911133,-9.816319465637207,-2.8218929767608643,7.893341541290283,7.893341541290283,7.893341541290283,7.893341541290283,4.497088432312012,4.497084617614746,4.497086048126221,-16.750774383544922,-16.9500675201416,3.2769038677215576,3.2763893604278564,9.734369277954102,9.89118766784668,5.441462516784668,11.716286659240723,11.716102600097656,3.170448064804077,-6.253544807434082,-3.795480728149414,4.45611047744751,9.888096809387207,4.456110000610352,11.19654655456543,7.893341541290283,1.7641949653625488,-3.9943418502807617,7.7467522621154785,0.030602164566516876,-2.127973794937134,4.929991722106934,5.305120944976807,4.1625471115112305,4.162528038024902,4.162528038024902,4.162528038024902,4.162528038024902,12.737683296203613,0.20093464851379395,-5.197491645812988,-12.31483268737793,-16.1490535736084,-16.447914123535156,5.791808605194092,5.791809558868408,1.0211328268051147,1.0211509466171265,1.0211509466171265,1.0211509466171265,14.680140495300293,-12.08788776397705,6.43037748336792,-3.3809847831726074,2.3771674633026123,-2.568153142929077,-12.426644325256348,-16.678695678710938,-8.058170318603516,6.5010552406311035,-8.058170318603516,4.9587602615356445,-0.13350100815296173,6.842652320861816,6.842651844024658,5.953455924987793,-5.231338977813721,9.968056678771973,-17.258895874023438,-17.217317581176758,0.8085678815841675,0.8085678815841675,8.795480728149414,-14.866425514221191,10.647117614746094,13.890478134155273,-0.1335429549217224,-0.13350100815296173,4.958765029907227,8.818617820739746,-8.058170318603516,-11.533456802368164,13.093103408813477,7.274565696716309,7.72976016998291,-2.4412622451782227,9.164488792419434,-2.4412622451782227,-2.4412622451782227,-2.4415130615234375,2.742360830307007,1.4284567832946777,1.4284566640853882,1.428619623184204,1.428619623184204,1.4285023212432861,0.2820439338684082,-8.828773498535156,1.0010652542114258,-8.82893180847168,-8.828773498535156,0.3073842227458954,-16.424264907836914,-9.348933219909668,-17.19961929321289,9.959030151367188,13.769280433654785,13.879538536071777,13.879538536071777,-2.6820015907287598,-2.103684902191162,10.857069969177246,-16.66576385498047,-4.729299068450928,10.166451454162598,-8.82893180847168,-8.828774452209473,6.842651844024658,0.10485191643238068,-2.477238178253174,-6.683741569519043,5.357794761657715,7.120855331420898,-1.9991203546524048,9.8650541305542,-13.549250602722168,3.4514503479003906,13.817172050476074,-16.931753158569336,-16.769699096679688,-16.769699096679688,8.881054878234863,8.877609252929688,8.599843978881836,13.81717300415039,-1.7657043933868408,-1.7657043933868408,6.242311477661133,10.979082107543945,13.79924201965332,9.41553020477295,-16.879276275634766,13.206567764282227,0.35193148255348206,3.982903480529785,-9.048413276672363,-0.22690802812576294,2.4035415649414062,2.4035415649414062,-9.950039863586426,3.4702882766723633,13.693100929260254,14.043188095092773,8.751261711120605,8.501079559326172,8.866570472717285,8.499399185180664,2.1671955585479736,2.1671955585479736,2.1671955585479736,2.1671955585479736,2.1671955585479736,12.427871704101562,12.427871704101562,-15.101490020751953,-3.746030569076538,12.741276741027832,16.010547637939453,16.010547637939453,10.399735450744629,0.3424902856349945,-12.24561595916748,2.1671955585479736,-4.008486270904541,2.1671955585479736,-3.6669998168945312,8.476827621459961,7.386694431304932,7.38604211807251,7.386042594909668,2.029557704925537,2.0295581817626953,6.867242336273193,7.741678714752197,-8.750304222106934,-8.750306129455566,12.627008438110352,-3.7699756622314453,-10.571859359741211,0.4491940438747406,-16.43661880493164,2.1671955585479736,-16.81572914123535,-16.88709259033203,-16.81572914123535,-13.205453872680664,6.555946350097656,6.555946350097656,6.555943012237549,6.555946350097656,-4.635708332061768,-4.063227653503418,-6.107685565948486,5.189902305603027,-3.494663953781128,14.811063766479492,4.418566703796387,7.4512834548950195,-11.26209831237793,-7.189008712768555,4.587944984436035,-7.189008712768555,5.983240604400635,5.983304977416992,-2.477238416671753,-2.477238416671753,-2.477238178253174,-2.477238416671753,11.928525924682617,-15.765103340148926,1.398973822593689,1.3988301753997803,1.398790717124939,6.298260688781738,-1.285479187965393,-9.861062049865723,4.919624328613281,-14.545228004455566,5.983312129974365,5.983315467834473,8.217031478881836,-4.5944390296936035,8.160135269165039,4.600748062133789,4.600748062133789,-16.816123962402344,10.382973670959473,7.734399318695068,-11.887857437133789,-16.77236557006836,-16.77236557006836,-18.912919998168945,13.736323356628418,11.032187461853027,-6.891513824462891,-1.8405770063400269,-16.81572914123535,-16.88709259033203,4.600748062133789,-4.5944390296936035,4.600748062133789,-1.115907073020935,11.176065444946289,13.127543449401855,-11.148890495300293,-11.149175643920898,5.674720287322998,5.6748270988464355,-3.3049709796905518,2.171530246734619,-2.2494242191314697,-6.999880313873291,-14.20307731628418,9.552279472351074,14.793320655822754,8.22358226776123,-8.352368354797363,1.157474398612976,11.124564170837402,4.728862762451172,15.099165916442871,-12.552526473999023,-12.552456855773926,-1.5692840814590454,-1.5693305730819702,-1.5693305730819702,-2.0436410903930664,-0.018170088529586792,8.968361854553223,-1.6871415376663208,-1.630464792251587,-1.6304492950439453,-5.179934978485107,2.4411497116088867,-1.4311529397964478,-17.316120147705078,-5.5733184814453125,5.856267929077148,1.2215014696121216,8.041743278503418,-10.291991233825684,-8.885871887207031,-13.159945487976074,10.76132869720459,8.22005558013916,8.220136642456055,-0.6683902740478516,-14.821516036987305,14.187530517578125,14.187530517578125,14.187530517578125,-6.561193943023682,4.522907257080078,2.6673099994659424,0.7383092641830444,4.236971855163574,4.298582553863525,4.298582553863525,8.073236465454102,2.8532919883728027,2.8532919883728027,2.8532919883728027,2.8532919883728027,2.8532919883728027,2.8532919883728027,2.8532919883728027,2.8532919883728027,2.8532919883728027,11.449780464172363,2.6886539459228516,5.361210346221924,-16.911340713500977,7.081539630889893,7.081538677215576,2.8532919883728027,11.15263843536377,11.172074317932129,-10.005058288574219,-17.651517868041992,-10.049481391906738,-10.074844360351562,-10.074519157409668,-5.489193916320801,-5.489193916320801,5.1008806228637695,-9.606680870056152,10.591108322143555,10.591035842895508,7.948709487915039,7.948709487915039,7.948709487915039,7.948709487915039,-6.555008888244629,-9.204079627990723,10.591042518615723,-6.489007472991943,-6.489007472991943,-0.47498059272766113,-10.166770935058594,2.2017741203308105,-3.946845293045044,5.723288059234619,-9.942079544067383,-14.077797889709473,-12.85306167602539,-16.700428009033203,-13.020151138305664,9.295106887817383,-7.397335529327393,7.826766490936279,-2.5413522720336914,-8.460590362548828,-2.3976030349731445,-16.26404571533203,-4.185601711273193,6.918344020843506,6.9183669090271,11.240205764770508,-10.074357032775879,-10.074853897094727,5.279596328735352,5.279574394226074,-15.235663414001465,-14.947772979736328,1.9832054376602173,-9.409280776977539,3.674093723297119,-5.349572658538818,4.1560893058776855,-4.543706893920898,12.205354690551758,1.2971200942993164,1.2972335815429688,-10.652061462402344,-3.5783588886260986,1.0866385698318481,3.5302817821502686,-16.46623992919922,-14.671954154968262,-14.671944618225098,-11.467024803161621,-18.37716293334961,-18.377164840698242,-18.377161026000977,16.89703941345215,-2.4360663890838623,1.0225826501846313,14.618660926818848,16.378856658935547,-1.1929303407669067,8.135863304138184,2.379725217819214,-16.46611785888672,-16.466259002685547,-16.4660701751709,-1.7990363836288452,3.5322656631469727,3.534533977508545,3.5317625999450684,3.535723924636841,3.5317625999450684,3.536558151245117,-10.67347526550293,3.5319933891296387,1.544842004776001,-17.102333068847656,-0.7875059247016907,0.023115986958146095,2.253340244293213,9.159561157226562,13.314695358276367,13.313835144042969,8.701459884643555,8.325002670288086,-5.153797149658203,-4.820246696472168,-2.716789484024048,3.940744638442993,13.458694458007812,6.700117111206055,5.4779887199401855,-17.36138916015625,-17.36138916015625,-11.095107078552246,-16.18153953552246,-0.5853887796401978,-0.5853887796401978,-13.029319763183594,-9.194381713867188,-15.94835376739502,-12.882837295532227,-6.667007923126221,-1.7260602712631226,-1.7260602712631226,-1.7260602712631226,3.0417463779449463,3.0417778491973877,9.96383285522461,5.824494361877441,0.0941813662648201,14.908016204833984,4.734459400177002,7.234614849090576,3.8195667266845703,2.6525087356567383,-15.166275978088379,-2.0093963146209717,-9.331974029541016,-9.518446922302246,-1.7260602712631226,-1.7260189056396484,13.08655834197998,5.81413459777832,11.124539375305176,4.943923473358154,10.257091522216797,9.612937927246094,9.582252502441406,9.582252502441406,9.61887264251709,9.986470222473145,9.986470222473145,10.257091522216797,10.257091522216797,14.369993209838867,3.4998602867126465,-9.597253799438477,-13.973156929016113,8.086191177368164,8.0862398147583,9.818180084228516,10.353839874267578,9.81806755065918,9.582252502441406,5.294156551361084,5.294156551361084,-3.4692745208740234,-0.3635949194431305,10.870199203491211,-12.561763763427734,-16.680997848510742,-0.5039677619934082,-1.5811188220977783,4.921911716461182,4.9218316078186035,6.663791656494141,10.353839874267578,10.353839874267578,10.257091522216797,9.612937927246094,-7.316278457641602,13.512404441833496,0.34170666337013245,-3.8629074096679688,6.611710548400879,6.611710548400879,-9.621830940246582,-17.31048011779785,-10.065686225891113,-12.61478328704834,11.762993812561035,-8.766121864318848,-3.278883218765259,2.202446460723877,9.199725151062012,-13.597193717956543,12.99191951751709,-11.228791236877441,4.218521595001221,8.446267127990723,11.549391746520996,-13.087845802307129,-11.203728675842285,-4.820286750793457,-4.799017429351807,-4.799014091491699,-4.809219837188721,-5.149260997772217,-4.714639663696289,-4.820286750793457,4.218522548675537,-5.115279674530029,-13.011056900024414,12.783501625061035,-11.89734172821045,10.89323616027832,-11.734804153442383,10.306816101074219,-11.203728675842285,-4.812031269073486,-3.8629074096679688,9.464839935302734,9.794929504394531,-16.902801513671875,14.000852584838867,-15.533966064453125,-2.0149545669555664,10.029356002807617,-4.269518852233887,-4.37554407119751,4.858236789703369,13.131440162658691,0.2975481450557709,-13.773876190185547,-9.809922218322754,2.4002280235290527,-3.8629074096679688,-3.8629074096679688,7.9007086753845215,9.060187339782715,2.0748977661132812,3.8910114765167236,7.990621089935303,-16.18276023864746,5.790284633636475,-17.28617286682129,-8.452001571655273,-0.08636878430843353,6.028255462646484,9.794929504394531,12.220096588134766,8.59691333770752,-0.8078905344009399,7.450908184051514,-15.326955795288086,-10.814722061157227,2.164621591567993,8.485681533813477,13.626601219177246,9.566132545471191,8.214125633239746,-6.317718505859375,12.96047306060791,8.170905113220215,8.171096801757812,8.170905113220215,5.517952919006348,-1.2534393072128296,-1.7112350463867188,-1.2534393072128296,-1.2534393072128296,-1.2534393072128296,-1.2534393072128296,-1.2534393072128296,-1.2534393072128296,-1.2534393072128296,-1.2534393072128296,0.6269218325614929,-1.2534393072128296,0.626946747303009,6.201983451843262,-6.044332504272461,-6.044558048248291,-6.044311046600342,7.861558437347412,-12.391488075256348,-16.618919372558594,1.0509737730026245,1.0509737730026245,-2.102092981338501,-1.1006014347076416,-6.7284464836120605,10.1181640625,-1.2323198318481445,13.626895904541016,3.4703986644744873,-1.0202265977859497,-1.2534393072128296,1.5903018712997437,-4.136634349822998,4.559031963348389,-4.035806655883789,6.8146820068359375,6.814767837524414,-17.260839462280273,7.099720001220703,-3.890986919403076,-14.776433944702148,-16.487010955810547,15.319085121154785,16.853107452392578,-13.934351921081543,-16.663301467895508,2.8096227645874023,2.9373269081115723,12.71369457244873,12.714249610900879,-16.39943504333496,-7.849116325378418,-4.136634349822998,-4.136634349822998,-14.845259666442871,-14.922042846679688,-15.30187702178955,-15.307426452636719,-14.83354663848877,-8.358134269714355,-14.838566780090332,-15.308890342712402,-14.88398265838623,-15.30533504486084,-15.30533504486084,-15.30533504486084,-15.30533504486084,-7.8490471839904785,-15.312654495239258,-8.220263481140137,-9.344688415527344,-8.924307823181152,-11.89847469329834,14.054363250732422,7.246815204620361,13.646717071533203,13.646717071533203,0.8781194090843201,-12.165260314941406,-12.165260314941406,-12.165268898010254,5.592972755432129,5.592945098876953,5.592972755432129,12.577229499816895,12.577229499816895,12.577229499816895,-11.89848518371582,8.5588960647583,8.5588960647583,8.339370727539062,-1.6655964851379395,0.5099332928657532,0.5099332928657532,0.5099332928657532,0.509955883026123,-8.411293983459473,-5.715066909790039,10.46749210357666,4.3795599937438965,-10.396422386169434,13.140070915222168,-16.374290466308594,8.028218269348145,15.497453689575195,11.858489036560059,11.858494758605957,-8.990378379821777,8.116582870483398,-9.46849536895752,-9.910012245178223,-0.4808354377746582,-0.48089104890823364,-0.48080968856811523,-0.021819673478603363,7.333427906036377,-9.364351272583008,-9.581998825073242,-8.901269912719727,-8.50217342376709,-9.602931022644043,-8.755780220031738,-8.820752143859863,-9.097233772277832,-8.396167755126953,-8.11109733581543,-0.4808107018470764,-0.48087942600250244,-0.4808070659637451,-0.480794757604599,-9.910012245178223,13.319381713867188,-5.870676040649414,4.466765880584717,-2.8462634086608887,13.153207778930664,6.028018951416016,-9.910012245178223,6.569448471069336,10.312049865722656,-5.896576881408691,-11.723134994506836,-9.139569282531738,-9.76625919342041,-0.4809025526046753,-0.48089104890823364,-16.193992614746094,-12.228320121765137,-12.227958679199219,-12.228326797485352,-1.1502101421356201,-1.0021803379058838,13.470590591430664,13.804022789001465,-7.157260894775391,-7.156662940979004,-7.156662940979004,-15.360410690307617,-15.706335067749023,-12.570037841796875,12.162375450134277,9.181036949157715,11.292695045471191,-12.422891616821289,-15.878117561340332,-6.021006107330322,-6.021006107330322,-12.10141372680664,-13.281906127929688,-4.925412178039551,10.01037311553955,-6.690832138061523,-12.400850296020508,11.779420852661133,1.5039870738983154,-10.310243606567383,-7.785338878631592,-16.827775955200195,0.746732234954834,-16.731685638427734,11.499499320983887,11.494717597961426,5.637158393859863,-6.322683334350586,-7.610212326049805,-4.661594390869141,-17.47575569152832,-7.785338878631592,2.046801805496216,-2.607576847076416,13.95596694946289,-15.730046272277832,4.739081859588623,-15.723095893859863,-16.02743148803711,13.517208099365234,-6.2755279541015625,14.175663948059082,9.518460273742676,4.140033721923828,-13.456772804260254,-15.002816200256348,15.49862289428711,3.7877957820892334,-2.607576847076416,3.5159566402435303,4.98708438873291,13.749277114868164,3.0022947788238525,12.40489673614502,-16.472108840942383,1.1445063352584839,-2.0149085521698,-0.8323786854743958,-15.506444931030273,3.735311508178711,-7.3303141593933105,-2.2127392292022705,1.6278609037399292,-9.713030815124512,-11.635592460632324,-1.4518053531646729,-6.537815570831299,-10.354240417480469,6.03308629989624,8.214125633239746,7.8289971351623535,5.235694408416748,-9.640060424804688,-9.766480445861816,-9.196842193603516,9.507279396057129,9.507281303405762,-3.6999545097351074,-3.6999545097351074,-3.69962739944458,-3.69962739944458,-9.760239601135254,8.586344718933105,-13.708208084106445,-13.708176612854004,-13.708205223083496,-12.747632026672363,-9.878233909606934,-9.642292976379395,-9.858895301818848,-9.858895301818848,-12.228334426879883,-14.161995887756348,-17.25373077392578,0.08943763375282288,7.498417854309082,1.9919992685317993,5.3369550704956055,-12.747632026672363,5.3369550704956055,7.152263641357422,-0.16825704276561737,9.884627342224121,-9.859376907348633,-9.87786865234375,-9.642292976379395,-9.640060424804688,5.336135387420654,5.235694408416748,3.5721917152404785,4.312003135681152,1.2629832029342651,1.26329505443573,1.261629581451416,5.470565319061279,15.161971092224121,14.523942947387695,4.465519905090332,-10.505413055419922,-10.505308151245117,-10.505317687988281,11.407352447509766,13.738622665405273,10.502028465270996,5.235694408416748,5.235694408416748,-12.446857452392578,-12.446857452392578,5.827520847320557,2.1925578117370605,4.311680793762207,13.323663711547852,13.015583038330078,13.983488082885742,-3.961981773376465,-3.9677560329437256,-3.9677560329437256,-10.129323959350586,-3.961981773376465,5.300708770751953,5.300665855407715,5.300755977630615,-2.158757209777832,-13.322426795959473,3.1266143321990967,-16.7547607421875,-1.5320743322372437,13.078067779541016,-11.282679557800293,2.709024429321289,13.849838256835938,9.280739784240723,9.083763122558594,8.788232803344727,8.924467086791992,9.280749320983887,4.909280776977539,9.092164039611816,8.69155216217041,8.839373588562012,8.692684173583984,8.687812805175781,9.333053588867188,8.422630310058594,9.282195091247559,4.909226894378662,4.12820291519165,2.887970209121704,-9.425956726074219,-9.425993919372559,-7.481660842895508,-7.48166036605835,-7.48166036605835,-7.48166036605835,0.9445124268531799,0.9442036747932434,0.9445124268531799,0.9444847106933594,0.9441920518875122,0.9445124268531799,0.9445124268531799,0.9442036747932434,4.73808479309082,-9.480010032653809,-1.910922646522522,-1.9113988876342773,10.845688819885254,-10.088936805725098,-10.10994815826416,-10.114568710327148,-10.109962463378906,-9.577713966369629,-9.577713966369629,6.880715847015381,-3.896995782852173,-3.897005796432495,-10.727299690246582,-17.40472984313965,3.022191047668457,3.022190809249878,-11.675324440002441,5.533452987670898,-10.088881492614746,6.703455448150635,8.58254623413086,8.582999229431152,10.845701217651367,1.8607717752456665,-10.780838966369629,8.9982271194458,-8.341370582580566,-15.51486587524414,-15.51486587524414,4.015242099761963,-1.2702858448028564,15.292777061462402,8.9982271194458,8.9982271194458,8.9982271194458,8.9982271194458,-4.218626976013184,8.582998275756836,6.703455448150635,13.102215766906738,-7.253053188323975,6.217096328735352,13.122426986694336,-17.536956787109375,-1.4837212562561035,-3.5629823207855225,11.884669303894043,-17.152606964111328,-17.152606964111328,-17.152606964111328,9.416569709777832,9.940814971923828,-9.841644287109375,2.5110538005828857,-10.94101333618164,6.683568000793457,-7.779366970062256,8.471190452575684,-7.779366493225098,10.459884643554688,14.208070755004883,14.208154678344727,14.20816707611084,7.976601600646973,-7.8005523681640625,-7.800601005554199,14.49482536315918,-8.822396278381348,-9.491646766662598,8.667338371276855,8.667338371276855,8.667340278625488,8.857514381408691,8.857514381408691,13.248708724975586,-3.021272659301758,-3.2260215282440186,1.8678951263427734,5.1609954833984375,-3.244133234024048,-3.2947893142700195,-2.9188320636749268,-2.9188320636749268,5.038105010986328,5.038105010986328,5.419774532318115,-0.7811399698257446,-0.7811399698257446,11.375194549560547,11.375194549560547,-16.992273330688477,-17.1280460357666,4.244716167449951,4.244716167449951,-3.244133234024048,-15.930547714233398,-3.2947592735290527,-3.1206002235412598,3.893855571746826,6.64715576171875,-9.666977882385254,4.818564414978027,0.6684442162513733,9.073063850402832,9.07307243347168,-16.603466033935547,-10.094574928283691,10.513471603393555,10.513469696044922,-2.9188320636749268,-2.9188320636749268,-2.9188320636749268,-3.1206002235412598,-3.1206002235412598,-1.987384557723999,-5.118704319000244,11.685999870300293,-1.1248161792755127,-2.2151153087615967,6.76267147064209,13.315410614013672,7.207611083984375,2.8198812007904053,8.354220390319824,-0.7119067311286926,-13.113779067993164,-1.1779903173446655,7.464192867279053,11.504072189331055,11.504129409790039,11.503545761108398,-0.7119067311286926,-9.995929718017578,9.38835334777832,11.765107154846191,12.192329406738281,-15.681336402893066,5.352445125579834,5.54764986038208,6.986679553985596,12.998536109924316,3.503030776977539,13.847840309143066,-2.382401466369629,1.004938006401062,11.601037979125977,-13.408270835876465,-3.977060556411743,14.078571319580078,14.350687980651855,11.503591537475586,11.503545761108398,11.503544807434082,12.266955375671387,5.326569557189941,-10.113770484924316,-5.059835910797119,-5.561595439910889,4.802328586578369,7.647165298461914,5.081366539001465,5.314285755157471,8.715982437133789,6.104816436767578,6.104946613311768,6.104928493499756,6.104931831359863,-4.314751625061035,-3.878476619720459,-3.684377431869507,10.848164558410645,0.8278070092201233,-9.749298095703125,12.266952514648438,-14.977747917175293,-14.977747917175293,-14.977747917175293,-17.151905059814453,14.08635139465332,0.9182218313217163,-5.126014709472656,-7.6543145179748535,-7.654314041137695,-7.6543145179748535,-7.6543145179748535,-7.6542510986328125,-9.749299049377441,-9.749299049377441,-9.749298095703125,13.249152183532715,-10.554793357849121,-11.461925506591797,10.666387557983398,10.666387557983398,5.112208366394043,5.112208366394043,5.112158298492432,5.112158298492432,5.112208366394043,-2.697882890701294,-5.1355438232421875,-4.397918224334717,-4.397918224334717,-4.397918224334717,-4.397918224334717,1.7750719785690308,-6.4383225440979,10.666422843933105,5.286467552185059,10.666411399841309,10.666387557983398,11.68615436553955,11.686012268066406,11.686077117919922,11.686079025268555,11.685965538024902,-9.213265419006348,12.884828567504883,12.884828567504883,9.477059364318848,-15.942456245422363,-4.284992694854736,9.807012557983398,7.989038944244385,9.211151123046875,1.3806664943695068,10.666376113891602,11.685967445373535,5.822944641113281,5.822944641113281,0.15596358478069305,14.314291954040527,0.34870877861976624,-0.20995958149433136,9.684534072875977,7.665370941162109,-12.148140907287598,-11.016153335571289,9.264752388000488,8.584433555603027,10.292252540588379,6.18706750869751,0.8836692571640015,-11.46192455291748,-11.461925506591797,-9.57297134399414,5.822944641113281,-15.687140464782715,14.040396690368652,5.759946346282959,5.759946346282959,5.759946346282959,5.759946346282959,5.822944641113281,5.822944641113281,-4.208313465118408,-15.132244110107422,-6.185394763946533,-6.185315132141113,13.479355812072754,12.403847694396973,6.334507465362549,-14.47123908996582,2.6491363048553467,14.061681747436523,-1.987384557723999,-9.59111499786377,6.9472222328186035,-9.259004592895508,9.780263900756836,5.352376461029053,7.242941379547119,2.631922721862793,3.7519803047180176,0.4663897156715393,0.9016058444976807,0.4663897156715393,0.623365581035614,0.623365581035614,9.797736167907715,1.2632274627685547,1.2632274627685547,13.558252334594727,5.121654510498047,-16.01906394958496,4.884905815124512,4.884937286376953,4.885025978088379,4.8850250244140625,4.8850250244140625,0.4663897156715393,0.901965320110321,0.623365581035614,13.092073440551758,5.39090633392334,9.929464340209961,-10.071137428283691,5.14240837097168,-9.46363353729248,-9.46363353729248,8.71137809753418,10.516079902648926,8.767226219177246,9.904655456542969,9.90359878540039,9.67186164855957,9.671622276306152,3.2430577278137207,1.3287127017974854,0.623365581035614,-10.682239532470703,-2.093289375305176,-4.854206085205078,10.590367317199707,10.590507507324219,14.130325317382812,-6.732117176055908,9.640830993652344,9.64133358001709,0.901681661605835,0.623365581035614,0.5288700461387634,0.5288699865341187,-10.682235717773438,0.054476793855428696,5.300384998321533,4.8850250244140625,-12.084503173828125,-8.286398887634277,-10.456342697143555,10.324419021606445,-10.456342697143555,1.8152052164077759,-9.996498107910156,13.682568550109863,13.682510375976562,7.388057231903076,-1.709701418876648,-15.518202781677246,-15.518159866333008,-17.107105255126953,0.2495795041322708,8.508641242980957,-13.877248764038086,-15.285317420959473,-16.661169052124023,-2.919302463531494,-2.919302463531494,10.203537940979004,11.310158729553223,2.997058629989624,2.9970622062683105,-12.084718704223633,-12.414093017578125,-8.449695587158203,-8.431014060974121,6.9472222328186035,6.94521427154541,6.9472222328186035,-13.213964462280273,-0.3505414128303528,8.640501976013184,8.640501976013184,5.9410929679870605,4.885029315948486,5.940921783447266,-2.1704328060150146,-9.35365104675293,-1.8034067153930664,10.959381103515625,10.959371566772461,10.95944595336914,9.527327537536621,10.681305885314941,10.37853717803955,-1.8196790218353271,-2.427809000015259,3.9619040489196777,-9.642529487609863,2.8417859077453613,-3.515373945236206,1.5919111967086792,10.959367752075195,8.896639823913574,-12.772013664245605,3.2470664978027344,3.0709950923919678,-9.911136627197266,-9.911170959472656,-9.911194801330566,12.397602081298828,12.397602081298828,7.293405532836914,13.208708763122559,12.397602081298828,12.397602081298828,12.397602081298828,12.397602081298828,12.397602081298828,12.397602081298828,12.397602081298828,12.397602081298828,-6.832638263702393,-5.152740478515625,-5.15285062789917,-16.600391387939453,-3.036334991455078,6.745980262756348,-16.625057220458984,-3.2685914039611816,-15.812344551086426,-16.734983444213867,-16.728652954101562,2.644148111343384,-9.911160469055176,-9.979364395141602,8.035215377807617,-10.024795532226562,5.49049186706543,-10.191925048828125,-1.7117137908935547,3.0240581035614014,3.0240581035614014,-1.2545275688171387,-4.103604793548584,6.9210896492004395,-9.122306823730469,-5.768001556396484,-16.514850616455078,-16.513675689697266,-16.728652954101562,-16.514842987060547,-18.715524673461914,8.680212020874023,-17.11634063720703,-17.11634063720703,0.22344106435775757,0.22342059016227722,9.398248672485352,14.595932006835938,4.9773359298706055,4.9773359298706055,-1.8007677793502808,13.414716720581055,-3.547994613647461,-16.514842987060547,5.635408401489258,12.397602081298828,2.4485983848571777,13.477869033813477,-6.706641674041748,-6.706447601318359,-3.707214832305908,-14.947674751281738,-17.07245445251465,-17.07245445251465,13.870413780212402,-5.426478385925293,-5.426478385925293,-5.149350643157959,8.870575904846191,-15.694936752319336,-15.10523509979248,-9.241865158081055,-3.815654754638672,-8.041150093078613,3.317438840866089,3.575849771499634,1.8039151430130005,-10.026067733764648,-3.5315191745758057,-2.0377721786499023,3.1277027130126953,1.1749011278152466,1.1749018430709839,-0.9945303201675415,-17.107654571533203,1.174904227256775,8.411650657653809],\"y\":[12.057146072387695,11.912627220153809,12.112204551696777,12.15837287902832,11.870914459228516,11.83231258392334,-7.618284225463867,9.273730278015137,-0.9450944066047668,-2.353512763977051,11.996903419494629,-7.618282794952393,-4.324304103851318,11.847650527954102,7.05318021774292,4.565170764923096,-9.607802391052246,-7.064470291137695,12.129672050476074,11.986679077148438,-3.235276460647583,-2.2242188453674316,14.405198097229004,7.05318021774292,14.405198097229004,10.828446388244629,10.828446388244629,-8.177186965942383,-11.191627502441406,7.82662296295166,11.931719779968262,7.493633270263672,1.9321410655975342,-6.500019550323486,-6.119564056396484,1.2997584342956543,1.2997584342956543,11.11267375946045,11.112690925598145,11.11267375946045,11.11267375946045,1.2997584342956543,-13.344191551208496,9.298198699951172,-5.211399078369141,10.265172958374023,-3.457820415496826,3.0342466831207275,-3.822178602218628,8.648355484008789,7.6681365966796875,1.2997584342956543,1.2997584342956543,6.043217182159424,8.681031227111816,10.092470169067383,8.096370697021484,4.919467449188232,2.764601707458496,7.05318021774292,1.291332721710205,-4.962032318115234,-7.665584564208984,11.174304962158203,-0.1690017133951187,-0.16877272725105286,-0.16877654194831848,-4.962032318115234,-4.312605381011963,-7.585013389587402,7.066897392272949,9.41012954711914,3.828108310699463,5.6954731941223145,0.11879197508096695,0.1187618151307106,19.45569610595703,9.928258895874023,0.16850587725639343,1.8945821523666382,4.921873092651367,-1.5503120422363281,-10.856184959411621,-3.159329414367676,-3.3916609287261963,0.3804565370082855,-3.198176145553589,8.828800201416016,10.63461685180664,7.819361686706543,6.868390083312988,11.626521110534668,6.078548908233643,6.078548908233643,-3.6273598670959473,8.809608459472656,-13.405077934265137,4.50454568862915,4.50454568862915,11.91645622253418,-12.316646575927734,-12.300333976745605,-13.405077934265137,3.129739761352539,-7.400492191314697,-7.400492191314697,-13.43723201751709,4.037850856781006,7.750913619995117,-9.00499153137207,-9.11267375946045,0.8685749769210815,-5.971070766448975,-5.971046447753906,-4.2773027420043945,10.055048942565918,-8.745013236999512,-5.543481349945068,6.363966941833496,-0.14883339405059814,2.8618571758270264,7.028475284576416,-0.053250864148139954,5.829670429229736,-9.428563117980957,-14.361533164978027,-11.861194610595703,-11.552921295166016,-3.5520429611206055,-7.400492191314697,-10.017398834228516,-10.622857093811035,-11.796046257019043,-10.031071662902832,0.6833471655845642,11.354700088500977,-5.924401760101318,2.4408962726593018,-1.810760498046875,-5.777549743652344,-10.62066650390625,12.027908325195312,12.027908325195312,12.027769088745117,8.204523086547852,-2.472362756729126,-8.894790649414062,11.20500373840332,2.9684486389160156,1.5601675510406494,-5.865041255950928,6.7702412605285645,6.770243167877197,6.770243167877197,-7.939080715179443,-7.939210891723633,3.200578451156616,-13.422542572021484,0.6738951206207275,-1.806560754776001,-4.143716812133789,1.7349324226379395,-2.342125177383423,-2.342184543609619,-4.948315143585205,2.04504656791687,-13.299161911010742,-13.59742259979248,-8.696736335754395,-3.2843127250671387,0.9652783870697021,-9.201499938964844,6.319582939147949,6.2300238609313965,4.166689395904541,11.364346504211426,-5.0372772216796875,-9.388916969299316,0.8214896321296692,0.8213974237442017,5.0914411544799805,-5.308392524719238,2.4068048000335693,-2.022219657897949,-7.613537311553955,-10.153763771057129,-2.8043813705444336,-5.6813883781433105,0.2927536368370056,0.292788565158844,0.292788565158844,0.29279059171676636,0.29279473423957825,11.364346504211426,13.916419982910156,13.916230201721191,-4.789648056030273,-8.328350067138672,-8.328371047973633,-4.653930187225342,13.759490013122559,-2.517528533935547,-2.517528533935547,0.2927773892879486,0.2942141890525818,0.2927381694316864,0.2942120432853699,-4.796359062194824,6.2300238609313965,-0.1488834172487259,5.689033508300781,-5.275311470031738,0.5337604880332947,-5.765079498291016,0.5954743027687073,4.457302570343018,7.010900497436523,-2.668750524520874,-3.4021201133728027,2.3936033248901367,2.3936033248901367,2.4449760913848877,-5.857876777648926,1.845625638961792,0.4116145372390747,7.483811378479004,7.483811378479004,7.483809471130371,11.321561813354492,-0.6889885663986206,-0.6889773011207581,-0.6889773011207581,-2.751811981201172,-4.853237152099609,-5.275311470031738,-11.042004585266113,3.345609426498413,-2.1118688583374023,10.154154777526855,4.154824256896973,-1.02017343044281,-0.7840360999107361,-0.784088134765625,1.504346251487732,-0.20915691554546356,-0.20900319516658783,1.6209917068481445,3.380453109741211,3.380453109741211,-4.760932922363281,-1.5230728387832642,-5.7243971824646,1.621000051498413,6.960517406463623,-3.847661018371582,-9.418028831481934,0.7148023843765259,10.60010051727295,2.220952033996582,6.89815092086792,-10.619105339050293,-1.810760498046875,19.849132537841797,3.8435018062591553,-4.310647964477539,11.7471342086792,-3.6525230407714844,4.254055976867676,2.0452451705932617,-4.655550003051758,7.116927623748779,-7.163837909698486,-0.9393832683563232,-0.9393831491470337,3.797071695327759,3.7970774173736572,3.79705810546875,-2.212265729904175,6.198576927185059,9.114638328552246,-5.841806411743164,21.44002914428711,12.500612258911133,-0.27837786078453064,9.730328559875488,0.17981088161468506,-6.861782073974609,-12.216814041137695,5.489556312561035,-12.138886451721191,9.550965309143066,-9.73947811126709,-6.979804992675781,-10.715387344360352,-5.676116466522217,-6.1912102699279785,-2.9494545459747314,13.674836158752441,14.052891731262207,5.827481269836426,-10.595099449157715,-10.595087051391602,-0.4156137704849243,-0.4156137704849243,-7.0155558586120605,11.152504920959473,-0.9767899513244629,1.816601276397705,1.816601276397705,0.5746686458587646,0.5746742486953735,-1.627402663230896,-5.845829963684082,-0.2962303161621094,-3.8515284061431885,17.18402099609375,-1.4626049995422363,13.286968231201172,12.15385913848877,-0.13275344669818878,-0.13297592103481293,-11.14163589477539,-11.141629219055176,-11.141629219055176,5.9380011558532715,-3.314382791519165,-6.356456756591797,0.6060177087783813,2.7280657291412354,7.43953275680542,-11.919221878051758,-11.919212341308594,-12.716458320617676,-12.716458320617676,-1.4626315832138062,11.30286693572998,16.864274978637695,9.822441101074219,9.822442054748535,9.822441101074219,-1.4626458883285522,9.822379112243652,-5.647656440734863,-8.913640975952148,-8.914019584655762,-8.913321495056152,-1.8599730730056763,-13.106302261352539,9.828312873840332,12.153858184814453,-0.33717080950737,-4.656302452087402,-3.69258975982666,10.311837196350098,10.311837196350098,14.35207462310791,-12.239274978637695,-11.767804145812988,-11.767802238464355,-12.239426612854004,-6.66735315322876,-6.659687042236328,4.892554759979248,4.892554759979248,-1.1992456912994385,-2.6308791637420654,15.092862129211426,0.07942193001508713,16.079078674316406,-4.019942760467529,-4.019942760467529,8.376978874206543,-2.9539222717285156,-12.924599647521973,-12.924625396728516,-10.960583686828613,-3.5664377212524414,5.021059513092041,12.866318702697754,12.866318702697754,7.47292947769165,-2.147707939147949,-1.9476321935653687,-11.275169372558594,-0.1803973913192749,-1.8573423624038696,-5.689302444458008,-7.111114501953125,-12.484310150146484,-14.223687171936035,9.93392562866211,5.6607208251953125,-7.650357723236084,4.38816499710083,-12.539021492004395,-9.502342224121094,0.3735991418361664,12.988570213317871,12.9885892868042,8.20380687713623,-3.688197135925293,-5.846926689147949,0.30184975266456604,-8.702781677246094,0.7674936652183533,0.7674936652183533,0.7674936652183533,0.7674936652183533,0.7674936652183533,0.7674936652183533,-4.641716957092285,0.7674936652183533,0.7674936652183533,0.7674936652183533,0.7674936652183533,5.055694580078125,11.949142456054688,-0.42887556552886963,0.7674936652183533,12.153858184814453,12.153871536254883,13.25306510925293,-13.803122520446777,-5.346253395080566,-10.11105728149414,0.4881564676761627,10.384966850280762,10.384964942932129,10.384588241577148,10.384964942932129,10.384899139404297,10.384520530700684,-2.066441774368286,-2.751493215560913,10.409168243408203,10.40917682647705,-2.1154909133911133,-2.8161585330963135,13.58006763458252,-5.767879486083984,-10.644481658935547,-5.778225421905518,-3.531864881515503,9.351531028747559,6.566696643829346,-13.803119659423828,13.150735855102539,-2.636866569519043,-1.3628185987472534,6.22273063659668,0.20103777945041656,-2.2917332649230957,-3.421250820159912,-4.416867733001709,-5.325602054595947,-13.80312442779541,-2.303845167160034,0.5132530331611633,6.087803363800049,-9.107898712158203,-9.107898712158203,6.02981424331665,6.02981424331665,3.2311134338378906,3.2311835289001465,-1.1874253749847412,0.6460421085357666,0.3572137951850891,-1.1443623304367065,-4.227499961853027,-6.217617034912109,-10.105798721313477,17.794641494750977,-8.092084884643555,-2.303845167160034,-6.653576374053955,-6.653861999511719,-6.653861999511719,-6.653576374053955,-6.653547763824463,-13.803125381469727,-6.653576374053955,-2.077465534210205,-2.077465534210205,7.2312703132629395,-8.29511547088623,-2.060143232345581,-2.6032116413116455,-6.653576374053955,5.366056442260742,6.362957954406738,6.362956523895264,-7.41320276260376,9.957538604736328,9.957448959350586,7.404599666595459,7.404599666595459,-13.297529220581055,-2.75156307220459,-2.75156307220459,-9.455035209655762,-1.3502932786941528,-1.0426772832870483,-10.034197807312012,-10.034175872802734,-1.2862368822097778,4.8955206871032715,-12.85570240020752,3.6391422748565674,13.141447067260742,13.141447067260742,13.286968231201172,13.141447067260742,17.44352912902832,17.44352912902832,-4.157081127166748,-13.065618515014648,-2.1196939945220947,-5.22938871383667,-5.22938871383667,-1.4628000259399414,-12.506843566894531,6.994290828704834,-2.1196939945220947,1.9873840808868408,-5.235637187957764,-5.235729217529297,5.057395935058594,5.190091133117676,-11.812992095947266,-11.812992095947266,-9.059224128723145,7.083611011505127,5.273166179656982,-6.266760349273682,-10.488798141479492,-10.783672332763672,-0.2833525538444519,-0.013214057311415672,-5.785457134246826,-2.0800907611846924,-2.0224146842956543,21.44002914428711,4.9581193923950195,5.201483726501465,-7.353600978851318,-0.8543832302093506,-10.284080505371094,-10.284080505371094,-2.134681463241577,-2.8256733417510986,5.043302536010742,-2.8256733417510986,4.942695617675781,5.135278701782227,4.934852123260498,5.013393878936768,5.347997188568115,5.30360746383667,-2.6049230098724365,-0.4703892767429352,-5.027390480041504,10.075623512268066,-3.5218770503997803,-0.10160627216100693,3.0024712085723877,-7.315138816833496,10.790245056152344,-9.174715042114258,12.54277229309082,7.897033214569092,0.2161838561296463,3.8011105060577393,0.7217038869857788,-1.3278498649597168,-1.3278504610061646,-7.763403415679932,0.21623840928077698,-8.253084182739258,-0.7848570346832275,-0.7848567962646484,13.160032272338867,-13.013809204101562,-1.5968928337097168,17.030101776123047,-8.505383491516113,-7.093101501464844,-8.116544723510742,-8.117591857910156,-8.116618156433105,-5.534411430358887,3.7824602127075195,-1.3563326597213745,-1.3563326597213745,-4.977710723876953,-0.7848567962646484,-7.113757133483887,-7.411950588226318,-6.883707523345947,-7.410378456115723,11.248892784118652,-5.334759712219238,-1.106809377670288,-1.5753350257873535,11.703238487243652,-3.6652328968048096,-9.29201889038086,-5.012302875518799,7.256757736206055,-0.2542031705379486,-0.2542031705379486,-0.2541906237602234,-2.324427843093872,5.901745319366455,8.460929870605469,16.502458572387695,11.957259178161621,16.61932373046875,16.502458572387695,-5.69561767578125,-5.695631504058838,16.502458572387695,16.373580932617188,16.502458572387695,16.029237747192383,16.373580932617188,16.373580932617188,16.502458572387695,16.502458572387695,15.77621841430664,16.502458572387695,16.502458572387695,16.502458572387695,16.373580932617188,16.502458572387695,3.752732276916504,11.95726490020752,-3.4006128311157227,-0.46716323494911194,-4.410922050476074,-4.410924911499023,1.740314245223999,-0.4757382273674011,-0.5202044248580933,3.4318926334381104,-12.185807228088379,3.814857244491577,3.814857244491577,3.814857244491577,0.45123568177223206,1.8396892547607422,1.8396892547607422,3.814857244491577,-5.864416599273682,-5.864416599273682,-3.2540042400360107,-3.84256911277771,-1.6813925504684448,-12.78357219696045,-4.371775150299072,3.663106679916382,3.6631617546081543,3.6631104946136475,4.8063130378723145,4.8062591552734375,12.02288818359375,12.02288818359375,-2.0582590103149414,-2.0582377910614014,-2.0582587718963623,14.048227310180664,-10.328376770019531,-10.328376770019531,-10.328375816345215,-1.738635540008545,1.0071910619735718,-7.6744537353515625,-6.073808670043945,2.9726271629333496,-11.289871215820312,11.863107681274414,-5.376349449157715,4.203125953674316,4.570339202880859,4.312824726104736,4.709291934967041,4.248073101043701,4.153270721435547,4.719332695007324,17.935266494750977,1.0071910619735718,8.840577125549316,1.4975237846374512,-9.106425285339355,6.28680419921875,-2.1422693729400635,17.153017044067383,7.306463718414307,0.19402725994586945,-5.647439479827881,0.04770961403846741,0.047709621489048004,0.047709621489048004,-11.75533676147461,-12.035333633422852,-0.46403220295906067,-13.250327110290527,0.2579565942287445,7.59947395324707,-7.556210994720459,-9.257923126220703,-9.257923126220703,-7.595560550689697,-11.927902221679688,-8.739720344543457,-7.956573963165283,-11.396891593933105,18.430002212524414,-5.03662109375,-5.702056884765625,-13.531105041503906,5.548234462738037,-7.573574066162109,-7.573577880859375,8.673394203186035,-1.5071760416030884,-5.4058427810668945,0.26592037081718445,3.5580523014068604,9.440346717834473,-6.668127536773682,3.991856813430786,-0.20453080534934998,-0.20453080534934998,-0.2045394331216812,8.74388313293457,0.4299664795398712,-5.564986705780029,-13.611652374267578,-13.611652374267578,17.122581481933594,-10.99845027923584,-9.266518592834473,5.160135269165039,13.038086891174316,-6.66812801361084,4.141326427459717,-13.171063423156738,-0.766377866268158,-5.804046630859375,-4.658041477203369,-5.089578151702881,-5.089573860168457,-0.22237606346607208,-8.073756217956543,0.20760920643806458,13.309247016906738,1.8306986093521118,-2.4805727005004883,12.834232330322266,0.6921213269233704,8.062275886535645,4.529021739959717,3.226675271987915,10.427970886230469,7.500331401824951,-13.136275291442871,5.855527877807617,2.540526866912842,1.9640798568725586,-3.64127254486084,-8.892313957214355,-1.7052432298660278,6.738406181335449,15.733609199523926,4.24188232421875,-10.868119239807129,-10.86808967590332,3.623882293701172,5.229056358337402,-7.615735054016113,-7.615735054016113,6.410192012786865,9.76939868927002,-1.263861894607544,-13.136275291442871,-1.5567866563796997,-9.318177223205566,-7.565166473388672,-12.062262535095215,7.142751216888428,3.958993673324585,4.864896297454834,-14.026203155517578,5.330084323883057,-7.94584846496582,1.6232109069824219,1.6231627464294434,-4.3240814208984375,-4.3240814208984375,-12.744857788085938,-9.334403038024902,-11.850349426269531,-1.338090181350708,-5.468575477600098,-0.5973907113075256,-13.388254165649414,-0.32665762305259705,7.256990909576416,4.605807781219482,17.69430923461914,17.69430923461914,-6.6715922355651855,-8.405396461486816,-6.829261779785156,1.559957504272461,1.5599582195281982,1.5599581003189087,-2.3096487522125244,-5.6089372634887695,3.761279821395874,6.914976119995117,14.830181121826172,-3.9090065956115723,5.694429397583008,-8.726409912109375,19.522340774536133,-10.941839218139648,-5.029930591583252,-7.101296901702881,-0.17231546342372894,16.71016502380371,-6.617207050323486,-3.1011953353881836,-3.012205123901367,12.40591049194336,1.4512156248092651,1.6605738401412964,-3.1235320568084717,4.659666061401367,0.38910973072052,-1.7217726707458496,2.0844929218292236,-5.963309288024902,-5.964272499084473,-8.726409912109375,-5.816112518310547,-13.339987754821777,-13.339987754821777,6.9378204345703125,-5.311758041381836,-5.311751365661621,7.43004035949707,6.657844543457031,-7.246558666229248,-10.052632331848145,0.942560076713562,-4.871610164642334,-5.9633564949035645,-5.96346378326416,-5.963309288024902,0.6003292202949524,-4.211272716522217,0.7584289908409119,10.771105766296387,-0.521613597869873,-7.69291877746582,-0.1166381761431694,-0.11677351593971252,1.1093034744262695,-1.4087722301483154,-1.3177577257156372,6.572360515594482,7.416324615478516,7.293259143829346,7.416324615478516,7.293259143829346,7.293259143829346,-1.3177589178085327,-1.4087722301483154,-1.4087722301483154,-1.5991590023040771,2.733093500137329,-1.6172751188278198,-1.6172606945037842,-1.6172751188278198,5.496417045593262,-8.59982967376709,1.487757921218872,-10.029911994934082,-2.0365025997161865,-0.017708731815218925,6.205585956573486,-2.123023748397827,0.27648064494132996,1.9128267765045166,-13.090242385864258,7.416324615478516,7.416324615478516,7.416324615478516,7.416324615478516,18.359678268432617,18.35968017578125,18.359682083129883,-4.177818775177002,-4.251408576965332,-8.233049392700195,-8.233331680297852,-9.064053535461426,-9.336893081665039,17.33881950378418,-10.310072898864746,-10.310356140136719,-9.117474555969238,6.132894515991211,-2.60215163230896,14.380720138549805,-8.750333786010742,14.380721092224121,-7.427310466766357,7.416324615478516,3.8754258155822754,-13.131494522094727,2.831234931945801,-11.630675315856934,2.0437564849853516,0.7207801342010498,-7.260542392730713,9.019281387329102,9.019182205200195,9.019182205200195,9.019182205200195,9.019182205200195,7.355196952819824,-9.002558708190918,-11.99732494354248,-8.759504318237305,-8.436311721801758,-1.1457463502883911,-0.2956749498844147,-0.2956749200820923,1.6212557554244995,1.6211528778076172,1.6211528778076172,1.6211528778076172,6.454688549041748,1.0663472414016724,2.996274709701538,-3.0354626178741455,5.7238993644714355,-3.1072850227355957,0.7257137298583984,-6.564467430114746,-1.3678957223892212,4.327663898468018,-1.3678957223892212,-8.646296501159668,0.7760685682296753,10.075624465942383,10.075623512268066,9.345945358276367,-12.070090293884277,-3.599308729171753,0.47399112582206726,0.26662325859069824,-3.5516490936279297,-3.5516490936279297,-5.499407768249512,-5.74777364730835,-8.848777770996094,2.61258864402771,0.7760869264602661,0.7760685682296753,-8.646378517150879,-11.492205619812012,-1.3678957223892212,5.88292121887207,-3.775973320007324,9.392546653747559,-4.760887145996094,0.2295832335948944,-9.747543334960938,0.2295832335948944,0.2295832335948944,0.22945602238178253,0.42897287011146545,4.130184173583984,4.130184173583984,4.130520343780518,4.130520343780518,4.130139350891113,-11.52414608001709,-1.3748778104782104,-8.859302520751953,-1.374963402748108,-1.3748778104782104,2.428227663040161,-9.543002128601074,-6.779682636260986,-2.095409393310547,-8.635664939880371,11.898772239685059,11.94921588897705,11.94921588897705,-4.745391845703125,6.837621688842773,-8.006560325622559,-6.805855751037598,3.7206811904907227,-3.391852378845215,-1.374963402748108,-1.3748784065246582,10.075623512268066,-4.125614166259766,6.597920894622803,-2.417388677597046,-6.536747932434082,-5.975820064544678,4.299190044403076,3.9223685264587402,5.090620517730713,-8.686095237731934,-3.690291404724121,-8.416816711425781,-5.517140865325928,-5.517142295837402,-9.983743667602539,-9.982110023498535,-9.280284881591797,-3.690293550491333,2.2080764770507812,2.2080764770507812,-5.822310447692871,-7.665964603424072,-4.597621440887451,-4.733462810516357,-4.374838829040527,-6.0663251876831055,0.9454174041748047,-10.369325637817383,-1.2769132852554321,-2.211048126220703,-10.520764350891113,-10.520764350891113,-10.338558197021484,-0.12933485209941864,-4.8138346672058105,-1.4312050342559814,-9.518957138061523,-9.414981842041016,-9.793898582458496,-9.413423538208008,3.1460609436035156,3.1460609436035156,3.1460609436035156,3.1460609436035156,3.1460609436035156,6.768502712249756,6.768502712249756,-1.278327465057373,2.6704142093658447,15.981572151184082,0.9447510838508606,0.9447510838508606,-4.054144859313965,8.17856502532959,0.7584289312362671,3.1460609436035156,0.9675880670547485,3.1460609436035156,-2.691162109375,-9.199200630187988,9.392905235290527,9.393335342407227,9.39333438873291,3.2053637504577637,3.2053632736206055,8.948691368103027,-12.08277416229248,-10.079696655273438,-10.079697608947754,-4.070164203643799,3.8660032749176025,3.4911677837371826,-9.71152114868164,-2.4176201820373535,3.1460609436035156,-3.6485037803649902,-3.686601400375366,-3.6485037803649902,-11.397500038146973,4.054586410522461,4.054586410522461,4.054561614990234,4.054586410522461,-12.899896621704102,0.4823412597179413,5.940295219421387,17.597402572631836,-13.223299980163574,5.8870954513549805,-7.242156982421875,-12.19217300415039,2.3075902462005615,-2.237050771713257,-10.203904151916504,-2.237050771713257,19.162771224975586,19.162973403930664,6.5979228019714355,6.5979228019714355,6.597920894622803,6.5979228019714355,6.724950790405273,-9.454704284667969,-0.8425849676132202,-0.8424325585365295,-0.8424642086029053,17.36258888244629,-3.9877970218658447,9.252604484558105,-10.131871223449707,-7.195764064788818,19.162960052490234,19.16293716430664,-5.34528112411499,-0.8508137464523315,11.059435844421387,15.635689735412598,15.635689735412598,-3.648024797439575,-1.7472199201583862,0.34305253624916077,6.364126682281494,-4.651745796203613,-4.651745796203613,-2.844862222671509,-3.441899538040161,-1.58151376247406,-1.3043984174728394,-12.998815536499023,-3.6485037803649902,-3.686601400375366,15.635689735412598,-0.8508137464523315,15.635689735412598,-2.9105749130249023,-1.3901365995407104,-6.0234599113464355,-1.5933380126953125,-1.5928040742874146,8.847474098205566,8.847893714904785,-3.4456801414489746,-13.726337432861328,-2.870884418487549,7.410937786102295,-1.3496726751327515,5.2432541847229,3.903015613555908,-5.439389705657959,6.285676002502441,20.29654312133789,-0.470398485660553,15.092734336853027,5.711057186126709,0.9390442371368408,0.9392964243888855,-0.27617910504341125,-0.27621304988861084,-0.27621304988861084,-3.3696255683898926,-10.411486625671387,-9.553548812866211,-3.145364999771118,8.24398136138916,8.243908882141113,3.2363643646240234,3.5129170417785645,3.6511149406433105,-2.5353405475616455,7.7374186515808105,13.66726303100586,-9.543024063110352,13.15483570098877,4.776669502258301,6.098532676696777,-11.424989700317383,17.50587272644043,-6.484661102294922,-6.4847493171691895,-3.586949348449707,4.329294681549072,11.076783180236816,11.076783180236816,11.076783180236816,-2.4497790336608887,17.384252548217773,14.281559944152832,1.2182142734527588,-7.37628698348999,-0.320611834526062,-0.320611834526062,-4.569699287414551,17.666831970214844,17.666831970214844,17.666831970214844,17.666831970214844,17.666831970214844,17.666831970214844,17.666831970214844,17.666831970214844,17.666831970214844,2.4686059951782227,-0.12853001058101654,1.510317087173462,-4.311335563659668,-9.817936897277832,-9.817936897277832,17.666831970214844,-7.4759674072265625,-7.495340347290039,6.8739213943481445,-4.864375114440918,-12.168298721313477,-11.453811645507812,-11.454089164733887,3.3613197803497314,3.3613197803497314,14.536404609680176,1.0780538320541382,6.413379192352295,6.413293838500977,9.003080368041992,9.003080368041992,9.003080368041992,9.003080368041992,0.16553281247615814,-12.543078422546387,6.413291931152344,4.5006513595581055,4.5006513595581055,-13.538759231567383,-13.097293853759766,3.9987218379974365,3.105485677719116,-6.202396869659424,-12.172062873840332,-1.2721072435379028,-0.20109011232852936,-1.9267849922180176,-7.78656005859375,-9.765223503112793,-2.427161693572998,-9.757614135742188,-13.695647239685059,6.227874755859375,-1.639832615852356,-6.289103984832764,5.530333042144775,9.266741752624512,9.266733169555664,-7.555694103240967,-9.307595252990723,-9.307397842407227,-0.7021426558494568,-0.7021651864051819,-5.674048900604248,-10.419957160949707,-6.4403395652771,-10.812531471252441,-1.3998311758041382,-12.84241771697998,4.836922645568848,5.034310340881348,-0.41907399892807007,-6.392409801483154,-6.392423152923584,-0.5943962335586548,-13.34008502960205,-12.400395393371582,14.66695499420166,-6.173789024353027,-8.247535705566406,-8.247565269470215,-9.299671173095703,-7.635887145996094,-7.635887145996094,-7.635880470275879,11.034615516662598,-1.5101968050003052,-11.783717155456543,-5.148079872131348,11.208181381225586,-2.12699294090271,-6.532176494598389,-10.998605728149414,-6.173668384552002,-6.173770904541016,-6.173556804656982,8.319679260253906,14.6691255569458,14.668267250061035,14.669893264770508,14.669726371765137,14.669893264770508,14.669965744018555,0.9346311092376709,14.668784141540527,11.025720596313477,-0.15497137606143951,6.46697473526001,7.784562110900879,-1.6706953048706055,4.246402740478516,-2.4537172317504883,-2.452058792114258,5.3700432777404785,-5.514377117156982,4.610360145568848,4.533721446990967,-4.793010711669922,-9.799447059631348,-2.416764974594116,-10.030704498291016,11.292747497558594,-5.767701148986816,-5.767701148986816,-0.04083916172385216,2.4488344192504883,8.339735984802246,8.339735984802246,-8.029312133789062,1.1404474973678589,2.842066526412964,-9.383854866027832,-1.0040558576583862,-6.002924919128418,-6.002924919128418,-6.002924919128418,-9.584490776062012,-9.584480285644531,-4.0252227783203125,-4.795285224914551,-10.27446460723877,4.070173263549805,-9.462635040283203,-5.4896979331970215,-10.339383125305176,-11.090420722961426,1.3074567317962646,-1.3444112539291382,11.736783027648926,4.317994117736816,-6.002924919128418,-6.002954959869385,7.823936462402344,-8.6171875,-0.470379114151001,2.3782265186309814,-5.380106449127197,-5.5031657218933105,-5.078022480010986,-5.078022480010986,-5.678107738494873,-5.855665683746338,-5.855665683746338,-5.380106449127197,-5.380106449127197,10.167745590209961,2.986721992492676,-1.1458076238632202,-2.5274441242218018,2.778146982192993,2.778130531311035,-4.953714370727539,-5.291141510009766,-4.951316833496094,-5.078022480010986,-2.700610876083374,-2.700610876083374,-13.464570045471191,-13.49743938446045,-8.1730375289917,5.068594932556152,0.5087473392486572,-11.840949058532715,8.968653678894043,-7.477818012237549,-7.477757930755615,10.14586067199707,-5.291141510009766,-5.291141510009766,-5.380106449127197,-5.5031657218933105,1.1023322343826294,-0.01799633540213108,-3.745230197906494,-7.90603494644165,-3.9442079067230225,-3.9442079067230225,7.220539093017578,0.3536413609981537,-2.2767250537872314,5.8706374168396,6.579610347747803,11.612382888793945,-1.5104550123214722,-13.756925582885742,0.5661713480949402,5.080240726470947,-0.5952249765396118,7.011460781097412,7.064106464385986,2.569293737411499,0.30671191215515137,-3.9950547218322754,7.074070930480957,4.533655166625977,4.771317958831787,4.771317958831787,4.770113468170166,4.488773345947266,4.763869762420654,4.533655166625977,7.064108371734619,4.469064235687256,5.479078769683838,-1.9698504209518433,-13.149587631225586,-2.627652883529663,-5.224019527435303,3.645911931991577,7.074070930480957,4.769749164581299,-7.90603494644165,5.297736167907715,-0.4190128445625305,0.960827112197876,2.807507276535034,3.768819808959961,-3.231804609298706,-5.266419887542725,-13.079856872558594,-5.692992210388184,0.3575398921966553,-0.9668861031532288,-1.2753864526748657,-11.087708473205566,1.9020795822143555,4.944512844085693,-7.90603494644165,-7.90603494644165,-9.970723152160645,-2.057084083557129,0.11468634009361267,17.958175659179688,-9.860809326171875,-4.233158588409424,-14.167104721069336,-0.5206540822982788,7.554741382598877,-13.476728439331055,12.755690574645996,-0.4190128445625305,-10.253661155700684,-0.45086225867271423,-1.4544813632965088,2.137258529663086,-2.0760717391967773,3.001970052719116,-11.05420970916748,5.7841997146606445,-3.0804245471954346,2.9782018661499023,6.689261436462402,-5.009524345397949,-3.8680479526519775,-5.9735107421875,-5.973410129547119,-5.9735107421875,9.93718433380127,-9.833306312561035,-9.837874412536621,-9.833306312561035,-9.833306312561035,-9.833306312561035,-9.833306312561035,-9.833306312561035,-9.833306312561035,-9.833306312561035,-9.833306312561035,9.275254249572754,-9.833306312561035,9.275287628173828,3.689016819000244,-12.686003684997559,-12.687627792358398,-12.68594741821289,3.1457345485687256,6.0135369300842285,-0.791912853717804,-3.1020612716674805,-3.1020612716674805,-5.2092061042785645,-6.986766815185547,0.10352014005184174,-8.49610710144043,6.473119735717773,-5.479094982147217,-0.16321982443332672,-2.484135866165161,-9.833306312561035,-6.479557514190674,-1.375510811805725,18.831697463989258,-1.5782482624053955,-3.6707658767700195,-3.670761823654175,-0.9167614579200745,8.402923583984375,-3.137404441833496,-12.253754615783691,-8.464755058288574,4.497077941894531,11.02731990814209,-11.52591609954834,-7.697734832763672,-9.010028839111328,-10.67491626739502,9.575654029846191,9.575486183166504,-2.530531883239746,1.1554476022720337,-1.375510811805725,-1.375510811805725,3.6616060733795166,4.078000068664551,4.025709629058838,4.050296306610107,3.658676862716675,12.57349967956543,3.652592420578003,4.006150245666504,3.630866289138794,3.220608711242676,3.220608711242676,3.220608711242676,3.220608711242676,1.1553869247436523,3.984795331954956,12.507699966430664,12.777623176574707,12.683433532714844,-9.203129768371582,-3.1604294776916504,-6.50955867767334,8.744864463806152,8.744864463806152,4.153682231903076,-12.286112785339355,-12.286112785339355,-12.286078453063965,-7.724931716918945,-7.7248215675354,-7.724931716918945,-7.893700122833252,-7.893700122833252,-7.893700122833252,-9.203130722045898,-0.6663525700569153,-0.6663525700569153,-11.26928424835205,-13.882658958435059,-3.325737237930298,-3.325737237930298,-3.325737237930298,-3.3257129192352295,-3.813856840133667,-3.6464715003967285,-0.9654427170753479,18.28691864013672,-9.962705612182617,2.5343120098114014,-2.5537173748016357,2.802905559539795,1.1708977222442627,-0.49435317516326904,-0.4943627119064331,0.0016385214403271675,-10.019954681396484,0.811016321182251,2.2842206954956055,3.2996103763580322,3.2994747161865234,3.2997536659240723,-9.92623233795166,-4.661713600158691,12.705516815185547,12.856854438781738,12.920119285583496,12.5831937789917,12.819299697875977,13.000714302062988,12.6144437789917,13.05712604522705,12.857080459594727,12.470627784729004,3.2997560501098633,3.2994441986083984,3.299745798110962,3.299720287322998,2.2842206954956055,-2.077955961227417,-12.771967887878418,8.77296257019043,-4.9171528816223145,0.3448473811149597,-14.313332557678223,2.2842206954956055,-10.030115127563477,-2.6854422092437744,7.062908172607422,-13.083415031433105,3.2394027709960938,1.8387423753738403,3.29949951171875,3.2994747161865234,-9.47452449798584,5.212522983551025,5.211978435516357,5.212531089782715,-13.719426155090332,-13.509218215942383,9.539358139038086,11.798772811889648,-2.6772425174713135,-2.677212953567505,-2.677212953567505,-9.758747100830078,-10.084028244018555,-11.668484687805176,-6.859771728515625,-9.03221321105957,-7.439794063568115,-11.697562217712402,-5.039595127105713,-6.759350299835205,-6.759350299835205,-12.743202209472656,-9.525373458862305,-1.9114158153533936,3.861098527908325,-2.5622642040252686,-11.699156761169434,6.472054481506348,4.247734069824219,7.066003322601318,-1.9516223669052124,-5.200133800506592,3.491711378097534,1.463724970817566,-2.2410030364990234,-0.019257137551903725,-13.219029426574707,5.421144008636475,-0.6105055809020996,8.323208808898926,-2.9887962341308594,-1.9516223669052124,4.810131549835205,-1.6949207782745361,-5.27421760559082,-5.599441051483154,5.890501499176025,-4.970497131347656,2.704489231109619,12.467007637023926,-12.667312622070312,3.091935873031616,-8.767364501953125,17.86713218688965,5.102352142333984,-5.9451704025268555,2.3527379035949707,3.0607407093048096,-1.6949207782745361,18.082124710083008,13.815794944763184,-5.414239406585693,18.29596710205078,0.7790933847427368,-9.069483757019043,-3.4528446197509766,8.51889705657959,-13.680158615112305,0.529727578163147,18.00520896911621,7.4032793045043945,-3.2550384998321533,4.180777549743652,-10.938521385192871,6.607385635375977,-13.638086318969727,3.230221748352051,2.613351821899414,-6.874339580535889,6.689261436462402,5.971761703491211,14.336248397827148,-0.616190493106842,0.5307297706604004,-6.954387187957764,-9.157320022583008,-9.157319068908691,-1.569503664970398,-1.569503664970398,-1.5694164037704468,-1.5694164037704468,2.8359146118164062,0.1961268037557602,-9.713177680969238,-9.713420867919922,-9.713177680969238,-5.719239234924316,-0.736794114112854,-0.6241158246994019,-0.6776664853096008,-0.6776664853096008,5.212541103363037,-0.14027337729930878,-1.099544644355774,-12.82190227508545,12.178544044494629,-0.871112048625946,-3.332251787185669,-5.719239234924316,-3.332251787185669,3.383427381515503,-10.721770286560059,15.13510513305664,-0.9681566953659058,-0.7349201440811157,-0.6241158246994019,-0.6161905527114868,-3.331803560256958,14.336246490478516,0.003367567667737603,-6.632141590118408,-12.048853874206543,-12.052541732788086,-12.048689842224121,5.120656967163086,4.492914199829102,4.620345115661621,-8.847883224487305,-9.859614372253418,-9.859506607055664,-9.859512329101562,17.15669059753418,-5.036957263946533,-4.273801326751709,14.336246490478516,14.336246490478516,5.287583827972412,5.287583827972412,-11.457058906555176,-9.922515869140625,-6.6321234703063965,-2.643988609313965,-0.4155234694480896,-4.303966045379639,3.7764430046081543,3.7664828300476074,3.7664828300476074,-2.5922412872314453,3.7764430046081543,17.574981689453125,17.574954986572266,17.57500648498535,0.7484946846961975,-7.310507297515869,-10.477700233459473,-6.53239107131958,-10.994344711303711,-3.974202871322632,6.7358479499816895,-10.403055191040039,-5.540670394897461,15.82822036743164,15.517595291137695,15.303829193115234,15.725439071655273,15.828246116638184,2.5649209022521973,15.519820213317871,15.317849159240723,15.635570526123047,15.434199333190918,15.32222843170166,15.98047924041748,7.015907287597656,15.999119758605957,2.565056324005127,3.961909770965576,8.348286628723145,-4.480733871459961,-4.48068904876709,5.11606502532959,5.116064548492432,5.116064548492432,5.116064548492432,12.684842109680176,12.684924125671387,12.684842109680176,12.684731483459473,12.684925079345703,12.684842109680176,12.684842109680176,12.684924125671387,-2.0094873905181885,-4.093019962310791,-13.532801628112793,-13.536105155944824,-1.6790252923965454,-12.50965690612793,-11.93188762664795,-12.302919387817383,-11.932226181030273,4.228975296020508,4.228975296020508,9.892765998840332,-1.1064519882202148,-1.106480598449707,6.714786052703857,0.5313289761543274,-9.367461204528809,-9.367461204528809,-12.388543128967285,-7.3986029624938965,-12.509590148925781,10.687475204467773,-9.645855903625488,-9.645648002624512,-1.679095983505249,2.152106523513794,2.9703643321990967,-1.9553825855255127,-4.119065761566162,-4.7337422370910645,-4.7337422370910645,-8.083341598510742,6.554754734039307,2.659921407699585,-1.9553825855255127,-1.9553825855255127,-1.9553825855255127,-1.9553825855255127,-13.042125701904297,-9.645648002624512,10.687475204467773,0.7069459557533264,-3.6353600025177,3.6467225551605225,13.402754783630371,-4.779194355010986,-13.252120971679688,-13.342551231384277,-1.3588637113571167,-1.5527033805847168,-1.5527033805847168,-1.5527033805847168,-9.591776847839355,-2.8825364112854004,2.1106488704681396,3.2937870025634766,-11.648250579833984,-9.987251281738281,-7.782591342926025,13.01380443572998,-7.782591819763184,3.2756924629211426,9.295256614685059,9.295234680175781,9.29526138305664,14.109953880310059,-2.3615481853485107,-2.361585855484009,1.860044002532959,1.9555715322494507,-8.71399211883545,0.91911381483078,0.9191137552261353,0.919093668460846,6.800477027893066,6.800477027893066,-2.3737270832061768,5.778787136077881,3.2374136447906494,3.543363332748413,7.582966327667236,3.1402409076690674,3.0427474975585938,3.6600165367126465,3.6600165367126465,-8.331829071044922,-8.331829071044922,-2.5986459255218506,3.871485471725464,3.871485471725464,-8.164057731628418,-8.164057731628418,-4.069709777832031,-4.093213081359863,0.6581511497497559,0.6581511497497559,3.1402409076690674,2.8575820922851562,3.0430214405059814,3.4378466606140137,14.26054573059082,3.605255603790283,9.728049278259277,5.830669403076172,5.651361465454102,-8.480663299560547,-8.480669975280762,-3.8793580532073975,-2.392406940460205,2.3718650341033936,2.3718650341033936,3.6600165367126465,3.6600165367126465,3.6600165367126465,3.4378466606140137,3.4378466606140137,-5.871727466583252,-2.825033664703369,14.959486961364746,3.749187707901001,2.307203769683838,3.9202919006347656,7.896383285522461,2.094740867614746,2.8472394943237305,8.018199920654297,-6.670766830444336,-8.028534889221191,-11.598846435546875,16.931617736816406,1.1407561302185059,1.1406742334365845,1.1401166915893555,-6.670766830444336,-4.521831512451172,0.7859721779823303,17.094091415405273,-6.603122711181641,-9.897006034851074,-5.01176118850708,9.925481796264648,-6.6273603439331055,-3.8551273345947266,0.013587748631834984,11.018853187561035,-5.966782569885254,-12.175682067871094,-8.131192207336426,5.389133930206299,0.7894622087478638,-4.805304527282715,7.814468860626221,1.1404623985290527,1.1401166915893555,1.1401222944259644,-1.112288475036621,1.3287702798843384,2.091482639312744,0.03342830389738083,-3.345966339111328,3.729553461074829,10.32453727722168,-11.948057174682617,-10.066153526306152,-9.616238594055176,-6.283501625061035,-6.283749580383301,-6.283708572387695,-6.283702850341797,-1.7690715789794922,-13.147706031799316,1.1620044708251953,4.359983444213867,-3.6968116760253906,9.095815658569336,-1.1122852563858032,-5.388975143432617,-5.388975143432617,-5.388975143432617,-2.6280272006988525,9.149821281433105,-3.6369571685791016,7.961822986602783,0.06165098398923874,0.06165106222033501,0.06165098398923874,0.06165098398923874,0.061729930341243744,9.095803260803223,9.095803260803223,9.095815658569336,-5.940674304962158,3.0499587059020996,-1.802249550819397,0.7839301824569702,0.7839301824569702,12.444112777709961,12.444112777709961,12.4442720413208,12.4442720413208,12.444112777709961,-3.2314274311065674,-12.095620155334473,-1.9048823118209839,-1.9048823118209839,-1.9048823118209839,-1.9048823118209839,-0.9898489713668823,2.7154815196990967,0.7839314341545105,-7.385126113891602,0.7839489579200745,0.7839301824569702,14.959562301635742,14.959482192993164,14.95958137512207,14.959582328796387,14.959505081176758,7.551732063293457,14.656524658203125,14.656524658203125,5.938505172729492,-7.96017599105835,-2.628967761993408,6.06292724609375,2.798100233078003,-5.092734336853027,-5.373739719390869,0.7839466333389282,14.95949935913086,4.881986141204834,4.881986141204834,-1.1317611932754517,1.7085767984390259,-0.09330000728368759,-6.829320907592773,-10.512724876403809,9.077129364013672,0.4231409728527069,1.7988394498825073,0.44414985179901123,-1.121533989906311,-0.7120596766471863,-3.1224312782287598,5.9888691902160645,-1.8022490739822388,-1.802249550819397,-11.551888465881348,4.881986141204834,-5.099232196807861,-4.531167507171631,4.839986324310303,4.839986324310303,4.839986324310303,4.839986324310303,4.881986141204834,4.881986141204834,-3.127549409866333,-10.315167427062988,-8.861337661743164,-8.861332893371582,12.834951400756836,-1.8196728229522705,-4.024695873260498,4.55999755859375,2.577460765838623,-4.544808387756348,-5.871727466583252,2.0186760425567627,17.2088680267334,10.968280792236328,0.07293388247489929,9.693830490112305,-0.5328329205513,-9.782177925109863,-2.5742716789245605,20.584638595581055,20.7871036529541,20.584638595581055,20.82112693786621,20.82112693786621,-4.52133846282959,-0.9732195734977722,-0.9732195734977722,-0.28401705622673035,-0.36736011505126953,1.6920416355133057,-12.447198867797852,-12.447216033935547,-12.44732666015625,-12.447324752807617,-12.447324752807617,20.584638595581055,20.786893844604492,20.82112693786621,0.08030997216701508,-4.047785758972168,2.0701653957366943,0.31574949622154236,-6.942703723907471,7.56503438949585,7.56503438949585,-0.48545005917549133,-3.0649242401123047,11.557312965393066,15.270172119140625,15.268131256103516,15.140509605407715,15.139629364013672,0.8875400424003601,-3.7523300647735596,20.82112693786621,-9.117668151855469,7.968824863433838,-2.0391907691955566,13.628012657165527,13.62806510925293,6.407155990600586,-4.5427937507629395,7.103633403778076,7.102971076965332,20.787059783935547,20.82112693786621,-0.6804825067520142,-0.6804825067520142,-9.117664337158203,-6.155299663543701,-3.4897122383117676,-12.447324752807617,0.6311229467391968,-10.288250923156738,0.5235463976860046,0.5562477111816406,0.5235463976860046,9.377418518066406,-1.7900277376174927,4.711790084838867,4.71181583404541,7.572004795074463,-11.410502433776855,0.453875869512558,0.4539155662059784,-2.9845423698425293,4.222987174987793,16.262603759765625,-3.2599899768829346,-2.5969934463500977,-6.875577926635742,-4.3535003662109375,-4.3535003662109375,0.2594287693500519,2.144632339477539,-10.165074348449707,-10.165075302124023,0.6314806342124939,0.5064145922660828,-2.1677865982055664,-12.13984203338623,17.2088680267334,17.207054138183594,17.2088680267334,-3.460512638092041,-2.9726836681365967,5.910107135772705,5.910107135772705,2.7036776542663574,-12.44735050201416,2.7033047676086426,-0.1888457089662552,10.69865608215332,0.3233601450920105,2.2512574195861816,2.2512974739074707,2.251079797744751,-1.1425001621246338,3.0658888816833496,-8.21863842010498,2.5797462463378906,-3.113240957260132,7.6212263107299805,4.153017520904541,-8.50268268585205,-13.299995422363281,-9.27939510345459,2.251370906829834,16.215534210205078,6.157782077789307,-10.301715850830078,-8.370408058166504,-8.687460899353027,-8.687478065490723,-8.687499046325684,-7.904107093811035,-7.904107093811035,10.195857048034668,0.5950388312339783,-7.904107093811035,-7.904107093811035,-7.904107093811035,-7.904107093811035,-7.904107093811035,-7.904107093811035,-7.904107093811035,-7.904107093811035,-1.516358494758606,8.899706840515137,8.900023460388184,-8.69556713104248,-3.0523223876953125,-6.742842197418213,-7.586016654968262,-2.776454210281372,-9.957657814025879,-4.482303619384766,-4.480683326721191,-4.8148603439331055,-8.687443733215332,6.530474662780762,14.5706205368042,-9.237286567687988,-7.122348308563232,8.67955493927002,-10.918546676635742,-0.2671336233615875,-0.2671336233615875,-12.703653335571289,-3.5640907287597656,13.113446235656738,8.190664291381836,5.0317912101745605,1.52660071849823,1.5257742404937744,-4.480683326721191,1.5266022682189941,-2.8009192943573,-6.350277900695801,-0.8839089870452881,-0.8839089870452881,-6.721063613891602,-6.72100305557251,-3.8967843055725098,3.939164400100708,0.956483006477356,0.9564831852912903,-3.822012186050415,12.004385948181152,-3.0797455310821533,1.5266022682189941,-0.45513394474983215,-7.904107093811035,-5.6765456199646,-5.748724937438965,-13.944186210632324,-13.944280624389648,-12.613810539245605,-0.4342116415500641,-3.71907639503479,-3.71907639503479,-3.755528688430786,1.6167597770690918,1.6167597770690918,-11.968769073486328,6.707140922546387,-2.4926342964172363,3.9968414306640625,-0.09607640653848648,7.126661777496338,-12.233710289001465,18.152402877807617,-10.409052848815918,19.460969924926758,-11.768088340759277,-13.240464210510254,0.7820835113525391,-11.047184944152832,12.724634170532227,12.724620819091797,-13.23009967803955,0.614986777305603,12.724614143371582,7.816638946533203],\"z\":[-0.2192317545413971,-0.04278503730893135,-1.3238589763641357,-1.0053298473358154,-1.1101443767547607,-0.6544387936592102,5.52687931060791,11.322834014892578,4.5700836181640625,5.6841559410095215,-1.3978431224822998,5.5268778800964355,-7.622203350067139,-0.2537478506565094,3.8813929557800293,3.7853200435638428,-9.821388244628906,-9.008455276489258,-0.603274941444397,-0.04521918296813965,-3.317455291748047,4.426516056060791,-1.0299080610275269,3.8813929557800293,-1.0299080610275269,13.283414840698242,13.283414840698242,-3.5913825035095215,-2.927729606628418,8.268083572387695,-1.3407689332962036,11.017423629760742,8.201895713806152,-6.951490879058838,-5.445337772369385,4.773324966430664,4.773324966430664,12.17555046081543,12.175529479980469,12.17555046081543,12.17555046081543,4.773324966430664,-3.530932664871216,9.726555824279785,-5.752171993255615,-0.7645971775054932,-6.585735321044922,-7.480419635772705,-7.456076622009277,8.181729316711426,-0.4111517369747162,4.773324966430664,4.773324966430664,7.416474342346191,-1.6217429637908936,11.62704086303711,-0.8150638341903687,9.934584617614746,-2.812237501144409,3.8813929557800293,7.557144641876221,5.550065517425537,3.8859453201293945,1.232511043548584,-1.911571979522705,-1.911586046218872,-1.9115912914276123,5.550065517425537,-0.7206147909164429,-3.823939800262451,11.166413307189941,12.927315711975098,-4.134951591491699,1.130669355392456,2.985372304916382,2.9853808879852295,2.5238044261932373,-1.9225149154663086,6.140748500823975,8.579108238220215,0.4122941195964813,-4.443289756774902,-1.6817291975021362,-7.31024694442749,-1.750367283821106,-0.3901497423648834,-7.970821857452393,6.268681049346924,8.81627368927002,7.6088056564331055,7.69906759262085,9.627476692199707,1.00006902217865,1.00006902217865,-3.0404348373413086,5.25885009765625,0.9402773380279541,9.735367774963379,9.735367774963379,1.1091989278793335,-5.071900844573975,-5.053939342498779,0.9402775168418884,-2.7529871463775635,-6.255046367645264,-6.255046367645264,1.3277124166488647,7.042506217956543,11.096837997436523,-3.513122081756592,-3.4880566596984863,7.9862284660339355,-9.131574630737305,-9.131573677062988,-13.912363052368164,13.705254554748535,4.448239326477051,0.5476778149604797,9.905200004577637,-1.494523525238037,-6.353254318237305,-0.5904139876365662,-0.2483990341424942,6.746658802032471,2.974815607070923,-1.6223363876342773,-0.6980051398277283,-2.35673451423645,-4.978099346160889,-6.255046367645264,-0.5678738951683044,-1.803285837173462,-1.8770010471343994,-8.165265083312988,-0.31058230996131897,-0.7517101764678955,-6.800116062164307,-3.323727607727051,-12.053702354431152,-7.559134006500244,7.475337505340576,12.593992233276367,12.593992233276367,12.594079971313477,1.1897060871124268,-2.950983762741089,-2.854674816131592,0.48417386412620544,8.205471992492676,-8.670309066772461,-4.558109760284424,11.330785751342773,11.33078384399414,11.33078384399414,-8.61888313293457,-8.618871688842773,-8.276198387145996,-1.3755979537963867,2.7255146503448486,6.113785743713379,-1.5118836164474487,8.079479217529297,-11.34276008605957,-11.342822074890137,5.046404838562012,-6.958481788635254,-2.4682905673980713,-2.4590446949005127,1.9683886766433716,5.052316188812256,-5.764379978179932,-5.555843830108643,1.2871835231781006,-8.096863746643066,-7.54263162612915,12.298175811767578,-4.267611026763916,-4.819591999053955,-1.1112070083618164,-1.1111117601394653,-6.53780460357666,-10.0106782913208,6.367530822753906,6.624897003173828,-5.878441333770752,-2.218348503112793,3.0852229595184326,-9.688962936401367,-7.846488952636719,-7.846383094787598,-7.846383094787598,-7.84637975692749,-7.8462910652160645,12.298175811767578,2.7998523712158203,2.799631118774414,-5.649514198303223,-1.716327428817749,-1.7163032293319702,3.7164804935455322,1.4243731498718262,-6.317507743835449,-6.317507743835449,-7.846323013305664,-7.8452348709106445,-7.846379280090332,-7.845388412475586,5.733085632324219,-8.096863746643066,-11.236411094665527,0.9761471748352051,-7.382894992828369,-3.275831699371338,-9.312337875366211,7.626875400543213,4.950775146484375,11.039183616638184,-7.078969955444336,8.378002166748047,10.1032075881958,10.1032075881958,8.565485000610352,-8.693893432617188,0.8406724333763123,-4.681840896606445,8.481844902038574,8.481844902038574,8.481682777404785,10.002934455871582,8.132647514343262,8.132647514343262,8.132647514343262,4.938930511474609,-0.6637493371963501,-7.382894992828369,-6.954868316650391,-7.23644495010376,4.2312140464782715,6.382564544677734,-7.228121280670166,-1.7974733114242554,8.66423511505127,8.66418743133545,6.768467903137207,-4.341898441314697,-4.337806224822998,2.7303357124328613,8.9829740524292,8.9829740524292,-7.689727783203125,-5.994471073150635,-6.113265514373779,2.7302634716033936,4.688472747802734,-3.536104679107666,-1.1222527027130127,-3.7825024127960205,10.123682975769043,-3.853893756866455,11.933426856994629,7.477992057800293,-12.053702354431152,2.6616086959838867,-2.178619861602783,-8.089719772338867,-1.018605351448059,-4.556227684020996,-4.650353908538818,-4.056007385253906,-2.846560478210449,8.800190925598145,-5.891218185424805,0.05482000857591629,0.054819345474243164,-1.2327555418014526,-1.2327293157577515,-1.232928991317749,5.518272876739502,1.8673555850982666,7.464831352233887,0.5665823221206665,2.945256233215332,10.533424377441406,7.919339179992676,-1.7700711488723755,-4.290571689605713,-6.446901798248291,-1.4624378681182861,-0.1314517855644226,-3.675130844116211,-1.0842057466506958,-2.619706869125366,-0.4236040711402893,-1.5433199405670166,-4.716136455535889,-5.3614983558654785,-7.879500865936279,1.5899741649627686,0.7009979486465454,-0.8736138939857483,-4.413797378540039,-4.413789749145508,-2.026416063308716,-2.026416063308716,-6.253438949584961,10.018084526062012,-1.0307252407073975,5.020882606506348,5.020882606506348,-6.605710506439209,-6.605714321136475,-8.894471168518066,3.2457356452941895,8.642415046691895,-3.7001187801361084,1.3695182800292969,5.7611470222473145,1.1674647331237793,4.651493549346924,8.882746696472168,8.882176399230957,-6.444107532501221,-6.44409704208374,-6.44409704208374,10.53190803527832,1.9934883117675781,-5.7946038246154785,7.24980354309082,-5.995825290679932,9.867152214050293,-0.8802444934844971,-0.8802302479743958,-4.222134113311768,-4.222134113311768,5.761135578155518,-0.7366153001785278,2.7170112133026123,1.1936496496200562,1.193650484085083,1.1936496496200562,5.761131286621094,1.1934601068496704,-4.2633585929870605,-8.135984420776367,-8.136809349060059,-8.136003494262695,-4.393737316131592,-3.5812032222747803,1.2107425928115845,4.651493549346924,-7.968423366546631,5.406880855560303,2.2681305408477783,5.764461994171143,5.764461994171143,0.9114171266555786,-1.8863558769226074,-1.5037838220596313,-1.503782033920288,-1.8859177827835083,-6.070152282714844,-6.075780868530273,7.859947681427002,7.859944820404053,-4.142728805541992,-0.185280442237854,4.189487934112549,-9.307027816772461,3.7021474838256836,1.8140947818756104,1.8140947818756104,7.230414390563965,5.995234489440918,-4.860228061676025,-4.860248565673828,2.457787275314331,-11.571688652038574,9.906454086303711,-0.8134284615516663,-0.813428521156311,7.7740373611450195,-4.816843032836914,2.6826436519622803,-4.162083625793457,2.616774559020996,6.170956611633301,-5.548840522766113,-1.2018741369247437,-1.1506564617156982,0.8303964734077454,1.4204535484313965,-5.077701568603516,6.328643798828125,3.9638853073120117,-1.09763503074646,1.3267556428909302,6.121523857116699,-0.7903569936752319,-0.7903492450714111,5.252671241760254,-8.909710884094238,-1.0609631538391113,4.731413841247559,-0.6798179745674133,-15.390849113464355,-15.390849113464355,-15.390849113464355,-15.390849113464355,-15.390849113464355,-15.390849113464355,-0.24491599202156067,-15.390849113464355,-15.390849113464355,-15.390849113464355,-15.390849113464355,4.666766166687012,1.3007078170776367,-4.363399982452393,-15.390849113464355,4.651493549346924,4.651486396789551,1.1741985082626343,-0.4366631507873535,-4.866551399230957,-3.308398962020874,7.509253025054932,3.6544675827026367,3.655109167098999,3.6550674438476562,3.65510892868042,3.6553993225097656,3.655357837677002,-3.776242971420288,-6.995263576507568,9.638984680175781,9.638980865478516,7.612165927886963,-4.236936569213867,10.89309310913086,-6.629830360412598,-6.9713263511657715,-7.558631896972656,5.938303470611572,-0.9124216437339783,-4.42588472366333,-0.4366547167301178,4.65557336807251,-11.399996757507324,-3.975323438644409,-1.1608966588974,-0.6374286413192749,7.9348907470703125,-5.078811168670654,1.3210171461105347,-4.728854656219482,-0.4366588592529297,3.4748618602752686,-4.2568359375,-3.084439754486084,1.767563819885254,1.767563819885254,1.8275142908096313,1.8275142908096313,0.6385399103164673,0.6381886005401611,3.421328067779541,7.946219444274902,-4.65034294128418,-4.569656848907471,-0.35688409209251404,-9.492918968200684,-8.101773262023926,1.210124135017395,-4.194378852844238,3.4748618602752686,3.843886375427246,3.8438422679901123,3.8438358306884766,3.843886375427246,3.844179153442383,-0.43665897846221924,3.843886375427246,-11.502060890197754,-11.502060890197754,6.014577388763428,2.5454673767089844,-4.471312999725342,-0.09825891256332397,3.843886375427246,8.159778594970703,-4.622875690460205,-4.622882843017578,7.984750270843506,4.0368971824646,4.03676176071167,-4.889510154724121,-4.889510154724121,0.25126808881759644,5.492447853088379,5.492447853088379,1.0971630811691284,4.538669586181641,-1.6087441444396973,-8.158284187316895,-8.158244132995605,7.2503204345703125,2.5785465240478516,-0.9915941953659058,-2.714789628982544,1.465824007987976,1.465824007987976,1.1674647331237793,1.465824007987976,0.9677568674087524,0.9677568674087524,-1.4712895154953003,-1.6810625791549683,4.067923545837402,4.281922340393066,4.281922340393066,-8.53702449798584,-1.4022091627120972,-3.6348516941070557,4.067923545837402,-3.088101625442505,-5.224526882171631,-5.224899768829346,1.2196731567382812,0.8582841753959656,-0.8746432662010193,-0.8746432662010193,-1.997398853302002,10.226224899291992,0.626437783241272,-6.6541948318481445,-7.26882791519165,-7.559210300445557,-1.1178405284881592,-2.857370615005493,4.162841796875,-2.161832809448242,7.860409259796143,2.945256233215332,1.553547978401184,0.7777827978134155,-6.601036548614502,4.317894458770752,-0.21399402618408203,-0.21399399638175964,4.500716209411621,0.4624079763889313,1.5150504112243652,0.4624079763889313,1.6338624954223633,1.0846613645553589,1.6518306732177734,1.3687379360198975,0.5361588597297668,0.4949778616428375,1.8538767099380493,2.5585944652557373,0.358271986246109,-3.9650847911834717,5.8065667152404785,-1.9837473630905151,-9.669136047363281,-2.7823426723480225,12.277868270874023,-0.03656310215592384,0.431627094745636,10.916117668151855,2.984687089920044,1.1127761602401733,0.10092613846063614,-9.813453674316406,-9.813454627990723,0.26949483156204224,2.9846203327178955,4.674217224121094,4.468417644500732,4.468423366546631,10.816816329956055,-1.4660605192184448,-9.023247718811035,0.8020132184028625,-2.8931641578674316,-6.958808422088623,-5.921655178070068,-5.92188835144043,-5.921720504760742,2.8697826862335205,6.067904472351074,-9.937796592712402,-9.937796592712402,3.9711754322052,4.468423366546631,-6.578226566314697,-6.187212944030762,-6.571623802185059,-6.215484142303467,0.6825872659683228,-10.017078399658203,-0.5991909503936768,-2.5287058353424072,0.14625540375709534,-3.115990400314331,-0.5059463977813721,-6.58466911315918,9.937176704406738,-5.893378257751465,-5.893378257751465,-5.893368244171143,5.537633895874023,7.319201469421387,-0.8586491942405701,-5.562912940979004,3.004350185394287,-5.788733005523682,-5.562912940979004,1.5292284488677979,1.529213547706604,-5.562912940979004,-5.075948238372803,-5.562912940979004,-5.817842483520508,-5.075948238372803,-5.075948238372803,-5.562912940979004,-5.562912940979004,-5.390928745269775,-5.562912940979004,-5.562912940979004,-5.562912940979004,-5.075948238372803,-5.562912940979004,1.0709478855133057,3.0043535232543945,-1.5614159107208252,-0.6390659809112549,6.116366386413574,6.116369724273682,0.7698626518249512,-3.253983974456787,-5.336066722869873,7.147674560546875,-1.3984838724136353,4.717662334442139,4.717662334442139,4.717662334442139,6.881638050079346,4.241366863250732,4.241366863250732,4.717662334442139,3.548431873321533,3.548431873321533,-11.383284568786621,-5.078032970428467,-9.037759780883789,-1.000780701637268,-0.326943963766098,11.158819198608398,11.158841133117676,11.158843994140625,-7.332900524139404,-7.332720756530762,5.6789021492004395,5.6789021492004395,8.9581937789917,8.9581880569458,8.958218574523926,6.679411888122559,-6.55009126663208,-6.5500969886779785,-6.550096035003662,-1.7997139692306519,-5.0383734703063965,1.8634834289550781,-9.111833572387695,6.652302265167236,-1.5943807363510132,0.7417934536933899,2.736309766769409,-1.6974434852600098,-1.9022159576416016,-1.8152400255203247,-1.609009027481079,-1.3213351964950562,-1.4381743669509888,-1.7782013416290283,1.557068109512329,-5.0383734703063965,-0.9037005305290222,4.574764728546143,-3.0699660778045654,11.985815048217773,6.679045677185059,1.3952052593231201,1.855355143547058,-4.005176544189453,3.4789938926696777,4.436338901519775,4.436338901519775,4.436338901519775,-2.058053970336914,-2.1024820804595947,-7.735974311828613,-4.022463321685791,-4.313401699066162,-0.7298973798751831,0.7099093794822693,-0.11147600412368774,-0.11147579550743103,6.339070796966553,0.4537162482738495,-3.1434340476989746,-2.0624070167541504,-1.6061279773712158,0.09782058000564575,-0.5026010870933533,0.5630916953086853,-1.5343533754348755,2.1394882202148438,5.061359882354736,5.061360836029053,4.632137775421143,-9.794092178344727,-10.067428588867188,-1.942314624786377,4.796154499053955,7.097332954406738,-3.5439400672912598,9.406304359436035,-3.2473325729370117,-3.2473325729370117,-3.2472567558288574,11.728772163391113,7.183788776397705,-5.7557783126831055,-1.910813570022583,-1.910813570022583,3.3200345039367676,-7.318175792694092,2.200986862182617,-0.9241122007369995,4.6254143714904785,-3.5439398288726807,7.527535438537598,-3.8998680114746094,9.921380043029785,-9.27510929107666,-5.9846062660217285,-4.11704683303833,-4.117062091827393,10.561088562011719,-7.0279059410095215,6.974490165710449,5.717052459716797,-4.007955074310303,-5.089663505554199,4.033012866973877,7.669553756713867,10.441216468811035,-4.442263603210449,5.9199347496032715,11.549629211425781,10.555683135986328,-4.327954292297363,1.3015962839126587,0.5506199598312378,6.961985111236572,-11.178794860839844,-1.0100756883621216,5.1023383140563965,11.350783348083496,0.6591127514839172,7.729108810424805,-6.6886796951293945,-6.688643455505371,6.510262489318848,-4.127882957458496,-1.3456964492797852,-1.3456964492797852,-0.7092738151550293,-2.549114942550659,-8.17287540435791,-4.327954292297363,6.113242149353027,-7.925498962402344,4.981203556060791,2.1135287284851074,10.958233833312988,-2.027681589126587,7.749529838562012,0.38368478417396545,-1.0939046144485474,5.218963146209717,0.3749415874481201,0.37495100498199463,4.253185749053955,4.253185749053955,-4.5460309982299805,-0.738188624382019,0.8254300951957703,-0.7273514270782471,4.629619121551514,-1.3702492713928223,0.44809556007385254,7.21796989440918,-4.7539896965026855,5.0739006996154785,1.4375073909759521,1.4375073909759521,-9.526301383972168,-8.383938789367676,-3.1643459796905518,13.718255996704102,13.71825885772705,13.718257904052734,-4.547841548919678,0.5257720351219177,-2.271923065185547,-3.594266891479492,3.702035903930664,-5.314970016479492,7.860175609588623,-1.1247754096984863,2.5477685928344727,-7.159130573272705,-4.532458782196045,-8.945160865783691,6.158985137939453,0.08102034032344818,-5.748493194580078,7.983151435852051,6.189478874206543,4.670633792877197,-3.923363447189331,7.313107013702393,3.207706928253174,1.004867672920227,4.34979772567749,-4.6370134353637695,-2.461512565612793,-6.753201961517334,-6.752992630004883,-1.1247754096984863,-4.569310665130615,1.4467540979385376,1.4467540979385376,7.588266849517822,-6.047916412353516,-6.0478835105896,-3.246744155883789,-0.8195410370826721,0.9564135074615479,1.8992384672164917,-6.655573844909668,-4.385871887207031,-6.7523884773254395,-6.752269268035889,-6.753201961517334,3.7724461555480957,-0.044306304305791855,-8.56364631652832,-0.7446455955505371,0.6971419453620911,-3.6233952045440674,0.5179458856582642,0.5176714062690735,-4.087718486785889,-3.3981292247772217,3.4170422554016113,3.5294198989868164,-8.37918758392334,-8.415884017944336,-8.37918758392334,-8.415884017944336,-8.415884017944336,3.4170310497283936,-3.3981292247772217,-3.3981292247772217,3.9802792072296143,-1.1198502779006958,2.961303234100342,2.9612936973571777,2.961303234100342,10.622737884521484,-8.145334243774414,6.4380903244018555,-8.150273323059082,-2.114427089691162,7.565155029296875,6.468341827392578,-4.453530311584473,-6.472248077392578,5.203076362609863,-1.926506519317627,-8.37918758392334,-8.37918758392334,-8.37918758392334,-8.37918758392334,0.13847562670707703,0.13829798996448517,0.1382976472377777,2.314953565597534,2.3695836067199707,4.108593463897705,4.10790491104126,-7.458751201629639,-0.732292652130127,1.227169156074524,-4.455036640167236,-4.455197811126709,0.20700262486934662,9.12474536895752,6.251380920410156,4.806889057159424,-7.43664026260376,4.806889057159424,-2.499074935913086,-8.37918758392334,-8.27718734741211,-1.3273181915283203,-4.34676456451416,-1.5266413688659668,-5.515382766723633,-3.3083443641662598,2.1834521293640137,6.103407382965088,6.103443622589111,6.103443622589111,6.103443622589111,6.103443622589111,5.647351264953613,3.449458360671997,-2.7991089820861816,1.2500666379928589,-3.128204107284546,-4.005486488342285,7.577223777770996,7.577231407165527,8.19748306274414,8.197409629821777,8.197409629821777,8.197409629821777,1.3456013202667236,-8.51977252960205,-4.238394260406494,6.182511329650879,9.115114212036133,-11.912484169006348,-7.001467227935791,-4.334110736846924,6.058084964752197,-7.664393424987793,6.058084964752197,-0.6093581318855286,7.989859580993652,-3.9650845527648926,-3.9650847911834717,5.699477672576904,-2.6333322525024414,2.242685317993164,-7.140410900115967,-7.290741443634033,-3.894979238510132,-3.894979238510132,-5.179357528686523,4.323033809661865,0.03814750909805298,0.5609248280525208,7.989963531494141,7.989859580993652,-0.6094349026679993,1.174748182296753,6.058084964752197,-3.630587339401245,0.39729735255241394,5.398808479309082,3.815526247024536,3.148531198501587,-0.749265730381012,3.148531198501587,3.148531198501587,3.148385763168335,6.7405829429626465,5.8916144371032715,5.8916144371032715,5.891613006591797,5.891613006591797,5.8915300369262695,-1.6287156343460083,-11.000395774841309,4.1065216064453125,-11.000350952148438,-11.000395774841309,6.420238018035889,-2.2029881477355957,-7.166897773742676,-4.806344509124756,-7.341139316558838,1.318726897239685,1.3147550821304321,1.3147550821304321,-0.6768494844436646,12.180720329284668,-3.4107003211975098,-4.247500419616699,9.554859161376953,1.6764334440231323,-11.000350952148438,-11.000396728515625,-3.9650845527648926,8.215867042541504,12.070929527282715,2.3022425174713135,1.5301032066345215,1.8439702987670898,9.556939125061035,-2.612751007080078,-1.0464810132980347,1.0807949304580688,0.15138041973114014,-2.2732958793640137,0.20633924007415771,0.20634084939956665,-7.957217216491699,-7.9382219314575195,-8.220340728759766,0.15138128399848938,-5.652325630187988,-5.652325630187988,3.7403719425201416,-6.7912373542785645,-3.9096479415893555,-8.40353775024414,-5.116744518280029,-4.049610137939453,8.117409706115723,-7.931285381317139,-10.425878524780273,7.724256992340088,-6.937588214874268,-6.937588214874268,0.5546813011169434,0.5407342314720154,-2.241206169128418,0.19054624438285828,-8.35165786743164,-7.5544538497924805,-8.284171104431152,-7.554903507232666,-8.681537628173828,-8.681537628173828,-8.681537628173828,-8.681537628173828,-8.681537628173828,1.3576432466506958,1.3576432466506958,5.011053562164307,8.593282699584961,3.7809042930603027,4.876145839691162,4.876145839691162,7.802128314971924,10.727032661437988,-8.563647270202637,-8.681537628173828,7.49867057800293,-8.681537628173828,-0.40739181637763977,-7.898298740386963,5.574437618255615,5.574172019958496,5.574172019958496,-6.988701820373535,-6.9886980056762695,5.740363121032715,0.6387495994567871,-4.142045974731445,-4.1420464515686035,1.9049774408340454,10.023040771484375,-8.955501556396484,2.461756944656372,4.8642730712890625,-8.681537628173828,3.3309547901153564,3.3556745052337646,3.3309547901153564,-1.606797695159912,4.5858001708984375,4.5858001708984375,4.585788249969482,4.5858001708984375,-1.242553949356079,7.221628665924072,9.353240966796875,1.495071291923523,-0.8838316202163696,2.0999138355255127,1.2937737703323364,0.5787826180458069,6.253468990325928,4.347965717315674,-8.041629791259766,4.347965717315674,-1.0020605325698853,-1.0023750066757202,12.070929527282715,12.070929527282715,12.070929527282715,12.070929527282715,1.2968374490737915,-3.101660966873169,13.541425704956055,13.54149055480957,13.541486740112305,1.4426451921463013,-11.185683250427246,-0.9165173768997192,-8.087261199951172,0.679497241973877,-1.002321481704712,-1.0022943019866943,-5.108476161956787,-13.501697540283203,-0.7228146195411682,3.8546979427337646,3.8546979427337646,3.3314969539642334,4.51306676864624,-3.972414970397949,-0.7304668426513672,1.7250583171844482,1.7250583171844482,3.307380437850952,-3.090399742126465,5.9012131690979,-12.277153968811035,-1.827185869216919,3.3309547901153564,3.3556745052337646,3.8546979427337646,-13.501697540283203,3.8546979427337646,8.519237518310547,5.354644298553467,-5.0375518798828125,-10.190314292907715,-10.190366744995117,5.6579203605651855,5.657600402832031,-0.4340992569923401,-3.717982769012451,-11.589117050170898,9.733189582824707,-1.8064378499984741,-1.2488367557525635,1.595359444618225,-5.134688377380371,7.2797532081604,2.8218259811401367,2.558652639389038,4.189200401306152,1.1278072595596313,-8.092347145080566,-8.092391967773438,-4.427952289581299,-4.427923202514648,-4.427923202514648,-11.842851638793945,1.1672039031982422,-7.4293622970581055,-12.26723861694336,12.42509651184082,12.42503833770752,8.85679817199707,-6.400753498077393,-7.226053237915039,1.6423888206481934,10.392242431640625,-0.9535605907440186,2.2314953804016113,4.076251029968262,4.849093437194824,6.389335632324219,-1.611190676689148,2.783590316772461,-5.500237464904785,-5.500202178955078,-11.592554092407227,-1.6280179023742676,1.20816969871521,1.20816969871521,1.20816969871521,6.616128921508789,0.19188372790813446,5.043440341949463,6.615688800811768,3.9779460430145264,8.914231300354004,8.914231300354004,-7.373006343841553,6.000358581542969,6.000358581542969,6.000358581542969,6.000358581542969,6.000358581542969,6.000358581542969,6.000358581542969,6.000358581542969,6.000358581542969,-10.786436080932617,8.006324768066406,9.27484130859375,-5.1902875900268555,-2.7518932819366455,-2.7518954277038574,6.000358581542969,-6.6849822998046875,-6.6868791580200195,-3.834195613861084,0.3999220132827759,-2.253868818283081,-1.7898507118225098,-1.7915772199630737,8.964433670043945,8.964433670043945,-0.8554189205169678,-1.8339393138885498,6.243085861206055,6.243128299713135,-4.8249077796936035,-4.8249077796936035,-4.8249077796936035,-4.8249077796936035,-12.922587394714355,-0.8639311194419861,6.243143558502197,8.637128829956055,8.637128829956055,-3.3911523818969727,0.044610001146793365,-9.379495620727539,8.855705261230469,3.7790446281433105,-2.2418713569641113,-1.8280577659606934,-5.965577602386475,4.022010326385498,6.073107719421387,-7.715861797332764,0.36502039432525635,-8.060620307922363,2.1374435424804688,7.107316493988037,-10.147997856140137,-0.08267439156770706,-6.675175189971924,8.497304916381836,8.497299194335938,-4.995139122009277,1.9309686422348022,1.9314157962799072,8.615351676940918,8.615386009216309,3.7571444511413574,-1.9842779636383057,-9.313015937805176,-3.337433099746704,6.159381866455078,-1.0290780067443848,7.648287296295166,-6.320159912109375,0.711267352104187,-9.41150188446045,-9.411541938781738,-9.917539596557617,1.4467140436172485,-4.67031192779541,5.966618537902832,-0.37195539474487305,-4.364130973815918,-4.36411714553833,1.0931159257888794,-5.88437032699585,-5.88437032699585,-5.8843674659729,0.5222722291946411,7.048734664916992,-3.7040770053863525,-4.187763214111328,0.61525958776474,-4.418367385864258,-5.475520610809326,-6.882869243621826,-0.3718923330307007,-0.3719364404678345,-0.3720184862613678,12.137983322143555,5.967069149017334,5.968911647796631,5.966473579406738,5.969037055969238,5.966473579406738,5.969611167907715,4.763744354248047,5.966907501220703,10.853419303894043,-4.3517303466796875,12.65385627746582,10.857669830322266,8.305231094360352,-3.0359175205230713,-1.5383832454681396,-1.5385172367095947,1.1635689735412598,5.2705278396606445,9.76318645477295,10.190387725830078,-0.6354696154594421,-7.302917957305908,-2.3656868934631348,-8.150146484375,7.4741106033325195,-5.2587738037109375,-5.2587738037109375,4.285755634307861,-3.318256139755249,12.804594993591309,12.804594993591309,1.5848901271820068,-1.8082053661346436,-2.9993114471435547,0.4217907190322876,-12.122387886047363,-9.19442367553711,-9.19442367553711,-9.19442367553711,-0.4672083854675293,-0.467097669839859,-7.553864002227783,-9.068045616149902,1.4024769067764282,0.8200598359107971,-10.207512855529785,2.9424595832824707,-7.7217183113098145,-6.1204304695129395,-0.027981704100966454,3.618192672729492,-0.7360785007476807,5.8752264976501465,-9.19442367553711,-9.194304466247559,1.424493670463562,-1.3451390266418457,2.558624505996704,9.187251091003418,7.574517726898193,8.331296920776367,7.7313055992126465,7.7313055992126465,7.70754337310791,8.029515266418457,8.029515266418457,7.574517726898193,7.574517726898193,1.3528112173080444,-8.25959300994873,-2.2056334018707275,-1.858790636062622,5.122620582580566,5.122564792633057,8.322821617126465,8.31671142578125,8.31982421875,7.7313055992126465,3.7444705963134766,3.7444705963134766,1.5175577402114868,-3.785088539123535,-3.180402994155884,2.1313536167144775,-8.403467178344727,-1.309464693069458,11.859240531921387,1.5250000953674316,1.5248154401779175,7.691777229309082,8.31671142578125,8.31671142578125,7.574517726898193,8.331296920776367,7.380490303039551,0.024395015090703964,-3.8172590732574463,-1.4042176008224487,-8.049344062805176,-8.049344062805176,4.648991584777832,-7.222821235656738,-3.07155704498291,-0.861487627029419,1.2874846458435059,-0.7147990465164185,-14.103729248046875,-3.6866660118103027,-2.867488145828247,-1.0277191400527954,-0.7274585962295532,-0.5801529884338379,2.798110008239746,4.798616409301758,4.702573299407959,-0.9921613931655884,-0.6017415523529053,10.190388679504395,9.637005805969238,9.637007713317871,9.631539344787598,9.972064971923828,10.073046684265137,10.190388679504395,2.798092842102051,10.024752616882324,-0.9778102040290833,-3.345808982849121,0.2253865748643875,1.383677363395691,-6.708848476409912,-2.203564167022705,-0.6017415523529053,9.630241394042969,-1.4042176008224487,-1.0998084545135498,-9.290367126464844,-4.145444393157959,0.587070643901825,-2.338294744491577,-11.997663497924805,-7.705845355987549,-1.2234941720962524,0.8975601196289062,9.621039390563965,-0.8204220533370972,-3.5069916248321533,-1.6017905473709106,3.4655561447143555,7.135410785675049,-1.4042176008224487,-1.4042176008224487,-8.104877471923828,-8.798938751220703,-6.2651753425598145,1.6348364353179932,-2.9873616695404053,4.065638542175293,-0.33033499121665955,-4.389865398406982,-0.6655601859092712,-3.687786102294922,5.066267967224121,-9.290367126464844,-4.276391983032227,-7.588156223297119,-4.402479648590088,-5.852910041809082,0.058338191360235214,-8.982498168945312,-6.56710958480835,-4.262083530426025,-2.8246166706085205,-0.6231194734573364,2.448188304901123,0.1445595920085907,0.7988449335098267,4.754846096038818,4.754807949066162,4.754846096038818,-1.6215226650238037,11.473441123962402,11.500329971313477,11.473441123962402,11.473441123962402,11.473441123962402,11.473441123962402,11.473441123962402,11.473441123962402,11.473441123962402,11.473441123962402,11.404668807983398,11.473441123962402,11.404644012451172,-3.238194704055786,-0.9639878869056702,-0.9650989770889282,-0.9639173150062561,-4.229865550994873,-0.826318085193634,-5.268918037414551,8.203083038330078,8.203083038330078,-10.181352615356445,-9.577725410461426,-12.626800537109375,-7.25566291809082,12.919771194458008,-3.509504795074463,0.605479896068573,7.939914703369141,11.473441123962402,-9.353608131408691,0.2154121994972229,0.4714949429035187,-10.313939094543457,-6.434028148651123,-6.433873653411865,-4.510429859161377,4.528892517089844,6.761500835418701,-0.6301641464233398,-3.7302536964416504,1.2718838453292847,0.5391175746917725,-4.14788293838501,-3.95694637298584,-5.500290870666504,-7.7528252601623535,0.7783861756324768,0.7765899896621704,4.812467575073242,6.7260918617248535,0.2154121994972229,0.2154121994972229,-3.8238954544067383,-3.7570481300354004,-3.7746331691741943,-3.7919366359710693,-3.8276383876800537,-1.2884657382965088,-3.825778007507324,-3.762176752090454,-3.8344411849975586,-2.4191930294036865,-2.4191930294036865,-2.4191930294036865,-2.4191930294036865,6.726137638092041,-3.7675893306732178,-0.3448026180267334,-1.3215402364730835,0.02615327388048172,1.0091866254806519,0.2159736305475235,-5.439483642578125,4.984233379364014,4.984233379364014,5.3660969734191895,-3.5154192447662354,-3.5154192447662354,-3.5153632164001465,0.3406020402908325,0.34054094552993774,0.3406020402908325,1.0748136043548584,1.0748136043548584,1.0748136043548584,1.0091854333877563,-3.5897278785705566,-3.5897278785705566,0.5376132726669312,-2.554091215133667,8.119998931884766,8.119998931884766,8.119998931884766,8.120030403137207,-8.462947845458984,4.968781471252441,-6.413827896118164,-0.2910526394844055,0.756083071231842,0.5842782855033875,-4.030896186828613,5.160127639770508,4.789131164550781,3.89862060546875,3.898615837097168,5.492584228515625,-8.165696144104004,-1.8463435173034668,-1.7034064531326294,14.258087158203125,14.258265495300293,14.257994651794434,2.135565757751465,3.757446050643921,-0.0942702665925026,-0.9217420816421509,-1.1863925457000732,-0.06659113615751266,-0.4769839644432068,-0.40868812799453735,-1.507807970046997,-0.621681272983551,-0.8166143894195557,-0.8345492482185364,14.257991790771484,14.258286476135254,14.257999420166016,14.258025169372559,-1.7034064531326294,-2.1631689071655273,-1.0182620286941528,6.535218238830566,-10.280982971191406,-0.13079464435577393,1.3575129508972168,-1.7034064531326294,-8.152947425842285,-7.077785968780518,9.545294761657715,-0.0860210731625557,6.067489147186279,-1.7512212991714478,14.258234024047852,14.258265495300293,-3.0105464458465576,2.439378023147583,2.439443588256836,2.4394185543060303,-3.0219318866729736,-2.80973744392395,1.0824252367019653,4.654562473297119,0.6002880334854126,0.6001463532447815,0.6001463532447815,-2.5407402515411377,-2.6095967292785645,-1.6750378608703613,-5.765908241271973,-7.992541313171387,-2.409621477127075,-1.693618893623352,3.6280288696289062,-0.8698985576629639,-0.8698984980583191,-0.5708116888999939,0.11176095902919769,6.14833402633667,-2.1049106121063232,1.9437445402145386,-1.696719765663147,1.2976605892181396,8.314287185668945,4.000422954559326,5.907349109649658,-4.789189338684082,5.885368824005127,2.371575117111206,0.8974865078926086,-1.4192692041397095,0.32790204882621765,10.477959632873535,-11.80678939819336,11.068452835083008,-6.28094482421875,5.907349109649658,8.17696475982666,6.936777114868164,-4.241945743560791,2.5327844619750977,-6.453629493713379,-5.485471725463867,-3.1194722652435303,1.399353265762329,-0.9973558187484741,0.6385976672172546,-7.4724602699279785,1.5789183378219604,-1.1243888139724731,-5.446878433227539,-0.7737538814544678,-7.098935604095459,6.936777114868164,1.7053273916244507,5.031579494476318,-4.559700012207031,1.809773325920105,-0.21926000714302063,-3.107198715209961,8.276322364807129,11.7730712890625,-3.2727396488189697,0.05167754366993904,1.6579787731170654,8.85838794708252,-11.859703063964844,6.504925727844238,-3.179899215698242,-0.6205989122390747,-2.756033420562744,6.566957950592041,4.876028060913086,2.567640542984009,2.448188304901123,0.1337902694940567,-0.9232844114303589,-10.264322280883789,5.099754810333252,-7.111565113067627,-2.7606518268585205,-2.760652780532837,-13.763230323791504,-13.763230323791504,-13.76391315460205,-13.76391315460205,-10.312458992004395,-7.243567943572998,-0.2880723178386688,-0.2878686189651489,-0.2880747616291046,-6.600780963897705,-10.680414199829102,-10.258944511413574,-10.676651954650879,-10.676651954650879,2.439462661743164,-6.247208118438721,-4.55952787399292,-3.3778676986694336,4.306534290313721,8.075928688049316,4.507150650024414,-6.600780963897705,4.507150650024414,5.755490779876709,0.6089876890182495,1.5218045711517334,-10.47848892211914,-10.680486679077148,-10.258944511413574,-10.264322280883789,4.506568908691406,-0.9232844114303589,8.013763427734375,-9.080631256103516,-5.056009769439697,-5.058781147003174,-5.056936264038086,4.4284987449646,0.5834274291992188,0.6722958087921143,-0.6074377298355103,0.8254810571670532,0.8254199028015137,0.8254179954528809,3.262230396270752,-4.289707183837891,7.681820392608643,-0.9232844114303589,-0.9232844114303589,-3.871514320373535,-3.871514320373535,1.085973858833313,-1.2737892866134644,-9.080830574035645,-1.7158408164978027,-0.6060854196548462,-3.65910267829895,-5.801774978637695,-5.815830230712891,-5.815830230712891,-3.4838922023773193,-5.801774978637695,1.4931014776229858,1.493079662322998,1.493131399154663,7.702211380004883,4.903951168060303,-6.380000114440918,-3.9310810565948486,3.2287914752960205,-0.07902896404266357,0.7601490616798401,-7.58595609664917,-4.521492004394531,0.8202072978019714,0.7343543171882629,1.0543519258499146,1.669640302658081,0.8202276229858398,7.508635520935059,0.7346835136413574,1.267626166343689,1.6607762575149536,1.4997318983078003,1.2829996347427368,1.0705779790878296,-4.5515546798706055,1.3303248882293701,7.508667469024658,7.712264060974121,8.58698558807373,5.49143648147583,5.4914069175720215,-5.590457916259766,-5.590457916259766,-5.590457916259766,-5.590457916259766,10.103841781616211,10.103840827941895,10.103841781616211,10.104466438293457,10.103842735290527,10.103841781616211,10.103841781616211,10.103840827941895,5.7312726974487305,5.388893127441406,-1.9119118452072144,-1.911935567855835,5.024155139923096,-1.6694352626800537,-1.2430696487426758,-1.4112573862075806,-1.2430347204208374,5.8098883628845215,5.8098883628845215,5.463669776916504,-9.598949432373047,-9.598946571350098,3.4278316497802734,-6.646261692047119,0.27186036109924316,0.2718603312969208,-3.4236373901367188,1.3113017082214355,-1.669237494468689,-1.0750668048858643,-2.706913471221924,-2.706339120864868,5.024158954620361,8.141777992248535,-9.039573669433594,-11.04898452758789,-8.238506317138672,4.574716567993164,4.574716567993164,5.345560073852539,13.119871139526367,-0.4458465874195099,-11.04898452758789,-11.04898452758789,-11.04898452758789,-11.04898452758789,-0.014817272312939167,-2.7063393592834473,-1.0750668048858643,3.8210647106170654,6.081266403198242,6.48577356338501,1.4766440391540527,1.9828919172286987,-2.789820432662964,1.4876680374145508,-4.727439880371094,2.4744842052459717,2.4744842052459717,2.4744842052459717,-0.43863940238952637,3.6030187606811523,-1.70673668384552,-6.5586442947387695,-1.84739351272583,-2.936840534210205,1.4474830627441406,4.016726970672607,1.4474831819534302,0.6894084811210632,2.440742015838623,2.440718650817871,2.4407143592834473,-0.28954631090164185,6.1606059074401855,6.160584926605225,4.215066432952881,-1.7499221563339233,-5.433342456817627,-6.7349629402160645,-6.734963417053223,-6.734975337982178,0.5085288882255554,0.5085288882255554,-2.448901653289795,-7.260212421417236,8.929481506347656,-8.978703498840332,5.628810882568359,-5.5531697273254395,-6.042069911956787,-5.686069488525391,-5.686069488525391,-9.293712615966797,-9.29371166229248,3.632964611053467,-6.725997447967529,-6.725997447967529,-0.7567148208618164,-0.7567148208618164,-4.771866798400879,-4.876318454742432,-4.637350559234619,-4.637350559234619,-5.5531697273254395,-1.104807734489441,-6.041905403137207,-6.291348457336426,4.01181697845459,6.269256591796875,-0.8739596009254456,-6.491300106048584,9.415984153747559,8.426691055297852,8.42726993560791,-5.067392349243164,-3.1387202739715576,-6.210437774658203,-6.210460186004639,-5.686069488525391,-5.686069488525391,-5.686069488525391,-6.291348457336426,-6.291348457336426,1.1381679773330688,5.714057445526123,3.165283679962158,-6.395833492279053,-5.610859394073486,-5.431813716888428,2.1777446269989014,-4.838439464569092,-7.783200263977051,-4.8129682540893555,-9.531414985656738,1.4400697946548462,-0.3838890790939331,1.3246194124221802,0.9715728759765625,0.9717261791229248,0.9718078374862671,-9.531414985656738,5.537200450897217,-2.674917459487915,3.5720319747924805,-5.705390930175781,-2.2446470260620117,-9.100046157836914,-1.5114367008209229,6.490777492523193,0.7443526387214661,0.4055204391479492,-0.7267972826957703,-8.708433151245117,-5.087896823883057,-0.7051301598548889,-1.0810602903366089,7.399869441986084,-3.834113121032715,1.6009639501571655,0.9715724587440491,0.9718078374862671,0.9718177914619446,0.17399829626083374,9.250194549560547,4.983844757080078,6.7898783683776855,0.001712663797661662,7.4027862548828125,-0.7436135411262512,0.546334445476532,-8.126705169677734,-2.7342402935028076,-5.279951095581055,-5.27984619140625,-5.2798662185668945,-5.279860019683838,-14.552068710327148,0.43065088987350464,7.774596691131592,1.175995111465454,-3.876024007797241,2.1960692405700684,0.1739979237318039,4.827802658081055,4.827802658081055,4.827802658081055,-5.110686302185059,3.9119935035705566,-3.956550121307373,10.718306541442871,-12.090521812438965,-12.090521812438965,-12.090521812438965,-12.090521812438965,-12.090418815612793,2.1960434913635254,2.1960434913635254,2.1960692405700684,-4.944522857666016,-9.274238586425781,3.767202138900757,-10.295302391052246,-10.295302391052246,6.062383651733398,6.062383651733398,6.0621819496154785,6.0621819496154785,6.062383651733398,8.509811401367188,-2.6249794960021973,-13.501749038696289,-13.501749038696289,-13.501749038696289,-13.501749038696289,7.864073753356934,8.209575653076172,-10.295294761657715,1.9175156354904175,-10.295282363891602,-10.295302391052246,3.165371894836426,3.1652889251708984,3.165372133255005,3.1653740406036377,3.1652698516845703,-0.715222954750061,3.9081242084503174,3.9081246852874756,-0.9123769998550415,-4.037430763244629,-11.390816688537598,6.532107353210449,-4.180108547210693,-4.684305667877197,2.714149236679077,-10.295294761657715,3.1652820110321045,-7.4798479080200195,-7.4798479080200195,-3.4444658756256104,5.4085493087768555,9.476442337036133,-9.479002952575684,-3.3025810718536377,5.1248908042907715,-8.832869529724121,5.117005825042725,-2.849592685699463,-7.86914587020874,-6.687338352203369,-3.950995683670044,9.481316566467285,3.767202615737915,3.767202138900757,-1.6343098878860474,-7.4798479080200195,4.412048816680908,-3.7841758728027344,-7.711184024810791,-7.711184024810791,-7.711184024810791,-7.711184024810791,-7.4798479080200195,-7.4798479080200195,-14.448976516723633,-2.0741589069366455,-1.0012720823287964,-1.0012716054916382,1.0333197116851807,-4.2243218421936035,-3.7226195335388184,-1.28628671169281,-7.597553730010986,-3.766745090484619,1.1381679773330688,5.717358589172363,1.3808114528656006,-0.7246788740158081,-7.865118026733398,-1.1734869480133057,-7.890153408050537,-0.767591655254364,-6.946863651275635,3.1841697692871094,3.3121769428253174,3.1841697692871094,2.6879351139068604,2.6879351139068604,-7.353331089019775,7.922086238861084,7.922086238861084,-0.03577391058206558,8.402008056640625,-4.731629848480225,-0.3369462490081787,-0.3369130492210388,-0.3369733989238739,-0.33697590231895447,-0.33697590231895447,3.1841697692871094,3.3120391368865967,2.6879351139068604,-0.30588045716285706,-8.72284984588623,-2.2234787940979004,4.857977867126465,-9.163200378417969,4.612133979797363,4.612133979797363,-3.4588592052459717,1.4765338897705078,-1.1827887296676636,1.4793189764022827,1.479555606842041,1.7708479166030884,1.7701634168624878,-5.291846752166748,-4.051431655883789,2.6879351139068604,-0.720887303352356,11.5975980758667,-12.20541000366211,3.0514354705810547,3.0515620708465576,1.3434516191482544,-0.2798733711242676,-5.014969348907471,-5.01522159576416,3.3121488094329834,2.6879351139068604,9.383162498474121,9.383162498474121,-0.7208836674690247,-9.535623550415039,-4.602165699005127,-0.33697590231895447,-8.750663757324219,-4.141959190368652,4.640814304351807,-9.145898818969727,4.640814304351807,9.756882667541504,-2.699824094772339,4.8787841796875,4.87865686416626,3.7412946224212646,2.6096248626708984,-0.5651333332061768,-0.5651345252990723,-4.957427024841309,14.828155517578125,1.287552833557129,-1.8107714653015137,0.21537208557128906,-4.218770980834961,-13.235638618469238,-13.235638618469238,-9.63588809967041,-10.70384693145752,-7.262411117553711,-7.262407302856445,-8.75080680847168,-8.682392120361328,7.344910144805908,-1.4299451112747192,1.3808114528656006,1.3734334707260132,1.3808114528656006,-1.531484842300415,6.1746296882629395,1.05752432346344,1.05752432346344,-3.9903693199157715,-0.3369586765766144,-3.9902405738830566,-4.148838043212891,-2.619539499282837,7.578804969787598,-1.2801735401153564,-1.280186653137207,-1.2801871299743652,-9.176277160644531,-1.8288871049880981,-7.107805252075195,-5.809782981872559,8.607470512390137,3.0958967208862305,5.7384443283081055,4.873263359069824,-1.5521790981292725,2.500006675720215,-1.2801316976547241,1.661299467086792,-1.6938129663467407,-7.891495227813721,3.9738826751708984,-5.556457042694092,-5.556356430053711,-5.556354999542236,9.041788101196289,9.041788101196289,-0.8261653184890747,0.03519958630204201,9.041788101196289,9.041788101196289,9.041788101196289,9.041788101196289,9.041788101196289,9.041788101196289,9.041788101196289,9.041788101196289,-11.537641525268555,11.030044555664062,11.030061721801758,-3.3467414379119873,-11.716238021850586,6.818431854248047,-3.8098299503326416,5.171070098876953,-2.6944711208343506,2.309577226638794,2.3076696395874023,-3.5713050365448,-5.556349277496338,3.3144047260284424,-0.08272411674261093,2.048658847808838,2.0504586696624756,-0.8845767974853516,3.668452739715576,5.941704273223877,5.941704273223877,-5.257288932800293,-14.062418937683105,4.348799228668213,-0.8177346587181091,10.182809829711914,1.9501625299453735,1.9500948190689087,2.3076696395874023,1.9501311779022217,3.05601167678833,5.9343180656433105,2.2076563835144043,2.2076563835144043,-9.46278190612793,-9.462789535522461,2.818862199783325,0.715133547782898,-3.9579639434814453,-3.957965612411499,-11.244915962219238,5.093068599700928,-0.2706131041049957,1.9501311779022217,7.462302207946777,9.041788101196289,3.4819416999816895,-4.7682318687438965,-1.1779855489730835,-1.177992582321167,1.4407525062561035,-1.9173202514648438,1.914224624633789,1.914224624633789,-3.2968599796295166,-13.300474166870117,-13.300474166870117,-2.8844075202941895,-0.8877825140953064,-3.459979295730591,-2.0703184604644775,5.326246738433838,11.073808670043945,-1.359931468963623,1.7402305603027344,-7.9650750160217285,2.5225565433502197,-2.2014319896698,-1.5441116094589233,2.4214303493499756,-5.83951473236084,3.7885687351226807,3.7885687351226807,-3.097205400466919,-4.208785533905029,3.7885680198669434,-4.741202354431152],\"type\":\"scatter3d\"},{\"hovertemplate\":\"Dominant_Topic=Topic 2<br>0=%{x}<br>1=%{y}<br>2=%{z}<extra></extra>\",\"legendgroup\":\"Topic 2\",\"marker\":{\"color\":\"#00cc96\",\"opacity\":0.7,\"symbol\":\"circle\"},\"mode\":\"markers\",\"name\":\"Topic 2\",\"scene\":\"scene\",\"showlegend\":true,\"x\":[0.19000597298145294,1.2834566831588745,0.13508789241313934,-0.03310028836131096,1.1533888578414917,0.8065247535705566,0.5725720524787903,1.537217617034912,0.7135961651802063,0.0802093967795372,0.16757529973983765,1.0732977390289307,1.5853307247161865,1.1432768106460571,1.4541255235671997,0.5848978161811829,0.5114490389823914,1.1961461305618286,0.6405835747718811,0.47979503870010376,0.38486936688423157,1.5376924276351929,0.9940909147262573,1.18509042263031,0.6088112592697144,1.2528424263000488,0.10752638429403305,0.9938802719116211,0.5537700653076172],\"y\":[-18.88112449645996,-18.410648345947266,-18.4547061920166,-18.321964263916016,-17.75490951538086,-18.958599090576172,-18.567113876342773,-18.058542251586914,-17.60672378540039,-18.719594955444336,-17.9539852142334,-19.140233993530273,-18.586265563964844,-17.966829299926758,-18.74608039855957,-17.789962768554688,-19.135116577148438,-17.64520835876465,-18.296680450439453,-17.943246841430664,-18.6016902923584,-18.135364532470703,-18.811180114746094,-18.544118881225586,-19.091737747192383,-19.001928329467773,-17.943283081054688,-18.093278884887695,-17.59609603881836],\"z\":[11.572348594665527,10.685518264770508,11.90956974029541,11.27202320098877,11.780213356018066,11.922892570495605,12.086825370788574,11.140091896057129,11.208104133605957,11.000929832458496,10.932554244995117,11.481087684631348,11.191110610961914,10.699941635131836,11.66258430480957,10.730508804321289,11.422110557556152,11.202982902526855,10.52200698852539,12.006998062133789,10.62817096710205,11.671124458312988,10.631012916564941,12.02094841003418,10.96102237701416,11.024909019470215,11.528233528137207,12.092939376831055,11.56092643737793],\"type\":\"scatter3d\"},{\"hovertemplate\":\"Dominant_Topic=Topic 3<br>0=%{x}<br>1=%{y}<br>2=%{z}<extra></extra>\",\"legendgroup\":\"Topic 3\",\"marker\":{\"color\":\"#ab63fa\",\"opacity\":0.7,\"symbol\":\"circle\"},\"mode\":\"markers\",\"name\":\"Topic 3\",\"scene\":\"scene\",\"showlegend\":true,\"x\":[-8.179017066955566,-8.179017066955566,-8.195577621459961,-8.179017066955566,-8.195577621459961,-8.195577621459961,-4.873027801513672,-6.4283318519592285,-6.4283318519592285,-4.041950702667236,-6.043664455413818,-4.86887264251709,-2.539579391479492,-6.043664455413818,-8.195577621459961,-8.179017066955566,-3.7449560165405273,-3.3826990127563477,-3.686776638031006,-4.101932048797607,-9.398710250854492,-9.398710250854492,-9.398710250854492,-9.398710250854492,-3.8806567192077637,-3.7238059043884277,-3.6306471824645996,-3.6306471824645996,-3.6909632682800293,-7.67439079284668,-3.7449560165405273,-3.7449560165405273,-3.7449560165405273,-3.8806567192077637,-8.195577621459961,-4.101932048797607,-3.6325302124023438,-4.863997459411621,-1.486654281616211,-6.4379096031188965,-3.5351274013519287,-3.6559853553771973,-7.554033279418945,-3.6559853553771973,-3.6559853553771973,-4.015616416931152,-3.4716503620147705,-4.273723125457764,-5.062375068664551,-4.574642181396484,-3.7449560165405273,-1.8535345792770386],\"y\":[10.032191276550293,10.032191276550293,9.990968704223633,10.032191276550293,9.990968704223633,9.990968704223633,10.300498962402344,9.188021659851074,9.188021659851074,13.753329277038574,13.639204978942871,10.092927932739258,14.301250457763672,13.639204978942871,9.990968704223633,10.032191276550293,14.508781433105469,14.360793113708496,12.150605201721191,11.834203720092773,8.239127159118652,8.239127159118652,8.239127159118652,8.239127159118652,11.822147369384766,12.113900184631348,12.228073120117188,12.228073120117188,12.14709758758545,7.459026336669922,14.508781433105469,14.508781433105469,14.508781433105469,11.822147369384766,9.990968704223633,11.834203720092773,12.217950820922852,9.906651496887207,13.94810676574707,9.09926986694336,15.48105525970459,12.46235466003418,7.397088050842285,12.462353706359863,12.46235466003418,11.928133010864258,13.932815551757812,13.883103370666504,14.169946670532227,13.552412986755371,14.508781433105469,14.425386428833008],\"z\":[10.478858947753906,10.478858947753906,10.52621078491211,10.478858947753906,10.52621078491211,10.52621078491211,11.627457618713379,10.462124824523926,10.462124824523926,12.09957218170166,10.952418327331543,11.559974670410156,11.333940505981445,10.952418327331543,10.52621078491211,10.478858947753906,11.53308391571045,11.685128211975098,12.198399543762207,12.558692932128906,6.84421968460083,6.84421968460083,6.84421968460083,6.84421968460083,12.932791709899902,12.161571502685547,12.873992919921875,12.873992919921875,12.194632530212402,8.503683090209961,11.53308391571045,11.53308391571045,11.53308391571045,12.932791709899902,10.52621078491211,12.558692932128906,12.885128021240234,11.4896821975708,11.005125999450684,10.48302936553955,11.64930534362793,8.683243751525879,8.549772262573242,8.683243751525879,8.683243751525879,12.246270179748535,11.962227821350098,12.000073432922363,11.223278045654297,12.165899276733398,11.53308391571045,11.039809226989746],\"type\":\"scatter3d\"},{\"hovertemplate\":\"Dominant_Topic=Topic 4<br>0=%{x}<br>1=%{y}<br>2=%{z}<extra></extra>\",\"legendgroup\":\"Topic 4\",\"marker\":{\"color\":\"#FFA15A\",\"opacity\":0.7,\"symbol\":\"circle\"},\"mode\":\"markers\",\"name\":\"Topic 4\",\"scene\":\"scene\",\"showlegend\":true,\"x\":[-0.46610578894615173,-0.7607537508010864,-0.7607537508010864,-0.7607537508010864,-0.9544088840484619,-0.9544088840484619,-0.9544088840484619,3.253025531768799,3.253025531768799,3.253025531768799,3.253025531768799,3.253025531768799,3.253025531768799,3.253025531768799,3.253025531768799,3.253025531768799,3.253025531768799,3.253025531768799,0.6776583790779114,1.0214394330978394,1.0214394330978394,3.253025531768799,1.0214394330978394,-0.9544088840484619,0.6776583790779114,-0.9544088840484619,-0.20361903309822083,-1.1156442165374756,-0.9544088840484619,0.05817919224500656,1.0214394330978394,1.0214394330978394,0.6776583790779114,1.0214394330978394,-0.9544088840484619,0.6776583790779114,1.0214394330978394],\"y\":[7.5394439697265625,5.98626184463501,5.98626184463501,5.98626184463501,7.10381555557251,7.10381555557251,7.10381555557251,9.182120323181152,9.182120323181152,9.182120323181152,9.182120323181152,9.182120323181152,9.182120323181152,9.182120323181152,9.182120323181152,9.182120323181152,9.182120323181152,9.182120323181152,5.725264072418213,5.617751598358154,5.617751598358154,9.182120323181152,5.617751598358154,7.10381555557251,5.725264072418213,7.10381555557251,6.340104579925537,7.307361602783203,7.10381555557251,6.804083347320557,5.617751598358154,5.617751598358154,5.725264072418213,5.617751598358154,7.10381555557251,5.725264072418213,5.617751598358154],\"z\":[-9.396613121032715,-7.912533760070801,-7.912533760070801,-7.912533760070801,-8.656953811645508,-8.656953811645508,-8.656953811645508,-10.791399955749512,-10.791399955749512,-10.791399955749512,-10.791399955749512,-10.791399955749512,-10.791399955749512,-10.791399955749512,-10.791399955749512,-10.791399955749512,-10.791399955749512,-10.791399955749512,-12.088367462158203,-12.024008750915527,-12.024008750915527,-10.791399955749512,-12.024008750915527,-8.656953811645508,-12.088367462158203,-8.656953811645508,-8.174827575683594,-9.353501319885254,-8.656953811645508,-8.492988586425781,-12.024008750915527,-12.024008750915527,-12.088367462158203,-12.024008750915527,-8.656953811645508,-12.088367462158203,-12.024008750915527],\"type\":\"scatter3d\"},{\"hovertemplate\":\"Dominant_Topic=Topic 5<br>0=%{x}<br>1=%{y}<br>2=%{z}<extra></extra>\",\"legendgroup\":\"Topic 5\",\"marker\":{\"color\":\"#19d3f3\",\"opacity\":0.7,\"symbol\":\"circle\"},\"mode\":\"markers\",\"name\":\"Topic 5\",\"scene\":\"scene\",\"showlegend\":true,\"x\":[-1.7894591093063354,-2.326287031173706,-2.5727734565734863,-2.6037700176239014,-1.5642411708831787,-1.5451030731201172,-1.7894591093063354,-2.3966970443725586,-1.5451030731201172,-2.3966970443725586,-1.9930239915847778,-2.8766472339630127,-1.8417171239852905,-2.245889186859131,-1.3625915050506592,-2.181192398071289,-1.5642411708831787,-2.1246824264526367,-2.3966970443725586,-1.680976390838623,-2.326287031173706,-2.3966970443725586,-1.680976390838623],\"y\":[-5.1824631690979,-4.771744251251221,-5.109492301940918,-4.852700233459473,-5.657386302947998,-5.132741928100586,-5.1824631690979,-5.585711479187012,-5.132741928100586,-5.585711479187012,-4.760585308074951,-10.590185165405273,-5.727900981903076,-5.218114376068115,-5.102522373199463,-4.584547996520996,-5.657386302947998,-5.585689544677734,-5.585711479187012,-4.637853145599365,-4.771744251251221,-5.585711479187012,-4.637853145599365],\"z\":[20.40141487121582,20.192100524902344,19.384164810180664,19.680646896362305,19.90212631225586,19.321697235107422,20.40141487121582,19.988279342651367,19.321697235107422,19.988279342651367,19.258079528808594,7.656211853027344,19.39225959777832,19.14571762084961,19.90904998779297,19.537174224853516,19.90212631225586,19.230741500854492,19.988279342651367,19.88001251220703,20.192100524902344,19.988279342651367,19.88001251220703],\"type\":\"scatter3d\"},{\"hovertemplate\":\"Dominant_Topic=Topic 6<br>0=%{x}<br>1=%{y}<br>2=%{z}<extra></extra>\",\"legendgroup\":\"Topic 6\",\"marker\":{\"color\":\"#FF6692\",\"opacity\":0.7,\"symbol\":\"circle\"},\"mode\":\"markers\",\"name\":\"Topic 6\",\"scene\":\"scene\",\"showlegend\":true,\"x\":[-5.10890007019043,-5.028375148773193,-4.417694091796875,-4.960517883300781,-3.861680507659912,-4.512456893920898,-5.279269695281982,-4.051382064819336,-4.120001316070557,-4.695583820343018,-4.663310527801514,-4.7468719482421875,-4.088883399963379,-4.6457648277282715,-3.980088710784912,-4.5879645347595215,-4.570915222167969,-4.568036079406738,-5.115697860717773,-4.2077789306640625,-4.132341384887695,-5.0538129806518555,-9.384016036987305,-5.079667091369629,-4.198889255523682,-9.384016036987305,-9.384020805358887,-8.43349552154541,-8.43349552154541,-8.971724510192871,-8.363687515258789,-5.8852057456970215],\"y\":[9.690495491027832,10.088425636291504,9.24386215209961,9.22255802154541,9.627685546875,9.141809463500977,9.581159591674805,9.295706748962402,9.658369064331055,9.601703643798828,9.70781135559082,8.91254997253418,10.025734901428223,10.079364776611328,9.25627326965332,10.276969909667969,10.110020637512207,8.917112350463867,9.111116409301758,8.956738471984863,10.074357032775879,9.355302810668945,2.9322941303253174,9.923924446105957,9.726582527160645,2.9322941303253174,2.9322946071624756,2.5802276134490967,2.5802276134490967,2.7158234119415283,2.5744972229003906,2.0615665912628174],\"z\":[-18.139816284179688,-18.43231964111328,-17.97199249267578,-18.10098648071289,-18.64903450012207,-19.154409408569336,-18.630002975463867,-18.9903507232666,-18.04444122314453,-19.284833908081055,-17.896146774291992,-18.805233001708984,-18.33698272705078,-19.071590423583984,-18.335115432739258,-18.6127986907959,-18.127098083496094,-18.2954044342041,-18.562671661376953,-18.646753311157227,-18.824840545654297,-19.06475257873535,-10.962926864624023,-18.930583953857422,-19.171873092651367,-10.962926864624023,-10.962968826293945,-12.197672843933105,-12.197672843933105,-11.481295585632324,-12.274532318115234,-13.526408195495605],\"type\":\"scatter3d\"},{\"hovertemplate\":\"Dominant_Topic=Topic 7<br>0=%{x}<br>1=%{y}<br>2=%{z}<extra></extra>\",\"legendgroup\":\"Topic 7\",\"marker\":{\"color\":\"#B6E880\",\"opacity\":0.7,\"symbol\":\"circle\"},\"mode\":\"markers\",\"name\":\"Topic 7\",\"scene\":\"scene\",\"showlegend\":true,\"x\":[8.133406639099121,8.091387748718262,8.133406639099121,8.133406639099121,8.133406639099121,7.48331880569458,8.133406639099121,8.133406639099121,8.133406639099121,8.133406639099121,8.133406639099121,8.133406639099121,8.133406639099121,7.48331880569458,7.48331880569458,7.39393424987793,7.48331880569458],\"y\":[-8.70148754119873,-9.377447128295898,-8.70148754119873,-8.70148754119873,-8.70148754119873,-8.969620704650879,-8.70148754119873,-8.70148754119873,-8.70148754119873,-8.70148754119873,-8.70148754119873,-8.70148754119873,-8.70148754119873,-8.969620704650879,-8.969620704650879,-7.436151504516602,-8.969620704650879],\"z\":[13.526851654052734,13.244606971740723,13.526851654052734,13.526851654052734,13.526851654052734,13.312514305114746,13.526851654052734,13.526851654052734,13.526851654052734,13.526851654052734,13.526851654052734,13.526851654052734,13.526851654052734,13.312514305114746,13.312514305114746,8.021746635437012,13.312514305114746],\"type\":\"scatter3d\"}],                        {\"template\":{\"data\":{\"histogram2dcontour\":[{\"type\":\"histogram2dcontour\",\"colorbar\":{\"outlinewidth\":0,\"ticks\":\"\"},\"colorscale\":[[0.0,\"#0d0887\"],[0.1111111111111111,\"#46039f\"],[0.2222222222222222,\"#7201a8\"],[0.3333333333333333,\"#9c179e\"],[0.4444444444444444,\"#bd3786\"],[0.5555555555555556,\"#d8576b\"],[0.6666666666666666,\"#ed7953\"],[0.7777777777777778,\"#fb9f3a\"],[0.8888888888888888,\"#fdca26\"],[1.0,\"#f0f921\"]]}],\"choropleth\":[{\"type\":\"choropleth\",\"colorbar\":{\"outlinewidth\":0,\"ticks\":\"\"}}],\"histogram2d\":[{\"type\":\"histogram2d\",\"colorbar\":{\"outlinewidth\":0,\"ticks\":\"\"},\"colorscale\":[[0.0,\"#0d0887\"],[0.1111111111111111,\"#46039f\"],[0.2222222222222222,\"#7201a8\"],[0.3333333333333333,\"#9c179e\"],[0.4444444444444444,\"#bd3786\"],[0.5555555555555556,\"#d8576b\"],[0.6666666666666666,\"#ed7953\"],[0.7777777777777778,\"#fb9f3a\"],[0.8888888888888888,\"#fdca26\"],[1.0,\"#f0f921\"]]}],\"heatmap\":[{\"type\":\"heatmap\",\"colorbar\":{\"outlinewidth\":0,\"ticks\":\"\"},\"colorscale\":[[0.0,\"#0d0887\"],[0.1111111111111111,\"#46039f\"],[0.2222222222222222,\"#7201a8\"],[0.3333333333333333,\"#9c179e\"],[0.4444444444444444,\"#bd3786\"],[0.5555555555555556,\"#d8576b\"],[0.6666666666666666,\"#ed7953\"],[0.7777777777777778,\"#fb9f3a\"],[0.8888888888888888,\"#fdca26\"],[1.0,\"#f0f921\"]]}],\"heatmapgl\":[{\"type\":\"heatmapgl\",\"colorbar\":{\"outlinewidth\":0,\"ticks\":\"\"},\"colorscale\":[[0.0,\"#0d0887\"],[0.1111111111111111,\"#46039f\"],[0.2222222222222222,\"#7201a8\"],[0.3333333333333333,\"#9c179e\"],[0.4444444444444444,\"#bd3786\"],[0.5555555555555556,\"#d8576b\"],[0.6666666666666666,\"#ed7953\"],[0.7777777777777778,\"#fb9f3a\"],[0.8888888888888888,\"#fdca26\"],[1.0,\"#f0f921\"]]}],\"contourcarpet\":[{\"type\":\"contourcarpet\",\"colorbar\":{\"outlinewidth\":0,\"ticks\":\"\"}}],\"contour\":[{\"type\":\"contour\",\"colorbar\":{\"outlinewidth\":0,\"ticks\":\"\"},\"colorscale\":[[0.0,\"#0d0887\"],[0.1111111111111111,\"#46039f\"],[0.2222222222222222,\"#7201a8\"],[0.3333333333333333,\"#9c179e\"],[0.4444444444444444,\"#bd3786\"],[0.5555555555555556,\"#d8576b\"],[0.6666666666666666,\"#ed7953\"],[0.7777777777777778,\"#fb9f3a\"],[0.8888888888888888,\"#fdca26\"],[1.0,\"#f0f921\"]]}],\"surface\":[{\"type\":\"surface\",\"colorbar\":{\"outlinewidth\":0,\"ticks\":\"\"},\"colorscale\":[[0.0,\"#0d0887\"],[0.1111111111111111,\"#46039f\"],[0.2222222222222222,\"#7201a8\"],[0.3333333333333333,\"#9c179e\"],[0.4444444444444444,\"#bd3786\"],[0.5555555555555556,\"#d8576b\"],[0.6666666666666666,\"#ed7953\"],[0.7777777777777778,\"#fb9f3a\"],[0.8888888888888888,\"#fdca26\"],[1.0,\"#f0f921\"]]}],\"mesh3d\":[{\"type\":\"mesh3d\",\"colorbar\":{\"outlinewidth\":0,\"ticks\":\"\"}}],\"scatter\":[{\"fillpattern\":{\"fillmode\":\"overlay\",\"size\":10,\"solidity\":0.2},\"type\":\"scatter\"}],\"parcoords\":[{\"type\":\"parcoords\",\"line\":{\"colorbar\":{\"outlinewidth\":0,\"ticks\":\"\"}}}],\"scatterpolargl\":[{\"type\":\"scatterpolargl\",\"marker\":{\"colorbar\":{\"outlinewidth\":0,\"ticks\":\"\"}}}],\"bar\":[{\"error_x\":{\"color\":\"#2a3f5f\"},\"error_y\":{\"color\":\"#2a3f5f\"},\"marker\":{\"line\":{\"color\":\"#E5ECF6\",\"width\":0.5},\"pattern\":{\"fillmode\":\"overlay\",\"size\":10,\"solidity\":0.2}},\"type\":\"bar\"}],\"scattergeo\":[{\"type\":\"scattergeo\",\"marker\":{\"colorbar\":{\"outlinewidth\":0,\"ticks\":\"\"}}}],\"scatterpolar\":[{\"type\":\"scatterpolar\",\"marker\":{\"colorbar\":{\"outlinewidth\":0,\"ticks\":\"\"}}}],\"histogram\":[{\"marker\":{\"pattern\":{\"fillmode\":\"overlay\",\"size\":10,\"solidity\":0.2}},\"type\":\"histogram\"}],\"scattergl\":[{\"type\":\"scattergl\",\"marker\":{\"colorbar\":{\"outlinewidth\":0,\"ticks\":\"\"}}}],\"scatter3d\":[{\"type\":\"scatter3d\",\"line\":{\"colorbar\":{\"outlinewidth\":0,\"ticks\":\"\"}},\"marker\":{\"colorbar\":{\"outlinewidth\":0,\"ticks\":\"\"}}}],\"scattermapbox\":[{\"type\":\"scattermapbox\",\"marker\":{\"colorbar\":{\"outlinewidth\":0,\"ticks\":\"\"}}}],\"scatterternary\":[{\"type\":\"scatterternary\",\"marker\":{\"colorbar\":{\"outlinewidth\":0,\"ticks\":\"\"}}}],\"scattercarpet\":[{\"type\":\"scattercarpet\",\"marker\":{\"colorbar\":{\"outlinewidth\":0,\"ticks\":\"\"}}}],\"carpet\":[{\"aaxis\":{\"endlinecolor\":\"#2a3f5f\",\"gridcolor\":\"white\",\"linecolor\":\"white\",\"minorgridcolor\":\"white\",\"startlinecolor\":\"#2a3f5f\"},\"baxis\":{\"endlinecolor\":\"#2a3f5f\",\"gridcolor\":\"white\",\"linecolor\":\"white\",\"minorgridcolor\":\"white\",\"startlinecolor\":\"#2a3f5f\"},\"type\":\"carpet\"}],\"table\":[{\"cells\":{\"fill\":{\"color\":\"#EBF0F8\"},\"line\":{\"color\":\"white\"}},\"header\":{\"fill\":{\"color\":\"#C8D4E3\"},\"line\":{\"color\":\"white\"}},\"type\":\"table\"}],\"barpolar\":[{\"marker\":{\"line\":{\"color\":\"#E5ECF6\",\"width\":0.5},\"pattern\":{\"fillmode\":\"overlay\",\"size\":10,\"solidity\":0.2}},\"type\":\"barpolar\"}],\"pie\":[{\"automargin\":true,\"type\":\"pie\"}]},\"layout\":{\"autotypenumbers\":\"strict\",\"colorway\":[\"#636efa\",\"#EF553B\",\"#00cc96\",\"#ab63fa\",\"#FFA15A\",\"#19d3f3\",\"#FF6692\",\"#B6E880\",\"#FF97FF\",\"#FECB52\"],\"font\":{\"color\":\"#2a3f5f\"},\"hovermode\":\"closest\",\"hoverlabel\":{\"align\":\"left\"},\"paper_bgcolor\":\"white\",\"plot_bgcolor\":\"#E5ECF6\",\"polar\":{\"bgcolor\":\"#E5ECF6\",\"angularaxis\":{\"gridcolor\":\"white\",\"linecolor\":\"white\",\"ticks\":\"\"},\"radialaxis\":{\"gridcolor\":\"white\",\"linecolor\":\"white\",\"ticks\":\"\"}},\"ternary\":{\"bgcolor\":\"#E5ECF6\",\"aaxis\":{\"gridcolor\":\"white\",\"linecolor\":\"white\",\"ticks\":\"\"},\"baxis\":{\"gridcolor\":\"white\",\"linecolor\":\"white\",\"ticks\":\"\"},\"caxis\":{\"gridcolor\":\"white\",\"linecolor\":\"white\",\"ticks\":\"\"}},\"coloraxis\":{\"colorbar\":{\"outlinewidth\":0,\"ticks\":\"\"}},\"colorscale\":{\"sequential\":[[0.0,\"#0d0887\"],[0.1111111111111111,\"#46039f\"],[0.2222222222222222,\"#7201a8\"],[0.3333333333333333,\"#9c179e\"],[0.4444444444444444,\"#bd3786\"],[0.5555555555555556,\"#d8576b\"],[0.6666666666666666,\"#ed7953\"],[0.7777777777777778,\"#fb9f3a\"],[0.8888888888888888,\"#fdca26\"],[1.0,\"#f0f921\"]],\"sequentialminus\":[[0.0,\"#0d0887\"],[0.1111111111111111,\"#46039f\"],[0.2222222222222222,\"#7201a8\"],[0.3333333333333333,\"#9c179e\"],[0.4444444444444444,\"#bd3786\"],[0.5555555555555556,\"#d8576b\"],[0.6666666666666666,\"#ed7953\"],[0.7777777777777778,\"#fb9f3a\"],[0.8888888888888888,\"#fdca26\"],[1.0,\"#f0f921\"]],\"diverging\":[[0,\"#8e0152\"],[0.1,\"#c51b7d\"],[0.2,\"#de77ae\"],[0.3,\"#f1b6da\"],[0.4,\"#fde0ef\"],[0.5,\"#f7f7f7\"],[0.6,\"#e6f5d0\"],[0.7,\"#b8e186\"],[0.8,\"#7fbc41\"],[0.9,\"#4d9221\"],[1,\"#276419\"]]},\"xaxis\":{\"gridcolor\":\"white\",\"linecolor\":\"white\",\"ticks\":\"\",\"title\":{\"standoff\":15},\"zerolinecolor\":\"white\",\"automargin\":true,\"zerolinewidth\":2},\"yaxis\":{\"gridcolor\":\"white\",\"linecolor\":\"white\",\"ticks\":\"\",\"title\":{\"standoff\":15},\"zerolinecolor\":\"white\",\"automargin\":true,\"zerolinewidth\":2},\"scene\":{\"xaxis\":{\"backgroundcolor\":\"#E5ECF6\",\"gridcolor\":\"white\",\"linecolor\":\"white\",\"showbackground\":true,\"ticks\":\"\",\"zerolinecolor\":\"white\",\"gridwidth\":2},\"yaxis\":{\"backgroundcolor\":\"#E5ECF6\",\"gridcolor\":\"white\",\"linecolor\":\"white\",\"showbackground\":true,\"ticks\":\"\",\"zerolinecolor\":\"white\",\"gridwidth\":2},\"zaxis\":{\"backgroundcolor\":\"#E5ECF6\",\"gridcolor\":\"white\",\"linecolor\":\"white\",\"showbackground\":true,\"ticks\":\"\",\"zerolinecolor\":\"white\",\"gridwidth\":2}},\"shapedefaults\":{\"line\":{\"color\":\"#2a3f5f\"}},\"annotationdefaults\":{\"arrowcolor\":\"#2a3f5f\",\"arrowhead\":0,\"arrowwidth\":1},\"geo\":{\"bgcolor\":\"white\",\"landcolor\":\"#E5ECF6\",\"subunitcolor\":\"white\",\"showland\":true,\"showlakes\":true,\"lakecolor\":\"white\"},\"title\":{\"x\":0.05},\"mapbox\":{\"style\":\"light\"}}},\"scene\":{\"domain\":{\"x\":[0.0,1.0],\"y\":[0.0,1.0]},\"xaxis\":{\"title\":{\"text\":\"0\"}},\"yaxis\":{\"title\":{\"text\":\"1\"}},\"zaxis\":{\"title\":{\"text\":\"2\"}}},\"legend\":{\"title\":{\"text\":\"Dominant_Topic\"},\"tracegroupgap\":0},\"title\":{\"text\":\"3d TSNE Plot for Topic Model\"},\"height\":800,\"width\":900},                        {\"responsive\": true}                    ).then(function(){\n",
       "                            \n",
       "var gd = document.getElementById('94ef99f6-0751-4bb7-ba83-ec5740ad3014');\n",
       "var x = new MutationObserver(function (mutations, observer) {{\n",
       "        var display = window.getComputedStyle(gd).display;\n",
       "        if (!display || display === 'none') {{\n",
       "            console.log([gd, 'removed!']);\n",
       "            Plotly.purge(gd);\n",
       "            observer.disconnect();\n",
       "        }}\n",
       "}});\n",
       "\n",
       "// Listen for the removal of the full notebook cells\n",
       "var notebookContainer = gd.closest('#notebook-container');\n",
       "if (notebookContainer) {{\n",
       "    x.observe(notebookContainer, {childList: true});\n",
       "}}\n",
       "\n",
       "// Listen for the clearing of the current output cell\n",
       "var outputEl = gd.closest('.output');\n",
       "if (outputEl) {{\n",
       "    x.observe(outputEl, {childList: true});\n",
       "}}\n",
       "\n",
       "                        })                };                });            </script>        </div>"
      ]
     },
     "metadata": {},
     "output_type": "display_data"
    }
   ],
   "source": [
    "plot_model(nmf, plot = 'tsne')"
   ]
  },
  {
   "cell_type": "markdown",
   "id": "adf74cda",
   "metadata": {},
   "source": [
    "### Uniform Manifold Approximation and Projection Plot"
   ]
  },
  {
   "cell_type": "code",
   "execution_count": 25,
   "id": "de677a56",
   "metadata": {},
   "outputs": [
    {
     "data": {
      "text/html": [
       "        <script type=\"text/javascript\">\n",
       "        window.PlotlyConfig = {MathJaxConfig: 'local'};\n",
       "        if (window.MathJax && window.MathJax.Hub && window.MathJax.Hub.Config) {window.MathJax.Hub.Config({SVG: {font: \"STIX-Web\"}});}\n",
       "        if (typeof require !== 'undefined') {\n",
       "        require.undef(\"plotly\");\n",
       "        requirejs.config({\n",
       "            paths: {\n",
       "                'plotly': ['https://cdn.plot.ly/plotly-2.18.2.min']\n",
       "            }\n",
       "        });\n",
       "        require(['plotly'], function(Plotly) {\n",
       "            window._Plotly = Plotly;\n",
       "        });\n",
       "        }\n",
       "        </script>\n",
       "        "
      ]
     },
     "metadata": {},
     "output_type": "display_data"
    },
    {
     "data": {
      "image/png": "[encoded data removed]",
      "text/plain": [
       "<Figure size 1000x600 with 1 Axes>"
      ]
     },
     "metadata": {},
     "output_type": "display_data"
    }
   ],
   "source": [
    "plot_model(nmf, plot = 'umap')"
   ]
  },
  {
   "cell_type": "markdown",
   "id": "179a79b6",
   "metadata": {},
   "source": [
    "# Evaluate Model"
   ]
  },
  {
   "cell_type": "code",
   "execution_count": 26,
   "id": "a8b00352",
   "metadata": {},
   "outputs": [
    {
     "data": {
      "application/vnd.jupyter.widget-view+json": {
       "model_id": "cebebf31ac12431db41ef104700654f3",
       "version_major": 2,
       "version_minor": 0
      },
      "text/plain": [
       "interactive(children=(ToggleButtons(description='Plot Type:', icons=('',), options=(('Frequency Plot', 'freque…"
      ]
     },
     "metadata": {},
     "output_type": "display_data"
    }
   ],
   "source": [
    "evaluate_model(nmf)"
   ]
  },
  {
   "cell_type": "markdown",
   "id": "5de9042e",
   "metadata": {},
   "source": [
    "### Saving the model"
   ]
  },
  {
   "cell_type": "code",
   "execution_count": 28,
   "id": "1687c91a",
   "metadata": {},
   "outputs": [
    {
     "name": "stdout",
     "output_type": "stream",
     "text": [
      "Model Succesfully Saved\n"
     ]
    },
    {
     "data": {
      "text/plain": [
       "(NMF(alpha=0.0, beta_loss='frobenius', init='nndsvd', l1_ratio=0.0, max_iter=200,\n",
       "     n_components=8, random_state=123, shuffle=False, solver='cd', tol=0.0001,\n",
       "     verbose=0),\n",
       " 'nmf_model.pkl')"
      ]
     },
     "execution_count": 28,
     "metadata": {},
     "output_type": "execute_result"
    }
   ],
   "source": [
    "save_model(nmf,'nmf_model')"
   ]
  },
  {
   "cell_type": "markdown",
   "id": "6ff38219",
   "metadata": {},
   "source": [
    "### Loading the model\n",
    "To load a saved model on a future date in the same or different environment, we would use the PyCaret's load_model() function."
   ]
  },
  {
   "cell_type": "code",
   "execution_count": 29,
   "id": "6546b5ed",
   "metadata": {},
   "outputs": [
    {
     "name": "stdout",
     "output_type": "stream",
     "text": [
      "Model Sucessfully Loaded\n"
     ]
    }
   ],
   "source": [
    "saved_lda = load_model('nmf_model')"
   ]
  },
  {
   "cell_type": "code",
   "execution_count": 30,
   "id": "3d7d1b3f",
   "metadata": {},
   "outputs": [
    {
     "name": "stdout",
     "output_type": "stream",
     "text": [
      "NMF(alpha=0.0, beta_loss='frobenius', init='nndsvd', l1_ratio=0.0, max_iter=200,\n",
      "    n_components=8, random_state=123, shuffle=False, solver='cd', tol=0.0001,\n",
      "    verbose=0)\n"
     ]
    }
   ],
   "source": [
    "print(saved_lda)"
   ]
  }
 ],
 "metadata": {
  "kernelspec": {
   "display_name": "pycaret_nlp",
   "language": "python",
   "name": "pycaret_nlp"
  },
  "language_info": {
   "codemirror_mode": {
    "name": "ipython",
    "version": 3
   },
   "file_extension": ".py",
   "mimetype": "text/x-python",
   "name": "python",
   "nbconvert_exporter": "python",
   "pygments_lexer": "ipython3",
   "version": "3.8.16"
  }
 },
 "nbformat": 4,
 "nbformat_minor": 5
}
